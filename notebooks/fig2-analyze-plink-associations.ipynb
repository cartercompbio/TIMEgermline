{
 "cells": [
  {
   "cell_type": "code",
   "execution_count": 9,
   "metadata": {},
   "outputs": [],
   "source": [
    "### DATA ANALYSIS ###\n",
    "import pandas as pd\n",
    "import os\n",
    "import numpy as np\n",
    "import json\n",
    "import re"
   ]
  },
  {
   "cell_type": "code",
   "execution_count": 10,
   "metadata": {},
   "outputs": [],
   "source": [
    "### STATS ###\n",
    "import statsmodels.stats.multitest as multi"
   ]
  },
  {
   "cell_type": "code",
   "execution_count": 11,
   "metadata": {},
   "outputs": [],
   "source": [
    "### PLOTTING ###\n",
    "from matplotlib import pyplot as plt\n",
    "import matplotlib as mpl\n",
    "import matplotlib\n",
    "matplotlib.rcParams['pdf.fonttype'] = 42\n",
    "matplotlib.rcParams['ps.fonttype'] = 42\n",
    "import seaborn as sns"
   ]
  },
  {
   "cell_type": "code",
   "execution_count": 12,
   "metadata": {},
   "outputs": [],
   "source": [
    "import sys\n",
    "sys.path.append(\"/cellarold/users/mpagadal/Programs/anaconda3/lib/python3.7/site-packages\")\n",
    "sys.path.insert(1, '/cellar/users/mpagadal/Data/scripts')"
   ]
  },
  {
   "cell_type": "code",
   "execution_count": 14,
   "metadata": {},
   "outputs": [],
   "source": [
    "import myvariant\n",
    "mv = myvariant.MyVariantInfo()"
   ]
  },
  {
   "cell_type": "markdown",
   "metadata": {},
   "source": [
    "### results from script: run-plink-association.sh"
   ]
  },
  {
   "cell_type": "markdown",
   "metadata": {},
   "source": [
    "##### Get index snps from association results with heritable immune phenotypes driven by nonHLA/KIR regions"
   ]
  },
  {
   "cell_type": "markdown",
   "metadata": {},
   "source": [
    "Compiled values from plink clumping method. P1 threshold: .000000070922, P2 threshold: 0.00001, R2 threshold: 0.50, KB threshold: 250"
   ]
  },
  {
   "cell_type": "code",
   "execution_count": 15,
   "metadata": {},
   "outputs": [],
   "source": [
    "def get_clumps(directory,snp_type):\n",
    "    \n",
    "    '''\n",
    "    Input: directory with all plink .clumped files to be aggregated\n",
    "    Output: dataframe with INDEX SNP, p-value, association paramter\n",
    "    '''\n",
    "    \n",
    "    #get clumped files\n",
    "    files=os.listdir(directory)\n",
    "    file_lst=[x for x in files if \".clumped\" in x]\n",
    "    \n",
    "    if snp_type == \"index\":\n",
    "    \n",
    "        #iterate through all clumped files and extract index snps\n",
    "        snps=[]\n",
    "        assoc=[]\n",
    "        p=[]\n",
    "\n",
    "        for x in file_lst:\n",
    "            file=pd.read_csv(directory+\"/\"+x, delim_whitespace=True)\n",
    "            for i,row in file.iterrows():\n",
    "                snps.append(row[\"SNP\"])\n",
    "                p.append(row[\"P\"])\n",
    "                assoc.append(x.split(\".clump.clumped\")[0])\n",
    "    \n",
    "        df_assoc=pd.DataFrame({\"snps\":snps,\"file\":assoc,\"p-value\":p})\n",
    "\n",
    "    \n",
    "    if snp_type == \"all\":\n",
    "        snps=[]\n",
    "        indexsnp=[]\n",
    "        assoc=[]\n",
    "        p=[]\n",
    "\n",
    "        for x in file_lst:\n",
    "            file=pd.read_csv(directory+\"/\"+x, delim_whitespace=True)\n",
    "            for i,row in file.iterrows():\n",
    "                for y in row[\"SP2\"].split(\"(1),\"):\n",
    "                    snps.append(y)\n",
    "                    indexsnp.append(row[\"SNP\"])\n",
    "                    p.append(row[\"P\"])\n",
    "                    assoc.append(x.split(\".clump.clumped\")[0])\n",
    "                \n",
    "        df_assoc=pd.DataFrame({\"indexsnps\":indexsnp,\"snps\":snps,\"file\":assoc,\"p-value\":p})\n",
    "        df_assoc=df_assoc[~(df_assoc[\"snps\"]==\"\")]\n",
    "        df_assoc=df_assoc[~(df_assoc[\"snps\"]==\"NONE\")]\n",
    "        df_assoc[\"snps\"]=df_assoc[\"snps\"].str.split(\"(\").str[0]\n",
    "\n",
    "    #add beta and p-value\n",
    "    \n",
    "    df_beta=pd.DataFrame()\n",
    "\n",
    "    for x in [x for x in os.listdir(directory) if \".sig.assoc\" in x]:\n",
    "        try:\n",
    "            df=pd.read_csv(directory+x,delimiter=\"\\t\",header=None)\n",
    "            df.columns=[\"#CHROM\", \"POS\", \"snps\",\"REF\",\"ALT\",\"A1\",\"TEST\",\"OBS_CT\",\"beta\",\"SE\",\"T_STAT\",\"P\",\"ERRCODE\"]\n",
    "            df[\"file\"]=x.split(\".sig.assoc\")[0]\n",
    "            df_beta=df_beta.append(df)\n",
    "        except:\n",
    "            pass\n",
    "    \n",
    "    df_assoc=pd.merge(df_assoc,df_beta[[\"snps\",\"file\",\"beta\",\"SE\",\"A1\"]],on=[\"file\",\"snps\"],how=\"left\")\n",
    "    return(df_assoc)\n",
    "    "
   ]
  },
  {
   "cell_type": "code",
   "execution_count": 16,
   "metadata": {},
   "outputs": [],
   "source": [
    "def map_rsid(x):\n",
    "    \n",
    "    '''\n",
    "    Input: SNP format (chr:bp:minor:major or rsid)\n",
    "    Output: tuple (variant,rsid)\n",
    "    '''\n",
    "    \n",
    "    try:\n",
    "        if \"rs\" in x:\n",
    "            try:\n",
    "                var=(re.findall('\\d+',mv.getvariants(x)[0][\"_id\"]))[0]+\":\"+(re.findall('\\d+',mv.getvariants(x)[0][\"_id\"]))[1]+\":\"+re.split(\"[^a-zA-Z]*\",mv.getvariants(x)[0][\"_id\"])[-4]+\":\"+re.split(\"[^a-zA-Z]*\",mv.getvariants(x)[0][\"_id\"])[-2]\n",
    "                rs=x\n",
    "            except:\n",
    "                var=np.nan\n",
    "                rs=x\n",
    "        else:\n",
    "            try:\n",
    "                var=\"chr\"+x.split(\":\")[0]+\":g.\"+x.split(\":\")[1]+x.split(\":\")[2]+\">\"+x.split(\":\")[3]\n",
    "                rs=mv.getvariants(var,fields='dbsnp.rsid')[0][\"dbsnp\"][\"rsid\"]\n",
    "            except:\n",
    "                try:\n",
    "                    var=\"chr\"+x.split(\":\")[0]+\":g.\"+x.split(\":\")[1]+x.split(\":\")[3]+\">\"+x.split(\":\")[2]\n",
    "                    rs=mv.getvariants(var,fields='dbsnp.rsid')[0][\"dbsnp\"][\"rsid\"]\n",
    "                except:\n",
    "                    var=\"chr\"+x.split(\":\")[0]+\":g.\"+x.split(\":\")[1]+x.split(\":\")[3]+\">\"+x.split(\":\")[2]\n",
    "                    rs=np.nan\n",
    "    except:\n",
    "        var=np.nan\n",
    "        rs=np.nan\n",
    "        \n",
    "    return (var,rs)\n",
    "  "
   ]
  },
  {
   "cell_type": "code",
   "execution_count": 17,
   "metadata": {},
   "outputs": [],
   "source": [
    "def extract(directory):\n",
    "    \n",
    "    '''\n",
    "    Input: directory with conditional hla output\n",
    "    Output: dataframe with conditional SNP, beta, p-value, effect allele, IP component\n",
    "    '''\n",
    "    df_hla_cond=pd.DataFrame()\n",
    "    files=[x for x in os.listdir(directory) if \"assoc\" in x]\n",
    "    files=[x for x in files if \"plot\" not in x]\n",
    "    print(len(files))\n",
    "    for x in files:\n",
    "        df=pd.read_csv(directory+x,header=None,delimiter=\"\\t\")\n",
    "        df[\"pheno\"]=x.split(\".assoc\")[0]\n",
    "        df[\"iteration\"]=df.index\n",
    "        df_hla_cond=df_hla_cond.append(df)\n",
    "    df_hla_cond.columns=[\"snp\",\"beta\",\"p\",\"A1\",\"file\",\"iteration\"]\n",
    "    df_hla_cond=df_hla_cond.rename(columns={\"snp\":\"snps\",\"p\":\"p-value\"})\n",
    "    return(df_hla_cond)\n",
    "    "
   ]
  },
  {
   "cell_type": "code",
   "execution_count": 18,
   "metadata": {},
   "outputs": [],
   "source": [
    "#get index snps\n",
    "nonhla=get_clumps(\"../data/plink-associations/associations/\",\"index\")"
   ]
  },
  {
   "cell_type": "code",
   "execution_count": 10,
   "metadata": {},
   "outputs": [
    {
     "name": "stdout",
     "output_type": "stream",
     "text": [
      "825 associations and 795 unique TIME-SNPs from 75 IP components\n"
     ]
    }
   ],
   "source": [
    "print(\"{} associations and {} unique TIME-SNPs from {} IP components\".format(len(nonhla),len(nonhla[\"snps\"].unique()),len(nonhla[\"file\"].unique())))"
   ]
  },
  {
   "cell_type": "code",
   "execution_count": 20,
   "metadata": {
    "tags": []
   },
   "outputs": [
    {
     "data": {
      "image/png": "[encoded data removed]",
      "text/plain": [
       "<Figure size 720x144 with 1 Axes>"
      ]
     },
     "metadata": {
      "needs_background": "light"
     },
     "output_type": "display_data"
    }
   ],
   "source": [
    "fig = plt.figure(figsize=(10,2))\n",
    "df_nonhla=nonhla[\"file\"].value_counts().reset_index()\n",
    "plt.bar(df_nonhla[\"index\"],df_nonhla[\"file\"])\n",
    "plt.xticks(rotation=90)\n",
    "plt.ylabel(\"# associations\")\n",
    "plt.savefig(\"../plots/fig2/plink.assoc.pdf\")"
   ]
  },
  {
   "cell_type": "markdown",
   "metadata": {},
   "source": [
    "### Get lambda inflation factor"
   ]
  },
  {
   "cell_type": "markdown",
   "metadata": {},
   "source": [
    "run grep -E \"lambda\" *log > lambda.txt"
   ]
  },
  {
   "cell_type": "code",
   "execution_count": 21,
   "metadata": {},
   "outputs": [],
   "source": [
    "pancan=pd.read_csv(\"../data/plink-associations/associations/lambda.txt\",header=None)"
   ]
  },
  {
   "cell_type": "code",
   "execution_count": 22,
   "metadata": {},
   "outputs": [],
   "source": [
    "pancan[\"lambda\"]=pancan[0].str.split(\"= \").str[-1]\n",
    "pancan[\"lambda\"]=pancan[\"lambda\"].str.rstrip(\".\")\n",
    "pancan[\"gene\"]=pancan[0].str.split(\".\").str[0]\n",
    "pancan[\"gene\"]=pancan[\"gene\"].str.split(\".log\").str[0]\n",
    "pancan[\"lambda\"]=pancan[\"lambda\"].astype(float)"
   ]
  },
  {
   "cell_type": "code",
   "execution_count": 23,
   "metadata": {},
   "outputs": [
    {
     "data": {
      "image/png": "[encoded data removed]",
      "text/plain": [
       "<Figure size 720x144 with 1 Axes>"
      ]
     },
     "metadata": {
      "needs_background": "light"
     },
     "output_type": "display_data"
    }
   ],
   "source": [
    "fig = plt.figure(figsize=(10,2))\n",
    "\n",
    "#plot pancan\n",
    "plt.errorbar(x=pancan[\"gene\"],y=pancan[\"lambda\"], fmt='o')\n",
    "plt.ylim(0,2)\n",
    "plt.axhline(1,color=\"gray\")\n",
    "plt.ylabel(\"Genomic inflation rates (lambda)\")\n",
    "plt.title(\"Pancan Atlas\")\n",
    "plt.savefig(\"../plots/fig2/lambda.pdf\")"
   ]
  },
  {
   "cell_type": "markdown",
   "metadata": {},
   "source": [
    "### Get HLA associations"
   ]
  },
  {
   "cell_type": "code",
   "execution_count": 24,
   "metadata": {},
   "outputs": [
    {
     "name": "stdout",
     "output_type": "stream",
     "text": [
      "17\n"
     ]
    }
   ],
   "source": [
    "hla=extract(\"../data/conditional-hla/hla_ref/\")\n",
    "hla=hla[hla[\"p-value\"]<(.00001/17)]"
   ]
  },
  {
   "cell_type": "code",
   "execution_count": 25,
   "metadata": {},
   "outputs": [
    {
     "name": "stdout",
     "output_type": "stream",
     "text": [
      "55 associations and 55 unique TIME-SNPs from 17 IP components\n"
     ]
    }
   ],
   "source": [
    "print(\"{} associations and {} unique TIME-SNPs from {} IP components\".format(len(hla),len(hla[\"snps\"].unique()),len(hla[\"file\"].unique())))"
   ]
  },
  {
   "cell_type": "code",
   "execution_count": 26,
   "metadata": {},
   "outputs": [
    {
     "name": "stdout",
     "output_type": "stream",
     "text": [
      "8\n"
     ]
    }
   ],
   "source": [
    "ase=extract(\"../data/conditional-hla/hla_ase/\")\n",
    "ase=ase[ase[\"p-value\"]<(.00001/17)]"
   ]
  },
  {
   "cell_type": "code",
   "execution_count": 27,
   "metadata": {},
   "outputs": [
    {
     "name": "stdout",
     "output_type": "stream",
     "text": [
      "10 associations and 10 unique TIME-SNPs from 6 IP components\n"
     ]
    }
   ],
   "source": [
    "print(\"{} associations and {} unique TIME-SNPs from {} IP components\".format(len(ase),len(ase[\"snps\"].unique()),len(ase[\"file\"].unique())))"
   ]
  },
  {
   "cell_type": "code",
   "execution_count": 28,
   "metadata": {},
   "outputs": [],
   "source": [
    "hla[\"type\"]=\"ref\"\n",
    "ase[\"type\"]=\"ase\""
   ]
  },
  {
   "cell_type": "code",
   "execution_count": 29,
   "metadata": {},
   "outputs": [],
   "source": [
    "hla=hla.append(ase)"
   ]
  },
  {
   "cell_type": "markdown",
   "metadata": {},
   "source": [
    "### Get original GWAS"
   ]
  },
  {
   "cell_type": "code",
   "execution_count": 30,
   "metadata": {},
   "outputs": [],
   "source": [
    "compiled_df=pd.DataFrame()\n",
    "\n",
    "direct=\"../data/conditional-hla/hla_ase/\"\n",
    "files=[x for x in os.listdir(direct) if \"linear\" in x]\n",
    "files=[x for x in files if \".0.\" in x]\n",
    "\n",
    "for x in files:\n",
    "    df=pd.read_csv(direct+x,delimiter=\"\\t\")\n",
    "    df=df[df[\"TEST\"]==\"ADD\"]\n",
    "    df=df[df[\"P\"]<=.00000005]\n",
    "    compiled_df=compiled_df.append(df)\n",
    "    \n",
    "direct=\"../data/conditional-hla/hla_ref/\"\n",
    "files=[x for x in os.listdir(direct) if \"linear\" in x]\n",
    "files=[x for x in files if \".0.\" in x]\n",
    "\n",
    "for x in files:\n",
    "    df=pd.read_csv(direct+x,delimiter=\"\\t\")\n",
    "    df=df[df[\"TEST\"]==\"ADD\"]\n",
    "    df=df[df[\"P\"]<=.00000005]\n",
    "    compiled_df=compiled_df.append(df)"
   ]
  },
  {
   "cell_type": "markdown",
   "metadata": {},
   "source": [
    "### Make extract file"
   ]
  },
  {
   "cell_type": "code",
   "execution_count": 31,
   "metadata": {},
   "outputs": [],
   "source": [
    "time_snps=nonhla[[\"snps\",\"beta\",\"A1\",\"file\",\"p-value\"]].append(hla[[\"snps\",\"beta\",\"file\",\"A1\",\"p-value\",\"type\"]])"
   ]
  },
  {
   "cell_type": "code",
   "execution_count": 32,
   "metadata": {},
   "outputs": [
    {
     "data": {
      "text/plain": [
       "93"
      ]
     },
     "execution_count": 32,
     "metadata": {},
     "output_type": "execute_result"
    }
   ],
   "source": [
    "len(time_snps[\"file\"].unique())"
   ]
  },
  {
   "cell_type": "markdown",
   "metadata": {},
   "source": [
    "## Map MAF"
   ]
  },
  {
   "cell_type": "code",
   "execution_count": 34,
   "metadata": {},
   "outputs": [],
   "source": [
    "#map to minor allele frequency\n",
    "maf=pd.read_csv(\"/cellar/controlled/dbgap-genetic/phs000178_TCGA/imputation/michigan-imputation/HRC/european.maf.frq\",delim_whitespace=True)\n",
    "mp_maf=dict(zip(maf[\"SNP\"],maf[\"MAF\"]))\n",
    "time_snps[\"maf\"]=time_snps[\"snps\"].map(mp_maf)"
   ]
  },
  {
   "cell_type": "markdown",
   "metadata": {},
   "source": [
    "## Map to RSID"
   ]
  },
  {
   "cell_type": "code",
   "execution_count": 35,
   "metadata": {
    "scrolled": true
   },
   "outputs": [
    {
     "name": "stdout",
     "output_type": "stream",
     "text": [
      "querying 1-1...done.\n",
      "querying 1-1...done.\n",
      "querying 1-1...done.\n",
      "querying 1-1...done.\n",
      "querying 1-1...done.\n",
      "querying 1-1...done.\n",
      "querying 1-1...done.\n",
      "querying 1-1...done.\n",
      "querying 1-1...done.\n",
      "querying 1-1...done.\n",
      "querying 1-1...done.\n",
      "querying 1-1...done.\n",
      "querying 1-1...done.\n",
      "querying 1-1...done.\n",
      "querying 1-1...done.\n",
      "querying 1-1...done.\n",
      "querying 1-1...done.\n",
      "querying 1-1...done.\n",
      "querying 1-1...done.\n",
      "querying 1-1...done.\n",
      "querying 1-1...done.\n",
      "querying 1-1...done.\n",
      "querying 1-1...done.\n",
      "querying 1-1...done.\n",
      "querying 1-1...done.\n",
      "querying 1-1...done.\n",
      "querying 1-1...done.\n",
      "querying 1-1...done.\n",
      "querying 1-1...done.\n",
      "querying 1-1...done.\n",
      "querying 1-1...done.\n",
      "querying 1-1...done.\n",
      "querying 1-1...done.\n",
      "querying 1-1...done.\n",
      "querying 1-1...done.\n",
      "querying 1-1...done.\n",
      "querying 1-1...done.\n",
      "querying 1-1...done.\n",
      "querying 1-1...done.\n",
      "querying 1-1...done.\n",
      "querying 1-1...done.\n",
      "querying 1-1...done.\n",
      "querying 1-1...done.\n",
      "querying 1-1...done.\n",
      "querying 1-1...done.\n",
      "querying 1-1...done.\n",
      "querying 1-1...done.\n",
      "querying 1-1...done.\n",
      "querying 1-1...done.\n",
      "querying 1-1...done.\n",
      "querying 1-1...done.\n",
      "querying 1-1...done.\n",
      "querying 1-1...done.\n",
      "querying 1-1...done.\n",
      "querying 1-1...done.\n",
      "querying 1-1...done.\n",
      "querying 1-1...done.\n",
      "querying 1-1...done.\n",
      "querying 1-1...done.\n",
      "querying 1-1...done.\n",
      "querying 1-1...done.\n",
      "querying 1-1...done.\n",
      "querying 1-1...done.\n",
      "querying 1-1...done.\n",
      "querying 1-1...done.\n",
      "querying 1-1...done.\n",
      "querying 1-1...done.\n",
      "querying 1-1...done.\n",
      "querying 1-1...done.\n",
      "querying 1-1...done.\n",
      "querying 1-1...done.\n",
      "querying 1-1...done.\n",
      "querying 1-1...done.\n",
      "querying 1-1...done.\n",
      "querying 1-1...done.\n",
      "querying 1-1...done.\n",
      "querying 1-1...done.\n",
      "querying 1-1...done.\n",
      "querying 1-1...done.\n",
      "querying 1-1...done.\n",
      "querying 1-1...done.\n",
      "querying 1-1...done.\n",
      "querying 1-1...done.\n",
      "querying 1-1...done.\n",
      "querying 1-1...done.\n",
      "querying 1-1...done.\n",
      "querying 1-1...done.\n",
      "querying 1-1...done.\n",
      "querying 1-1...done.\n",
      "querying 1-1...done.\n",
      "querying 1-1...done.\n",
      "querying 1-1...done.\n",
      "querying 1-1...done.\n",
      "querying 1-1...done.\n",
      "querying 1-1...done.\n",
      "querying 1-1...done.\n",
      "querying 1-1...done.\n",
      "querying 1-1...done.\n",
      "querying 1-1...done.\n",
      "querying 1-1...done.\n",
      "querying 1-1...done.\n",
      "querying 1-1...done.\n",
      "querying 1-1...done.\n",
      "querying 1-1...done.\n",
      "querying 1-1...done.\n",
      "querying 1-1...done.\n",
      "querying 1-1...done.\n",
      "querying 1-1...done.\n",
      "querying 1-1...done.\n",
      "querying 1-1...done.\n",
      "querying 1-1...done.\n",
      "querying 1-1...done.\n",
      "querying 1-1...done.\n",
      "querying 1-1...done.\n",
      "querying 1-1...done.\n",
      "querying 1-1...done.\n",
      "querying 1-1...done.\n",
      "querying 1-1...done.\n",
      "querying 1-1...done.\n",
      "querying 1-1...done.\n",
      "querying 1-1...done.\n",
      "querying 1-1...done.\n",
      "querying 1-1...done.\n",
      "querying 1-1...done.\n",
      "querying 1-1...done.\n",
      "querying 1-1...done.\n",
      "querying 1-1...done.\n",
      "querying 1-1...done.\n",
      "querying 1-1...done.\n",
      "querying 1-1...done.\n",
      "querying 1-1...done.\n",
      "querying 1-1...done.\n",
      "querying 1-1...done.\n",
      "querying 1-1...done.\n",
      "querying 1-1...done.\n",
      "querying 1-1...done.\n",
      "querying 1-1...done.\n",
      "querying 1-1...done.\n",
      "querying 1-1...done.\n",
      "querying 1-1...done.\n",
      "querying 1-1...done.\n",
      "querying 1-1...done.\n",
      "querying 1-1...done.\n",
      "querying 1-1...done.\n",
      "querying 1-1...done.\n",
      "querying 1-1...done.\n",
      "querying 1-1...done.\n",
      "querying 1-1...done.\n",
      "querying 1-1...done.\n",
      "querying 1-1...done.\n",
      "querying 1-1...done.\n",
      "querying 1-1...done.\n",
      "querying 1-1...done.\n",
      "querying 1-1...done.\n",
      "querying 1-1...done.\n",
      "querying 1-1...done.\n",
      "querying 1-1...done.\n",
      "querying 1-1...done.\n",
      "querying 1-1...done.\n",
      "querying 1-1...done.\n",
      "querying 1-1...done.\n",
      "querying 1-1...done.\n",
      "querying 1-1...done.\n",
      "querying 1-1...done.\n",
      "querying 1-1...done.\n",
      "querying 1-1...done.\n",
      "querying 1-1...done.\n",
      "querying 1-1...done.\n",
      "querying 1-1...done.\n",
      "querying 1-1...done.\n",
      "querying 1-1...done.\n",
      "querying 1-1...done.\n",
      "querying 1-1...done.\n",
      "querying 1-1...done.\n",
      "querying 1-1...done.\n",
      "querying 1-1...done.\n",
      "querying 1-1...done.\n",
      "querying 1-1...done.\n",
      "querying 1-1...done.\n",
      "querying 1-1...done.\n",
      "querying 1-1...done.\n",
      "querying 1-1...done.\n",
      "querying 1-1...done.\n",
      "querying 1-1...done.\n",
      "querying 1-1...done.\n",
      "querying 1-1...done.\n",
      "querying 1-1...done.\n",
      "querying 1-1...done.\n",
      "querying 1-1...done.\n",
      "querying 1-1...done.\n",
      "querying 1-1...done.\n",
      "querying 1-1...done.\n",
      "querying 1-1...done.\n",
      "querying 1-1...done.\n",
      "querying 1-1...done.\n",
      "querying 1-1...done.\n",
      "querying 1-1...done.\n",
      "querying 1-1...done.\n",
      "querying 1-1...done.\n",
      "querying 1-1...done.\n",
      "querying 1-1...done.\n",
      "querying 1-1...done.\n",
      "querying 1-1...done.\n",
      "querying 1-1...done.\n",
      "querying 1-1...done.\n",
      "querying 1-1...done.\n",
      "querying 1-1...done.\n",
      "querying 1-1...done.\n",
      "querying 1-1...done.\n",
      "querying 1-1...done.\n",
      "querying 1-1...done.\n",
      "querying 1-1...done.\n",
      "querying 1-1...done.\n",
      "querying 1-1...done.\n",
      "querying 1-1...done.\n",
      "querying 1-1...done.\n",
      "querying 1-1...done.\n",
      "querying 1-1...done.\n",
      "querying 1-1...done.\n",
      "querying 1-1...done.\n",
      "querying 1-1...done.\n",
      "querying 1-1...done.\n",
      "querying 1-1...done.\n",
      "querying 1-1...done.\n",
      "querying 1-1...done.\n",
      "querying 1-1...done.\n",
      "querying 1-1...done.\n",
      "querying 1-1...done.\n",
      "querying 1-1...done.\n",
      "querying 1-1...done.\n",
      "querying 1-1...done.\n",
      "querying 1-1...done.\n",
      "querying 1-1...done.\n",
      "querying 1-1...done.\n",
      "querying 1-1...done.\n",
      "querying 1-1...done.\n",
      "querying 1-1...done.\n",
      "querying 1-1...done.\n",
      "querying 1-1...done.\n",
      "querying 1-1...done.\n",
      "querying 1-1...done.\n",
      "querying 1-1...done.\n",
      "querying 1-1...done.\n",
      "querying 1-1...done.\n",
      "querying 1-1...done.\n",
      "querying 1-1...done.\n",
      "querying 1-1...done.\n",
      "querying 1-1...done.\n",
      "querying 1-1...done.\n",
      "querying 1-1...done.\n",
      "querying 1-1...done.\n",
      "querying 1-1...done.\n",
      "querying 1-1...done.\n",
      "querying 1-1...done.\n",
      "querying 1-1...done.\n",
      "querying 1-1...done.\n",
      "querying 1-1...done.\n",
      "querying 1-1...done.\n",
      "querying 1-1...done.\n",
      "querying 1-1...done.\n",
      "querying 1-1...done.\n",
      "querying 1-1...done.\n",
      "querying 1-1...done.\n",
      "querying 1-1...done.\n",
      "querying 1-1...done.\n",
      "querying 1-1...done.\n",
      "querying 1-1...done.\n",
      "querying 1-1...done.\n",
      "querying 1-1...done.\n",
      "querying 1-1...done.\n",
      "querying 1-1...done.\n",
      "querying 1-1...done.\n",
      "querying 1-1...done.\n",
      "querying 1-1...done.\n",
      "querying 1-1...done.\n",
      "querying 1-1...done.\n",
      "querying 1-1...done.\n",
      "querying 1-1...done.\n",
      "querying 1-1...done.\n",
      "querying 1-1...done.\n",
      "querying 1-1...done.\n",
      "querying 1-1...done.\n",
      "querying 1-1...done.\n",
      "querying 1-1...done.\n",
      "querying 1-1...done.\n",
      "querying 1-1...done.\n",
      "querying 1-1...done.\n",
      "querying 1-1...done.\n",
      "querying 1-1...done.\n",
      "querying 1-1...done.\n",
      "querying 1-1...done.\n",
      "querying 1-1...done.\n",
      "querying 1-1...done.\n",
      "querying 1-1...done.\n",
      "querying 1-1...done.\n",
      "querying 1-1...done.\n",
      "querying 1-1...done.\n",
      "querying 1-1...done.\n",
      "querying 1-1...done.\n",
      "querying 1-1...done.\n",
      "querying 1-1...done.\n",
      "querying 1-1...done.\n",
      "querying 1-1...done.\n",
      "querying 1-1...done.\n",
      "querying 1-1...done.\n",
      "querying 1-1...done.\n",
      "querying 1-1...done.\n",
      "querying 1-1...done.\n",
      "querying 1-1...done.\n",
      "querying 1-1...done.\n",
      "querying 1-1...done.\n",
      "querying 1-1...done.\n",
      "querying 1-1...done.\n",
      "querying 1-1...done.\n",
      "querying 1-1...done.\n",
      "querying 1-1...done.\n",
      "querying 1-1...done.\n",
      "querying 1-1...done.\n",
      "querying 1-1...done.\n",
      "querying 1-1...done.\n",
      "querying 1-1...done.\n",
      "querying 1-1...done.\n",
      "querying 1-1...done.\n",
      "querying 1-1...done.\n",
      "querying 1-1...done.\n",
      "querying 1-1...done.\n",
      "querying 1-1...done.\n",
      "querying 1-1...done.\n",
      "querying 1-1...done.\n",
      "querying 1-1...done.\n",
      "querying 1-1...done.\n",
      "querying 1-1...done.\n",
      "querying 1-1...done.\n",
      "querying 1-1...done.\n",
      "querying 1-1...done.\n",
      "querying 1-1...done.\n",
      "querying 1-1...done.\n",
      "querying 1-1...done.\n",
      "querying 1-1...done.\n",
      "querying 1-1...done.\n",
      "querying 1-1...done.\n",
      "querying 1-1...done.\n",
      "querying 1-1...done.\n",
      "querying 1-1...done.\n",
      "querying 1-1...done.\n",
      "querying 1-1...done.\n",
      "querying 1-1...done.\n",
      "querying 1-1...done.\n",
      "querying 1-1...done.\n",
      "querying 1-1...done.\n",
      "querying 1-1...done.\n",
      "querying 1-1...done.\n",
      "querying 1-1...done.\n",
      "querying 1-1...done.\n",
      "querying 1-1...done.\n",
      "querying 1-1...done.\n",
      "querying 1-1...done.\n",
      "querying 1-1...done.\n",
      "querying 1-1...done.\n",
      "querying 1-1...done.\n",
      "querying 1-1...done.\n",
      "querying 1-1...done.\n",
      "querying 1-1...done.\n",
      "querying 1-1...done.\n",
      "querying 1-1...done.\n",
      "querying 1-1...done.\n",
      "querying 1-1...done.\n",
      "querying 1-1...done.\n",
      "querying 1-1...done.\n",
      "querying 1-1...done.\n",
      "querying 1-1...done.\n",
      "querying 1-1...done.\n",
      "querying 1-1...done.\n",
      "querying 1-1...done.\n",
      "querying 1-1...done.\n",
      "querying 1-1...done.\n",
      "querying 1-1...done.\n",
      "querying 1-1...done.\n",
      "querying 1-1...done.\n",
      "querying 1-1...done.\n",
      "querying 1-1...done.\n",
      "querying 1-1...done.\n",
      "querying 1-1...done.\n",
      "querying 1-1...done.\n",
      "querying 1-1...done.\n",
      "querying 1-1...done.\n",
      "querying 1-1...done.\n",
      "querying 1-1...done.\n",
      "querying 1-1...done.\n",
      "querying 1-1...done.\n",
      "querying 1-1...done.\n",
      "querying 1-1...done.\n",
      "querying 1-1...done.\n",
      "querying 1-1...done.\n",
      "querying 1-1...done.\n",
      "querying 1-1...done.\n",
      "querying 1-1...done.\n",
      "querying 1-1...done.\n",
      "querying 1-1...done.\n",
      "querying 1-1...done.\n",
      "querying 1-1...done.\n",
      "querying 1-1...done.\n",
      "querying 1-1...done.\n",
      "querying 1-1...done.\n",
      "querying 1-1...done.\n",
      "querying 1-1...done.\n",
      "querying 1-1...done.\n",
      "querying 1-1...done.\n",
      "querying 1-1...done.\n",
      "querying 1-1...done.\n",
      "querying 1-1...done.\n",
      "querying 1-1...done.\n",
      "querying 1-1...done.\n",
      "querying 1-1...done.\n",
      "querying 1-1...done.\n",
      "querying 1-1...done.\n",
      "querying 1-1...done.\n",
      "querying 1-1...done.\n",
      "querying 1-1...done.\n",
      "querying 1-1...done.\n",
      "querying 1-1...done.\n",
      "querying 1-1...done.\n",
      "querying 1-1...done.\n",
      "querying 1-1...done.\n",
      "querying 1-1...done.\n",
      "querying 1-1...done.\n",
      "querying 1-1...done.\n",
      "querying 1-1...done.\n",
      "querying 1-1...done.\n",
      "querying 1-1...done.\n",
      "querying 1-1...done.\n",
      "querying 1-1...done.\n",
      "querying 1-1...done.\n",
      "querying 1-1...done.\n",
      "querying 1-1...done.\n",
      "querying 1-1...done.\n",
      "querying 1-1...done.\n",
      "querying 1-1...done.\n",
      "querying 1-1...done.\n",
      "querying 1-1...done.\n",
      "querying 1-1...done.\n",
      "querying 1-1...done.\n",
      "querying 1-1...done.\n",
      "querying 1-1...done.\n",
      "querying 1-1...done.\n",
      "querying 1-1...done.\n",
      "querying 1-1...done.\n",
      "querying 1-1...done.\n",
      "querying 1-1...done.\n",
      "querying 1-1...done.\n",
      "querying 1-1...done.\n",
      "querying 1-1...done.\n",
      "querying 1-1...done.\n",
      "querying 1-1...done.\n",
      "querying 1-1...done.\n",
      "querying 1-1...done.\n",
      "querying 1-1...done.\n",
      "querying 1-1...done.\n",
      "querying 1-1...done.\n",
      "querying 1-1...done.\n",
      "querying 1-1...done.\n",
      "querying 1-1...done.\n",
      "querying 1-1...done.\n",
      "querying 1-1...done.\n",
      "querying 1-1...done.\n",
      "querying 1-1...done.\n",
      "querying 1-1...done.\n",
      "querying 1-1...done.\n",
      "querying 1-1...done.\n",
      "querying 1-1...done.\n",
      "querying 1-1...done.\n",
      "querying 1-1...done.\n",
      "querying 1-1...done.\n",
      "querying 1-1...done.\n",
      "querying 1-1...done.\n",
      "querying 1-1...done.\n",
      "querying 1-1...done.\n",
      "querying 1-1...done.\n",
      "querying 1-1...done.\n",
      "querying 1-1...done.\n",
      "querying 1-1...done.\n",
      "querying 1-1...done.\n",
      "querying 1-1...done.\n",
      "querying 1-1...done.\n",
      "querying 1-1...done.\n",
      "querying 1-1...done.\n",
      "querying 1-1...done.\n",
      "querying 1-1...done.\n",
      "querying 1-1...done.\n",
      "querying 1-1...done.\n",
      "querying 1-1...done.\n",
      "querying 1-1...done.\n",
      "querying 1-1...done.\n",
      "querying 1-1...done.\n",
      "querying 1-1...done.\n",
      "querying 1-1...done.\n",
      "querying 1-1...done.\n",
      "querying 1-1...done.\n",
      "querying 1-1...done.\n",
      "querying 1-1...done.\n",
      "querying 1-1...done.\n",
      "querying 1-1...done.\n",
      "querying 1-1...done.\n",
      "querying 1-1...done.\n",
      "querying 1-1...done.\n",
      "querying 1-1...done.\n",
      "querying 1-1...done.\n",
      "querying 1-1...done.\n",
      "querying 1-1...done.\n",
      "querying 1-1...done.\n",
      "querying 1-1...done.\n",
      "querying 1-1...done.\n",
      "querying 1-1...done.\n",
      "querying 1-1...done.\n",
      "querying 1-1...done.\n",
      "querying 1-1...done.\n",
      "querying 1-1...done.\n",
      "querying 1-1...done.\n",
      "querying 1-1...done.\n",
      "querying 1-1...done.\n",
      "querying 1-1...done.\n",
      "querying 1-1...done.\n",
      "querying 1-1...done.\n",
      "querying 1-1...done.\n",
      "querying 1-1...done.\n",
      "querying 1-1...done.\n",
      "querying 1-1...done.\n",
      "querying 1-1...done.\n",
      "querying 1-1...done.\n",
      "querying 1-1...done.\n",
      "querying 1-1...done.\n",
      "querying 1-1...done.\n",
      "querying 1-1...done.\n",
      "querying 1-1...done.\n",
      "querying 1-1...done.\n",
      "querying 1-1...done.\n",
      "querying 1-1...done.\n",
      "querying 1-1...done.\n",
      "querying 1-1...done.\n",
      "querying 1-1...done.\n",
      "querying 1-1...done.\n",
      "querying 1-1...done.\n",
      "querying 1-1...done.\n",
      "querying 1-1...done.\n",
      "querying 1-1...done.\n",
      "querying 1-1...done.\n",
      "querying 1-1...done.\n",
      "querying 1-1...done.\n",
      "querying 1-1...done.\n",
      "querying 1-1...done.\n",
      "querying 1-1...done.\n",
      "querying 1-1...done.\n",
      "querying 1-1...done.\n",
      "querying 1-1...done.\n",
      "querying 1-1...done.\n",
      "querying 1-1...done.\n",
      "querying 1-1...done.\n",
      "querying 1-1...done.\n",
      "querying 1-1...done.\n",
      "querying 1-1...done.\n",
      "querying 1-1...done.\n",
      "querying 1-1...done.\n",
      "querying 1-1...done.\n",
      "querying 1-1...done.\n",
      "querying 1-1...done.\n",
      "querying 1-1...done.\n",
      "querying 1-1...done.\n",
      "querying 1-1...done.\n",
      "querying 1-1...done.\n",
      "querying 1-1...done.\n",
      "querying 1-1...done.\n",
      "querying 1-1...done.\n",
      "querying 1-1...done.\n",
      "querying 1-1...done.\n",
      "querying 1-1...done.\n",
      "querying 1-1...done.\n",
      "querying 1-1...done.\n",
      "querying 1-1...done.\n",
      "querying 1-1...done.\n",
      "querying 1-1...done.\n",
      "querying 1-1...done.\n",
      "querying 1-1...done.\n",
      "querying 1-1...done.\n",
      "querying 1-1...done.\n",
      "querying 1-1...done.\n",
      "querying 1-1...done.\n",
      "querying 1-1...done.\n",
      "querying 1-1...done.\n",
      "querying 1-1...done.\n",
      "querying 1-1...done.\n",
      "querying 1-1...done.\n",
      "querying 1-1...done.\n",
      "querying 1-1...done.\n",
      "querying 1-1...done.\n",
      "querying 1-1...done.\n",
      "querying 1-1...done.\n",
      "querying 1-1...done.\n",
      "querying 1-1...done.\n",
      "querying 1-1...done.\n",
      "querying 1-1...done.\n",
      "querying 1-1...done.\n",
      "querying 1-1...done.\n",
      "querying 1-1...done.\n",
      "querying 1-1...done.\n",
      "querying 1-1...done.\n",
      "querying 1-1...done.\n",
      "querying 1-1...done.\n",
      "querying 1-1...done.\n",
      "querying 1-1...done.\n",
      "querying 1-1...done.\n",
      "querying 1-1...done.\n",
      "querying 1-1...done.\n",
      "querying 1-1...done.\n",
      "querying 1-1...done.\n",
      "querying 1-1...done.\n",
      "querying 1-1...done.\n",
      "querying 1-1...done.\n",
      "querying 1-1...done.\n",
      "querying 1-1...done.\n",
      "querying 1-1...done.\n",
      "querying 1-1...done.\n",
      "querying 1-1...done.\n",
      "querying 1-1...done.\n",
      "querying 1-1...done.\n",
      "querying 1-1...done.\n",
      "querying 1-1...done.\n",
      "querying 1-1...done.\n",
      "querying 1-1...done.\n",
      "querying 1-1...done.\n",
      "querying 1-1...done.\n",
      "querying 1-1...done.\n",
      "querying 1-1...done.\n",
      "querying 1-1...done.\n",
      "querying 1-1...done.\n",
      "querying 1-1...done.\n",
      "querying 1-1...done.\n",
      "querying 1-1...done.\n",
      "querying 1-1...done.\n",
      "querying 1-1...done.\n",
      "querying 1-1...done.\n",
      "querying 1-1...done.\n",
      "querying 1-1...done.\n",
      "querying 1-1...done.\n",
      "querying 1-1...done.\n",
      "querying 1-1...done.\n",
      "querying 1-1...done.\n",
      "querying 1-1...done.\n",
      "querying 1-1...done.\n",
      "querying 1-1...done.\n",
      "querying 1-1...done.\n",
      "querying 1-1...done.\n",
      "querying 1-1...done.\n",
      "querying 1-1...done.\n",
      "querying 1-1...done.\n",
      "querying 1-1...done.\n",
      "querying 1-1...done.\n",
      "querying 1-1...done.\n",
      "querying 1-1...done.\n",
      "querying 1-1...done.\n",
      "querying 1-1...done.\n",
      "querying 1-1...done.\n",
      "querying 1-1...done.\n",
      "querying 1-1...done.\n",
      "querying 1-1...done.\n",
      "querying 1-1...done.\n",
      "querying 1-1...done.\n",
      "querying 1-1...done.\n",
      "querying 1-1...done.\n",
      "querying 1-1...done.\n",
      "querying 1-1...done.\n",
      "querying 1-1...done.\n",
      "querying 1-1...done.\n",
      "querying 1-1...done.\n",
      "querying 1-1...done.\n",
      "querying 1-1...done.\n",
      "querying 1-1...done.\n",
      "querying 1-1...done.\n",
      "querying 1-1...done.\n",
      "querying 1-1...done.\n",
      "querying 1-1...done.\n",
      "querying 1-1...done.\n",
      "querying 1-1...done.\n",
      "querying 1-1...done.\n",
      "querying 1-1...done.\n",
      "querying 1-1...done.\n",
      "querying 1-1...done.\n",
      "querying 1-1...done.\n",
      "querying 1-1...done.\n",
      "querying 1-1...done.\n",
      "querying 1-1...done.\n",
      "querying 1-1...done.\n",
      "querying 1-1...done.\n",
      "querying 1-1...done.\n",
      "querying 1-1...done.\n",
      "querying 1-1...done.\n",
      "querying 1-1...done.\n",
      "querying 1-1...done.\n",
      "querying 1-1...done.\n",
      "querying 1-1...done.\n",
      "querying 1-1...done.\n",
      "querying 1-1...done.\n",
      "querying 1-1...done.\n",
      "querying 1-1...done.\n",
      "querying 1-1...done.\n",
      "querying 1-1...done.\n",
      "querying 1-1...done.\n",
      "querying 1-1...done.\n",
      "querying 1-1...done.\n",
      "querying 1-1...done.\n",
      "querying 1-1...done.\n",
      "querying 1-1...done.\n",
      "querying 1-1...done.\n",
      "querying 1-1...done.\n",
      "querying 1-1...done.\n",
      "querying 1-1...done.\n",
      "querying 1-1...done.\n",
      "querying 1-1...done.\n",
      "querying 1-1...done.\n",
      "querying 1-1...done.\n",
      "querying 1-1...done.\n",
      "querying 1-1...done.\n",
      "querying 1-1...done.\n",
      "querying 1-1...done.\n",
      "querying 1-1...done.\n",
      "querying 1-1...done.\n",
      "querying 1-1...done.\n",
      "querying 1-1...done.\n",
      "querying 1-1...done.\n",
      "querying 1-1...done.\n",
      "querying 1-1...done.\n",
      "querying 1-1...done.\n",
      "querying 1-1...done.\n",
      "querying 1-1...done.\n",
      "querying 1-1...done.\n",
      "querying 1-1...done.\n",
      "querying 1-1...done.\n",
      "querying 1-1...done.\n",
      "querying 1-1...done.\n",
      "querying 1-1...done.\n",
      "querying 1-1...done.\n",
      "querying 1-1...done.\n",
      "querying 1-1...done.\n",
      "querying 1-1...done.\n",
      "querying 1-1...done.\n",
      "querying 1-1...done.\n",
      "querying 1-1...done.\n",
      "querying 1-1...done.\n",
      "querying 1-1...done.\n",
      "querying 1-1...done.\n",
      "querying 1-1...done.\n",
      "querying 1-1...done.\n",
      "querying 1-1...done.\n",
      "querying 1-1...done.\n",
      "querying 1-1...done.\n",
      "querying 1-1...done.\n",
      "querying 1-1...done.\n",
      "querying 1-1...done.\n",
      "querying 1-1...done.\n",
      "querying 1-1...done.\n",
      "querying 1-1...done.\n",
      "querying 1-1...done.\n",
      "querying 1-1...done.\n",
      "querying 1-1...done.\n",
      "querying 1-1...done.\n",
      "querying 1-1...done.\n",
      "querying 1-1...done.\n",
      "querying 1-1...done.\n",
      "querying 1-1...done.\n",
      "querying 1-1...done.\n",
      "querying 1-1...done.\n",
      "querying 1-1...done.\n",
      "querying 1-1...done.\n",
      "querying 1-1...done.\n",
      "querying 1-1...done.\n",
      "querying 1-1...done.\n",
      "querying 1-1...done.\n",
      "querying 1-1...done.\n",
      "querying 1-1...done.\n",
      "querying 1-1...done.\n",
      "querying 1-1...done.\n",
      "querying 1-1...done.\n",
      "querying 1-1...done.\n",
      "querying 1-1...done.\n",
      "querying 1-1...done.\n",
      "querying 1-1...done.\n",
      "querying 1-1...done.\n",
      "querying 1-1...done.\n",
      "querying 1-1...done.\n",
      "querying 1-1...done.\n",
      "querying 1-1...done.\n",
      "querying 1-1...done.\n",
      "querying 1-1...done.\n",
      "querying 1-1...done.\n",
      "querying 1-1...done.\n",
      "querying 1-1...done.\n",
      "querying 1-1...done.\n",
      "querying 1-1...done.\n",
      "querying 1-1...done.\n",
      "querying 1-1...done.\n",
      "querying 1-1...done.\n",
      "querying 1-1...done.\n",
      "querying 1-1...done.\n",
      "querying 1-1...done.\n",
      "querying 1-1...done.\n",
      "querying 1-1...done.\n",
      "querying 1-1...done.\n",
      "querying 1-1...done.\n",
      "querying 1-1...done.\n",
      "querying 1-1...done.\n",
      "querying 1-1...done.\n",
      "querying 1-1...done.\n",
      "querying 1-1...done.\n",
      "querying 1-1...done.\n",
      "querying 1-1...done.\n",
      "querying 1-1...done.\n",
      "querying 1-1...done.\n",
      "querying 1-1...done.\n",
      "querying 1-1...done.\n",
      "querying 1-1...done.\n",
      "querying 1-1...done.\n",
      "querying 1-1...done.\n",
      "querying 1-1...done.\n",
      "querying 1-1...done.\n",
      "querying 1-1...done.\n",
      "querying 1-1...done.\n",
      "querying 1-1...done.\n",
      "querying 1-1...done.\n",
      "querying 1-1...done.\n",
      "querying 1-1...done.\n",
      "querying 1-1...done.\n",
      "querying 1-1...done.\n",
      "querying 1-1...done.\n",
      "querying 1-1...done.\n",
      "querying 1-1...done.\n",
      "querying 1-1...done.\n",
      "querying 1-1...done.\n",
      "querying 1-1...done.\n",
      "querying 1-1...done.\n",
      "querying 1-1...done.\n",
      "querying 1-1...done.\n",
      "querying 1-1...done.\n",
      "querying 1-1...done.\n",
      "querying 1-1...done.\n",
      "querying 1-1...done.\n",
      "querying 1-1...done.\n",
      "querying 1-1...done.\n",
      "querying 1-1...done.\n",
      "querying 1-1...done.\n",
      "querying 1-1...done.\n",
      "querying 1-1...done.\n",
      "querying 1-1...done.\n",
      "querying 1-1...done.\n",
      "querying 1-1...done.\n",
      "querying 1-1...done.\n",
      "querying 1-1...done.\n",
      "querying 1-1...done.\n",
      "querying 1-1...done.\n",
      "querying 1-1...done.\n",
      "querying 1-1...done.\n",
      "querying 1-1...done.\n",
      "querying 1-1...done.\n",
      "querying 1-1...done.\n",
      "querying 1-1...done.\n",
      "querying 1-1...done.\n",
      "querying 1-1...done.\n",
      "querying 1-1...done.\n",
      "querying 1-1...done.\n",
      "querying 1-1...done.\n",
      "querying 1-1...done.\n",
      "querying 1-1...done.\n",
      "querying 1-1...done.\n",
      "querying 1-1...done.\n",
      "querying 1-1...done.\n",
      "querying 1-1...done.\n",
      "querying 1-1...done.\n",
      "querying 1-1...done.\n",
      "querying 1-1...done.\n",
      "querying 1-1...done.\n",
      "querying 1-1...done.\n",
      "querying 1-1...done.\n",
      "querying 1-1...done.\n",
      "querying 1-1...done.\n",
      "querying 1-1...done.\n",
      "querying 1-1...done.\n",
      "querying 1-1...done.\n",
      "querying 1-1...done.\n",
      "querying 1-1...done.\n",
      "querying 1-1...done.\n",
      "querying 1-1...done.\n",
      "querying 1-1...done.\n",
      "querying 1-1...done.\n",
      "querying 1-1...done.\n",
      "querying 1-1...done.\n",
      "querying 1-1...done.\n",
      "querying 1-1...done.\n",
      "querying 1-1...done.\n",
      "querying 1-1...done.\n",
      "querying 1-1...done.\n",
      "querying 1-1...done.\n",
      "querying 1-1...done.\n",
      "querying 1-1...done.\n",
      "querying 1-1...done.\n",
      "querying 1-1...done.\n",
      "querying 1-1...done.\n",
      "querying 1-1...done.\n",
      "querying 1-1...done.\n",
      "querying 1-1...done.\n",
      "querying 1-1...done.\n",
      "querying 1-1...done.\n",
      "querying 1-1...done.\n",
      "querying 1-1...done.\n",
      "querying 1-1...done.\n",
      "querying 1-1...done.\n",
      "querying 1-1...done.\n",
      "querying 1-1...done.\n",
      "querying 1-1...done.\n",
      "querying 1-1...done.\n",
      "querying 1-1...done.\n",
      "querying 1-1...done.\n",
      "querying 1-1...done.\n",
      "querying 1-1...done.\n",
      "querying 1-1...done.\n",
      "querying 1-1...done.\n",
      "querying 1-1...done.\n",
      "querying 1-1...done.\n",
      "querying 1-1...done.\n",
      "querying 1-1...done.\n",
      "querying 1-1...done.\n",
      "querying 1-1...done.\n",
      "querying 1-1...done.\n",
      "querying 1-1...done.\n",
      "querying 1-1...done.\n",
      "querying 1-1...done.\n",
      "querying 1-1...done.\n",
      "querying 1-1...done.\n",
      "querying 1-1...done.\n",
      "querying 1-1...done.\n",
      "querying 1-1...done.\n",
      "querying 1-1...done.\n",
      "querying 1-1...done.\n",
      "querying 1-1...done.\n",
      "querying 1-1...done.\n",
      "querying 1-1...done.\n",
      "querying 1-1...done.\n",
      "querying 1-1...done.\n",
      "querying 1-1...done.\n",
      "querying 1-1...done.\n",
      "querying 1-1...done.\n",
      "querying 1-1...done.\n",
      "querying 1-1...done.\n",
      "querying 1-1...done.\n",
      "querying 1-1...done.\n",
      "querying 1-1...done.\n",
      "querying 1-1...done.\n",
      "querying 1-1...done.\n",
      "querying 1-1...done.\n",
      "querying 1-1...done.\n",
      "querying 1-1...done.\n",
      "querying 1-1...done.\n",
      "querying 1-1...done.\n",
      "querying 1-1...done.\n",
      "querying 1-1...done.\n",
      "querying 1-1...done.\n",
      "querying 1-1...done.\n",
      "querying 1-1...done.\n",
      "querying 1-1...done.\n",
      "querying 1-1...done.\n",
      "querying 1-1...done.\n",
      "querying 1-1...done.\n",
      "querying 1-1...done.\n",
      "querying 1-1...done.\n",
      "querying 1-1...done.\n",
      "querying 1-1...done.\n",
      "querying 1-1...done.\n",
      "querying 1-1...done.\n",
      "querying 1-1...done.\n",
      "querying 1-1...done.\n",
      "querying 1-1...done.\n",
      "querying 1-1...done.\n",
      "querying 1-1...done.\n",
      "querying 1-1...done.\n",
      "querying 1-1...done.\n",
      "querying 1-1...done.\n",
      "querying 1-1...done.\n",
      "querying 1-1...done.\n",
      "querying 1-1...done.\n",
      "querying 1-1...done.\n",
      "querying 1-1...done.\n",
      "querying 1-1...done.\n",
      "querying 1-1...done.\n",
      "querying 1-1...done.\n",
      "querying 1-1...done.\n",
      "querying 1-1...done.\n",
      "querying 1-1...done.\n",
      "querying 1-1...done.\n",
      "querying 1-1...done.\n",
      "querying 1-1...done.\n",
      "querying 1-1...done.\n",
      "querying 1-1...done.\n",
      "querying 1-1...done.\n",
      "querying 1-1...done.\n",
      "querying 1-1...done.\n",
      "querying 1-1...done.\n",
      "querying 1-1...done.\n",
      "querying 1-1...done.\n",
      "querying 1-1...done.\n",
      "querying 1-1...done.\n",
      "querying 1-1...done.\n",
      "querying 1-1...done.\n",
      "querying 1-1...done.\n",
      "querying 1-1...done.\n",
      "querying 1-1...done.\n",
      "querying 1-1...done.\n",
      "querying 1-1...done.\n",
      "querying 1-1...done.\n",
      "querying 1-1...done.\n",
      "querying 1-1...done.\n",
      "querying 1-1...done.\n",
      "querying 1-1...done.\n",
      "querying 1-1...done.\n",
      "querying 1-1...done.\n",
      "querying 1-1...done.\n",
      "querying 1-1...done.\n",
      "querying 1-1...done.\n",
      "querying 1-1...done.\n",
      "querying 1-1...done.\n",
      "querying 1-1...done.\n",
      "querying 1-1...done.\n",
      "querying 1-1...done.\n",
      "querying 1-1...done.\n",
      "querying 1-1...done.\n",
      "querying 1-1...done.\n",
      "querying 1-1...done.\n",
      "querying 1-1...done.\n",
      "querying 1-1...done.\n",
      "querying 1-1...done.\n",
      "querying 1-1...done.\n",
      "querying 1-1...done.\n",
      "querying 1-1...done.\n",
      "querying 1-1...done.\n",
      "querying 1-1...done.\n",
      "querying 1-1...done.\n",
      "querying 1-1...done.\n",
      "querying 1-1...done.\n",
      "querying 1-1...done.\n",
      "querying 1-1...done.\n",
      "querying 1-1...done.\n",
      "querying 1-1...done.\n",
      "querying 1-1...done.\n",
      "querying 1-1...done.\n",
      "querying 1-1...done.\n",
      "querying 1-1...done.\n",
      "querying 1-1...done.\n",
      "querying 1-1...done.\n",
      "querying 1-1...done.\n",
      "querying 1-1...done.\n",
      "querying 1-1...done.\n",
      "querying 1-1...done.\n",
      "querying 1-1...done.\n",
      "querying 1-1...done.\n",
      "querying 1-1...done.\n",
      "querying 1-1...done.\n",
      "querying 1-1...done.\n",
      "querying 1-1...done.\n",
      "querying 1-1...done.\n",
      "querying 1-1...done.\n",
      "querying 1-1...done.\n",
      "querying 1-1...done.\n",
      "querying 1-1...done.\n",
      "querying 1-1...done.\n",
      "querying 1-1...done.\n",
      "querying 1-1...done.\n",
      "querying 1-1...done.\n",
      "querying 1-1...done.\n",
      "querying 1-1...done.\n",
      "querying 1-1...done.\n",
      "querying 1-1...done.\n"
     ]
    }
   ],
   "source": [
    "#map to rsid\n",
    "time_snps['rsid'] = time_snps['snps'].apply(lambda x: map_rsid(x)[1])"
   ]
  },
  {
   "cell_type": "code",
   "execution_count": 26,
   "metadata": {},
   "outputs": [],
   "source": [
    "time_snps[[\"snps\",\"rsid\",\"maf\",\"file\",\"type\",\"A1\",\"beta\",\"p-value\"]].to_csv(\"../data/supplemental/Supplemental_Table_3.csv\",index=None,sep=\"\\t\")"
   ]
  },
  {
   "cell_type": "markdown",
   "metadata": {},
   "source": [
    "### Get literature snps"
   ]
  },
  {
   "cell_type": "code",
   "execution_count": 27,
   "metadata": {},
   "outputs": [],
   "source": [
    "lit=pd.read_csv(\"../data/supplemental/Supplemental_Table_5.csv\",delimiter=\"\\t\")\n",
    "lit[\"variant\"]=lit[\"variant\"].fillna(lit[\"rsid\"].map({\"rs148540887\":\"4:105606293:TTTTAA:T\"}))\n",
    "lit=lit.rename(columns={\"variant\":\"snps\"})\n",
    "lit[\"source\"]=\"literature\""
   ]
  },
  {
   "cell_type": "code",
   "execution_count": 28,
   "metadata": {},
   "outputs": [],
   "source": [
    "time_snps[\"source\"]=\"discovery\""
   ]
  },
  {
   "cell_type": "code",
   "execution_count": 29,
   "metadata": {},
   "outputs": [],
   "source": [
    "time_snps_lit=time_snps.append(lit[[\"snps\",\"rsid\",\"file\",\"beta\",\"p-value\",\"A1\",\"source\"]])"
   ]
  },
  {
   "cell_type": "code",
   "execution_count": 30,
   "metadata": {},
   "outputs": [
    {
     "name": "stdout",
     "output_type": "stream",
     "text": [
      "1084\n"
     ]
    }
   ],
   "source": [
    "print(len(time_snps_lit[\"snps\"].tolist()))\n",
    "all_snps=[x.rsplit(\":\",2)[0]+\":\"+x.split(\":\")[3]+\":\"+x.split(\":\")[2] for x in time_snps_lit[\"snps\"].tolist()]+time_snps_lit[\"snps\"].tolist()"
   ]
  },
  {
   "cell_type": "code",
   "execution_count": 31,
   "metadata": {},
   "outputs": [],
   "source": [
    "pd.DataFrame({\"snps\":all_snps}).to_csv(\"../snp-tables/extract-all-time-variants.txt\",header=None,index=None,sep=\"\\t\")"
   ]
  },
  {
   "cell_type": "markdown",
   "metadata": {},
   "source": [
    "### Export for analysis"
   ]
  },
  {
   "cell_type": "code",
   "execution_count": 32,
   "metadata": {},
   "outputs": [
    {
     "data": {
      "text/plain": [
       "1084"
      ]
     },
     "execution_count": 32,
     "metadata": {},
     "output_type": "execute_result"
    }
   ],
   "source": [
    "len(time_snps_lit[\"rsid\"].tolist())"
   ]
  },
  {
   "cell_type": "code",
   "execution_count": 33,
   "metadata": {},
   "outputs": [
    {
     "name": "stderr",
     "output_type": "stream",
     "text": [
      "/cellar/users/mpagadal/Programs/miniconda3/envs/baseold/lib/python3.7/site-packages/ipykernel_launcher.py:1: FutureWarning: The signature of `Series.to_csv` was aligned to that of `DataFrame.to_csv`, and argument 'header' will change its default value from False to True: please pass an explicit value to suppress this warning.\n",
      "  \"\"\"Entry point for launching an IPython kernel.\n"
     ]
    }
   ],
   "source": [
    "time_snps_lit[\"rsid\"].to_csv(\"../snp-tables/extract_all_time_rsid.txt\",header=None,index=None,sep=\"\\t\")"
   ]
  },
  {
   "cell_type": "markdown",
   "metadata": {},
   "source": [
    "### Determine if variant was found"
   ]
  },
  {
   "cell_type": "code",
   "execution_count": 34,
   "metadata": {},
   "outputs": [],
   "source": [
    "bim=pd.read_csv(\"/cellar/controlled/dbgap-genetic/phs000178_TCGA/imputation/michigan-imputation/HRC/european.final.noimmunecancers.clean.bim\",header=None,delim_whitespace=True)\n",
    "bim[\"snp_noallele\"]=bim[1].str.rsplit(\":\",2).str[0]"
   ]
  },
  {
   "cell_type": "code",
   "execution_count": 35,
   "metadata": {},
   "outputs": [],
   "source": [
    "time_snps_lit[\"snp_noallele\"]=time_snps_lit[\"snps\"].str.rsplit(\":\",2).str[0]"
   ]
  },
  {
   "cell_type": "code",
   "execution_count": 36,
   "metadata": {},
   "outputs": [],
   "source": [
    "time_snps_lit[\"found\"]=np.where(time_snps_lit[\"snp_noallele\"].isin(bim[\"snp_noallele\"].tolist()),\"found\",\"not found\")"
   ]
  },
  {
   "cell_type": "code",
   "execution_count": 37,
   "metadata": {},
   "outputs": [
    {
     "data": {
      "text/plain": [
       "found        1025\n",
       "not found      59\n",
       "Name: found, dtype: int64"
      ]
     },
     "execution_count": 37,
     "metadata": {},
     "output_type": "execute_result"
    }
   ],
   "source": [
    "time_snps_lit[\"found\"].value_counts()"
   ]
  },
  {
   "cell_type": "code",
   "execution_count": 38,
   "metadata": {},
   "outputs": [
    {
     "name": "stdout",
     "output_type": "stream",
     "text": [
      "rs333\n",
      "no proxy for rs11746140\n",
      "no proxy for rs698944\n",
      "no proxy for rs2701005\n",
      "no proxy for rs17169789\n",
      "no proxy for rs11995613\n",
      "no proxy for rs41333046\n",
      "no proxy for rs1523328\n",
      "no proxy for rs1385195\n",
      "no proxy for rs41387649\n",
      "no proxy for rs4594204\n",
      "rs35051459\n",
      "no proxy for rs4764223\n",
      "no proxy for rs3904452\n",
      "no proxy for rs6861852\n",
      "no proxy for rs16991676\n",
      "no proxy for rs1414646\n",
      "no proxy for rs17116606\n",
      "no proxy for rs11984071\n",
      "no proxy for rs16971480\n",
      "no proxy for rs12073292\n",
      "rs7996717\n",
      "rs9377221\n",
      "no proxy for rs1704829\n",
      "no proxy for rs17028564\n",
      "no proxy for rs12428566\n",
      "no proxy for rs16932237\n",
      "rs148540887\n",
      "rs36084323\n",
      "rs2227982\n",
      "no proxy for rs17718883\n"
     ]
    }
   ],
   "source": [
    "ldlink=pd.read_csv(\"../data/ldlink/combined_query_snp_list.txt\",delimiter=\"\\t\")\n",
    "ldlink[\"snp_noallele\"]=ldlink[\"Coord\"].str.replace(\"chr\",\"\")\n",
    "\n",
    "mp_proxy={}\n",
    "\n",
    "for rsid in time_snps_lit[time_snps_lit[\"found\"]==\"not found\"][\"rsid\"].unique():\n",
    "    ldlink_filt=ldlink[ldlink[\"query_snp\"]==rsid].sort_values(by=\"R2\")\n",
    "    ldlink_filt=ldlink_filt[ldlink_filt[\"R2\"]>0.8]\n",
    "    ldlink_filt=ldlink_filt[ldlink_filt[\"snp_noallele\"].isin(bim[\"snp_noallele\"].tolist())]\n",
    "    try:\n",
    "        mp_proxy[rsid]=ldlink_filt[\"RS_Number\"].tolist()[0]\n",
    "        print(rsid)\n",
    "    except:\n",
    "        print(\"no proxy for {}\".format(rsid))"
   ]
  },
  {
   "cell_type": "code",
   "execution_count": 39,
   "metadata": {},
   "outputs": [],
   "source": [
    "time_snps_lit[\"proxy_snp\"]=time_snps_lit[\"rsid\"].map(mp_proxy)"
   ]
  },
  {
   "cell_type": "code",
   "execution_count": 40,
   "metadata": {},
   "outputs": [],
   "source": [
    "ldlink[\"Alleles\"]=ldlink[\"Alleles\"].str.replace(\")\",\"\")\n",
    "ldlink[\"Alleles\"]=ldlink[\"Alleles\"].str.replace(\"(\",\"\")"
   ]
  },
  {
   "cell_type": "code",
   "execution_count": 41,
   "metadata": {},
   "outputs": [],
   "source": [
    "ldlink[\"variant\"]=ldlink[\"snp_noallele\"]+\":\"+ldlink[\"Alleles\"].str.split(\"/\").str[0]+\":\"+ldlink[\"Alleles\"].str.split(\"/\").str[1]"
   ]
  },
  {
   "cell_type": "code",
   "execution_count": 42,
   "metadata": {},
   "outputs": [],
   "source": [
    "mp_proxy_variant=dict(zip(ldlink[\"RS_Number\"],ldlink[\"variant\"]))"
   ]
  },
  {
   "cell_type": "code",
   "execution_count": 43,
   "metadata": {},
   "outputs": [],
   "source": [
    "time_snps_lit[\"proxy_variant\"]=time_snps_lit[\"proxy_snp\"].map(mp_proxy_variant)"
   ]
  },
  {
   "cell_type": "code",
   "execution_count": 44,
   "metadata": {},
   "outputs": [],
   "source": [
    "time_snps_lit[\"proxy_snp\"]=time_snps_lit[\"proxy_snp\"].fillna(time_snps_lit[\"rsid\"])\n",
    "time_snps_lit[\"proxy_variant\"]=time_snps_lit[\"proxy_variant\"].fillna(time_snps_lit[\"snps\"])"
   ]
  },
  {
   "cell_type": "code",
   "execution_count": 45,
   "metadata": {},
   "outputs": [
    {
     "name": "stderr",
     "output_type": "stream",
     "text": [
      "/cellar/users/mpagadal/Programs/miniconda3/envs/baseold/lib/python3.7/site-packages/ipykernel_launcher.py:1: FutureWarning: The signature of `Series.to_csv` was aligned to that of `DataFrame.to_csv`, and argument 'header' will change its default value from False to True: please pass an explicit value to suppress this warning.\n",
      "  \"\"\"Entry point for launching an IPython kernel.\n"
     ]
    }
   ],
   "source": [
    "time_snps_lit[\"proxy_snp\"].to_csv(\"../snp-tables/extract_all_time_rsid_proxy.txt\",header=None,index=None,sep=\"\\t\")"
   ]
  },
  {
   "cell_type": "code",
   "execution_count": 46,
   "metadata": {},
   "outputs": [],
   "source": [
    "pd.DataFrame(time_snps_lit[\"proxy_variant\"].tolist()+[x.rsplit(\":\",2)[0]+\":\"+x.split(\":\")[3]+\":\"+x.split(\":\")[2] for x in time_snps_lit[\"proxy_variant\"]]).to_csv(\"../snp-tables/extract-all-time-variants-proxy.txt\",header=None,index=None,sep=\"\\t\")"
   ]
  },
  {
   "cell_type": "code",
   "execution_count": 47,
   "metadata": {},
   "outputs": [],
   "source": [
    "time_snps_lit[\"chr\"]=time_snps_lit[\"proxy_variant\"].str.split(\":\").str[0]"
   ]
  },
  {
   "cell_type": "code",
   "execution_count": 48,
   "metadata": {},
   "outputs": [],
   "source": [
    "time_snps_lit[[\"proxy_snp\",\"chr\"]].to_csv(\"../snp-tables/extract_all_time_rsid_ukbb_proxy.txt\",header=None,index=None,sep=\"\\t\")"
   ]
  },
  {
   "cell_type": "markdown",
   "metadata": {},
   "source": [
    "## Check for unique number of snps"
   ]
  },
  {
   "cell_type": "code",
   "execution_count": 49,
   "metadata": {},
   "outputs": [
    {
     "data": {
      "text/plain": [
       "'1003 unique snps out of 1084 associations'"
      ]
     },
     "execution_count": 49,
     "metadata": {},
     "output_type": "execute_result"
    }
   ],
   "source": [
    "\"{} unique snps out of {} associations\".format(len(time_snps_lit[\"snps\"].unique()),len(time_snps_lit))"
   ]
  },
  {
   "cell_type": "markdown",
   "metadata": {},
   "source": [
    "## Identify cis-trans snps with UCSC Annotation file"
   ]
  },
  {
   "cell_type": "markdown",
   "metadata": {},
   "source": [
    "### Get annotations"
   ]
  },
  {
   "cell_type": "code",
   "execution_count": 50,
   "metadata": {},
   "outputs": [],
   "source": [
    "time_snps_lit[\"file\"]=time_snps_lit[\"file\"].replace(\"PD-1\",\"PDCD1\")\n",
    "time_snps_lit[\"file\"]=time_snps_lit[\"file\"].str.replace(\".\",\"-\")"
   ]
  },
  {
   "cell_type": "code",
   "execution_count": 51,
   "metadata": {},
   "outputs": [
    {
     "name": "stdout",
     "output_type": "stream",
     "text": [
      "(82960, 12)\n"
     ]
    }
   ],
   "source": [
    "ucsc=pd.read_csv(\"/cellar/users/mpagadal/resources/annotations/ucsc_annot_20191016\",delimiter=\"\\t\")\n",
    "print(ucsc.shape)\n",
    "ucsc.head()\n",
    "\n",
    "ucsc[\"cis1\"]=ucsc[\"hg19.knownGene.txStart\"]-1000000\n",
    "ucsc[\"cis2\"]=ucsc[\"hg19.knownGene.txStart\"]+1000000\n",
    "\n",
    "ucsc.loc[(ucsc['cis1'] < 0), 'cis1'] = 0\n",
    "ucsc.loc[(ucsc['cis1'] < 0), 'cis2'] = 0\n",
    "\n",
    "ucsc[\"hg19.kgXref.geneSymbol\"]=ucsc[\"hg19.kgXref.geneSymbol\"].replace(\"CTSL1\",\"CTSL\")\n",
    "\n",
    "#check if any phenotypes don't have gene location\n",
    "miss=[]\n",
    "\n",
    "for x in time_snps_lit[\"file\"].unique():\n",
    "    x=x.replace(\".\",\"-\")\n",
    "    if x not in ucsc[\"hg19.kgXref.geneSymbol\"].tolist():\n",
    "        miss.append(x)"
   ]
  },
  {
   "cell_type": "code",
   "execution_count": 52,
   "metadata": {
    "tags": []
   },
   "outputs": [
    {
     "name": "stderr",
     "output_type": "stream",
     "text": [
      "/cellar/users/mpagadal/Programs/miniconda3/envs/baseold/lib/python3.7/site-packages/ipykernel_launcher.py:9: SettingWithCopyWarning: \n",
      "A value is trying to be set on a copy of a slice from a DataFrame.\n",
      "Try using .loc[row_indexer,col_indexer] = value instead\n",
      "\n",
      "See the caveats in the documentation: http://pandas.pydata.org/pandas-docs/stable/indexing.html#indexing-view-versus-copy\n",
      "  if __name__ == '__main__':\n",
      "/cellar/users/mpagadal/Programs/miniconda3/envs/baseold/lib/python3.7/site-packages/ipykernel_launcher.py:10: SettingWithCopyWarning: \n",
      "A value is trying to be set on a copy of a slice from a DataFrame.\n",
      "Try using .loc[row_indexer,col_indexer] = value instead\n",
      "\n",
      "See the caveats in the documentation: http://pandas.pydata.org/pandas-docs/stable/indexing.html#indexing-view-versus-copy\n",
      "  # Remove the CWD from sys.path while we load stuff.\n"
     ]
    }
   ],
   "source": [
    "tss=[]\n",
    "\n",
    "for i,row in time_snps_lit.iterrows():\n",
    "    c=\"chr\"+row[\"snps\"].split(\":\")[0]\n",
    "    b=float(row[\"snps\"].split(\":\")[1])\n",
    "    #filter to chromosome\n",
    "    filt=ucsc[ucsc[\"hg19.knownGene.chrom\"]==c]\n",
    "    #find difference between 1MB on each side of TSS\n",
    "    filt[\"diff1\"]=b-filt[\"cis1\"]\n",
    "    filt[\"diff2\"]=filt[\"cis2\"]-b\n",
    "    #get cis snps\n",
    "    filt=filt[(filt[\"diff1\"]>0)&(filt[\"diff2\"]>0)]\n",
    "    #get gene name\n",
    "    filt=filt[filt[\"hg19.kgXref.geneSymbol\"]==row[\"file\"]]\n",
    "    filt[\"TSS distance\"]=filt[\"hg19.knownGene.txStart\"]-b\n",
    "    lst=filt[\"TSS distance\"].tolist()\n",
    "    try:\n",
    "        tss.append(max(set(lst), key = lst.count))\n",
    "    except:\n",
    "        tss.append(\"nan\")\n",
    "        \n",
    "time_snps_lit[\"cis tss\"]=tss"
   ]
  },
  {
   "cell_type": "code",
   "execution_count": 53,
   "metadata": {},
   "outputs": [
    {
     "data": {
      "image/png": "[encoded data removed]",
      "text/plain": [
       "<Figure size 360x360 with 1 Axes>"
      ]
     },
     "metadata": {},
     "output_type": "display_data"
    }
   ],
   "source": [
    "#separate into phenotypes with gene information\n",
    "na=len(time_snps_lit[time_snps_lit[\"file\"].isin(miss)])/len(time_snps_lit)\n",
    "nonna=time_snps_lit[~time_snps_lit[\"file\"].isin(miss)]\n",
    "\n",
    "trans=len(nonna[nonna[\"cis tss\"]==\"nan\"])/len(time_snps_lit)\n",
    "cis=len(nonna[nonna[\"cis tss\"]!=\"nan\"])/len(time_snps_lit)\n",
    "\n",
    "labels = 'trans', 'cis',\"NA\"\n",
    "sizes = [trans,cis,na]\n",
    "colors = ['lightgray', 'darkgray',\"black\"]\n",
    "explode = (0.1, 0.0,0)  # explode 1st slice\n",
    "plt.figure(figsize=(5,5))\n",
    "mpl.rcParams['font.size'] = 40\n",
    "# Plot\n",
    "plt.pie(sizes, explode=explode, labels=labels, colors=colors,\n",
    "autopct='%1.1f%%', shadow=False, startangle=140)\n",
    " \n",
    "plt.axis('equal')\n",
    "plt.savefig(\"../plots/cis.trans.pdf\")"
   ]
  },
  {
   "cell_type": "code",
   "execution_count": 54,
   "metadata": {},
   "outputs": [],
   "source": [
    "time_snps_lit.to_csv(\"../data/supplemental/supplemental_table_5.csv\",index=None,sep=\"\\t\")"
   ]
  },
  {
   "cell_type": "markdown",
   "metadata": {},
   "source": [
    "### Get VEP assignments"
   ]
  },
  {
   "cell_type": "code",
   "execution_count": 10,
   "metadata": {},
   "outputs": [],
   "source": [
    "def format4vep(snps,col):\n",
    "    vep=pd.DataFrame({\"snps\":snps[col]})\n",
    "    vep=vep[\"snps\"].str.split(\":\",expand=True)\n",
    "    vep[3]=vep[3].astype(str)+\"/\"+vep[2].astype(str)\n",
    "    vep[2]=vep[1]\n",
    "    vep[4]=\"+\"\n",
    "    vep[5]=snps[col]\n",
    "    vep[0]=vep[0].replace(\"X\",\"23\")\n",
    "    vep[0]=pd.to_numeric(vep[0])\n",
    "    vep[1]=pd.to_numeric(vep[1])\n",
    "    vep[2]=pd.to_numeric(vep[2])\n",
    "    \n",
    "    vep=vep.sort_values(by=[0, 2])\n",
    "    vep[0]=vep[0].astype(str)\n",
    "    return(vep)"
   ]
  },
  {
   "cell_type": "code",
   "execution_count": 18,
   "metadata": {},
   "outputs": [],
   "source": [
    "snps=pd.read_csv(\"../data/supplemental/Supplemental_Table_3_annot.csv\",delimiter=\"\\t\")"
   ]
  },
  {
   "cell_type": "code",
   "execution_count": 15,
   "metadata": {},
   "outputs": [],
   "source": [
    "vep_input=format4vep(snps,\"proxy_variant\")"
   ]
  },
  {
   "cell_type": "code",
   "execution_count": 16,
   "metadata": {},
   "outputs": [],
   "source": [
    "vep_input.drop_duplicates().to_csv(\"../data/vep/vep_all_input.txt\",header=None,index=None,sep=\"\\t\")"
   ]
  },
  {
   "cell_type": "code",
   "execution_count": 23,
   "metadata": {},
   "outputs": [],
   "source": [
    "vep_variant=pd.read_csv(\"../data/vep/wh2MPjXomfK6fQ9R.txt\",delimiter=\"\\t\")"
   ]
  },
  {
   "cell_type": "code",
   "execution_count": 24,
   "metadata": {},
   "outputs": [],
   "source": [
    "missense_snps=vep_variant[(vep_variant[\"Consequence\"].str.contains(\"missense\"))][\"#Uploaded_variation\"].unique().tolist()\n",
    "TF_snps=vep_variant[vep_variant[\"Consequence\"].str.contains(\"TF\")][\"#Uploaded_variation\"].unique().tolist()\n",
    "NMD=vep_variant[vep_variant[\"Consequence\"].str.contains(\"NMD\")][\"#Uploaded_variation\"].unique().tolist()\n",
    "noncoding=[x for x in set(vep_variant[vep_variant[\"Consequence\"].str.contains(\"non_coding\")][\"#Uploaded_variation\"].unique().tolist()+vep_variant[vep_variant[\"Consequence\"].str.contains(\"prime\")][\"#Uploaded_variation\"].unique().tolist()+vep_variant[vep_variant[\"Consequence\"].str.contains(\"regulatory\")][\"#Uploaded_variation\"].unique().tolist()+vep_variant[vep_variant[\"Consequence\"].str.contains(\"intergenic\")][\"#Uploaded_variation\"].unique().tolist()+vep_variant[vep_variant[\"Consequence\"].str.contains(\"intron\")][\"#Uploaded_variation\"].unique().tolist()+vep_variant[vep_variant[\"Consequence\"].str.contains(\"stream\")][\"#Uploaded_variation\"].unique().tolist())]\n",
    "splice=vep_variant[vep_variant[\"Consequence\"].str.contains(\"splice\")][\"#Uploaded_variation\"].unique().tolist()"
   ]
  },
  {
   "cell_type": "code",
   "execution_count": 32,
   "metadata": {},
   "outputs": [],
   "source": [
    "snps[\"missense\"]=np.where(snps[\"snps\"].isin(missense_snps),\"missense\",\"\")\n",
    "snps[\"TF\"]=np.where(snps[\"snps\"].isin(TF_snps),\"TF\",\"\")\n",
    "snps[\"NMD\"]=np.where(snps[\"snps\"].isin(NMD),\"NMD\",\"\")\n",
    "snps[\"splice\"]=np.where(snps[\"snps\"].isin(splice),\"splice\",\"\")"
   ]
  },
  {
   "cell_type": "code",
   "execution_count": 35,
   "metadata": {},
   "outputs": [],
   "source": [
    "df_gene=vep_variant[[\"#Uploaded_variation\",\"SYMBOL\"]].drop_duplicates()"
   ]
  },
  {
   "cell_type": "code",
   "execution_count": 37,
   "metadata": {},
   "outputs": [],
   "source": [
    "df_gene=df_gene[df_gene[\"SYMBOL\"]!=\"-\"]"
   ]
  },
  {
   "cell_type": "code",
   "execution_count": 41,
   "metadata": {},
   "outputs": [],
   "source": [
    "df_gene=df_gene[~df_gene[\"SYMBOL\"].str.startswith(\"RP\")]"
   ]
  },
  {
   "cell_type": "code",
   "execution_count": 43,
   "metadata": {},
   "outputs": [],
   "source": [
    "df_gene=df_gene.groupby('#Uploaded_variation')['SYMBOL'].apply(lambda x: ','.join(x)).reset_index()"
   ]
  },
  {
   "cell_type": "code",
   "execution_count": 45,
   "metadata": {},
   "outputs": [],
   "source": [
    "mp_gene=dict(zip(df_gene[\"#Uploaded_variation\"],df_gene[\"SYMBOL\"]))"
   ]
  },
  {
   "cell_type": "code",
   "execution_count": 46,
   "metadata": {},
   "outputs": [],
   "source": [
    "snps[\"vep_gene\"]=snps[\"proxy_variant\"].map(mp_gene)"
   ]
  },
  {
   "cell_type": "code",
   "execution_count": 48,
   "metadata": {},
   "outputs": [],
   "source": [
    "snps.to_csv(\"supp3.tsv\")"
   ]
  },
  {
   "cell_type": "code",
   "execution_count": 51,
   "metadata": {},
   "outputs": [],
   "source": [
    "surv=pd.read_csv(\"survival-eQTL_all_data.txt\",header=None,delimiter=\"\\t\")"
   ]
  },
  {
   "cell_type": "code",
   "execution_count": 54,
   "metadata": {},
   "outputs": [],
   "source": [
    "surv[\"snp\"]=surv[2].str.replace(\"chr\",\"\")+\":\"+surv[3].astype(str)+\":\"+surv[4].str.split(\"/\").str[1]+\":\"+surv[4].str.split(\"/\").str[0]"
   ]
  },
  {
   "cell_type": "code",
   "execution_count": 58,
   "metadata": {},
   "outputs": [],
   "source": [
    "surv_snps=surv[\"snp\"].tolist()+[x.rsplit(\":\",2)[0]+\":\"+x.split(\":\")[3]+x.split(\":\")[2] for x in surv[\"snp\"]]"
   ]
  },
  {
   "cell_type": "code",
   "execution_count": 62,
   "metadata": {},
   "outputs": [
    {
     "data": {
      "text/html": [
       "<div>\n",
       "<style scoped>\n",
       "    .dataframe tbody tr th:only-of-type {\n",
       "        vertical-align: middle;\n",
       "    }\n",
       "\n",
       "    .dataframe tbody tr th {\n",
       "        vertical-align: top;\n",
       "    }\n",
       "\n",
       "    .dataframe thead th {\n",
       "        text-align: right;\n",
       "    }\n",
       "</style>\n",
       "<table border=\"1\" class=\"dataframe\">\n",
       "  <thead>\n",
       "    <tr style=\"text-align: right;\">\n",
       "      <th></th>\n",
       "      <th>A1</th>\n",
       "      <th>beta</th>\n",
       "      <th>file</th>\n",
       "      <th>maf</th>\n",
       "      <th>p-value</th>\n",
       "      <th>rsid</th>\n",
       "      <th>snps</th>\n",
       "      <th>source</th>\n",
       "      <th>type</th>\n",
       "      <th>snp_noallele</th>\n",
       "      <th>...</th>\n",
       "      <th>survival</th>\n",
       "      <th>icb</th>\n",
       "      <th>category</th>\n",
       "      <th>category_clean</th>\n",
       "      <th>risk</th>\n",
       "      <th>missense</th>\n",
       "      <th>TF</th>\n",
       "      <th>NMD</th>\n",
       "      <th>splice</th>\n",
       "      <th>vep_gene</th>\n",
       "    </tr>\n",
       "  </thead>\n",
       "  <tbody>\n",
       "    <tr>\n",
       "      <th>9</th>\n",
       "      <td>A</td>\n",
       "      <td>-0.107875</td>\n",
       "      <td>OAS3</td>\n",
       "      <td>0.3672</td>\n",
       "      <td>4.350000e-10</td>\n",
       "      <td>rs4767037</td>\n",
       "      <td>12:113372804:C:A</td>\n",
       "      <td>discovery</td>\n",
       "      <td>NaN</td>\n",
       "      <td>12:113372804</td>\n",
       "      <td>...</td>\n",
       "      <td>no</td>\n",
       "      <td>no</td>\n",
       "      <td>group1</td>\n",
       "      <td>group1</td>\n",
       "      <td>no</td>\n",
       "      <td></td>\n",
       "      <td></td>\n",
       "      <td></td>\n",
       "      <td></td>\n",
       "      <td>OAS3,OAS1</td>\n",
       "    </tr>\n",
       "    <tr>\n",
       "      <th>201</th>\n",
       "      <td>T</td>\n",
       "      <td>-0.175803</td>\n",
       "      <td>ITGB2</td>\n",
       "      <td>0.1735</td>\n",
       "      <td>2.240000e-15</td>\n",
       "      <td>rs760462</td>\n",
       "      <td>21:46328099:C:T</td>\n",
       "      <td>discovery</td>\n",
       "      <td>NaN</td>\n",
       "      <td>21:46328099</td>\n",
       "      <td>...</td>\n",
       "      <td>no</td>\n",
       "      <td>no</td>\n",
       "      <td>group1</td>\n",
       "      <td>group1</td>\n",
       "      <td>no</td>\n",
       "      <td></td>\n",
       "      <td>TF</td>\n",
       "      <td>NMD</td>\n",
       "      <td>splice</td>\n",
       "      <td>ITGB2</td>\n",
       "    </tr>\n",
       "  </tbody>\n",
       "</table>\n",
       "<p>2 rows × 28 columns</p>\n",
       "</div>"
      ],
      "text/plain": [
       "    A1      beta   file     maf       p-value       rsid              snps  \\\n",
       "9    A -0.107875   OAS3  0.3672  4.350000e-10  rs4767037  12:113372804:C:A   \n",
       "201  T -0.175803  ITGB2  0.1735  2.240000e-15   rs760462   21:46328099:C:T   \n",
       "\n",
       "        source type  snp_noallele  ... survival icb category category_clean  \\\n",
       "9    discovery  NaN  12:113372804  ...       no  no   group1         group1   \n",
       "201  discovery  NaN   21:46328099  ...       no  no   group1         group1   \n",
       "\n",
       "     risk missense  TF  NMD  splice   vep_gene  \n",
       "9      no                            OAS3,OAS1  \n",
       "201    no           TF  NMD  splice      ITGB2  \n",
       "\n",
       "[2 rows x 28 columns]"
      ]
     },
     "execution_count": 62,
     "metadata": {},
     "output_type": "execute_result"
    }
   ],
   "source": [
    "snps[snps[\"proxy_variant\"].isin(surv_snps)]"
   ]
  },
  {
   "cell_type": "markdown",
   "metadata": {},
   "source": [
    "### Get cancer-type specific associations"
   ]
  },
  {
   "cell_type": "code",
   "execution_count": 17,
   "metadata": {},
   "outputs": [],
   "source": [
    "supp=pd.read_csv(\"../data/supplemental/Supplemental_Table_3.csv\",delimiter=\"\\t\")"
   ]
  },
  {
   "cell_type": "code",
   "execution_count": 21,
   "metadata": {},
   "outputs": [],
   "source": [
    "supp=supp[supp[\"source\"]==\"discovery\"]"
   ]
  },
  {
   "cell_type": "code",
   "execution_count": 22,
   "metadata": {},
   "outputs": [],
   "source": [
    "supp[\"file\"]=supp[\"file\"].str.replace(\"-\",\".\")"
   ]
  },
  {
   "cell_type": "code",
   "execution_count": 23,
   "metadata": {},
   "outputs": [],
   "source": [
    "supp[\"assoc\"]=supp[\"snps\"]+\"_\"+supp[\"file\"]"
   ]
  },
  {
   "cell_type": "code",
   "execution_count": 24,
   "metadata": {},
   "outputs": [
    {
     "data": {
      "text/html": [
       "<div>\n",
       "<style scoped>\n",
       "    .dataframe tbody tr th:only-of-type {\n",
       "        vertical-align: middle;\n",
       "    }\n",
       "\n",
       "    .dataframe tbody tr th {\n",
       "        vertical-align: top;\n",
       "    }\n",
       "\n",
       "    .dataframe thead th {\n",
       "        text-align: right;\n",
       "    }\n",
       "</style>\n",
       "<table border=\"1\" class=\"dataframe\">\n",
       "  <thead>\n",
       "    <tr style=\"text-align: right;\">\n",
       "      <th></th>\n",
       "      <th>A1</th>\n",
       "      <th>beta</th>\n",
       "      <th>file</th>\n",
       "      <th>maf</th>\n",
       "      <th>p-value</th>\n",
       "      <th>rsid</th>\n",
       "      <th>snps</th>\n",
       "      <th>source</th>\n",
       "      <th>type</th>\n",
       "      <th>snp_noallele</th>\n",
       "      <th>found</th>\n",
       "      <th>proxy_snp</th>\n",
       "      <th>proxy_variant</th>\n",
       "      <th>chr</th>\n",
       "      <th>cis tss</th>\n",
       "      <th>assoc</th>\n",
       "    </tr>\n",
       "  </thead>\n",
       "  <tbody>\n",
       "    <tr>\n",
       "      <th>0</th>\n",
       "      <td>A</td>\n",
       "      <td>0.280842</td>\n",
       "      <td>HAUS1</td>\n",
       "      <td>0.05038</td>\n",
       "      <td>1.620000e-13</td>\n",
       "      <td>rs72903445</td>\n",
       "      <td>18:43682273:G:A</td>\n",
       "      <td>discovery</td>\n",
       "      <td>NaN</td>\n",
       "      <td>18:43682273</td>\n",
       "      <td>found</td>\n",
       "      <td>rs72903445</td>\n",
       "      <td>18:43682273:G:A</td>\n",
       "      <td>18</td>\n",
       "      <td>2024.0</td>\n",
       "      <td>18:43682273:G:A_HAUS1</td>\n",
       "    </tr>\n",
       "    <tr>\n",
       "      <th>1</th>\n",
       "      <td>G</td>\n",
       "      <td>0.301816</td>\n",
       "      <td>HAUS1</td>\n",
       "      <td>0.02610</td>\n",
       "      <td>7.850000e-09</td>\n",
       "      <td>rs12962856</td>\n",
       "      <td>18:43639384:T:G</td>\n",
       "      <td>discovery</td>\n",
       "      <td>NaN</td>\n",
       "      <td>18:43639384</td>\n",
       "      <td>found</td>\n",
       "      <td>rs12962856</td>\n",
       "      <td>18:43639384:T:G</td>\n",
       "      <td>18</td>\n",
       "      <td>44913.0</td>\n",
       "      <td>18:43639384:T:G_HAUS1</td>\n",
       "    </tr>\n",
       "    <tr>\n",
       "      <th>2</th>\n",
       "      <td>C</td>\n",
       "      <td>0.092756</td>\n",
       "      <td>HAUS1</td>\n",
       "      <td>0.49010</td>\n",
       "      <td>3.050000e-08</td>\n",
       "      <td>rs12954742</td>\n",
       "      <td>18:43703223:G:C</td>\n",
       "      <td>discovery</td>\n",
       "      <td>NaN</td>\n",
       "      <td>18:43703223</td>\n",
       "      <td>found</td>\n",
       "      <td>rs12954742</td>\n",
       "      <td>18:43703223:G:C</td>\n",
       "      <td>18</td>\n",
       "      <td>-18926.0</td>\n",
       "      <td>18:43703223:G:C_HAUS1</td>\n",
       "    </tr>\n",
       "    <tr>\n",
       "      <th>3</th>\n",
       "      <td>C</td>\n",
       "      <td>0.128377</td>\n",
       "      <td>AMPD3</td>\n",
       "      <td>0.45960</td>\n",
       "      <td>1.180000e-14</td>\n",
       "      <td>rs10840420</td>\n",
       "      <td>11:10490415:T:C</td>\n",
       "      <td>discovery</td>\n",
       "      <td>NaN</td>\n",
       "      <td>11:10490415</td>\n",
       "      <td>found</td>\n",
       "      <td>rs10840420</td>\n",
       "      <td>11:10490415:T:C</td>\n",
       "      <td>11</td>\n",
       "      <td>-18192.0</td>\n",
       "      <td>11:10490415:T:C_AMPD3</td>\n",
       "    </tr>\n",
       "    <tr>\n",
       "      <th>4</th>\n",
       "      <td>C</td>\n",
       "      <td>-0.123920</td>\n",
       "      <td>AMPD3</td>\n",
       "      <td>0.35570</td>\n",
       "      <td>9.330000e-13</td>\n",
       "      <td>rs7130140</td>\n",
       "      <td>11:10489826:A:C</td>\n",
       "      <td>discovery</td>\n",
       "      <td>NaN</td>\n",
       "      <td>11:10489826</td>\n",
       "      <td>found</td>\n",
       "      <td>rs7130140</td>\n",
       "      <td>11:10489826:A:C</td>\n",
       "      <td>11</td>\n",
       "      <td>-17603.0</td>\n",
       "      <td>11:10489826:A:C_AMPD3</td>\n",
       "    </tr>\n",
       "    <tr>\n",
       "      <th>...</th>\n",
       "      <td>...</td>\n",
       "      <td>...</td>\n",
       "      <td>...</td>\n",
       "      <td>...</td>\n",
       "      <td>...</td>\n",
       "      <td>...</td>\n",
       "      <td>...</td>\n",
       "      <td>...</td>\n",
       "      <td>...</td>\n",
       "      <td>...</td>\n",
       "      <td>...</td>\n",
       "      <td>...</td>\n",
       "      <td>...</td>\n",
       "      <td>...</td>\n",
       "      <td>...</td>\n",
       "      <td>...</td>\n",
       "    </tr>\n",
       "    <tr>\n",
       "      <th>885</th>\n",
       "      <td>A</td>\n",
       "      <td>0.096326</td>\n",
       "      <td>HLA.A</td>\n",
       "      <td>0.45460</td>\n",
       "      <td>5.372980e-07</td>\n",
       "      <td>rs1633075</td>\n",
       "      <td>6:29785893:G:A</td>\n",
       "      <td>discovery</td>\n",
       "      <td>ase</td>\n",
       "      <td>6:29785893</td>\n",
       "      <td>found</td>\n",
       "      <td>rs1633075</td>\n",
       "      <td>6:29785893:G:A</td>\n",
       "      <td>6</td>\n",
       "      <td>124353.0</td>\n",
       "      <td>6:29785893:G:A_HLA.A</td>\n",
       "    </tr>\n",
       "    <tr>\n",
       "      <th>886</th>\n",
       "      <td>C</td>\n",
       "      <td>0.261701</td>\n",
       "      <td>HLA.DQA1</td>\n",
       "      <td>0.29410</td>\n",
       "      <td>2.299240e-36</td>\n",
       "      <td>rs2395516</td>\n",
       "      <td>6:32580657:T:C</td>\n",
       "      <td>discovery</td>\n",
       "      <td>ase</td>\n",
       "      <td>6:32580657</td>\n",
       "      <td>found</td>\n",
       "      <td>rs2395516</td>\n",
       "      <td>6:32580657:T:C</td>\n",
       "      <td>6</td>\n",
       "      <td>24525.0</td>\n",
       "      <td>6:32580657:T:C_HLA.DQA1</td>\n",
       "    </tr>\n",
       "    <tr>\n",
       "      <th>887</th>\n",
       "      <td>G</td>\n",
       "      <td>-0.183482</td>\n",
       "      <td>HLA.DPB1</td>\n",
       "      <td>0.44210</td>\n",
       "      <td>4.143040e-12</td>\n",
       "      <td>rs3130216</td>\n",
       "      <td>6:33077271:A:G</td>\n",
       "      <td>discovery</td>\n",
       "      <td>ase</td>\n",
       "      <td>6:33077271</td>\n",
       "      <td>found</td>\n",
       "      <td>rs3130216</td>\n",
       "      <td>6:33077271:A:G</td>\n",
       "      <td>6</td>\n",
       "      <td>-33569.0</td>\n",
       "      <td>6:33077271:A:G_HLA.DPB1</td>\n",
       "    </tr>\n",
       "    <tr>\n",
       "      <th>888</th>\n",
       "      <td>C</td>\n",
       "      <td>-0.281165</td>\n",
       "      <td>HLA.C</td>\n",
       "      <td>0.12860</td>\n",
       "      <td>6.027040e-24</td>\n",
       "      <td>rs2074491</td>\n",
       "      <td>6:31239896:T:C</td>\n",
       "      <td>discovery</td>\n",
       "      <td>ase</td>\n",
       "      <td>6:31239896</td>\n",
       "      <td>found</td>\n",
       "      <td>rs2074491</td>\n",
       "      <td>6:31239896:T:C</td>\n",
       "      <td>6</td>\n",
       "      <td>-3371.0</td>\n",
       "      <td>6:31239896:T:C_HLA.C</td>\n",
       "    </tr>\n",
       "    <tr>\n",
       "      <th>889</th>\n",
       "      <td>C</td>\n",
       "      <td>0.146062</td>\n",
       "      <td>HLA.C</td>\n",
       "      <td>0.33040</td>\n",
       "      <td>5.002100e-11</td>\n",
       "      <td>rs3931670</td>\n",
       "      <td>6:31243767:G:C</td>\n",
       "      <td>discovery</td>\n",
       "      <td>ase</td>\n",
       "      <td>6:31243767</td>\n",
       "      <td>found</td>\n",
       "      <td>rs3931670</td>\n",
       "      <td>6:31243767:G:C</td>\n",
       "      <td>6</td>\n",
       "      <td>-7242.0</td>\n",
       "      <td>6:31243767:G:C_HLA.C</td>\n",
       "    </tr>\n",
       "  </tbody>\n",
       "</table>\n",
       "<p>890 rows × 16 columns</p>\n",
       "</div>"
      ],
      "text/plain": [
       "    A1      beta      file      maf       p-value        rsid  \\\n",
       "0    A  0.280842     HAUS1  0.05038  1.620000e-13  rs72903445   \n",
       "1    G  0.301816     HAUS1  0.02610  7.850000e-09  rs12962856   \n",
       "2    C  0.092756     HAUS1  0.49010  3.050000e-08  rs12954742   \n",
       "3    C  0.128377     AMPD3  0.45960  1.180000e-14  rs10840420   \n",
       "4    C -0.123920     AMPD3  0.35570  9.330000e-13   rs7130140   \n",
       "..  ..       ...       ...      ...           ...         ...   \n",
       "885  A  0.096326     HLA.A  0.45460  5.372980e-07   rs1633075   \n",
       "886  C  0.261701  HLA.DQA1  0.29410  2.299240e-36   rs2395516   \n",
       "887  G -0.183482  HLA.DPB1  0.44210  4.143040e-12   rs3130216   \n",
       "888  C -0.281165     HLA.C  0.12860  6.027040e-24   rs2074491   \n",
       "889  C  0.146062     HLA.C  0.33040  5.002100e-11   rs3931670   \n",
       "\n",
       "                snps     source type snp_noallele  found   proxy_snp  \\\n",
       "0    18:43682273:G:A  discovery  NaN  18:43682273  found  rs72903445   \n",
       "1    18:43639384:T:G  discovery  NaN  18:43639384  found  rs12962856   \n",
       "2    18:43703223:G:C  discovery  NaN  18:43703223  found  rs12954742   \n",
       "3    11:10490415:T:C  discovery  NaN  11:10490415  found  rs10840420   \n",
       "4    11:10489826:A:C  discovery  NaN  11:10489826  found   rs7130140   \n",
       "..               ...        ...  ...          ...    ...         ...   \n",
       "885   6:29785893:G:A  discovery  ase   6:29785893  found   rs1633075   \n",
       "886   6:32580657:T:C  discovery  ase   6:32580657  found   rs2395516   \n",
       "887   6:33077271:A:G  discovery  ase   6:33077271  found   rs3130216   \n",
       "888   6:31239896:T:C  discovery  ase   6:31239896  found   rs2074491   \n",
       "889   6:31243767:G:C  discovery  ase   6:31243767  found   rs3931670   \n",
       "\n",
       "       proxy_variant chr   cis tss                    assoc  \n",
       "0    18:43682273:G:A  18    2024.0    18:43682273:G:A_HAUS1  \n",
       "1    18:43639384:T:G  18   44913.0    18:43639384:T:G_HAUS1  \n",
       "2    18:43703223:G:C  18  -18926.0    18:43703223:G:C_HAUS1  \n",
       "3    11:10490415:T:C  11  -18192.0    11:10490415:T:C_AMPD3  \n",
       "4    11:10489826:A:C  11  -17603.0    11:10489826:A:C_AMPD3  \n",
       "..               ...  ..       ...                      ...  \n",
       "885   6:29785893:G:A   6  124353.0     6:29785893:G:A_HLA.A  \n",
       "886   6:32580657:T:C   6   24525.0  6:32580657:T:C_HLA.DQA1  \n",
       "887   6:33077271:A:G   6  -33569.0  6:33077271:A:G_HLA.DPB1  \n",
       "888   6:31239896:T:C   6   -3371.0     6:31239896:T:C_HLA.C  \n",
       "889   6:31243767:G:C   6   -7242.0     6:31243767:G:C_HLA.C  \n",
       "\n",
       "[890 rows x 16 columns]"
      ]
     },
     "execution_count": 24,
     "metadata": {},
     "output_type": "execute_result"
    }
   ],
   "source": [
    "supp"
   ]
  },
  {
   "cell_type": "code",
   "execution_count": 6,
   "metadata": {},
   "outputs": [
    {
     "name": "stdout",
     "output_type": "stream",
     "text": [
      "0\n",
      "100\n",
      "200\n",
      "300\n",
      "400\n",
      "500\n",
      "600\n",
      "700\n",
      "800\n",
      "900\n",
      "1000\n",
      "1100\n",
      "1200\n",
      "1300\n",
      "1400\n",
      "1500\n",
      "1600\n",
      "1700\n",
      "1800\n",
      "1900\n",
      "2000\n",
      "2100\n",
      "2200\n",
      "2300\n",
      "2400\n",
      "2500\n",
      "2600\n",
      "2700\n",
      "2800\n",
      "2900\n",
      "3000\n",
      "3100\n",
      "3200\n",
      "3300\n",
      "3400\n",
      "3500\n",
      "3600\n",
      "3700\n",
      "3800\n",
      "3900\n",
      "4000\n",
      "4100\n"
     ]
    }
   ],
   "source": [
    "assoc_dir=\"../data/plink-associations/plink_cancer_associations/\"\n",
    "files=[x for x in os.listdir(assoc_dir) if \"linear\" in x]\n",
    "\n",
    "compiled_assoc=pd.DataFrame()\n",
    "\n",
    "for i,x in enumerate(files):\n",
    "    if i % 100 ==0:\n",
    "        print(i)\n",
    "    try:\n",
    "        assoc=pd.read_csv(assoc_dir+x,delimiter=\"\\t\",encoding= 'unicode_escape')\n",
    "        assoc=assoc[assoc[\"TEST\"]==\"ADD\"]\n",
    "        assoc[\"file\"]=x\n",
    "        compiled_assoc=compiled_assoc.append(assoc)\n",
    "    except:\n",
    "        print(x)\n"
   ]
  },
  {
   "cell_type": "code",
   "execution_count": 8,
   "metadata": {},
   "outputs": [],
   "source": [
    "compiled_assoc[\"pheno\"]=compiled_assoc[\"file\"].str.split(\".\").str[0]"
   ]
  },
  {
   "cell_type": "code",
   "execution_count": 10,
   "metadata": {},
   "outputs": [],
   "source": [
    "compiled_assoc[\"cancer\"]=compiled_assoc[\"pheno\"].str.split(\"_\").str[1]\n",
    "compiled_assoc[\"pheno\"]=compiled_assoc[\"pheno\"].str.split(\"_\").str[0]"
   ]
  },
  {
   "cell_type": "code",
   "execution_count": 13,
   "metadata": {},
   "outputs": [],
   "source": [
    "compiled_assoc[\"assoc\"]=compiled_assoc[\"ID\"]+\"_\"+compiled_assoc[\"pheno\"]"
   ]
  },
  {
   "cell_type": "code",
   "execution_count": 29,
   "metadata": {},
   "outputs": [],
   "source": [
    "compiled_assoc=compiled_assoc[compiled_assoc[\"assoc\"].isin(supp[\"assoc\"].tolist())]"
   ]
  },
  {
   "cell_type": "code",
   "execution_count": 36,
   "metadata": {},
   "outputs": [],
   "source": [
    "# df_plot=compiled_assoc[[\"ID\",\"cancer\",\"pheno\",\"BETA\"]].drop_duplicates()\n",
    "df_plot=compiled_assoc.pivot(index=\"assoc\",columns=\"cancer\",values=\"BETA\")"
   ]
  },
  {
   "cell_type": "code",
   "execution_count": 37,
   "metadata": {},
   "outputs": [],
   "source": [
    "df_plot=df_plot.fillna(0)"
   ]
  },
  {
   "cell_type": "code",
   "execution_count": 42,
   "metadata": {},
   "outputs": [
    {
     "data": {
      "image/png": "[encoded data removed]",
      "text/plain": [
       "<Figure size 720x720 with 4 Axes>"
      ]
     },
     "metadata": {
      "needs_background": "light"
     },
     "output_type": "display_data"
    }
   ],
   "source": [
    "sns.clustermap(df_plot,cmap=\"RdBu_r\",vmin=-2,vmax=2)\n",
    "plt.savefig(\"cancer_clustermap.pdf\")"
   ]
  }
 ],
 "metadata": {
  "kernelspec": {
   "display_name": "Python 3",
   "language": "python",
   "name": "python3"
  },
  "language_info": {
   "codemirror_mode": {
    "name": "ipython",
    "version": 3
   },
   "file_extension": ".py",
   "mimetype": "text/x-python",
   "name": "python",
   "nbconvert_exporter": "python",
   "pygments_lexer": "ipython3",
   "version": "3.9.7"
  }
 },
 "nbformat": 4,
 "nbformat_minor": 4
}
