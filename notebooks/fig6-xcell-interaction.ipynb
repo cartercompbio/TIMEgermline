{
 "cells": [
  {
   "cell_type": "code",
   "execution_count": 1,
   "metadata": {},
   "outputs": [],
   "source": [
    "import pandas as pd\n",
    "import os\n",
    "import statsmodels.stats.multitest as multi\n",
    "import numpy as np"
   ]
  },
  {
   "cell_type": "code",
   "execution_count": 2,
   "metadata": {},
   "outputs": [],
   "source": [
    "import matplotlib\n",
    "from matplotlib import pyplot as plt\n",
    "import seaborn as sns\n",
    "matplotlib.rcParams['pdf.fonttype'] = 42\n",
    "matplotlib.rcParams['ps.fonttype'] = 42"
   ]
  },
  {
   "cell_type": "code",
   "execution_count": 3,
   "metadata": {},
   "outputs": [],
   "source": [
    "from matplotlib_venn import venn2\n",
    "from matplotlib_venn import venn3\n",
    "from matplotlib.pyplot import cm"
   ]
  },
  {
   "cell_type": "markdown",
   "metadata": {},
   "source": [
    "## Get Interaction data"
   ]
  },
  {
   "cell_type": "code",
   "execution_count": 4,
   "metadata": {},
   "outputs": [],
   "source": [
    "def intersection(lst1, lst2): \n",
    "    return list(set(lst1) & set(lst2))"
   ]
  },
  {
   "cell_type": "code",
   "execution_count": 5,
   "metadata": {},
   "outputs": [],
   "source": [
    "def fdr(df,P):\n",
    "    probabilities = df[P].to_numpy()\n",
    "    report = multi.multipletests(probabilities,\n",
    "                alpha=0.05,\n",
    "                method=\"fdr_bh\" ,\n",
    "                is_sorted=False,\n",
    "            )\n",
    "    discoveries = report[1]\n",
    "    \n",
    "    return(discoveries)"
   ]
  },
  {
   "cell_type": "markdown",
   "metadata": {},
   "source": [
    "## get association file"
   ]
  },
  {
   "cell_type": "code",
   "execution_count": 6,
   "metadata": {},
   "outputs": [],
   "source": [
    "assoc=pd.read_csv(\"../tables/time-germline.csv\",delimiter=\"\\t\")\n",
    "assoc[\"assoc\"]=assoc[\"snps\"]+\"_\"+assoc[\"file\"]\n",
    "assoc[\"snp_assoc\"]=assoc[\"proxy_snp\"]+\"_\"+assoc[\"file\"]"
   ]
  },
  {
   "cell_type": "markdown",
   "metadata": {
    "jp-MarkdownHeadingCollapsed": true,
    "tags": []
   },
   "source": [
    "### run xcell-ieqt.sh"
   ]
  },
  {
   "cell_type": "markdown",
   "metadata": {
    "tags": []
   },
   "source": [
    "### run compiled-xcell-ieqtl.sh"
   ]
  },
  {
   "cell_type": "code",
   "execution_count": 7,
   "metadata": {},
   "outputs": [
    {
     "name": "stderr",
     "output_type": "stream",
     "text": [
      "<ipython-input-7-0d18d0436956>:4: FutureWarning: The default value of regex will change from True to False in a future version. In addition, single character regular expressions will *not* be treated as literal strings when regex=True.\n",
      "  age_filt[\"file\"]=age_filt[\"file\"].str.replace(\".\",\"-\")\n",
      "<ipython-input-7-0d18d0436956>:4: SettingWithCopyWarning: \n",
      "A value is trying to be set on a copy of a slice from a DataFrame.\n",
      "Try using .loc[row_indexer,col_indexer] = value instead\n",
      "\n",
      "See the caveats in the documentation: https://pandas.pydata.org/pandas-docs/stable/user_guide/indexing.html#returning-a-view-versus-a-copy\n",
      "  age_filt[\"file\"]=age_filt[\"file\"].str.replace(\".\",\"-\")\n"
     ]
    }
   ],
   "source": [
    "age=pd.read_csv(\"../data/x-cell-interaction/results/xcell.age.csv\")\n",
    "age_filt=age[[\"pheno\",\"ID\",\"P\"]]\n",
    "age_filt.columns=[\"file\",\"snps\",\"ADDxage\"]\n",
    "age_filt[\"file\"]=age_filt[\"file\"].str.replace(\".\",\"-\")\n",
    "age_filt=pd.merge(assoc,age_filt,on=[\"file\",\"snps\"],how=\"left\")\n",
    "age_filt=age_filt[~age_filt[\"ADDxage\"].isnull()]\n",
    "age_filt[\"fdr age\"]=fdr(age_filt,\"ADDxage\")"
   ]
  },
  {
   "cell_type": "code",
   "execution_count": 8,
   "metadata": {},
   "outputs": [],
   "source": [
    "age_interact_sig=age_filt[age_filt[\"fdr age\"]<.1]"
   ]
  },
  {
   "cell_type": "code",
   "execution_count": 9,
   "metadata": {},
   "outputs": [
    {
     "name": "stderr",
     "output_type": "stream",
     "text": [
      "<ipython-input-9-fd17e44f7624>:4: FutureWarning: The default value of regex will change from True to False in a future version. In addition, single character regular expressions will *not* be treated as literal strings when regex=True.\n",
      "  sex_filt[\"file\"]=sex_filt[\"file\"].str.replace(\".\",\"-\")\n",
      "<ipython-input-9-fd17e44f7624>:4: SettingWithCopyWarning: \n",
      "A value is trying to be set on a copy of a slice from a DataFrame.\n",
      "Try using .loc[row_indexer,col_indexer] = value instead\n",
      "\n",
      "See the caveats in the documentation: https://pandas.pydata.org/pandas-docs/stable/user_guide/indexing.html#returning-a-view-versus-a-copy\n",
      "  sex_filt[\"file\"]=sex_filt[\"file\"].str.replace(\".\",\"-\")\n"
     ]
    }
   ],
   "source": [
    "sex=pd.read_csv(\"../data/x-cell-interaction/results/xcell.sex.csv\",delimiter=\"\\t\")\n",
    "sex_filt=age[[\"pheno\",\"ID\",\"P\"]]\n",
    "sex_filt.columns=[\"file\",\"snps\",\"ADDxsex\"]\n",
    "sex_filt[\"file\"]=sex_filt[\"file\"].str.replace(\".\",\"-\")\n",
    "sex_filt=pd.merge(assoc,sex_filt,on=[\"file\",\"snps\"],how=\"left\")\n",
    "sex_filt=sex_filt[~sex_filt[\"ADDxsex\"].isnull()]\n",
    "sex_filt[\"fdr sex\"]=fdr(sex_filt,\"ADDxsex\")"
   ]
  },
  {
   "cell_type": "code",
   "execution_count": 10,
   "metadata": {},
   "outputs": [],
   "source": [
    "sex_interact_sig=sex_filt[sex_filt[\"fdr sex\"]<.1]"
   ]
  },
  {
   "cell_type": "markdown",
   "metadata": {},
   "source": [
    "## Cell interaction"
   ]
  },
  {
   "cell_type": "code",
   "execution_count": 11,
   "metadata": {
    "tags": []
   },
   "outputs": [
    {
     "name": "stderr",
     "output_type": "stream",
     "text": [
      "<ipython-input-11-ec3c2a268e56>:2: FutureWarning: The default value of regex will change from True to False in a future version. In addition, single character regular expressions will *not* be treated as literal strings when regex=True.\n",
      "  cell[\"pheno\"]=cell[\"pheno\"].str.replace(\".\",\"-\")\n",
      "<ipython-input-11-ec3c2a268e56>:15: SettingWithCopyWarning: \n",
      "A value is trying to be set on a copy of a slice from a DataFrame.\n",
      "Try using .loc[row_indexer,col_indexer] = value instead\n",
      "\n",
      "See the caveats in the documentation: https://pandas.pydata.org/pandas-docs/stable/user_guide/indexing.html#returning-a-view-versus-a-copy\n",
      "  df_cell[\"cell\"]=x\n"
     ]
    }
   ],
   "source": [
    "cell=pd.read_csv(\"../data/x-cell-interaction/results/xcell.cell.csv\",delimiter=\",\")\n",
    "cell[\"pheno\"]=cell[\"pheno\"].str.replace(\".\",\"-\")\n",
    "cell[\"assoc\"]=cell[\"ID\"]+\"_\"+cell[\"pheno\"]\n",
    "cell_interact=cell.pivot_table(index=\"assoc\",columns=\"TEST\",values=\"P\")\n",
    "cell_interact=cell_interact.reset_index()\n",
    "df_cell_interact=pd.merge(assoc,cell_interact,on=\"assoc\",how=\"left\")\n",
    "cols=[x for x in df_cell_interact.columns if \"ADD\" in x]\n",
    "    \n",
    "cell_filt=pd.DataFrame()\n",
    "\n",
    "for x in cols:\n",
    "    df_cell_interact=df_cell_interact[~df_cell_interact[x].isnull()]\n",
    "    df_cell_interact[\"fdr \"+x]=fdr(df_cell_interact,x)\n",
    "    df_cell=df_cell_interact[[\"assoc\",x,\"fdr \"+x]]\n",
    "    df_cell[\"cell\"]=x\n",
    "    df_cell.columns=[\"assoc\",\"coef\",\"fdr\",\"cell\"]\n",
    "    cell_filt=cell_filt.append(df_cell)"
   ]
  },
  {
   "cell_type": "code",
   "execution_count": 12,
   "metadata": {},
   "outputs": [],
   "source": [
    "#df_cell_interact.to_csv(\"../data/supplemental/Supplemental_Table_10.csv\",index=None)"
   ]
  },
  {
   "cell_type": "code",
   "execution_count": 13,
   "metadata": {},
   "outputs": [
    {
     "name": "stderr",
     "output_type": "stream",
     "text": [
      "<ipython-input-13-bbf08940c673>:2: SettingWithCopyWarning: \n",
      "A value is trying to be set on a copy of a slice from a DataFrame.\n",
      "Try using .loc[row_indexer,col_indexer] = value instead\n",
      "\n",
      "See the caveats in the documentation: https://pandas.pydata.org/pandas-docs/stable/user_guide/indexing.html#returning-a-view-versus-a-copy\n",
      "  cell_interact_sig[\"snps\"]=cell_interact_sig[\"assoc\"].str.split(\"_\").str[0]\n",
      "<ipython-input-13-bbf08940c673>:3: SettingWithCopyWarning: \n",
      "A value is trying to be set on a copy of a slice from a DataFrame.\n",
      "Try using .loc[row_indexer,col_indexer] = value instead\n",
      "\n",
      "See the caveats in the documentation: https://pandas.pydata.org/pandas-docs/stable/user_guide/indexing.html#returning-a-view-versus-a-copy\n",
      "  cell_interact_sig[\"cell\"]=cell_interact_sig[\"cell\"].str.split(\"x\").str[1]\n",
      "<ipython-input-13-bbf08940c673>:4: SettingWithCopyWarning: \n",
      "A value is trying to be set on a copy of a slice from a DataFrame.\n",
      "Try using .loc[row_indexer,col_indexer] = value instead\n",
      "\n",
      "See the caveats in the documentation: https://pandas.pydata.org/pandas-docs/stable/user_guide/indexing.html#returning-a-view-versus-a-copy\n",
      "  cell_interact_sig[\"pheno\"]=cell_interact_sig[\"assoc\"].str.split(\"_\").str[1]\n"
     ]
    }
   ],
   "source": [
    "cell_interact_sig=cell_filt[cell_filt[\"fdr\"]<.05]\n",
    "cell_interact_sig[\"snps\"]=cell_interact_sig[\"assoc\"].str.split(\"_\").str[0]\n",
    "cell_interact_sig[\"cell\"]=cell_interact_sig[\"cell\"].str.split(\"x\").str[1]\n",
    "cell_interact_sig[\"pheno\"]=cell_interact_sig[\"assoc\"].str.split(\"_\").str[1]"
   ]
  },
  {
   "cell_type": "code",
   "execution_count": 14,
   "metadata": {},
   "outputs": [
    {
     "data": {
      "text/plain": [
       "'32 associations have cell interactions'"
      ]
     },
     "execution_count": 14,
     "metadata": {},
     "output_type": "execute_result"
    }
   ],
   "source": [
    "\"{} associations have cell interactions\".format(len(cell_interact_sig[\"assoc\"].unique()))"
   ]
  },
  {
   "cell_type": "code",
   "execution_count": 15,
   "metadata": {},
   "outputs": [
    {
     "name": "stderr",
     "output_type": "stream",
     "text": [
      "/cellar/users/mpagadal/Programs/miniconda3/lib/python3.9/site-packages/openpyxl/worksheet/_reader.py:312: UserWarning: Unknown extension is not supported and will be removed\n",
      "  warn(msg)\n",
      "<ipython-input-15-c1de9f5bb86b>:4: FutureWarning: The default value of regex will change from True to False in a future version. In addition, single character regular expressions will *not* be treated as literal strings when regex=True.\n",
      "  xcell_annot[\"Cell types\"]=xcell_annot[\"Cell types\"].str.replace(\"+\",\".\")\n",
      "<ipython-input-15-c1de9f5bb86b>:12: SettingWithCopyWarning: \n",
      "A value is trying to be set on a copy of a slice from a DataFrame.\n",
      "Try using .loc[row_indexer,col_indexer] = value instead\n",
      "\n",
      "See the caveats in the documentation: https://pandas.pydata.org/pandas-docs/stable/user_guide/indexing.html#returning-a-view-versus-a-copy\n",
      "  cell_interact_sig[\"name\"]=cell_interact_sig[\"cell\"].map(mp_name)\n",
      "<ipython-input-15-c1de9f5bb86b>:13: SettingWithCopyWarning: \n",
      "A value is trying to be set on a copy of a slice from a DataFrame.\n",
      "Try using .loc[row_indexer,col_indexer] = value instead\n",
      "\n",
      "See the caveats in the documentation: https://pandas.pydata.org/pandas-docs/stable/user_guide/indexing.html#returning-a-view-versus-a-copy\n",
      "  cell_interact_sig[\"group\"]=cell_interact_sig[\"name\"].map(mp_annot)\n"
     ]
    }
   ],
   "source": [
    "xcell_annot=pd.read_excel(\"../data/x-cell-interaction/results/13059_2017_1349_MOESM1_ESM.xlsx\")\n",
    "\n",
    "xcell_annot[\"Cell types\"]=xcell_annot[\"Cell types\"].str.replace(\" \",\".\")\n",
    "xcell_annot[\"Cell types\"]=xcell_annot[\"Cell types\"].str.replace(\"+\",\".\")\n",
    "xcell_annot[\"Cell types\"]=xcell_annot[\"Cell types\"].str.replace(\"-\",\".\")\n",
    "xcell_annot[\"Cell types\"]=xcell_annot[\"Cell types\"].replace({\"Smooth.muscle.cells\":\"Smooth.muscle\",\"Smooth.muscle.cells\":\"Smooth.muscle\",\"Skeletal.muscle.cells\":\"Skeletal.muscle\"})\n",
    "xcell_annot[\"Full name\"]=xcell_annot[\"Full name\"].replace({\"Macrophages M2\":\"Macrophages\",\"Macrophages M1\":\"Macrophages\",\"Activated dendritic cells\":\"Dendritic cells\",\"Plasmacytoid dendritic cells\":\"Dendritic cells\",\"Immature dendritic cells\":\"Dendritic cells\",\"Xonventional dendritic cells\":\"Dendritic cells\",\"CD8+ central memory T-cells\":\"CD8+ T cells\",\"CD4+ memory T-cells\":\"CD4+ T cells\",\"CD4+ effector memory T-cells\":\"CD4+ T cells\"})\n",
    "\n",
    "mp_name=dict(zip(xcell_annot[\"Cell types\"],xcell_annot[\"Full name\"]))\n",
    "mp_annot=dict(zip(xcell_annot[\"Full name\"],xcell_annot[\"Subgroup\"])) \n",
    "\n",
    "cell_interact_sig[\"name\"]=cell_interact_sig[\"cell\"].map(mp_name)\n",
    "cell_interact_sig[\"group\"]=cell_interact_sig[\"name\"].map(mp_annot)"
   ]
  },
  {
   "cell_type": "code",
   "execution_count": 16,
   "metadata": {
    "tags": []
   },
   "outputs": [],
   "source": [
    "mp_assoc=dict(zip(assoc[\"assoc\"],assoc[\"snp_assoc\"]))"
   ]
  },
  {
   "cell_type": "code",
   "execution_count": 17,
   "metadata": {},
   "outputs": [
    {
     "name": "stderr",
     "output_type": "stream",
     "text": [
      "<ipython-input-17-6a1818fb1773>:1: SettingWithCopyWarning: \n",
      "A value is trying to be set on a copy of a slice from a DataFrame.\n",
      "Try using .loc[row_indexer,col_indexer] = value instead\n",
      "\n",
      "See the caveats in the documentation: https://pandas.pydata.org/pandas-docs/stable/user_guide/indexing.html#returning-a-view-versus-a-copy\n",
      "  cell_interact_sig[\"assoc\"]=cell_interact_sig[\"assoc\"].map(mp_assoc)\n"
     ]
    },
    {
     "data": {
      "text/html": [
       "<div>\n",
       "<style scoped>\n",
       "    .dataframe tbody tr th:only-of-type {\n",
       "        vertical-align: middle;\n",
       "    }\n",
       "\n",
       "    .dataframe tbody tr th {\n",
       "        vertical-align: top;\n",
       "    }\n",
       "\n",
       "    .dataframe thead th {\n",
       "        text-align: right;\n",
       "    }\n",
       "</style>\n",
       "<table border=\"1\" class=\"dataframe\">\n",
       "  <thead>\n",
       "    <tr style=\"text-align: right;\">\n",
       "      <th></th>\n",
       "      <th>assoc</th>\n",
       "      <th>coef</th>\n",
       "      <th>fdr</th>\n",
       "      <th>cell</th>\n",
       "      <th>snps</th>\n",
       "      <th>pheno</th>\n",
       "      <th>name</th>\n",
       "      <th>group</th>\n",
       "    </tr>\n",
       "  </thead>\n",
       "  <tbody>\n",
       "    <tr>\n",
       "      <th>861</th>\n",
       "      <td>rs9272546_HLA-DQA2</td>\n",
       "      <td>0.000016</td>\n",
       "      <td>0.007393</td>\n",
       "      <td>B.cells</td>\n",
       "      <td>6:32606941:C:T</td>\n",
       "      <td>HLA-DQA2</td>\n",
       "      <td>B-cells</td>\n",
       "      <td>Lymphoid</td>\n",
       "    </tr>\n",
       "    <tr>\n",
       "      <th>442</th>\n",
       "      <td>rs2927610_ERAP2</td>\n",
       "      <td>0.000106</td>\n",
       "      <td>0.026566</td>\n",
       "      <td>CD4..memory.T.cells</td>\n",
       "      <td>5:96200770:T:A</td>\n",
       "      <td>ERAP2</td>\n",
       "      <td>CD4+ T cells</td>\n",
       "      <td>Lymphoid</td>\n",
       "    </tr>\n",
       "    <tr>\n",
       "      <th>444</th>\n",
       "      <td>rs2549781_ERAP2</td>\n",
       "      <td>0.000115</td>\n",
       "      <td>0.026566</td>\n",
       "      <td>CD4..memory.T.cells</td>\n",
       "      <td>5:96230122:T:G</td>\n",
       "      <td>ERAP2</td>\n",
       "      <td>CD4+ T cells</td>\n",
       "      <td>Lymphoid</td>\n",
       "    </tr>\n",
       "    <tr>\n",
       "      <th>863</th>\n",
       "      <td>rs3134996_HLA-DQA2</td>\n",
       "      <td>0.000248</td>\n",
       "      <td>0.038166</td>\n",
       "      <td>CD4..memory.T.cells</td>\n",
       "      <td>6:32636866:T:A</td>\n",
       "      <td>HLA-DQA2</td>\n",
       "      <td>CD4+ T cells</td>\n",
       "      <td>Lymphoid</td>\n",
       "    </tr>\n",
       "    <tr>\n",
       "      <th>165</th>\n",
       "      <td>rs28040_ERAP1</td>\n",
       "      <td>0.000693</td>\n",
       "      <td>0.045627</td>\n",
       "      <td>CD8..Tcm</td>\n",
       "      <td>5:96018066:C:G</td>\n",
       "      <td>ERAP1</td>\n",
       "      <td>CD8+ T cells</td>\n",
       "      <td>Lymphoid</td>\n",
       "    </tr>\n",
       "  </tbody>\n",
       "</table>\n",
       "</div>"
      ],
      "text/plain": [
       "                  assoc      coef       fdr                 cell  \\\n",
       "861  rs9272546_HLA-DQA2  0.000016  0.007393              B.cells   \n",
       "442     rs2927610_ERAP2  0.000106  0.026566  CD4..memory.T.cells   \n",
       "444     rs2549781_ERAP2  0.000115  0.026566  CD4..memory.T.cells   \n",
       "863  rs3134996_HLA-DQA2  0.000248  0.038166  CD4..memory.T.cells   \n",
       "165       rs28040_ERAP1  0.000693  0.045627             CD8..Tcm   \n",
       "\n",
       "               snps     pheno          name     group  \n",
       "861  6:32606941:C:T  HLA-DQA2       B-cells  Lymphoid  \n",
       "442  5:96200770:T:A     ERAP2  CD4+ T cells  Lymphoid  \n",
       "444  5:96230122:T:G     ERAP2  CD4+ T cells  Lymphoid  \n",
       "863  6:32636866:T:A  HLA-DQA2  CD4+ T cells  Lymphoid  \n",
       "165  5:96018066:C:G     ERAP1  CD8+ T cells  Lymphoid  "
      ]
     },
     "execution_count": 17,
     "metadata": {},
     "output_type": "execute_result"
    }
   ],
   "source": [
    "cell_interact_sig[\"assoc\"]=cell_interact_sig[\"assoc\"].map(mp_assoc)\n",
    "cell_interact_sig.head()"
   ]
  },
  {
   "cell_type": "markdown",
   "metadata": {},
   "source": [
    "## DICE interaction"
   ]
  },
  {
   "cell_type": "code",
   "execution_count": 18,
   "metadata": {},
   "outputs": [
    {
     "name": "stdout",
     "output_type": "stream",
     "text": [
      "M2.snps.txt\n",
      "THSTAR.snps.txt\n",
      "CD4_NAIVE.snps.txt\n",
      "TH17.snps.txt\n",
      "TREG_MEM.snps.txt\n",
      "CD8_NAIVE.snps.txt\n",
      "TH1.snps.txt\n",
      "TREG_NAIVE.snps.txt\n",
      "NK.snps.txt\n",
      "TH2.snps.txt\n",
      "CD4_STIM.snps.txt\n",
      "B_CELL_NAIVE.snps.txt\n",
      "TFH.snps.txt\n",
      "CD8_STIM.snps.txt\n",
      "MONOCYTES.snps.txt\n"
     ]
    }
   ],
   "source": [
    "dice_dir=\"../data/dice/\"\n",
    "dice_df=pd.DataFrame()\n",
    "\n",
    "for x in [x for x in os.listdir(dice_dir) if \".txt\" in x]:\n",
    "    print(x)\n",
    "    dice=pd.read_csv(dice_dir+x,delimiter=\"\\t\",header=None)\n",
    "    dice[\"cell\"]=x.split(\".\")[0]\n",
    "    dice_df=dice_df.append(dice)\n",
    "dice_df[\"Gene\"]=dice_df[7].str.split(\"GeneSymbol=\").str[1]\n",
    "dice_df[\"Gene\"]=dice_df[\"Gene\"].str.split(\";\").str[0]\n",
    "dice_df[\"assoc\"]=dice_df[2]+\"_\"+dice_df[\"Gene\"]"
   ]
  },
  {
   "cell_type": "code",
   "execution_count": 19,
   "metadata": {},
   "outputs": [],
   "source": [
    "dice_df=dice_df[dice_df[\"assoc\"].isin(assoc[\"snp_assoc\"].tolist())]"
   ]
  },
  {
   "cell_type": "code",
   "execution_count": 20,
   "metadata": {},
   "outputs": [],
   "source": [
    "dice_cell={\"MONOCYTES\":\"Monocytes\",\"M2\":\"Macrophages\",\"TREG_NAIVE\":\"CD4+ T cells\",\"CD4_NAIVE\":\"CD4+ T cells\",\"TREG_MEM\":\"CD4+ T cells\",\"TH17\":\"CD4+ T cells\",\"CD8_NAIVE\":\"CD8+ T cells\",\"B_CELL_NAIVE\":\"B-cells\",\"CD4_STIM\":\"CD4+ T cells\",\"CD8_STIM\":\"CD8+ T cells\",\"TH2\":\"CD4+ T cells\",\"TFH\":\"CD4+ T cells\",\"TH1\":\"CD4+ T cells\",\"THSTAR\":\"CD4+ T cells\",\"NK\":\"NK\"}\n",
    "dice_df[\"cell\"]=dice_df[\"cell\"].map(dice_cell)"
   ]
  },
  {
   "cell_type": "markdown",
   "metadata": {},
   "source": [
    "### Get overall assoc"
   ]
  },
  {
   "cell_type": "code",
   "execution_count": 21,
   "metadata": {},
   "outputs": [],
   "source": [
    "ieqtl_counts=cell_interact_sig[[\"assoc\",\"cell\"]].drop_duplicates()\n",
    "ieqtl_counts.columns=[\"assoc\",\"cell\"]\n",
    "dice_counts=dice_df[[\"assoc\",\"cell\"]].drop_duplicates()\n",
    "ieqtl_counts[\"type\"]=\"ieqtl\"\n",
    "dice_counts[\"type\"]=\"dice\"\n",
    "dice_ieqtl_counts=ieqtl_counts.append(dice_counts)"
   ]
  },
  {
   "cell_type": "code",
   "execution_count": 23,
   "metadata": {},
   "outputs": [],
   "source": [
    "cell_map={\"Macrophages.M1\":\"Macrophages\",\"Macrophages.M2\":\"Macrophages\",\"DC\":\"DC\",\n",
    "          \"B.cells.memory\":\"B-cells\",\"Dendritic.cells.activated\":\"Dendritic Cells\",\n",
    "          \"NK.cells.resting\":\"NK\",\"T.cells.CD4.memory.activated\":\"CD4+ T cells\",\n",
    "          \"T.cells.CD4.memory.resting\":\"CD4+ T cells\",\"T.cells.CD4.naive\":\"CD4+ T cells\",\n",
    "          \"T.cells.CD8\":\"CD8+ T cells\",\"T.cells.follicular.helper\":\"CD4+ T cells\",\n",
    "          \"Eosinophils\":\"Eosinophils\",\"Macrophages\":\"Macrophages\",\"Monocytes\":\"Monocytes\",\n",
    "          \"NK\":\"NK\",\"CD4+ T cells\":\"CD4+ T cells\",\"CD8+ T cells\":\"CD8+ T cells\",\n",
    "          \"B-cells\":\"B-cells\",\"CD8..T.cells\":\"CD8+ T cells\",\"CD8..Tcm\":\"CD8+ T cells\",\n",
    "         \"CD4..memory.T.cells\":\"CD4+ T cells\",\"CD4..naive.T.cells\":\"CD4+ T cells\",\"Tgd.cells\":\"Tgd.cells\",\"B.cells\":\"B-cells\",\"CD4..Tem\":\"CD4+ T cells\",\"Memory.B.cells\":\"B-cells\",\"CD8..Tem\":\"CD8+ T cells\",\"CD4..T.cells\":\"CD4+ T cells\",\"CD8..T.cells\":\"CD8+ T cells\"}\n",
    "\n",
    "dice_ieqtl_counts[\"cell\"]=dice_ieqtl_counts[\"cell\"].map(cell_map)"
   ]
  },
  {
   "cell_type": "code",
   "execution_count": 24,
   "metadata": {},
   "outputs": [
    {
     "data": {
      "image/png": "[encoded data removed]",
      "text/plain": [
       "<Figure size 216x504 with 1 Axes>"
      ]
     },
     "metadata": {
      "needs_background": "light"
     },
     "output_type": "display_data"
    }
   ],
   "source": [
    "dice_ieqtl_counts[\"comb\"]=dice_ieqtl_counts[\"assoc\"]+dice_ieqtl_counts[\"cell\"]+dice_ieqtl_counts[\"type\"]\n",
    "dice_ieqtl_counts=dice_ieqtl_counts.drop_duplicates(subset=\"comb\")\n",
    "total_dice_ieqtl_counts=dice_ieqtl_counts.groupby(['assoc','cell'])['type'].apply(lambda x: ','.join(x)).reset_index()\n",
    "total_dice_ieqtl_counts=total_dice_ieqtl_counts.groupby([\"cell\",\"type\"]).size().reset_index()\n",
    "df_bar=total_dice_ieqtl_counts.pivot(index=\"cell\",columns=\"type\",values=0).fillna(0)\n",
    "plt=df_bar.plot.barh(stacked=True, figsize = (3,7))\n",
    "#plt.figure.savefig(\"/cellar/users/tsears/projects/germline-immune/plots/fig3/LASSO_total.ieqtl.pdf\",bbox_inches='tight')"
   ]
  },
  {
   "cell_type": "code",
   "execution_count": 25,
   "metadata": {},
   "outputs": [
    {
     "data": {
      "text/plain": [
       "Macrophages     48\n",
       "CD4+ T cells    44\n",
       "CD8+ T cells    42\n",
       "Monocytes       36\n",
       "B-cells         27\n",
       "NK              23\n",
       "DC              14\n",
       "Tgd.cells        1\n",
       "Name: cell, dtype: int64"
      ]
     },
     "execution_count": 25,
     "metadata": {},
     "output_type": "execute_result"
    }
   ],
   "source": [
    "dice_ieqtl_counts[\"snp\"]=dice_ieqtl_counts[\"assoc\"].str.split(\"_\").str[0]\n",
    "dice_ieqtl_counts[[\"snp\",\"cell\"]].drop_duplicates()[\"cell\"].value_counts()"
   ]
  },
  {
   "cell_type": "code",
   "execution_count": null,
   "metadata": {},
   "outputs": [],
   "source": []
  },
  {
   "cell_type": "code",
   "execution_count": null,
   "metadata": {},
   "outputs": [],
   "source": []
  }
 ],
 "metadata": {
  "kernelspec": {
   "display_name": "Python 3",
   "language": "python",
   "name": "python3"
  },
  "language_info": {
   "codemirror_mode": {
    "name": "ipython",
    "version": 3
   },
   "file_extension": ".py",
   "mimetype": "text/x-python",
   "name": "python",
   "nbconvert_exporter": "python",
   "pygments_lexer": "ipython3",
   "version": "3.9.7"
  }
 },
 "nbformat": 4,
 "nbformat_minor": 4
}
