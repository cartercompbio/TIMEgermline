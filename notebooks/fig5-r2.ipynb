{
 "cells": [
  {
   "cell_type": "code",
   "execution_count": 1,
   "id": "7a49e876-da56-4978-a1bf-1ceb15880cd8",
   "metadata": {},
   "outputs": [],
   "source": [
    "import pandas as pd\n",
    "import json\n",
    "import os\n",
    "import numpy as np"
   ]
  },
  {
   "cell_type": "code",
   "execution_count": 2,
   "id": "3aefb9c6-5703-4534-a6b6-79007ef9d7b9",
   "metadata": {},
   "outputs": [],
   "source": [
    "import seaborn as sns\n",
    "import matplotlib.pyplot as plt\n",
    "import matplotlib as mpl\n",
    "mpl.rcParams['pdf.fonttype'] = 42\n",
    "mpl.rcParams['ps.fonttype'] = 42"
   ]
  },
  {
   "cell_type": "code",
   "execution_count": 3,
   "id": "11ecd823-7a67-407f-aa96-88ae90200faa",
   "metadata": {},
   "outputs": [],
   "source": [
    "#OLS analysis\n",
    "from sklearn import linear_model\n",
    "import statsmodels.api as sm"
   ]
  },
  {
   "cell_type": "code",
   "execution_count": 4,
   "id": "5cfa7d18-11b0-46dd-a05a-894902025380",
   "metadata": {},
   "outputs": [],
   "source": [
    "from scipy.stats import mannwhitneyu\n",
    "from scipy import stats"
   ]
  },
  {
   "cell_type": "code",
   "execution_count": 5,
   "id": "228f1ccc-88fe-422f-890f-e80920e5ee8f",
   "metadata": {},
   "outputs": [],
   "source": [
    "import statsmodels.stats.multitest as multi"
   ]
  },
  {
   "cell_type": "code",
   "execution_count": 6,
   "id": "8519e79f-6ffc-4bd2-a746-7fc11efa90e2",
   "metadata": {},
   "outputs": [],
   "source": [
    "with open('/cellar/users/mpagadal/resources/tcga/ensembl_map.json', 'r') as f:\n",
    "    ensembl = json.load(f)\n",
    "ensembl={k.split(\".\")[0]:v for k,v in ensembl.items()}"
   ]
  },
  {
   "cell_type": "code",
   "execution_count": 7,
   "id": "77f2a9df-557b-48d4-8db8-2068e1bde5c8",
   "metadata": {},
   "outputs": [],
   "source": [
    "with open('/cellar/controlled/dbgap-genetic/ICB/rna/TPMs/all_immunotherapy_tpm.json', 'r') as f:\n",
    "    icb_tpm = json.load(f)\n",
    "tpm=pd.DataFrame.from_dict(icb_tpm)"
   ]
  },
  {
   "cell_type": "code",
   "execution_count": 8,
   "id": "f91121b0-3cc6-484c-9ebc-451756397a49",
   "metadata": {},
   "outputs": [],
   "source": [
    "def fdr(df,pseudo,p):\n",
    "    \n",
    "    '''\n",
    "    calculate Benjamini-Hochberg FDR\n",
    "    pseudo: True or False\n",
    "    '''\n",
    "    \n",
    "    #add pseudocounta\n",
    "    if pseudo == True:\n",
    "        df[p]=df[p]+0.000000000001\n",
    "    \n",
    "    #calculate benjamin-hochberg fdr\n",
    "    probabilities = df[p].to_numpy()\n",
    "    report = multi.multipletests(probabilities,\n",
    "                alpha=0.05,\n",
    "                method=\"fdr_bh\",\n",
    "                is_sorted=False,\n",
    "            )\n",
    "    discoveries = report[1]\n",
    "    df[\"fdr\"]=discoveries\n",
    "    df[\"fdr\"]=pd.to_numeric(df[\"fdr\"])\n",
    "    df[\"-log10(fdr)\"]=-np.log10(df[\"fdr\"])\n",
    "    \n",
    "    return(df)"
   ]
  },
  {
   "cell_type": "markdown",
   "id": "1c19ff92-839e-4c8e-896b-8edc74b5beea",
   "metadata": {},
   "source": [
    "### Get PD-1/PD-L1"
   ]
  },
  {
   "cell_type": "code",
   "execution_count": 9,
   "id": "98842604-f1b1-4cf4-aaef-4c4adc8b690d",
   "metadata": {},
   "outputs": [],
   "source": [
    "#analyze TPM rna\n",
    "rna=tpm.copy()\n",
    "rna+=1\n",
    "rna=np.log2(rna)\n",
    "rna.index=rna.index.str.split(\".\").str[0]\n",
    "rna[\"gene name\"]=rna.index.map(ensembl)\n",
    "rna=rna[~(rna[\"gene name\"].isnull())]\n",
    "rna.index=rna[\"gene name\"]\n",
    "del rna[\"gene name\"]\n",
    "rna=rna.T\n",
    "rna.index=rna.index.str.split(\".sra\").str[0]\n",
    "rna=rna.reset_index()\n",
    "rna=rna.rename(columns={\"index\":\"FID\"})"
   ]
  },
  {
   "cell_type": "code",
   "execution_count": 10,
   "id": "f489d0fb-ead4-4a78-aa46-05e8cb3174c7",
   "metadata": {},
   "outputs": [
    {
     "name": "stdout",
     "output_type": "stream",
     "text": [
      "742\n"
     ]
    }
   ],
   "source": [
    "#get mapping file\n",
    "mapping=pd.read_csv(\"/cellar/users/mpagadal/immunotherapy-trials/data/wxs_rna_mapping_table_v2.tsv\",delimiter=\"\\t\")\n",
    "print(len(mapping[\"normal WXS id\"].unique()))\n",
    "mapping=mapping[~(mapping[\"tumor RNA id\"].isnull())]"
   ]
  },
  {
   "cell_type": "code",
   "execution_count": 11,
   "id": "55908887-82e8-4c4c-a75f-960c1c38fcc9",
   "metadata": {},
   "outputs": [],
   "source": [
    "mp_study=dict(zip(mapping[\"tumor RNA id\"],mapping[\"study\"]))\n",
    "mp_time=dict(zip(mapping[\"tumor RNA id\"],mapping[\"Biopsy Time\"]))\n",
    "mp_response=dict(zip(mapping[\"normal WXS id\"],mapping[\"Response\"]))\n",
    "mp_rna2geno=dict(zip(mapping[\"tumor RNA id\"],mapping[\"normal WXS id\"]))\n",
    "\n",
    "mp_tmr2geno={}\n",
    "for i,row in mapping.iterrows():\n",
    "    for x in row[\"tumor WXS id\"].split(\", \"):\n",
    "        mp_tmr2geno[x]=row[\"normal WXS id\"]"
   ]
  },
  {
   "cell_type": "code",
   "execution_count": 12,
   "id": "19d1219e-573a-41e6-80a1-634df70872d9",
   "metadata": {},
   "outputs": [
    {
     "name": "stderr",
     "output_type": "stream",
     "text": [
      "/cellar/users/tsears/miniconda3/envs/ML/lib/python3.7/site-packages/ipykernel_launcher.py:7: SettingWithCopyWarning: \n",
      "A value is trying to be set on a copy of a slice from a DataFrame.\n",
      "Try using .loc[row_indexer,col_indexer] = value instead\n",
      "\n",
      "See the caveats in the documentation: https://pandas.pydata.org/pandas-docs/stable/user_guide/indexing.html#returning-a-view-versus-a-copy\n",
      "  import sys\n"
     ]
    }
   ],
   "source": [
    "rna[\"study\"]=rna[\"FID\"].map(mp_study)\n",
    "rna[\"time\"]=rna[\"FID\"].map(mp_time)\n",
    "\n",
    "rna[\"FID\"]=rna[\"FID\"].map(mp_rna2geno)\n",
    "rna_filt=rna[~(rna[\"FID\"].isnull())]\n",
    "\n",
    "rna_filt[\"response\"]=rna_filt[\"FID\"].map(mp_response)\n",
    "\n",
    "dict_response={\"Progressive Disease\":\"PD\",\"Partial Response\":\"PR\",\"Complete Response\":\"CR\"}\n",
    "rna_filt=rna_filt.replace({\"response\": dict_response})\n",
    "rna_filt_pre=rna_filt[~rna_filt[\"time\"].isin([\"On\",\"on-treatment\"])]"
   ]
  },
  {
   "cell_type": "code",
   "execution_count": 13,
   "id": "49f0433d-e9ad-4bfc-a98a-b4375e292fcf",
   "metadata": {},
   "outputs": [],
   "source": [
    "ic_exp=rna_filt_pre[[\"FID\",\"PDCD1\",\"CD274\",\"CTLA4\"]]"
   ]
  },
  {
   "cell_type": "markdown",
   "id": "3a7cc8db-b6af-4ffd-9df6-bda17edc0b11",
   "metadata": {},
   "source": [
    "### Get TMB"
   ]
  },
  {
   "cell_type": "code",
   "execution_count": 14,
   "id": "87192efc-1fa7-4b70-936c-fe831ed82163",
   "metadata": {},
   "outputs": [],
   "source": [
    "tmb=pd.read_csv(\"/cellar/users/mpagadal/immunotherapy-trials/data/tmb/mutect.filtered.muts.tsv\",delimiter=\"\\t\")\n",
    "tmb=tmb[[\"tumor_id\"]].groupby([\"tumor_id\"]).size().reset_index()\n",
    "tmb.columns=[\"tumor_id\",\"TMB\"]\n",
    "tmb[\"FID\"]=tmb[\"tumor_id\"].map(mp_tmr2geno)\n",
    "tmb=tmb[~tmb[\"FID\"].isnull()]\n",
    "tmb=tmb[[\"FID\",\"TMB\"]].groupby([\"FID\"]).mean().reset_index()"
   ]
  },
  {
   "cell_type": "code",
   "execution_count": 15,
   "id": "3660b8b8-3e3b-4687-b4fb-c4e63c084efe",
   "metadata": {},
   "outputs": [],
   "source": [
    "compiled_prs=pd.read_csv(\"../data/icb-response/burden-score/burden.fdr.5.csv\")\n",
    "compiled_prs=compiled_prs[[\"FID\",\"pheno\",\"study\"]]"
   ]
  },
  {
   "cell_type": "markdown",
   "id": "6da799d0-279c-4c8f-bd96-24ac51fd4d89",
   "metadata": {},
   "source": [
    "### Get covariate"
   ]
  },
  {
   "cell_type": "code",
   "execution_count": 16,
   "id": "6cd8f522-da8f-4e5a-bacd-37b1a049e6a6",
   "metadata": {},
   "outputs": [],
   "source": [
    "cov=pd.read_csv(\"/cellar/controlled/dbgap-genetic/ICB/covar/total.cov.age.sex.study.v2.txt\",delimiter=\"\\t\")"
   ]
  },
  {
   "cell_type": "markdown",
   "id": "e9d67d56-198e-474a-82ed-f62006349bb0",
   "metadata": {},
   "source": [
    "### Combine"
   ]
  },
  {
   "cell_type": "code",
   "execution_count": 17,
   "id": "a495ee6c-1497-4d8a-b1b7-2301be674a33",
   "metadata": {},
   "outputs": [],
   "source": [
    "markers=pd.merge(ic_exp,tmb[[\"FID\",\"TMB\"]],on=\"FID\",how=\"left\")\n",
    "markers=pd.merge(markers,compiled_prs,on=\"FID\",how=\"outer\")\n",
    "markers=pd.merge(markers,cov,on=[\"FID\"])\n",
    "markers=markers[~markers[\"study\"].isnull()]"
   ]
  },
  {
   "cell_type": "code",
   "execution_count": 18,
   "id": "d7d4c4d9-132d-4968-b115-c4d4575ce5fd",
   "metadata": {},
   "outputs": [],
   "source": [
    "markers[\"response\"]=markers[\"pheno\"].map({2:1,1:0})"
   ]
  },
  {
   "cell_type": "markdown",
   "id": "d2d41d88-7f62-4d21-a27b-d1dcebee3c0a",
   "metadata": {},
   "source": [
    "### Run OLS with markers"
   ]
  },
  {
   "cell_type": "code",
   "execution_count": 19,
   "id": "e4228102-1c1e-4eb9-95b5-edb0433b90ac",
   "metadata": {},
   "outputs": [],
   "source": [
    "beta=[]\n",
    "pval=[]\n",
    "marker_lst=[]\n",
    "study_lst=[]\n",
    "\n",
    "for study in markers[\"study\"].unique():\n",
    "    \n",
    "    for marker in [\"PDCD1\",\"CD274\",\"CTLA4\",\"TMB\"]:\n",
    "        try:\n",
    "            markers_study=markers[markers[\"study\"]==study]\n",
    "            markers_study=markers_study[~markers_study[marker].isnull()]\n",
    "        \n",
    "            ols = linear_model.LinearRegression()\n",
    "            X=markers_study[[marker,\"Age\",\"Gender\",\"C1\",\"C2\",\"C3\",\"C4\",\"C5\",\"C6\",\"C7\",\"C8\",\"C9\",\"C10\"]]\n",
    "            y=markers_study[\"pheno\"].values.reshape(-1, 1)\n",
    "        \n",
    "            X = sm.add_constant(X)\n",
    "        \n",
    "            model=sm.OLS(y,X)\n",
    "            results=model.fit()\n",
    "        \n",
    "            beta.append(results.params[1])\n",
    "            pval.append(results.pvalues[1])\n",
    "            marker_lst.append(marker)\n",
    "            study_lst.append(study)\n",
    "        except:\n",
    "            beta.append(0)\n",
    "            pval.append(0)\n",
    "            marker_lst.append(marker)\n",
    "            study_lst.append(study)\n",
    "            pass\n",
    "\n",
    "df_ols=pd.DataFrame({\"markers\":marker_lst,\"study\":study_lst,\"beta\":beta,\"p\":pval})\n",
    "        "
   ]
  },
  {
   "cell_type": "code",
   "execution_count": 20,
   "id": "45e63018-408a-4093-92f5-e41a72b0ebf6",
   "metadata": {},
   "outputs": [
    {
     "name": "stderr",
     "output_type": "stream",
     "text": [
      "/cellar/users/tsears/miniconda3/envs/ML/lib/python3.7/site-packages/pandas/core/series.py:726: RuntimeWarning: divide by zero encountered in log10\n",
      "  result = getattr(ufunc, method)(*inputs, **kwargs)\n"
     ]
    }
   ],
   "source": [
    "df_ols=df_ols[df_ols[\"study\"].isin([\"riaz\",\"miao\",\"vanallen\",\"hugo\",\"rizvi\",\"snyder\"])]\n",
    "df_ols[\"-log10p\"]=-np.log10(df_ols[\"p\"])\n",
    "df_ols=df_ols.sort_values(by=\"study\")"
   ]
  },
  {
   "cell_type": "code",
   "execution_count": 60,
   "id": "e7dc3ff8-9f85-424f-b1ac-088e74bd3119",
   "metadata": {},
   "outputs": [
    {
     "data": {
      "image/png": "[encoded data removed]",
      "text/plain": [
       "<Figure size 216x360 with 2 Axes>"
      ]
     },
     "metadata": {
      "needs_background": "light"
     },
     "output_type": "display_data"
    }
   ],
   "source": [
    "#Plot\n",
    "def heatmap(x, y, size,color):\n",
    "    fig, ax = plt.subplots(figsize=(3, 5))\n",
    "    \n",
    "    # Mapping from column names to integer coordinates\n",
    "    x_labels = [v for v in x.unique()]\n",
    "    y_labels = [v for v in y.unique()]\n",
    "    x_to_num = {p[1]:p[0] for p in enumerate(x_labels)} \n",
    "    y_to_num = {p[1]:p[0] for p in enumerate(y_labels)} \n",
    "    \n",
    "    size_scale = 20\n",
    "    plt.scatter(\n",
    "        x=x.map(x_to_num), # Use mapping for x\n",
    "        y=y.map(y_to_num), # Use mapping for y\n",
    "        s=size * size_scale, \n",
    "        c=color,\n",
    "        cmap=\"RdBu_r\", vmin=-.5, vmax=.5# Vector of square sizes, proportional to size parameter\n",
    "    )\n",
    "    \n",
    "    # Show column labels on the axes\n",
    "    ax.set_xticks([x_to_num[v] for v in x_labels])\n",
    "    ax.set_xticklabels(x_labels, rotation=45, horizontalalignment='right')\n",
    "    ax.set_yticks([y_to_num[v] for v in y_labels])\n",
    "    ax.set_yticklabels(y_labels)\n",
    "    plt.colorbar()\n",
    "    \n",
    "    plt.xticks(rotation=90)\n",
    "    \n",
    "    \n",
    "heatmap(\n",
    "    x=df_ols['markers'],\n",
    "    y=df_ols['study'],\n",
    "    size=df_ols['-log10p'],\n",
    "    color=df_ols['beta'],\n",
    ")\n",
    "\n",
    "plt.savefig(\"../plots/fig5/study.markers.clustermap.pdf\")"
   ]
  },
  {
   "cell_type": "code",
   "execution_count": 61,
   "id": "8812c96f-bdd3-4fb7-8f8a-3af6ebed8681",
   "metadata": {},
   "outputs": [],
   "source": [
    "df_avg=markers[[\"TMB\",\"CTLA4\",\"CD274\",\"PDCD1\",\"study\"]].groupby(\"study\").mean().reset_index()\n",
    "df_avg=df_avg[df_avg[\"study\"].isin([\"hugo\",\"miao\",\"riaz\",\"vanallen\"])]\n",
    "\n",
    "df_mean=df_avg.mean().reset_index()\n",
    "df_mean.columns=[\"gene\",\"mean\"]\n",
    "\n",
    "df_std=df_avg.std().reset_index()\n",
    "df_std.columns=[\"gene\",\"std\"]\n",
    "\n",
    "df_plot=pd.merge(df_mean,df_std,on=\"gene\",how=\"left\")"
   ]
  },
  {
   "cell_type": "code",
   "execution_count": 62,
   "id": "11583f19-abd0-481c-b659-3e9338a6aedb",
   "metadata": {},
   "outputs": [
    {
     "data": {
      "image/png": "[encoded data removed]",
      "text/plain": [
       "<Figure size 216x72 with 1 Axes>"
      ]
     },
     "metadata": {
      "needs_background": "light"
     },
     "output_type": "display_data"
    }
   ],
   "source": [
    "fig = plt.figure(figsize=(3,1))\n",
    "plt.errorbar(x=df_plot.gene.tolist(),y=df_plot[\"mean\"].tolist(),yerr=df_plot[\"std\"].tolist(),fmt=\"o\",color=\"gray\")\n",
    "plt.savefig(\"../plots/fig5/io.error.pdf\")"
   ]
  },
  {
   "cell_type": "markdown",
   "id": "9ef75ec4-92c5-48d4-ba80-69be2dcf3122",
   "metadata": {},
   "source": [
    "### Get association of CTSS variant with RNA"
   ]
  },
  {
   "cell_type": "code",
   "execution_count": 24,
   "id": "ff9f957f-49b6-4f7a-b213-d4982ae119a4",
   "metadata": {},
   "outputs": [],
   "source": [
    "raw=pd.read_csv(\"../data/icb-genotypes/all.time.raw\",delim_whitespace=True)\n",
    "rna_pre=rna[~rna[\"time\"].isin([\"On\"])]\n",
    "raw_rna=pd.merge(raw,rna_pre,on=\"FID\",how=\"left\")\n",
    "ciber=pd.read_csv(\"/cellar/controlled/dbgap-genetic/ICB/phenos/pheno.cibersortx.txt\",delimiter=\"\\t\")\n",
    "ciber[\"FID\"]=ciber[\"FID\"].str.split(\".\").str[0]"
   ]
  },
  {
   "cell_type": "code",
   "execution_count": 25,
   "id": "dc0cfb01-3735-4bf5-9cd6-3ec188636198",
   "metadata": {},
   "outputs": [],
   "source": [
    "raw_rna=pd.merge(raw_rna,ciber,on=\"FID\",how=\"left\")"
   ]
  },
  {
   "cell_type": "code",
   "execution_count": 26,
   "id": "57878a41-55ef-41fe-91af-531153536948",
   "metadata": {},
   "outputs": [
    {
     "data": {
      "text/plain": [
       "riaz        46\n",
       "vanallen    39\n",
       "miao        33\n",
       "hugo        27\n",
       "Name: study, dtype: int64"
      ]
     },
     "execution_count": 26,
     "metadata": {},
     "output_type": "execute_result"
    }
   ],
   "source": [
    "raw_rna[~raw_rna[\"Macrophages.M2\"].isnull()][\"study\"].value_counts()"
   ]
  },
  {
   "cell_type": "code",
   "execution_count": 27,
   "id": "2e5d56ef-f03e-483e-b638-29ddd16ddfb2",
   "metadata": {},
   "outputs": [],
   "source": [
    "raw_rna[\"response\"]=raw_rna[\"FID\"].map(mp_response)\n",
    "raw_rna=raw_rna.replace({\"response\": dict_response})"
   ]
  },
  {
   "cell_type": "code",
   "execution_count": 28,
   "id": "01271b39-2677-4066-ab0c-2ff4e0a4471c",
   "metadata": {},
   "outputs": [],
   "source": [
    "raw_rna[\"CTSS_snp\"]=np.where(raw_rna[\"1:150958977:T:C_C\"]>0,1,0)\n",
    "raw_rna[\"CTSW_snp\"]=np.where(raw_rna[\"11:65712413:G:A_A\"]>0,1,0)\n",
    "raw_rna[\"FAM216A_snp\"]=np.where(raw_rna[\"12:110857324:C:T_T\"]>0,1,0)\n",
    "raw_rna[\"LYZ_snp\"]=np.where(raw_rna[\"12:69794086:C:G_C\"]>0,1,0)\n",
    "raw_rna[\"C3AR1_snp\"]=np.where(raw_rna[\"12:8210697:A:G_A\"]>0,1,0)\n",
    "raw_rna[\"DCTN5_snp\"]=np.where(raw_rna[\"16:23621132:T:C_C\"]>0,1,0)\n",
    "raw_rna[\"DBNDD1_snp\"]=np.where(raw_rna[\"16:90080852:C:T_T\"]>0,1,0)\n",
    "raw_rna[\"FPR1_snp\"]=np.where(raw_rna[\"19:52249702:G:T_T\"]>0,1,0)\n",
    "raw_rna[\"TREX1_snp\"]=np.where(raw_rna[\"3:47587905:A:G_A\"]>0,1,0)\n",
    "raw_rna[\"DHFR_snp\"]=np.where(raw_rna[\"5:80279422:T:G_T\"]>0,1,0)\n",
    "raw_rna[\"ERAP1_snp\"]=np.where(raw_rna[\"5:96103589:G:A_A\"]>0,1,0)\n",
    "raw_rna[\"ERAP2_snp\"]=np.where(raw_rna[\"5:96229542:T:G_G\"]>0,1,0)\n",
    "raw_rna[\"DYNLT1_snp\"]=np.where(raw_rna[\"6:159050889:C:T_T\"]>0,1,0)\n",
    "raw_rna[\"GPLD1_snp\"]=np.where(raw_rna[\"6:24560002:A:T_T\"]>0,1,0)\n",
    "raw_rna[\"PSMD11_snp\"]=np.where(raw_rna[\"9:34549235:C:G_G\"]>0,1,0)"
   ]
  },
  {
   "cell_type": "code",
   "execution_count": 29,
   "id": "f37a9b64-f2d2-4c15-9ef3-7213b7f685b2",
   "metadata": {},
   "outputs": [],
   "source": [
    "def plot_snp(df,snp_lst,gene_lst):\n",
    "    \n",
    "    for snp in snp_lst:\n",
    "    \n",
    "        for gene in gene_lst:\n",
    "        \n",
    "            if snp.rsplit(\"_\")[0]==gene:\n",
    "                \n",
    "                fig = plt.figure(figsize=(5,5))\n",
    "                ax=sns.boxplot(x=\"study\",y=gene,hue=snp,data=raw_rna)\n",
    "        \n",
    "                #get p-values\n",
    "                labels=[item.get_text() for item in ax.get_xticklabels()]\n",
    "\n",
    "                new_labels=[]\n",
    "                for x in labels:\n",
    "                    raw_rna_study=raw_rna[raw_rna[\"study\"]==x]\n",
    "                    cat0 = raw_rna_study[raw_rna_study[snp]==0]\n",
    "                    cat1 = raw_rna_study[raw_rna_study[snp]!=0]\n",
    "                    p=mannwhitneyu(cat0[gene], cat1[gene])[1]\n",
    "                    new_labels.append(x+\"\\n{0:.4f}\".format(p))\n",
    "                ax.set_xticklabels(new_labels)\n",
    "            \n",
    "                plt.savefig(\"../plots/\"+snp+\".\"+gene+\".pdf\")\n",
    "        "
   ]
  },
  {
   "cell_type": "code",
   "execution_count": 30,
   "id": "0109d64a-66fe-4f71-8542-319c7bedcd2f",
   "metadata": {
    "tags": []
   },
   "outputs": [
    {
     "data": {
      "image/png": "[encoded data removed]",
      "text/plain": [
       "<Figure size 360x360 with 1 Axes>"
      ]
     },
     "metadata": {
      "needs_background": "light"
     },
     "output_type": "display_data"
    },
    {
     "data": {
      "image/png": "[encoded data removed]",
      "text/plain": [
       "<Figure size 360x360 with 1 Axes>"
      ]
     },
     "metadata": {
      "needs_background": "light"
     },
     "output_type": "display_data"
    },
    {
     "data": {
      "image/png": "[encoded data removed]",
      "text/plain": [
       "<Figure size 360x360 with 1 Axes>"
      ]
     },
     "metadata": {
      "needs_background": "light"
     },
     "output_type": "display_data"
    },
    {
     "data": {
      "image/png": "[encoded data removed]",
      "text/plain": [
       "<Figure size 360x360 with 1 Axes>"
      ]
     },
     "metadata": {
      "needs_background": "light"
     },
     "output_type": "display_data"
    },
    {
     "data": {
      "image/png": "[encoded data removed]",
      "text/plain": [
       "<Figure size 360x360 with 1 Axes>"
      ]
     },
     "metadata": {
      "needs_background": "light"
     },
     "output_type": "display_data"
    },
    {
     "data": {
      "image/png": "[encoded data removed]",
      "text/plain": [
       "<Figure size 360x360 with 1 Axes>"
      ]
     },
     "metadata": {
      "needs_background": "light"
     },
     "output_type": "display_data"
    },
    {
     "data": {
      "image/png": "[encoded data removed]",
      "text/plain": [
       "<Figure size 360x360 with 1 Axes>"
      ]
     },
     "metadata": {
      "needs_background": "light"
     },
     "output_type": "display_data"
    },
    {
     "data": {
      "image/png": "[encoded data removed]",
      "text/plain": [
       "<Figure size 360x360 with 1 Axes>"
      ]
     },
     "metadata": {
      "needs_background": "light"
     },
     "output_type": "display_data"
    },
    {
     "data": {
      "image/png": "[encoded data removed]",
      "text/plain": [
       "<Figure size 360x360 with 1 Axes>"
      ]
     },
     "metadata": {
      "needs_background": "light"
     },
     "output_type": "display_data"
    },
    {
     "data": {
      "image/png": "[encoded data removed]",
      "text/plain": [
       "<Figure size 360x360 with 1 Axes>"
      ]
     },
     "metadata": {
      "needs_background": "light"
     },
     "output_type": "display_data"
    },
    {
     "data": {
      "image/png": "[encoded data removed]",
      "text/plain": [
       "<Figure size 360x360 with 1 Axes>"
      ]
     },
     "metadata": {
      "needs_background": "light"
     },
     "output_type": "display_data"
    },
    {
     "data": {
      "image/png": "[encoded data removed]",
      "text/plain": [
       "<Figure size 360x360 with 1 Axes>"
      ]
     },
     "metadata": {
      "needs_background": "light"
     },
     "output_type": "display_data"
    },
    {
     "data": {
      "image/png": "[encoded data removed]",
      "text/plain": [
       "<Figure size 360x360 with 1 Axes>"
      ]
     },
     "metadata": {
      "needs_background": "light"
     },
     "output_type": "display_data"
    },
    {
     "data": {
      "image/png": "[encoded data removed]",
      "text/plain": [
       "<Figure size 360x360 with 1 Axes>"
      ]
     },
     "metadata": {
      "needs_background": "light"
     },
     "output_type": "display_data"
    },
    {
     "data": {
      "image/png": "[encoded data removed]",
      "text/plain": [
       "<Figure size 360x360 with 1 Axes>"
      ]
     },
     "metadata": {
      "needs_background": "light"
     },
     "output_type": "display_data"
    }
   ],
   "source": [
    "plot_snp(raw_rna,[\"CTSS_snp\",\"CTSW_snp\",\"FAM216A_snp\",\"LYZ_snp\",\"C3AR1_snp\",\"DCTN5_snp\",\"DBNDD1_snp\",\"FPR1_snp\",\"TREX1_snp\",\"DHFR_snp\",\"ERAP1_snp\",\"ERAP2_snp\",\"DYNLT1_snp\",\"GPLD1_snp\",\"PSMD11_snp\"],[\"CTSS\",\"CTSW\",\"FAM216A\",\"LYZ\",\"C3AR1\",\"DCTN5\",\"DBNDD1\",\"FPR1\",\"TREX1\",\"DHFR\",\"ERAP1\",\"ERAP2\",\"DYNLT1\",\"GPLD1\",\"PSMD11\"])"
   ]
  },
  {
   "cell_type": "code",
   "execution_count": 31,
   "id": "a4fe1e77-964a-4c1c-9460-badb8a1f151a",
   "metadata": {},
   "outputs": [],
   "source": [
    "raw_rna[\"M1_M2+M0\"]=raw_rna[\"Macrophages.M1\"]/(raw_rna[\"Macrophages.M2\"]+raw_rna[\"Macrophages.M0\"])"
   ]
  },
  {
   "cell_type": "code",
   "execution_count": 32,
   "id": "87bda328-1a29-4625-8a4a-bf89c343cb76",
   "metadata": {
    "tags": []
   },
   "outputs": [
    {
     "data": {
      "image/png": "[encoded data removed]",
      "text/plain": [
       "<Figure size 360x360 with 1 Axes>"
      ]
     },
     "metadata": {
      "needs_background": "light"
     },
     "output_type": "display_data"
    }
   ],
   "source": [
    "plot_snp(raw_rna,[\"CTSS_snp\"],[\"CTSS\",\"Macrophages.M0\",\"Macrophages.M1\",\"Macrophages.M2\",\"M1.M2\",\"M1_M2+M0\"])"
   ]
  },
  {
   "cell_type": "markdown",
   "id": "d4af87e6-333f-4b80-ad46-b6acce2244bf",
   "metadata": {},
   "source": [
    "### Get association of TREX1 variant with RNA"
   ]
  },
  {
   "cell_type": "code",
   "execution_count": 33,
   "id": "9b61d0fc-123a-4c3b-b499-72a9bb67f312",
   "metadata": {},
   "outputs": [],
   "source": [
    "raw_rna[\"3:47587905:A:G_A_snp\"]=np.where(raw_rna[\"3:47587905:A:G_A\"]>0,1,0)\n",
    "raw_rna[\"3:48591481:C:T_C_snp\"]=np.where(raw_rna[\"3:48591481:C:T_C\"]>0,1,0)"
   ]
  },
  {
   "cell_type": "code",
   "execution_count": 34,
   "id": "20ee03ca-8430-4a2a-b310-d934c36494d1",
   "metadata": {},
   "outputs": [],
   "source": [
    "plot_snp(raw_rna,[\"3:47587905:A:G_A_snp\",\"3:48591481:C:T_C_snp\"],[\"TREX1\"])"
   ]
  },
  {
   "cell_type": "markdown",
   "id": "f5c2ef4f-3483-49ae-aec2-b96a74231c21",
   "metadata": {},
   "source": [
    "### Get if SNPs are associated with increased expression"
   ]
  },
  {
   "cell_type": "code",
   "execution_count": 35,
   "id": "12ca6cca-b691-404a-80ce-3a7028d6ae9a",
   "metadata": {},
   "outputs": [],
   "source": [
    "supp=pd.read_csv(\"../tables/supplementary_table_14.csv\")\n",
    "supp_sig=supp[supp[\"fdr\"]<0.5]"
   ]
  },
  {
   "cell_type": "code",
   "execution_count": 36,
   "id": "56670cd4-9f65-4578-a16d-e05e4b980f47",
   "metadata": {},
   "outputs": [],
   "source": [
    "for i, row in supp_sig.iterrows():\n",
    "    col=[x for x in raw_rna.columns if row[\"MarkerName\"] in x][0]\n",
    "    raw_rna[col+\"_snp\"]=np.where(raw_rna[col]>0,1,0)\n",
    "    try:\n",
    "        plot_snp(raw_rna,[col+\"_snp\"],[row[\"file\"]])\n",
    "    except:\n",
    "        pass"
   ]
  },
  {
   "cell_type": "markdown",
   "id": "1fe7dbc7-469f-4d0c-98b2-df9003ceb5eb",
   "metadata": {},
   "source": [
    "### Get RNA associations"
   ]
  },
  {
   "cell_type": "code",
   "execution_count": 37,
   "id": "decf904e-8c3c-429a-bb93-e70ef585e8f4",
   "metadata": {},
   "outputs": [],
   "source": [
    "assoc=pd.read_csv(\"../tables/ICB_associations.csv\")\n",
    "icb_snps=assoc[\"Variant\"].tolist()+[x.rsplit(\":\",2)[0]+\":\"+x.split(\":\")[3]+\":\"+x.split(\":\")[2] for x in assoc[\"Variant\"]]"
   ]
  },
  {
   "cell_type": "code",
   "execution_count": 38,
   "id": "89310705-d666-47c6-b017-6e30c74f6e24",
   "metadata": {},
   "outputs": [],
   "source": [
    "rna_dir=\"../data/icb-rna-associations/\"\n",
    "\n",
    "rna_assoc=pd.DataFrame()\n",
    "\n",
    "for x in [x for x in os.listdir(rna_dir) if \"linear\" in x]:\n",
    "    rna=pd.read_csv(rna_dir+x,delimiter=\"\\t\")\n",
    "    rna[\"file\"]=x.split(\".\")[1]\n",
    "    rna[\"cohort\"]=x.split(\".\")[0]\n",
    "    rna_assoc=rna_assoc.append(rna)\n",
    "\n",
    "rna_assoc=rna_assoc[rna_assoc[\"TEST\"]==\"ADD\"].sort_values(by=\"P\")"
   ]
  },
  {
   "cell_type": "code",
   "execution_count": 39,
   "id": "8f8271a6-943f-4de3-9bed-ca10631f0c4e",
   "metadata": {},
   "outputs": [
    {
     "name": "stdout",
     "output_type": "stream",
     "text": [
      "vanallen.assoc.logistic.add\n",
      "crist_hnscc.assoc.logistic.add\n",
      "hugo.assoc.logistic.add\n",
      "liu.assoc.logistic.add\n",
      "riaz.assoc.logistic.add\n",
      "crist_melanoma.assoc.logistic.add\n",
      "snyder.assoc.logistic.add\n",
      "rizvi.assoc.logistic.add\n",
      "miao.assoc.logistic.add\n"
     ]
    }
   ],
   "source": [
    "assoc_dir=\"../data/icb-response/metal/input/response_crist_sd/\"\n",
    "compiled_icb=pd.DataFrame()\n",
    "\n",
    "for file in [x for x in os.listdir(assoc_dir) if \"add\" in x]:\n",
    "    print(file)\n",
    "    icb=pd.read_csv(assoc_dir+file,delimiter=\"\\t\")\n",
    "    icb=icb[icb[\"ID\"].isin(icb_snps)]\n",
    "    icb=fdr(icb,False,\"P\")\n",
    "    icb[\"file\"]=file\n",
    "    compiled_icb=compiled_icb.append(icb)"
   ]
  },
  {
   "cell_type": "code",
   "execution_count": 40,
   "id": "4473afa7-17fe-425d-9b4b-20512add1bed",
   "metadata": {},
   "outputs": [],
   "source": [
    "compiled_icb[\"file\"]=compiled_icb[\"file\"].str.split(\".\").str[0]"
   ]
  },
  {
   "cell_type": "code",
   "execution_count": 41,
   "id": "7b66cc37-eeaa-4b5a-988d-30ebdbb96db4",
   "metadata": {},
   "outputs": [
    {
     "name": "stdout",
     "output_type": "stream",
     "text": [
      "CTSS\n",
      "CTSW\n",
      "switching beta\n",
      "FAM216A\n",
      "LYZ\n",
      "C3AR1\n",
      "DCTN5\n",
      "DBNDD1\n",
      "FPR1\n",
      "TREX1\n",
      "DHFR\n",
      "ERAP1\n",
      "ERAP2\n",
      "DYNLT1\n",
      "GPLD1\n",
      "PSMD11\n"
     ]
    }
   ],
   "source": [
    "val_lst=[]\n",
    "\n",
    "for i,row in assoc.iterrows():\n",
    "    print(row[\"Phenotype\"])\n",
    "    \n",
    "    df_rna=rna_assoc[rna_assoc[\"ID\"].isin([row[\"Variant\"],row[\"Variant\"].rsplit(\":\",2)[0]+\":\"+row[\"Variant\"].split(\":\")[3]+\":\"+row[\"Variant\"].split(\":\")[2]])]\n",
    "    df_rna=df_rna[df_rna[\"file\"]==row[\"Phenotype\"]]\n",
    "    df_icb=compiled_icb[compiled_icb[\"ID\"].isin([row[\"Variant\"],row[\"Variant\"].rsplit(\":\",2)[0]+\":\"+row[\"Variant\"].split(\":\")[3]+\":\"+row[\"Variant\"].split(\":\")[2]])]\n",
    "    \n",
    "    if df_rna[\"A1\"].tolist()[0] != df_icb[\"A1\"].tolist()[0]:\n",
    "        print(\"switching beta\")\n",
    "        df_rna[\"BETA\"]=df_rna[\"BETA\"]*-1\n",
    "    \n",
    "    val=[]\n",
    "    \n",
    "    for cohort in [\"miao\",\"riaz\",\"vanallen\",\"hugo\"]:\n",
    "        df_rna_cohort=df_rna[df_rna[\"cohort\"]==cohort][\"BETA\"].tolist()[0]\n",
    "        df_icb_cohort=df_icb[df_icb[\"file\"]==cohort][\"OR\"].tolist()[0]\n",
    "        if df_rna_cohort < 0:\n",
    "            if df_icb_cohort > 1:\n",
    "                val.append(\"+\")\n",
    "            if df_icb_cohort < 1:\n",
    "                val.append(\"-\")\n",
    "        if df_rna_cohort > 0:\n",
    "            if df_icb_cohort > 1:\n",
    "                val.append(\"-\")\n",
    "            if df_icb_cohort < 1:\n",
    "                val.append(\"+\")\n",
    "    val_lst.append(\"\".join(val))"
   ]
  },
  {
   "cell_type": "code",
   "execution_count": 42,
   "id": "1081c574-cfff-4e6d-975d-39c6c3a8fb7a",
   "metadata": {},
   "outputs": [],
   "source": [
    "assoc[\"potential\"]=val_lst"
   ]
  },
  {
   "cell_type": "markdown",
   "id": "309d2d73-687a-422a-b49a-a091fdcabdd5",
   "metadata": {},
   "source": [
    "### Check association with immunotherapy biomarkers"
   ]
  },
  {
   "cell_type": "code",
   "execution_count": 52,
   "id": "f4441ea6-8fd9-499e-ba03-860487d7a092",
   "metadata": {},
   "outputs": [],
   "source": [
    "rna_dir=\"../data/icb-rna-associations/\"\n",
    "\n",
    "rna_assoc=pd.DataFrame()\n",
    "\n",
    "files=[x for x in os.listdir(rna_dir) if \"linear\" in x]\n",
    "files=[x for x in files if \"melanoma\" in x]\n",
    "\n",
    "for x in files:\n",
    "    rna=pd.read_csv(rna_dir+x,delimiter=\"\\t\")\n",
    "    rna[\"file\"]=x\n",
    "    rna_assoc=rna_assoc.append(rna)\n",
    "\n",
    "rna_assoc=rna_assoc[rna_assoc[\"TEST\"]==\"ADD\"].sort_values(by=\"P\")\n",
    "rna_assoc[\"file\"]=rna_assoc[\"file\"].str.split(\".\").str[4]"
   ]
  },
  {
   "cell_type": "code",
   "execution_count": 53,
   "id": "8b708746-dcd2-4911-9df5-f7e9a53c74ab",
   "metadata": {},
   "outputs": [
    {
     "name": "stderr",
     "output_type": "stream",
     "text": [
      "/cellar/users/tsears/miniconda3/envs/ML/lib/python3.7/site-packages/ipykernel_launcher.py:2: SettingWithCopyWarning: \n",
      "A value is trying to be set on a copy of a slice from a DataFrame.\n",
      "Try using .loc[row_indexer,col_indexer] = value instead\n",
      "\n",
      "See the caveats in the documentation: https://pandas.pydata.org/pandas-docs/stable/user_guide/indexing.html#returning-a-view-versus-a-copy\n",
      "  \n",
      "/cellar/users/tsears/miniconda3/envs/ML/lib/python3.7/site-packages/ipykernel_launcher.py:3: SettingWithCopyWarning: \n",
      "A value is trying to be set on a copy of a slice from a DataFrame.\n",
      "Try using .loc[row_indexer,col_indexer] = value instead\n",
      "\n",
      "See the caveats in the documentation: https://pandas.pydata.org/pandas-docs/stable/user_guide/indexing.html#returning-a-view-versus-a-copy\n",
      "  This is separate from the ipykernel package so we can avoid doing imports until\n"
     ]
    }
   ],
   "source": [
    "rna_io=rna_assoc[rna_assoc[\"file\"].isin([\"TMB\",\"PDCD1\",\"CD274\",\"CTLA4\"])]\n",
    "rna_io[\"-log10p\"]=-np.log10(rna_io[\"P\"])\n",
    "rna_io[\"index\"]=rna_io[\"file\"].map({\"TMB\":3,\"PDCD1\":2,\"CD274\":1,\"CTLA4\":1})\n",
    "rna_io=rna_io.sort_values(by=[\"#CHROM\",\"POS\",\"index\"])"
   ]
  },
  {
   "cell_type": "code",
   "execution_count": 54,
   "id": "6d1cdaf8-3e2b-49a3-841c-c6a1dfece74c",
   "metadata": {},
   "outputs": [],
   "source": [
    "snps=pd.read_csv(\"../tables/mega_snp_table_LASSO.txt\",delimiter=\"\\t\")\n",
    "icb_snps=snps[snps[\"icb_filt\"]==\"yes\"][\"snps\"].tolist()\n",
    "icb_snps=icb_snps+[x.rsplit(\":\",2)[0]+\":\"+x.split(\":\")[3]+\":\"+x.split(\":\")[2] for x in icb_snps]\n",
    "rna_io=rna_io[rna_io[\"ID\"].isin(icb_snps)]"
   ]
  },
  {
   "cell_type": "code",
   "execution_count": 50,
   "id": "23468c47-6f59-45cd-ba2d-11c3a9412e4d",
   "metadata": {},
   "outputs": [
    {
     "data": {
      "text/html": [
       "<div>\n",
       "<style scoped>\n",
       "    .dataframe tbody tr th:only-of-type {\n",
       "        vertical-align: middle;\n",
       "    }\n",
       "\n",
       "    .dataframe tbody tr th {\n",
       "        vertical-align: top;\n",
       "    }\n",
       "\n",
       "    .dataframe thead th {\n",
       "        text-align: right;\n",
       "    }\n",
       "</style>\n",
       "<table border=\"1\" class=\"dataframe\">\n",
       "  <thead>\n",
       "    <tr style=\"text-align: right;\">\n",
       "      <th></th>\n",
       "      <th>#CHROM</th>\n",
       "      <th>POS</th>\n",
       "      <th>ID</th>\n",
       "      <th>REF</th>\n",
       "      <th>ALT</th>\n",
       "      <th>A1</th>\n",
       "      <th>TEST</th>\n",
       "      <th>OBS_CT</th>\n",
       "      <th>BETA</th>\n",
       "      <th>SE</th>\n",
       "      <th>T_STAT</th>\n",
       "      <th>P</th>\n",
       "      <th>ERRCODE</th>\n",
       "      <th>file</th>\n",
       "      <th>cohort</th>\n",
       "      <th>-log10p</th>\n",
       "      <th>index</th>\n",
       "      <th>fdr</th>\n",
       "      <th>-log10(fdr)</th>\n",
       "    </tr>\n",
       "  </thead>\n",
       "  <tbody>\n",
       "    <tr>\n",
       "      <th>0</th>\n",
       "      <td>1</td>\n",
       "      <td>150527294</td>\n",
       "      <td>1:150527294:C:T</td>\n",
       "      <td>C</td>\n",
       "      <td>T</td>\n",
       "      <td>T</td>\n",
       "      <td>ADD</td>\n",
       "      <td>26</td>\n",
       "      <td>-1.617720</td>\n",
       "      <td>0.673193</td>\n",
       "      <td>-2.403050</td>\n",
       "      <td>0.033333</td>\n",
       "      <td>.</td>\n",
       "      <td>CTLA4</td>\n",
       "      <td>hugo</td>\n",
       "      <td>1.477132</td>\n",
       "      <td>1</td>\n",
       "      <td>0.877093</td>\n",
       "      <td>0.056954</td>\n",
       "    </tr>\n",
       "    <tr>\n",
       "      <th>0</th>\n",
       "      <td>1</td>\n",
       "      <td>150527294</td>\n",
       "      <td>1:150527294:C:T</td>\n",
       "      <td>C</td>\n",
       "      <td>T</td>\n",
       "      <td>T</td>\n",
       "      <td>ADD</td>\n",
       "      <td>46</td>\n",
       "      <td>-0.249867</td>\n",
       "      <td>0.250475</td>\n",
       "      <td>-0.997572</td>\n",
       "      <td>0.325971</td>\n",
       "      <td>.</td>\n",
       "      <td>CTLA4</td>\n",
       "      <td>riaz</td>\n",
       "      <td>0.486821</td>\n",
       "      <td>1</td>\n",
       "      <td>0.987493</td>\n",
       "      <td>0.005466</td>\n",
       "    </tr>\n",
       "    <tr>\n",
       "      <th>0</th>\n",
       "      <td>1</td>\n",
       "      <td>150527294</td>\n",
       "      <td>1:150527294:C:T</td>\n",
       "      <td>C</td>\n",
       "      <td>T</td>\n",
       "      <td>T</td>\n",
       "      <td>ADD</td>\n",
       "      <td>39</td>\n",
       "      <td>0.240890</td>\n",
       "      <td>0.282077</td>\n",
       "      <td>0.853984</td>\n",
       "      <td>0.401223</td>\n",
       "      <td>.</td>\n",
       "      <td>CD274</td>\n",
       "      <td>vanallen</td>\n",
       "      <td>0.396614</td>\n",
       "      <td>1</td>\n",
       "      <td>0.987493</td>\n",
       "      <td>0.005466</td>\n",
       "    </tr>\n",
       "    <tr>\n",
       "      <th>0</th>\n",
       "      <td>1</td>\n",
       "      <td>150527294</td>\n",
       "      <td>1:150527294:C:T</td>\n",
       "      <td>C</td>\n",
       "      <td>T</td>\n",
       "      <td>T</td>\n",
       "      <td>ADD</td>\n",
       "      <td>33</td>\n",
       "      <td>-0.127898</td>\n",
       "      <td>0.321684</td>\n",
       "      <td>-0.397590</td>\n",
       "      <td>0.695364</td>\n",
       "      <td>.</td>\n",
       "      <td>CTLA4</td>\n",
       "      <td>miao</td>\n",
       "      <td>0.157788</td>\n",
       "      <td>1</td>\n",
       "      <td>0.987493</td>\n",
       "      <td>0.005466</td>\n",
       "    </tr>\n",
       "    <tr>\n",
       "      <th>0</th>\n",
       "      <td>1</td>\n",
       "      <td>150527294</td>\n",
       "      <td>1:150527294:C:T</td>\n",
       "      <td>C</td>\n",
       "      <td>T</td>\n",
       "      <td>T</td>\n",
       "      <td>ADD</td>\n",
       "      <td>39</td>\n",
       "      <td>0.092582</td>\n",
       "      <td>0.259883</td>\n",
       "      <td>0.356244</td>\n",
       "      <td>0.724647</td>\n",
       "      <td>.</td>\n",
       "      <td>CTLA4</td>\n",
       "      <td>vanallen</td>\n",
       "      <td>0.139874</td>\n",
       "      <td>1</td>\n",
       "      <td>0.987493</td>\n",
       "      <td>0.005466</td>\n",
       "    </tr>\n",
       "    <tr>\n",
       "      <th>...</th>\n",
       "      <td>...</td>\n",
       "      <td>...</td>\n",
       "      <td>...</td>\n",
       "      <td>...</td>\n",
       "      <td>...</td>\n",
       "      <td>...</td>\n",
       "      <td>...</td>\n",
       "      <td>...</td>\n",
       "      <td>...</td>\n",
       "      <td>...</td>\n",
       "      <td>...</td>\n",
       "      <td>...</td>\n",
       "      <td>...</td>\n",
       "      <td>...</td>\n",
       "      <td>...</td>\n",
       "      <td>...</td>\n",
       "      <td>...</td>\n",
       "      <td>...</td>\n",
       "      <td>...</td>\n",
       "    </tr>\n",
       "    <tr>\n",
       "      <th>403</th>\n",
       "      <td>19</td>\n",
       "      <td>52249702</td>\n",
       "      <td>19:52249702:G:T</td>\n",
       "      <td>G</td>\n",
       "      <td>T</td>\n",
       "      <td>T</td>\n",
       "      <td>ADD</td>\n",
       "      <td>53</td>\n",
       "      <td>68.164300</td>\n",
       "      <td>46.419700</td>\n",
       "      <td>1.468440</td>\n",
       "      <td>0.150006</td>\n",
       "      <td>.</td>\n",
       "      <td>TMB</td>\n",
       "      <td>snyder</td>\n",
       "      <td>0.823891</td>\n",
       "      <td>3</td>\n",
       "      <td>0.987493</td>\n",
       "      <td>0.005466</td>\n",
       "    </tr>\n",
       "    <tr>\n",
       "      <th>403</th>\n",
       "      <td>19</td>\n",
       "      <td>52249702</td>\n",
       "      <td>19:52249702:G:T</td>\n",
       "      <td>G</td>\n",
       "      <td>T</td>\n",
       "      <td>T</td>\n",
       "      <td>ADD</td>\n",
       "      <td>55</td>\n",
       "      <td>-4.317720</td>\n",
       "      <td>5.599120</td>\n",
       "      <td>-0.771142</td>\n",
       "      <td>0.445044</td>\n",
       "      <td>.</td>\n",
       "      <td>TMB</td>\n",
       "      <td>miao</td>\n",
       "      <td>0.351597</td>\n",
       "      <td>3</td>\n",
       "      <td>0.987493</td>\n",
       "      <td>0.005466</td>\n",
       "    </tr>\n",
       "    <tr>\n",
       "      <th>403</th>\n",
       "      <td>19</td>\n",
       "      <td>52249702</td>\n",
       "      <td>19:52249702:G:T</td>\n",
       "      <td>G</td>\n",
       "      <td>T</td>\n",
       "      <td>T</td>\n",
       "      <td>ADD</td>\n",
       "      <td>30</td>\n",
       "      <td>-21.756500</td>\n",
       "      <td>33.541100</td>\n",
       "      <td>-0.648653</td>\n",
       "      <td>0.525764</td>\n",
       "      <td>.</td>\n",
       "      <td>TMB</td>\n",
       "      <td>rizvi</td>\n",
       "      <td>0.279209</td>\n",
       "      <td>3</td>\n",
       "      <td>0.987493</td>\n",
       "      <td>0.005466</td>\n",
       "    </tr>\n",
       "    <tr>\n",
       "      <th>403</th>\n",
       "      <td>19</td>\n",
       "      <td>52249702</td>\n",
       "      <td>19:52249702:G:T</td>\n",
       "      <td>G</td>\n",
       "      <td>T</td>\n",
       "      <td>T</td>\n",
       "      <td>ADD</td>\n",
       "      <td>38</td>\n",
       "      <td>54.108500</td>\n",
       "      <td>150.970000</td>\n",
       "      <td>0.358407</td>\n",
       "      <td>0.723172</td>\n",
       "      <td>.</td>\n",
       "      <td>TMB</td>\n",
       "      <td>hugo</td>\n",
       "      <td>0.140758</td>\n",
       "      <td>3</td>\n",
       "      <td>0.987493</td>\n",
       "      <td>0.005466</td>\n",
       "    </tr>\n",
       "    <tr>\n",
       "      <th>403</th>\n",
       "      <td>19</td>\n",
       "      <td>52249702</td>\n",
       "      <td>19:52249702:G:T</td>\n",
       "      <td>G</td>\n",
       "      <td>T</td>\n",
       "      <td>T</td>\n",
       "      <td>ADD</td>\n",
       "      <td>90</td>\n",
       "      <td>6.457540</td>\n",
       "      <td>25.652700</td>\n",
       "      <td>0.251729</td>\n",
       "      <td>0.801930</td>\n",
       "      <td>.</td>\n",
       "      <td>TMB</td>\n",
       "      <td>vanallen</td>\n",
       "      <td>0.095864</td>\n",
       "      <td>3</td>\n",
       "      <td>0.987493</td>\n",
       "      <td>0.005466</td>\n",
       "    </tr>\n",
       "  </tbody>\n",
       "</table>\n",
       "<p>558 rows × 19 columns</p>\n",
       "</div>"
      ],
      "text/plain": [
       "     #CHROM        POS               ID REF ALT A1 TEST  OBS_CT       BETA  \\\n",
       "0         1  150527294  1:150527294:C:T   C   T  T  ADD      26  -1.617720   \n",
       "0         1  150527294  1:150527294:C:T   C   T  T  ADD      46  -0.249867   \n",
       "0         1  150527294  1:150527294:C:T   C   T  T  ADD      39   0.240890   \n",
       "0         1  150527294  1:150527294:C:T   C   T  T  ADD      33  -0.127898   \n",
       "0         1  150527294  1:150527294:C:T   C   T  T  ADD      39   0.092582   \n",
       "..      ...        ...              ...  ..  .. ..  ...     ...        ...   \n",
       "403      19   52249702  19:52249702:G:T   G   T  T  ADD      53  68.164300   \n",
       "403      19   52249702  19:52249702:G:T   G   T  T  ADD      55  -4.317720   \n",
       "403      19   52249702  19:52249702:G:T   G   T  T  ADD      30 -21.756500   \n",
       "403      19   52249702  19:52249702:G:T   G   T  T  ADD      38  54.108500   \n",
       "403      19   52249702  19:52249702:G:T   G   T  T  ADD      90   6.457540   \n",
       "\n",
       "             SE    T_STAT         P ERRCODE   file    cohort   -log10p  index  \\\n",
       "0      0.673193 -2.403050  0.033333       .  CTLA4      hugo  1.477132      1   \n",
       "0      0.250475 -0.997572  0.325971       .  CTLA4      riaz  0.486821      1   \n",
       "0      0.282077  0.853984  0.401223       .  CD274  vanallen  0.396614      1   \n",
       "0      0.321684 -0.397590  0.695364       .  CTLA4      miao  0.157788      1   \n",
       "0      0.259883  0.356244  0.724647       .  CTLA4  vanallen  0.139874      1   \n",
       "..          ...       ...       ...     ...    ...       ...       ...    ...   \n",
       "403   46.419700  1.468440  0.150006       .    TMB    snyder  0.823891      3   \n",
       "403    5.599120 -0.771142  0.445044       .    TMB      miao  0.351597      3   \n",
       "403   33.541100 -0.648653  0.525764       .    TMB     rizvi  0.279209      3   \n",
       "403  150.970000  0.358407  0.723172       .    TMB      hugo  0.140758      3   \n",
       "403   25.652700  0.251729  0.801930       .    TMB  vanallen  0.095864      3   \n",
       "\n",
       "          fdr  -log10(fdr)  \n",
       "0    0.877093     0.056954  \n",
       "0    0.987493     0.005466  \n",
       "0    0.987493     0.005466  \n",
       "0    0.987493     0.005466  \n",
       "0    0.987493     0.005466  \n",
       "..        ...          ...  \n",
       "403  0.987493     0.005466  \n",
       "403  0.987493     0.005466  \n",
       "403  0.987493     0.005466  \n",
       "403  0.987493     0.005466  \n",
       "403  0.987493     0.005466  \n",
       "\n",
       "[558 rows x 19 columns]"
      ]
     },
     "execution_count": 50,
     "metadata": {},
     "output_type": "execute_result"
    }
   ],
   "source": [
    "rna_io"
   ]
  },
  {
   "cell_type": "code",
   "execution_count": 57,
   "id": "b460fe0d-8061-41c3-af90-4fed5b7916c3",
   "metadata": {},
   "outputs": [
    {
     "data": {
      "image/png": "[encoded data removed]",
      "text/plain": [
       "<Figure size 864x144 with 2 Axes>"
      ]
     },
     "metadata": {
      "needs_background": "light"
     },
     "output_type": "display_data"
    }
   ],
   "source": [
    "#Plot\n",
    "\n",
    "#Plot\n",
    "\n",
    "def heatmap(x, y, size, color):\n",
    "    fig, ax = plt.subplots(figsize=(12, 2))\n",
    "    \n",
    "    # Mapping from column names to integer coordinates\n",
    "    x_labels = [v for v in x.unique()]\n",
    "    y_labels = [v for v in y.unique()]\n",
    "    x_to_num = {p[1]:p[0] for p in enumerate(x_labels)} \n",
    "    y_to_num = {p[1]:p[0] for p in enumerate(y_labels)} \n",
    "    \n",
    "    size_scale = 20\n",
    "    plt.scatter(\n",
    "        x=x.map(x_to_num), # Use mapping for x\n",
    "        y=y.map(y_to_num), # Use mapping for y\n",
    "        s=size * size_scale, \n",
    "        c=color,\n",
    "        cmap=\"RdBu_r\", vmin=-.5, vmax=.5# Vector of square sizes, proportional to size parameter\n",
    "    )\n",
    "    \n",
    "    # Show column labels on the axes\n",
    "    ax.set_xticks([x_to_num[v] for v in x_labels])\n",
    "    ax.set_xticklabels(x_labels, rotation=45, horizontalalignment='right')\n",
    "    ax.set_yticks([y_to_num[v] for v in y_labels])\n",
    "    ax.set_yticklabels(y_labels)\n",
    "    plt.colorbar()\n",
    "    \n",
    "    plt.xticks(rotation=90)\n",
    "    \n",
    "heatmap(\n",
    "    x=rna_io['ID'],\n",
    "    y=rna_io['file'],\n",
    "    size=rna_io['-log10p'],\n",
    "    color=rna_io['BETA'],\n",
    ")\n",
    "\n",
    "# "
   ]
  },
  {
   "cell_type": "code",
   "execution_count": null,
   "id": "7bdfc4ea-a3de-47f6-ac82-5db2c5408984",
   "metadata": {},
   "outputs": [],
   "source": []
  }
 ],
 "metadata": {
  "kernelspec": {
   "display_name": "germtime",
   "language": "python",
   "name": "germtime"
  },
  "language_info": {
   "codemirror_mode": {
    "name": "ipython",
    "version": 3
   },
   "file_extension": ".py",
   "mimetype": "text/x-python",
   "name": "python",
   "nbconvert_exporter": "python",
   "pygments_lexer": "ipython3",
   "version": "3.7.12"
  }
 },
 "nbformat": 4,
 "nbformat_minor": 5
}
