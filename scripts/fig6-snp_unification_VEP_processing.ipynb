{
 "cells": [
  {
   "cell_type": "markdown",
   "id": "896abd8b-59bf-4582-9cbd-c206aa3d7d67",
   "metadata": {},
   "source": [
    "### Data unification"
   ]
  },
  {
   "cell_type": "code",
   "execution_count": 62,
   "id": "90606f2a-a4d4-487c-9b29-1155e4862f93",
   "metadata": {},
   "outputs": [],
   "source": [
    "import pandas as pd\n",
    "import os\n",
    "import statsmodels.stats.multitest as multi\n",
    "import numpy as np"
   ]
  },
  {
   "cell_type": "code",
   "execution_count": 63,
   "id": "80717f33-33be-4902-a9d4-438fec99ab28",
   "metadata": {},
   "outputs": [],
   "source": [
    "import matplotlib.pyplot as plt\n",
    "import seaborn as sns\n",
    "import matplotlib\n",
    "matplotlib.rcParams['pdf.fonttype'] = 42\n",
    "matplotlib.rcParams['ps.fonttype'] = 42"
   ]
  },
  {
   "cell_type": "code",
   "execution_count": 64,
   "id": "f6ce088d-cbbc-4eb0-a63d-7f12efccfe2c",
   "metadata": {},
   "outputs": [],
   "source": [
    "#load in SNP lists from each step of analysis into a unified table\n",
    "#starting point\n",
    "all_snp_table=pd.read_csv(\"/cellar/users/tsears/projects/germline-immune/data/fig3/all_snp_table.txt\",sep=\"\\t\")\n",
    "risk_snps_melanoma=pd.read_csv(\"/cellar/users/tsears/projects/germline-immune/data/fig4/melanoma_final_snps.txt\",sep=\"\\t\")\n",
    "risk_snps_melanoma=risk_snps_melanoma[\"0\"]\n",
    "risk_snps_prostate=pd.read_csv(\"/cellar/users/tsears/projects/germline-immune/data/fig4/prostate_final_snps.txt\",sep=\"\\t\")\n",
    "risk_snps_prostate=risk_snps_prostate[\"0\"]\n",
    "\n",
    "OS_snps=pd.read_csv(\"/cellar/users/tsears/projects/germline-immune/data/fig6/OS_input_snps.txt\",sep=\"\\t\")\n",
    "OS_snps[\"snps\"]=OS_snps[\"snps\"].str.rsplit(\"_\").str[0]\n",
    "OS_snps_short=OS_snps[\"snps\"].drop_duplicates()\n",
    "OS_snps_short=OS_snps_short.tolist()+[x.rsplit(\":\",2)[0]+\":\"+x.split(\":\")[3]+\":\"+x.split(\":\")[2] for x in OS_snps_short.tolist()]\n",
    "\n",
    "PFS_snps=pd.read_csv(\"/cellar/users/tsears/projects/germline-immune/data/fig6/PFS_input_snps.txt\",sep=\"\\t\")\n",
    "PFS_snps[\"snps\"]=PFS_snps[\"snps\"].str.rsplit(\"_\").str[0]\n",
    "PFS_snps_short=PFS_snps[\"snps\"].drop_duplicates()\n",
    "PFS_snps_short=PFS_snps_short.tolist()+[x.rsplit(\":\",2)[0]+\":\"+x.split(\":\")[3]+\":\"+x.split(\":\")[2] for x in PFS_snps_short.tolist()]\n",
    "\n",
    "OS_PFS_snps_short=pd.DataFrame(OS_snps_short+PFS_snps_short)\n",
    "\n",
    "icb_snps=pd.read_csv(\"/cellar/users/tsears/projects/germline-immune/data/fig6/icb_final_snps.txt\",sep=\"\\t\",header=None)\n",
    "icb_snps=icb_snps[1]\n",
    "icb_snps=icb_snps.str.rsplit(\"_\").str[0]\n",
    "icb_snps=icb_snps.tolist()+[x.rsplit(\":\",2)[0]+\":\"+x.split(\":\")[3]+\":\"+x.split(\":\")[2] for x in icb_snps.tolist()]\n"
   ]
  },
  {
   "cell_type": "code",
   "execution_count": 65,
   "id": "a3eaacab-518e-4864-9438-12a9cfc7dc1e",
   "metadata": {},
   "outputs": [],
   "source": [
    "all_snp_table[\"risk_melanoma\"]=np.where(all_snp_table[\"snp_noallele\"].isin(risk_snps_melanoma),\"yes\",\"no\")\n",
    "all_snp_table[\"risk_prostate\"]=np.where(all_snp_table[\"snp_noallele\"].isin(risk_snps_prostate),\"yes\",\"no\")\n",
    "all_snp_table[\"risk_either\"]=np.where(all_snp_table[\"snp_noallele\"].isin(risk_snps_prostate.tolist()+risk_snps_melanoma.tolist()),\"yes\",\"no\")\n",
    "\n",
    "all_snp_table[\"OS\"]=np.where(all_snp_table[\"snps\"].isin(OS_snps_short),\"yes\",\"no\")\n",
    "all_snp_table[\"PFS\"]=np.where(all_snp_table[\"snps\"].isin(PFS_snps_short),\"yes\",\"no\")\n",
    "all_snp_table[\"OS_PFS\"]=np.where(all_snp_table[\"snps\"].isin(OS_PFS_snps_short[0].tolist()),\"yes\",\"no\")\n",
    "all_snp_table[\"icb_filt\"]=np.where(all_snp_table[\"snps\"].isin(icb_snps),\"yes\",\"no\")\n"
   ]
  },
  {
   "cell_type": "code",
   "execution_count": 66,
   "id": "546dbd5d-401c-44ac-aafc-0549febce13c",
   "metadata": {},
   "outputs": [],
   "source": [
    "\n",
    "for cancer in OS_snps[\"cancer\"].unique():\n",
    "    OS_snps_temp=OS_snps[OS_snps[\"cancer\"]==cancer]\n",
    "    OS_snps_temp=OS_snps_temp[\"snps\"].tolist()+[x.rsplit(\":\",2)[0]+\":\"+x.split(\":\")[3]+\":\"+x.split(\":\")[2] for x in OS_snps_temp[\"snps\"].tolist()]\n",
    "    all_snp_table[\"OS_\"+cancer]=np.where(all_snp_table[\"snps\"].isin(OS_snps_temp),\"yes\",\"no\")\n",
    "    \n",
    "for cancer in PFS_snps[\"cancer\"].unique():\n",
    "    PFS_snps_temp=PFS_snps[PFS_snps[\"cancer\"]==cancer]\n",
    "    PFS_snps_temp=PFS_snps_temp[\"snps\"].tolist()+[x.rsplit(\":\",2)[0]+\":\"+x.split(\":\")[3]+\":\"+x.split(\":\")[2] for x in PFS_snps_temp[\"snps\"].tolist()]\n",
    "    all_snp_table[\"PFS_\"+cancer]=np.where(all_snp_table[\"snps\"].isin(PFS_snps_temp),\"yes\",\"no\")\n",
    "  \n",
    "    "
   ]
  },
  {
   "cell_type": "code",
   "execution_count": 67,
   "id": "14f6ea11-4b49-4939-aac0-9c73267d4bd2",
   "metadata": {},
   "outputs": [],
   "source": [
    "#Read in DICE+ieqtl information\n",
    "dice_ieqtl=pd.read_csv(\"/cellar/users/tsears/projects/germline-immune/data/fig3/LASSO_fdr0.05_Supplemental_Table_10.csv\",sep=\",\")\n",
    "dice_ieqtl=dice_ieqtl.dropna()\n",
    "\n",
    "dice_ieqtl_wide=pd.DataFrame()\n",
    "\n",
    "for snp in dice_ieqtl[\"snp\"]:\n",
    "    \n",
    "    cells=dice_ieqtl.loc[np.logical_and(dice_ieqtl[\"snp\"]==snp,dice_ieqtl[\"type\"]==\"ieqtl\"),\"cell\"]\n",
    "    cells=\", \".join(cells)\n",
    "    dice_ieqtl_wide.loc[snp,\"ieqtl\"]=cells\n",
    "    \n",
    "    cells=dice_ieqtl.loc[np.logical_and(dice_ieqtl[\"snp\"]==snp,dice_ieqtl[\"type\"]==\"dice\"),\"cell\"]\n",
    "    cells=\", \".join(cells)\n",
    "    dice_ieqtl_wide.loc[snp,\"dice\"]=cells\n",
    "\n",
    "dice_ieqtl_wide[\"rsid\"]=dice_ieqtl_wide.index\n",
    "\n",
    "all_snp_table=pd.merge(all_snp_table,dice_ieqtl_wide,on=\"rsid\",how=\"left\")"
   ]
  },
  {
   "cell_type": "code",
   "execution_count": 68,
   "id": "794544b0-a9e2-4eb5-9aac-8cfcf400902f",
   "metadata": {},
   "outputs": [],
   "source": [
    "#incorporate VEP information in, as well as venn diagram style overlaps of key characteristics"
   ]
  },
  {
   "cell_type": "code",
   "execution_count": 69,
   "id": "3fecb64e-8663-4ec7-8951-07db6ca7e4cb",
   "metadata": {},
   "outputs": [],
   "source": [
    "#read in VEP\n",
    "vep_variant=pd.read_csv(\"/cellar/users/tsears/projects/germline-immune/data/1wRJKFf4lMtcef6e.txt\",sep=\"\\t\")"
   ]
  },
  {
   "cell_type": "code",
   "execution_count": null,
   "id": "12224ae7-0b93-49b1-8e69-25303aee8d97",
   "metadata": {},
   "outputs": [],
   "source": []
  },
  {
   "cell_type": "code",
   "execution_count": 70,
   "id": "4ed931cd-8817-455c-b759-63c2cb3f3fd2",
   "metadata": {},
   "outputs": [],
   "source": [
    "missense_snps=vep_variant[(vep_variant[\"Consequence\"].str.contains(\"missense\"))][\"#Uploaded_variation\"].unique().tolist()\n",
    "TF_snps=vep_variant[vep_variant[\"Consequence\"].str.contains(\"TF\")][\"#Uploaded_variation\"].unique().tolist()\n",
    "NMD=vep_variant[vep_variant[\"Consequence\"].str.contains(\"NMD\")][\"#Uploaded_variation\"].unique().tolist()\n",
    "noncoding=[x for x in set(vep_variant[vep_variant[\"Consequence\"].str.contains(\"non_coding\")][\"#Uploaded_variation\"].unique().tolist()+vep_variant[vep_variant[\"Consequence\"].str.contains(\"prime\")][\"#Uploaded_variation\"].unique().tolist()+vep_variant[vep_variant[\"Consequence\"].str.contains(\"regulatory\")][\"#Uploaded_variation\"].unique().tolist()+vep_variant[vep_variant[\"Consequence\"].str.contains(\"intergenic\")][\"#Uploaded_variation\"].unique().tolist()+vep_variant[vep_variant[\"Consequence\"].str.contains(\"intron\")][\"#Uploaded_variation\"].unique().tolist()+vep_variant[vep_variant[\"Consequence\"].str.contains(\"stream\")][\"#Uploaded_variation\"].unique().tolist())]\n",
    "splice=vep_variant[vep_variant[\"Consequence\"].str.contains(\"splice\")][\"#Uploaded_variation\"].unique().tolist()"
   ]
  },
  {
   "cell_type": "code",
   "execution_count": 71,
   "id": "4a6314e5-60b3-4637-ab58-9c56cb0f4a27",
   "metadata": {
    "tags": []
   },
   "outputs": [],
   "source": [
    "TF_snps=[x for x in TF_snps if x not in missense_snps]\n",
    "NMD=[x for x in NMD if x not in missense_snps]\n",
    "noncoding=[x for x in noncoding if x not in missense_snps+TF_snps+NMD+splice]\n",
    "splice=[x for x in splice if x not in missense_snps]\n",
    "\n",
    "TF_snps=TF_snps+[x.rsplit(\":\",2)[0]+\":\"+x.split(\":\")[3]+\":\"+x.split(\":\")[2] for x in TF_snps]\n",
    "NMD=NMD+[x.rsplit(\":\",2)[0]+\":\"+x.split(\":\")[3]+\":\"+x.split(\":\")[2] for x in NMD]\n",
    "noncoding=noncoding+[x.rsplit(\":\",2)[0]+\":\"+x.split(\":\")[3]+\":\"+x.split(\":\")[2] for x in noncoding]\n",
    "splice=splice+[x.rsplit(\":\",2)[0]+\":\"+x.split(\":\")[3]+\":\"+x.split(\":\")[2] for x in splice]\n",
    "missense_snps=missense_snps+[x.rsplit(\":\",2)[0]+\":\"+x.split(\":\")[3]+\":\"+x.split(\":\")[2] for x in missense_snps]\n",
    "\n",
    "all_snp_table[\"VEP_TranscriptionFactor\"]=np.where(all_snp_table[\"snps\"].isin(TF_snps),\"yes\",\"no\")\n",
    "all_snp_table[\"VEP_NMD\"]=np.where(all_snp_table[\"snps\"].isin(NMD),\"yes\",\"no\")\n",
    "all_snp_table[\"VEP_noncoding\"]=np.where(all_snp_table[\"snps\"].isin(noncoding),\"yes\",\"no\")\n",
    "all_snp_table[\"VEP_splice\"]=np.where(all_snp_table[\"snps\"].isin(splice),\"yes\",\"no\")\n",
    "all_snp_table[\"VEP_missense\"]=np.where(all_snp_table[\"snps\"].isin(missense_snps),\"yes\",\"no\")\n",
    "\n",
    "all_snp_table.to_csv(\"/cellar/users/tsears/projects/germline-immune/data/mega_snp_table.txt\",sep=\"\\t\")"
   ]
  },
  {
   "cell_type": "markdown",
   "id": "fbab1383-3ae5-4a66-9b36-fa550d1f94d1",
   "metadata": {},
   "source": [
    "## VEP plot"
   ]
  },
  {
   "cell_type": "code",
   "execution_count": 72,
   "id": "e84d29e1-1512-4a25-8ce3-9001ef00475f",
   "metadata": {},
   "outputs": [
    {
     "data": {
      "image/png": "[encoded data removed]",
      "text/plain": [
       "<Figure size 360x360 with 1 Axes>"
      ]
     },
     "metadata": {
      "needs_background": "light"
     },
     "output_type": "display_data"
    }
   ],
   "source": [
    "#quick VEP plot\n",
    "\n",
    "all_snp_table_LASSO_PASS=all_snp_table.loc[np.logical_or(np.logical_or(all_snp_table[\"OS_PFS\"]==\"yes\",all_snp_table[\"icb_filt\"]==\"yes\"),all_snp_table[\"risk_either\"]==\"yes\"),:]\n",
    "all_snp_table_LASSO_PASS=all_snp_table_LASSO_PASS.drop_duplicates(subset=\"rsid\")\n",
    "\n",
    "\n",
    "\n",
    "noncoding_num=all_snp_table_LASSO_PASS[\"VEP_noncoding\"].value_counts()[0]\n",
    "NMD_num=all_snp_table_LASSO_PASS[\"VEP_NMD\"].value_counts()[1]\n",
    "missense_snps_num=all_snp_table_LASSO_PASS[\"VEP_missense\"].value_counts()[1]\n",
    "TF_num=all_snp_table_LASSO_PASS[\"VEP_TranscriptionFactor\"].value_counts()[1]\n",
    "\n",
    "fig = plt.figure(figsize=(5,5))\n",
    "plt.bar([\"noncoding\", \"NMD\",\"missense_snps\", \"TF\"],[noncoding_num, NMD_num, missense_snps_num, TF_num],color=\"blue\")\n",
    "plt.ylabel(\"# TIME associations\")\n",
    "plt.savefig(\"/cellar/users/tsears/projects/germline-immune/plots/fig4/LASSO_vep.pdf\")"
   ]
  },
  {
   "cell_type": "code",
   "execution_count": 77,
   "id": "211bd7ca-fb1a-4653-a4d3-be0f687ea122",
   "metadata": {},
   "outputs": [
    {
     "data": {
      "text/plain": [
       "array(['AMPD3', 'OAS3', 'RNF41', 'MNDA', 'ENTPD1', 'PSMD11', 'IL2RA',\n",
       "       'IFIT1', 'APITD1', 'CPVL', 'TPRKB', 'GNPTAB', 'CTSS', 'ALOX5AP',\n",
       "       'FAM216A', 'DYNLT1', 'CD209', 'COX17', 'CD68', 'DBNDD1', 'GGH',\n",
       "       'ERAP1', 'ITGB2', 'CTSL', 'CTSW', 'RNASE6', 'MARCH1', 'LNPEP',\n",
       "       'FAM167A', 'FPR1', 'GSTCD', 'SLC25A40', 'TLR2', 'C3AR1', 'VAMP3',\n",
       "       'CCBL2', 'TREX1', 'TNFSF13B', 'GPNMB', 'ERAP2', 'IL10RA',\n",
       "       'EIF2AK1', 'MRTO4', 'KLRD1', 'EP300', 'FCGR3B', 'PLOD2', 'NOTCH2',\n",
       "       'GPLD1', 'DHFR', 'SLC11A1', 'IL18', 'DCTN5', 'VAMP8', 'LYZ',\n",
       "       'SIGLEC5', 'FCGR2B', 'OAS1', 'HLA-H', 'HLA-DRB5', 'BTN3A2',\n",
       "       'HLA-B', 'HLA-DRB1', 'MICB', 'PSMB9', 'HLA-DQB1', 'HLA-DQB2',\n",
       "       'HLA-A', 'HLA-DQA1', 'HLA-DQA2', 'TAP2', 'MICA', 'HLA-C', 'HLA-G',\n",
       "       'HLA-DPB1', 'CTLA4', 'CD4_Tcm', 'Th2_cells', 'Plasma_cells',\n",
       "       'Memory_B-cells', 'Th1_cells', 'pDC', 'Th17', 'PDCD1', 'PD-L1',\n",
       "       'Sigs160-Wolf_IFN-21978456', 'Sigs160-Wolf_MHC2-21978456',\n",
       "       'Sigs160-Bindea_Tfh-cells',\n",
       "       'Sigs160-Wolf_Interferon-Cluster-21214954',\n",
       "       'Sigs160-Wolf_CD8-CD68-ratio', 'Sigs160-Bindea_Th17-cells'],\n",
       "      dtype=object)"
      ]
     },
     "execution_count": 77,
     "metadata": {},
     "output_type": "execute_result"
    }
   ],
   "source": [
    "all_snp_table_LASSO_PASS[\"file\"].unique()"
   ]
  },
  {
   "cell_type": "code",
   "execution_count": 61,
   "id": "a53fe5fa-df99-4f48-bef9-8ee51f587bde",
   "metadata": {},
   "outputs": [],
   "source": [
    "#all_snp_table_LASSO_PASS[all_snp_table_LASSO_PASS[\"VEP_missense\"]==\"yes\"].to_csv(\"/cellar/users/tsears/projects/germline-immune/data/missense_only_vep_LASSO.txt\",sep=\"\\t\",header=True)\n",
    "missense_vars=all_snp_table_LASSO_PASS[all_snp_table_LASSO_PASS[\"VEP_missense\"]==\"yes\"]\n",
    "vep_variant[vep_variant[\"#Uploaded_variation\"].isin(missense_vars[\"snps\"].tolist())].to_csv(\"/cellar/users/tsears/projects/germline-immune/data/missense_only_vep_protein_info.txt\",sep=\"\\t\",header=True)\n",
    "\n",
    "\n"
   ]
  },
  {
   "cell_type": "code",
   "execution_count": 31,
   "id": "251a9498-9f55-4295-82a8-7447a7ee05e2",
   "metadata": {},
   "outputs": [
    {
     "data": {
      "image/png": "[encoded data removed]",
      "text/plain": [
       "<Figure size 360x360 with 1 Axes>"
      ]
     },
     "metadata": {
      "needs_background": "light"
     },
     "output_type": "display_data"
    }
   ],
   "source": [
    "all_snp_table_LASSO_PASS=all_snp_table.loc[np.logical_or(np.logical_or(all_snp_table[\"OS_PFS\"]==\"yes\",all_snp_table[\"icb_filt\"]==\"yes\"),all_snp_table[\"risk_either\"]==\"yes\"),:]\n",
    "all_snp_table_LASSO_PASS=all_snp_table_LASSO_PASS.drop_duplicates(subset=\"rsid\")\n",
    "\n",
    "lit=all_snp_table_LASSO_PASS[all_snp_table_LASSO_PASS[\"maf\"].isnull()]\n",
    "num_lit_cis=len(lit[lit[\"file\"].isin([\"CTLA4\",\"PD.L1\",\"CTSW\",\"APOE\",\"PDCD1\"])])\n",
    "num_lit_trans=len(lit[~lit[\"file\"].isin([\"CTLA4\",\"PD.L1\",\"CTSW\",\"APOE\",\"PDCD1\"])])\n",
    "\n",
    "non_lit=all_snp_table_LASSO_PASS[~all_snp_table_LASSO_PASS[\"maf\"].isnull()]\n",
    "\n",
    "hla=non_lit[~non_lit[\"type\"].isnull()]\n",
    "num_hla_cis=len(hla[~hla[\"cis tss\"].isnull()])\n",
    "num_hla_trans=len(hla[hla[\"cis tss\"].isnull()])\n",
    "\n",
    "nonhla=non_lit[non_lit[\"type\"].isnull()]\n",
    "num_nonhla_cis=len(nonhla[~nonhla[\"cis tss\"].isnull()])\n",
    "num_nonhla_trans=len(nonhla[nonhla[\"cis tss\"].isnull()])\n",
    "\n",
    "fig = plt.figure(figsize=(5,5))\n",
    "p1 = plt.bar([\"lit\",\"nonHLA\",\"HLA\"], [num_lit_cis,num_nonhla_cis,num_hla_cis],  color='blue', label=\"cis\")\n",
    "p2 = plt.bar([\"lit\",\"nonHLA\",\"HLA\"], [num_lit_trans,num_nonhla_trans,num_hla_trans], bottom=[num_lit_cis,num_nonhla_cis,num_hla_cis], color='r',label=\"trans\")\n",
    "plt.ylabel(\"# TIME associations\")\n",
    "plt.legend()\n",
    "plt.savefig(\"/cellar/users/tsears/projects/germline-immune/plots/fig7/LASSO_cis.trans.pdf\")"
   ]
  },
  {
   "cell_type": "code",
   "execution_count": 35,
   "id": "3ee7df03-35c4-452c-9ec7-e15d2c0e219e",
   "metadata": {},
   "outputs": [
    {
     "data": {
      "text/plain": [
       "(424, 63)"
      ]
     },
     "execution_count": 35,
     "metadata": {},
     "output_type": "execute_result"
    }
   ],
   "source": [
    "num_lit_cis+num_nonhla_cis+num_hla_cis,num_lit_trans+num_nonhla_trans+num_hla_trans"
   ]
  },
  {
   "cell_type": "code",
   "execution_count": 526,
   "id": "2ea442d3-5ebb-4ead-aef8-ba6bb57beb9c",
   "metadata": {},
   "outputs": [],
   "source": [
    "#export all LASSO rsids\n",
    "pd.DataFrame(all_snp_table.loc[np.logical_or(np.logical_or(all_snp_table[\"OS_PFS\"]==\"yes\",all_snp_table[\"icb_filt\"]==\"yes\"),all_snp_table[\"risk_either\"]==\"yes\"),\"rsid\"].unique()).to_csv(\"/cellar/users/tsears/projects/germline-immune/data/fig3/LASSO_snp_list_rsid.txt\",sep=\"\\t\",index=False,header=False)\n",
    "\n",
    "#export all LASSO snps (reverse too?)\n",
    "all_lasso_snps=all_snp_table.loc[np.logical_or(np.logical_or(all_snp_table[\"OS_PFS\"]==\"yes\",all_snp_table[\"icb_filt\"]==\"yes\"),all_snp_table[\"risk_either\"]==\"yes\"),\"snps\"].unique()\n",
    "all_lasso_snps=all_lasso_snps.tolist()+[x.rsplit(\":\",2)[0]+\":\"+x.split(\":\")[3]+\":\"+x.split(\":\")[2] for x in all_lasso_snps.tolist()]\n",
    "pd.DataFrame(all_lasso_snps).to_csv(\"/cellar/users/tsears/projects/germline-immune/data/fig3/LASSO_snp_list_fwd_rev.txt\",sep=\"\\t\",index=False,header=False)\n",
    "\n"
   ]
  },
  {
   "cell_type": "code",
   "execution_count": 539,
   "id": "ea135292-1594-491e-b803-f6fa6c5b8b98",
   "metadata": {},
   "outputs": [],
   "source": [
    "#Export common to all analysis SNPs\n",
    "shared_lasso_snps=all_snp_table.loc[np.logical_and(np.logical_and(all_snp_table[\"OS_PFS\"]==\"yes\",all_snp_table[\"icb_filt\"]==\"yes\"),all_snp_table[\"risk_either\"]==\"yes\"),\"snps\"].unique()\n",
    "shared_lasso_snps=shared_lasso_snps.tolist()+[x.rsplit(\":\",2)[0]+\":\"+x.split(\":\")[3]+\":\"+x.split(\":\")[2] for x in shared_lasso_snps.tolist()]\n",
    "pd.DataFrame(shared_lasso_snps).to_csv(\"/cellar/users/tsears/projects/germline-immune/data/shared_LASSO_fwd_rev.txt\",sep=\"\\t\",index=False,header=False)\n",
    "\n",
    "\n"
   ]
  },
  {
   "cell_type": "markdown",
   "id": "6ab2f571-8ce4-4f56-a763-d1c68692bbfc",
   "metadata": {},
   "source": [
    "### LASSO Fig 3. "
   ]
  },
  {
   "cell_type": "code",
   "execution_count": 492,
   "id": "fca2fb9b-d022-48e7-b127-f2dd8f71d4e1",
   "metadata": {},
   "outputs": [],
   "source": [
    "num_icb=len(all_snp_table.loc[all_snp_table[\"icb_filt\"]==\"yes\",\"file\"].unique())\n",
    "num_risk=len(all_snp_table.loc[all_snp_table[\"risk_either\"]==\"yes\",\"file\"].unique())\n",
    "num_survival=len(all_snp_table.loc[all_snp_table[\"OS_PFS\"]==\"yes\",\"file\"].unique())"
   ]
  },
  {
   "cell_type": "code",
   "execution_count": 493,
   "id": "c7b8ee22-d2d5-4878-9e68-6db4a5e7ec46",
   "metadata": {},
   "outputs": [
    {
     "name": "stderr",
     "output_type": "stream",
     "text": [
      "No handles with labels found to put in legend.\n"
     ]
    },
    {
     "data": {
      "image/png": "[encoded data removed]",
      "text/plain": [
       "<Figure size 216x288 with 1 Axes>"
      ]
     },
     "metadata": {
      "needs_background": "light"
     },
     "output_type": "display_data"
    }
   ],
   "source": [
    "plt.figure(figsize=(3,4))\n",
    "plt.barh([\"icb\",\"risk\",\"survival\"],[num_icb,num_risk,num_survival])\n",
    "plt.ylabel(\"# TIME SNPs\")\n",
    "plt.legend()\n",
    "plt.savefig(\"/cellar/users/tsears/projects/germline-immune/plots/fig3/genes_cancer.snps.barv_LASSO_IP.pdf\",bbox_inches='tight')"
   ]
  },
  {
   "cell_type": "code",
   "execution_count": 494,
   "id": "80ce67e0-7fa3-4bad-89f3-f2301d7723bc",
   "metadata": {},
   "outputs": [],
   "source": [
    "#map snps to category\n",
    "pheno=pd.read_csv(\"/cellar/users/mpagadal/projects/germline-immune/data/supplemental/Supplemental_Table_1.csv\",header=None)\n",
    "pheno[3]=pheno[3].fillna(pheno[2])\n",
    "\n",
    "networkx=pd.read_csv(\"/cellar/users/mpagadal/projects/germline-immune/data/networkx/networkx.group.csv\")\n",
    "mp_networkx=dict(zip(networkx[\"nodes\"],networkx[\"group\"]))\n",
    "\n",
    "pheno[3]=pheno[1].map(mp_networkx).fillna(pheno[3])\n",
    "mp_category=dict(zip(pheno[1],pheno[3]))\n",
    "\n",
    "all_snp_table[\"category\"]=all_snp_table[\"file\"].map(mp_category).fillna(all_snp_table[\"file\"])\n",
    "\n",
    "mp_category_clean={\n",
    "    \"Module3_IFN_score\":\"IFN\",\n",
    "    \"TGFB_score_21050467\":\"TGFbeta\",\n",
    "    \"HLA-H\":\"MHC-I\",\n",
    "    \"HLA-DQA2\":\"MHC-II\",\n",
    "    \"HLA-G\":\"MHC-I\",\n",
    "    \"HLA-DQA1\":\"MHC-II\",\n",
    "    \"HLA-A\":\"MHC-I\",\n",
    "    \"HLA-DQB2\":\"MHC-II\",\n",
    "    \"HLA-F\":\"MHC-I\",\n",
    "    \"HLA-B\":\"MHC-I\",\n",
    "    \"HLA-DQB1\":\"MHC-II\",\n",
    "    \"HLA-DRB5\":\"MHC-II\",\n",
    "    \"HLA-DRB1\":\"MHC-II\",\n",
    "    \"HLA-C\":\"MHC-I\",\n",
    "    \"HLA-DPB1\":\"MHC-I\",\n",
    "    \"NKT\":\"NK\",\n",
    "    \"cDC\":\"DC\",\n",
    "    \"iDC\":\"DC\",\n",
    "    \"Class-switched_memory_B-cells\":\"B cells\",\n",
    "    \"Memory_B-cells\":\"B cells\",\n",
    "    \"pDC\":\"DC\",\n",
    "    \"NK_cells\":\"NK\",\n",
    "    \"Sigs160-Bindea_aDC\":\"DC\",\n",
    "    \"Sigs160-Bindea_Tfh-cells\":\"Tfh\",\n",
    "    \"Sigs160-Wolf_Interferon-Cluster-21214954\":\"IFN\",\n",
    "    \"Sigs160-Bindea_Th17-cells\":\"Th17\",\n",
    "    \"Sigs160-Wolf_Interferon-19272155\":\"IFN\",\n",
    "    \"Sigs160-Wolf_IFN-21978456\":\"IFN\",\n",
    "    \"Sigs160-Wolf_Module3-IFN-score\":\"IFN\",\n",
    "    \"Core56-Cell-Proportion_Eosinophils_Binary-MedianLowHigh\":\"Eosinophils\",\n",
    "    \"PD-L1\":\"immune checkpoint\",\n",
    "    \"APOE\":\"APOE\",\n",
    "    \"Sigs160-Bindea_Cytotoxic-cells\":\"Cytotoxic Cells\",\n",
    "    \"Macrophages\":\"Monocytes\"\n",
    "}\n",
    "\n",
    "all_snp_table[\"category\"]=np.where(all_snp_table[\"category\"]==\"immune infiltration\",all_snp_table[\"file\"],all_snp_table[\"category\"])\n",
    "all_snp_table[\"category\"]=np.where(all_snp_table[\"category\"]==\"CSF1_response\",\"APOE\",all_snp_table[\"category\"])\n",
    "all_snp_table[\"category_clean\"]=all_snp_table[\"category\"].map(mp_category_clean).fillna(all_snp_table[\"category\"])"
   ]
  },
  {
   "cell_type": "code",
   "execution_count": 505,
   "id": "c6a05ec9-a325-4bcd-a56e-4e3448b2f9aa",
   "metadata": {},
   "outputs": [],
   "source": [
    "sig_snps_results_surv=all_snp_table[all_snp_table[\"OS_PFS\"]==\"yes\"]\n",
    "sig_snps_results_icb=all_snp_table[all_snp_table[\"icb_filt\"]==\"yes\"]\n",
    "sig_snps_results_ukbb=all_snp_table[all_snp_table[\"risk_either\"]==\"yes\"]\n",
    "\n",
    "num_risk=sig_snps_results_ukbb.drop_duplicates(subset=\"file\")\n",
    "num_survival=sig_snps_results_surv.drop_duplicates(subset=\"file\")\n",
    "num_icb=sig_snps_results_icb.drop_duplicates(subset=\"file\")"
   ]
  },
  {
   "cell_type": "code",
   "execution_count": 506,
   "id": "dadea901-35e1-4948-853b-4f8996a64810",
   "metadata": {},
   "outputs": [],
   "source": [
    "risk_df=num_risk[num_risk[\"risk_either\"]!=\"no\"][[\"risk_either\",\"category_clean\"]].groupby([\"risk_either\",\"category_clean\"]).size().reset_index()\n",
    "risk_df.columns=[\"cancer cat\",\"pheno cat\",\"values\"]\n",
    "risk_df[\"cancer cat\"]=risk_df[\"cancer cat\"].map({\"yes\":\"risk\"})\n",
    "\n",
    "surv_df=num_survival[num_survival[\"OS_PFS\"]!=\"no\"][[\"OS_PFS\",\"category_clean\"]].groupby([\"OS_PFS\",\"category_clean\"]).size().reset_index()\n",
    "surv_df.columns=[\"cancer cat\",\"pheno cat\",\"values\"]\n",
    "surv_df[\"cancer cat\"]=surv_df[\"cancer cat\"].map({\"yes\":\"survival\"})\n",
    "\n",
    "icb_df=num_icb[num_icb[\"icb_filt\"]!=\"no\"][[\"icb_filt\",\"category_clean\"]].groupby([\"icb_filt\",\"category_clean\"]).size().reset_index()\n",
    "icb_df.columns=[\"cancer cat\",\"pheno cat\",\"values\"]\n",
    "icb_df[\"cancer cat\"]=icb_df[\"cancer cat\"].map({\"yes\":\"icb\"})\n",
    "\n",
    "cat_df=risk_df.append(surv_df)\n",
    "cat_df=cat_df.append(icb_df)"
   ]
  },
  {
   "cell_type": "code",
   "execution_count": 507,
   "id": "789771d9-109a-4084-8ece-2d20cab80f4f",
   "metadata": {},
   "outputs": [],
   "source": [
    "cat_df=cat_df.pivot(columns=\"pheno cat\",index=\"cancer cat\",values=\"values\")\n",
    "cat_df=cat_df.fillna(0)"
   ]
  },
  {
   "cell_type": "code",
   "execution_count": 508,
   "id": "f3446d65-5ddb-409d-b3cc-ec392206ba14",
   "metadata": {},
   "outputs": [],
   "source": [
    "cat_df=cat_df.loc[[\"risk\",\"survival\",\"icb\"]]"
   ]
  },
  {
   "cell_type": "code",
   "execution_count": 510,
   "id": "90090b4e-7176-470d-be70-7dcfdaeb4ee5",
   "metadata": {},
   "outputs": [],
   "source": [
    "cat_df=cat_df[[\"group1\",\"group2\",\"MHC-I\",\"MHC-II\",\"Sigs160-Wolf_MHC2-21978456\",\"immune checkpoint\",\"DC\",\"IFN\",\"Th17\",\"Tfh\",\"Sigs160-Attractors_IFIT3\",\"Th2_cells\"]]"
   ]
  },
  {
   "cell_type": "code",
   "execution_count": 511,
   "id": "0f8155b0-b03d-46f9-bea5-fd5832ff4b98",
   "metadata": {},
   "outputs": [],
   "source": [
    "cat_df=cat_df.iloc[[1,0,2],:]"
   ]
  },
  {
   "cell_type": "code",
   "execution_count": 515,
   "id": "6ead3150-9c3f-4237-8b3e-8345eb862373",
   "metadata": {},
   "outputs": [
    {
     "data": {
      "image/png": "[encoded data removed]",
      "text/plain": [
       "<Figure size 864x360 with 4 Axes>"
      ]
     },
     "metadata": {
      "needs_background": "light"
     },
     "output_type": "display_data"
    }
   ],
   "source": [
    "sns.clustermap(cat_df,cmap=\"Greens\",figsize=(12,5),row_cluster=False,col_cluster=False,annot=True,vmax=20,fmt=\".3g\")\n",
    "plt.savefig(\"/cellar/users/tsears/projects/germline-immune/plots/fig3/LASSO_IP_cancer.snps.green.clustermap.pdf\")"
   ]
  },
  {
   "cell_type": "code",
   "execution_count": 513,
   "id": "cb8a8c31-354b-4667-8e6a-f7a705b85033",
   "metadata": {},
   "outputs": [
    {
     "data": {
      "image/png": "[encoded data removed]",
      "text/plain": [
       "<Figure size 864x360 with 4 Axes>"
      ]
     },
     "metadata": {
      "needs_background": "light"
     },
     "output_type": "display_data"
    }
   ],
   "source": [
    "sns.clustermap(cat_df,cmap=\"Oranges\",figsize=(12,5),row_cluster=False,col_cluster=False,annot=True,vmax=20,fmt=\".3g\")\n",
    "plt.savefig(\"/cellar/users/tsears/projects/germline-immune/plots/fig3/LASSO_IP_cancer.snps.orange.clustermap.pdf\")"
   ]
  },
  {
   "cell_type": "code",
   "execution_count": 514,
   "id": "2a31af5a-4180-4073-b270-b158ecb43f95",
   "metadata": {},
   "outputs": [
    {
     "data": {
      "image/png": "[encoded data removed]",
      "text/plain": [
       "<Figure size 864x360 with 4 Axes>"
      ]
     },
     "metadata": {
      "needs_background": "light"
     },
     "output_type": "display_data"
    }
   ],
   "source": [
    "sns.clustermap(cat_df,cmap=\"Blues\",figsize=(12,5),row_cluster=False,col_cluster=False,annot=True,vmax=20,fmt=\".3g\")\n",
    "plt.savefig(\"/cellar/users/tsears/projects/germline-immune/plots/fig3/LASSO_IP_cancer.snps.blue.clustermap.pdf\")"
   ]
  },
  {
   "cell_type": "markdown",
   "id": "c8394bed-d6b6-4f75-99df-af58c3476082",
   "metadata": {},
   "source": [
    "### Venn Diagrams"
   ]
  },
  {
   "cell_type": "code",
   "execution_count": null,
   "id": "7595744b-bf22-444c-95c2-d7b6e511c959",
   "metadata": {},
   "outputs": [],
   "source": []
  },
  {
   "cell_type": "code",
   "execution_count": null,
   "id": "b24f89bd-5be2-4483-8420-3c388130af0b",
   "metadata": {},
   "outputs": [],
   "source": []
  },
  {
   "cell_type": "code",
   "execution_count": null,
   "id": "9d123ae5-fba6-420e-9762-4ee6c4b3778f",
   "metadata": {},
   "outputs": [],
   "source": []
  },
  {
   "cell_type": "code",
   "execution_count": 432,
   "id": "066c8eb1-e434-49ff-841a-1dc8d18b1d7f",
   "metadata": {},
   "outputs": [],
   "source": [
    "#Covariate table for OS and PFS study\n",
    "OS_cov=pd.read_csv(\"/cellar/users/tsears/projects/germline-immune/data/fig5/OS_covariate_table\",sep=\"\\t\")\n"
   ]
  },
  {
   "cell_type": "code",
   "execution_count": 433,
   "id": "dcc296a1-37ea-430a-ae3f-9b0339910a60",
   "metadata": {},
   "outputs": [
    {
     "data": {
      "text/html": [
       "<div>\n",
       "<style scoped>\n",
       "    .dataframe tbody tr th:only-of-type {\n",
       "        vertical-align: middle;\n",
       "    }\n",
       "\n",
       "    .dataframe tbody tr th {\n",
       "        vertical-align: top;\n",
       "    }\n",
       "\n",
       "    .dataframe thead th {\n",
       "        text-align: right;\n",
       "    }\n",
       "</style>\n",
       "<table border=\"1\" class=\"dataframe\">\n",
       "  <thead>\n",
       "    <tr style=\"text-align: right;\">\n",
       "      <th></th>\n",
       "      <th>0</th>\n",
       "      <th>1</th>\n",
       "      <th>index</th>\n",
       "    </tr>\n",
       "  </thead>\n",
       "  <tbody>\n",
       "    <tr>\n",
       "      <th>0</th>\n",
       "      <td>BLCA</td>\n",
       "      <td>['radiation_therapy', 'number_of_lymphnodes_po...</td>\n",
       "      <td>BLCA</td>\n",
       "    </tr>\n",
       "    <tr>\n",
       "      <th>1</th>\n",
       "      <td>BRCA</td>\n",
       "      <td>['radiation_therapy', 'number_of_lymphnodes_po...</td>\n",
       "      <td>BRCA</td>\n",
       "    </tr>\n",
       "    <tr>\n",
       "      <th>2</th>\n",
       "      <td>COAD</td>\n",
       "      <td>['radiation_therapy', 'number_of_lymphnodes_po...</td>\n",
       "      <td>COAD</td>\n",
       "    </tr>\n",
       "    <tr>\n",
       "      <th>3</th>\n",
       "      <td>ESCA</td>\n",
       "      <td>['radiation_therapy', 'number_of_lymphnodes_po...</td>\n",
       "      <td>ESCA</td>\n",
       "    </tr>\n",
       "    <tr>\n",
       "      <th>4</th>\n",
       "      <td>HNSC</td>\n",
       "      <td>['radiation_therapy', 'number_of_lymphnodes_po...</td>\n",
       "      <td>HNSC</td>\n",
       "    </tr>\n",
       "    <tr>\n",
       "      <th>5</th>\n",
       "      <td>KICH</td>\n",
       "      <td>['targeted_molecular_therapy', 'T2_pathologic_...</td>\n",
       "      <td>KICH</td>\n",
       "    </tr>\n",
       "    <tr>\n",
       "      <th>6</th>\n",
       "      <td>KIRC</td>\n",
       "      <td>['radiation_therapy', 'T2_pathologic_T', 'T3_p...</td>\n",
       "      <td>KIRC</td>\n",
       "    </tr>\n",
       "    <tr>\n",
       "      <th>7</th>\n",
       "      <td>KIRP</td>\n",
       "      <td>['height', 'weight', 'targeted_molecular_thera...</td>\n",
       "      <td>KIRP</td>\n",
       "    </tr>\n",
       "    <tr>\n",
       "      <th>8</th>\n",
       "      <td>LIHC</td>\n",
       "      <td>['radiation_therapy', 'height', 'weight', 'T2_...</td>\n",
       "      <td>LIHC</td>\n",
       "    </tr>\n",
       "    <tr>\n",
       "      <th>9</th>\n",
       "      <td>LUAD</td>\n",
       "      <td>['radiation_therapy', 'targeted_molecular_ther...</td>\n",
       "      <td>LUAD</td>\n",
       "    </tr>\n",
       "    <tr>\n",
       "      <th>10</th>\n",
       "      <td>LUSC</td>\n",
       "      <td>['radiation_therapy', 'targeted_molecular_ther...</td>\n",
       "      <td>LUSC</td>\n",
       "    </tr>\n",
       "    <tr>\n",
       "      <th>11</th>\n",
       "      <td>PAAD</td>\n",
       "      <td>['radiation_therapy', 'number_of_lymphnodes_po...</td>\n",
       "      <td>PAAD</td>\n",
       "    </tr>\n",
       "    <tr>\n",
       "      <th>12</th>\n",
       "      <td>READ</td>\n",
       "      <td>['radiation_therapy', 'number_of_lymphnodes_po...</td>\n",
       "      <td>READ</td>\n",
       "    </tr>\n",
       "    <tr>\n",
       "      <th>13</th>\n",
       "      <td>SKCM</td>\n",
       "      <td>['radiation_therapy', 'height', 'weight', 'T2_...</td>\n",
       "      <td>SKCM</td>\n",
       "    </tr>\n",
       "    <tr>\n",
       "      <th>14</th>\n",
       "      <td>STAD</td>\n",
       "      <td>['radiation_therapy', 'number_of_lymphnodes_po...</td>\n",
       "      <td>STAD</td>\n",
       "    </tr>\n",
       "    <tr>\n",
       "      <th>15</th>\n",
       "      <td>TGCT</td>\n",
       "      <td>['radiation_therapy', 'history_of_undescended_...</td>\n",
       "      <td>TGCT</td>\n",
       "    </tr>\n",
       "    <tr>\n",
       "      <th>16</th>\n",
       "      <td>THCA</td>\n",
       "      <td>['radiation_therapy', 'number_of_lymphnodes_po...</td>\n",
       "      <td>THCA</td>\n",
       "    </tr>\n",
       "  </tbody>\n",
       "</table>\n",
       "</div>"
      ],
      "text/plain": [
       "       0                                                  1 index\n",
       "0   BLCA  ['radiation_therapy', 'number_of_lymphnodes_po...  BLCA\n",
       "1   BRCA  ['radiation_therapy', 'number_of_lymphnodes_po...  BRCA\n",
       "2   COAD  ['radiation_therapy', 'number_of_lymphnodes_po...  COAD\n",
       "3   ESCA  ['radiation_therapy', 'number_of_lymphnodes_po...  ESCA\n",
       "4   HNSC  ['radiation_therapy', 'number_of_lymphnodes_po...  HNSC\n",
       "5   KICH  ['targeted_molecular_therapy', 'T2_pathologic_...  KICH\n",
       "6   KIRC  ['radiation_therapy', 'T2_pathologic_T', 'T3_p...  KIRC\n",
       "7   KIRP  ['height', 'weight', 'targeted_molecular_thera...  KIRP\n",
       "8   LIHC  ['radiation_therapy', 'height', 'weight', 'T2_...  LIHC\n",
       "9   LUAD  ['radiation_therapy', 'targeted_molecular_ther...  LUAD\n",
       "10  LUSC  ['radiation_therapy', 'targeted_molecular_ther...  LUSC\n",
       "11  PAAD  ['radiation_therapy', 'number_of_lymphnodes_po...  PAAD\n",
       "12  READ  ['radiation_therapy', 'number_of_lymphnodes_po...  READ\n",
       "13  SKCM  ['radiation_therapy', 'height', 'weight', 'T2_...  SKCM\n",
       "14  STAD  ['radiation_therapy', 'number_of_lymphnodes_po...  STAD\n",
       "15  TGCT  ['radiation_therapy', 'history_of_undescended_...  TGCT\n",
       "16  THCA  ['radiation_therapy', 'number_of_lymphnodes_po...  THCA"
      ]
     },
     "execution_count": 433,
     "metadata": {},
     "output_type": "execute_result"
    }
   ],
   "source": [
    "OS_cov"
   ]
  },
  {
   "cell_type": "code",
   "execution_count": null,
   "id": "01bd7565-6204-436c-b85d-8d6e7783bcf1",
   "metadata": {},
   "outputs": [],
   "source": []
  }
 ],
 "metadata": {
  "kernelspec": {
   "display_name": "ML_kernal",
   "language": "python",
   "name": "ml_kernal"
  },
  "language_info": {
   "codemirror_mode": {
    "name": "ipython",
    "version": 3
   },
   "file_extension": ".py",
   "mimetype": "text/x-python",
   "name": "python",
   "nbconvert_exporter": "python",
   "pygments_lexer": "ipython3",
   "version": "3.7.12"
  }
 },
 "nbformat": 4,
 "nbformat_minor": 5
}
