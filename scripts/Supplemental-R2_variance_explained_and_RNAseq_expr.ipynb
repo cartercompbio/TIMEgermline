{
 "cells": [
  {
   "cell_type": "code",
   "execution_count": 1,
   "id": "7a49e876-da56-4978-a1bf-1ceb15880cd8",
   "metadata": {},
   "outputs": [],
   "source": [
    "import pandas as pd\n",
    "import json\n",
    "import os\n",
    "import numpy as np"
   ]
  },
  {
   "cell_type": "code",
   "execution_count": 2,
   "id": "3aefb9c6-5703-4534-a6b6-79007ef9d7b9",
   "metadata": {},
   "outputs": [],
   "source": [
    "import seaborn as sns\n",
    "import matplotlib.pyplot as plt\n",
    "import matplotlib as mpl\n",
    "mpl.rcParams['pdf.fonttype'] = 42\n",
    "mpl.rcParams['ps.fonttype'] = 42\n",
    "from adjustText import adjust_text"
   ]
  },
  {
   "cell_type": "code",
   "execution_count": 3,
   "id": "11ecd823-7a67-407f-aa96-88ae90200faa",
   "metadata": {},
   "outputs": [],
   "source": [
    "#OLS analysis\n",
    "from sklearn import linear_model\n",
    "from regressors import stats\n",
    "import statsmodels.api as sm"
   ]
  },
  {
   "cell_type": "code",
   "execution_count": 4,
   "id": "5cfa7d18-11b0-46dd-a05a-894902025380",
   "metadata": {},
   "outputs": [],
   "source": [
    "from scipy.stats import mannwhitneyu\n",
    "from scipy import stats"
   ]
  },
  {
   "cell_type": "code",
   "execution_count": 5,
   "id": "228f1ccc-88fe-422f-890f-e80920e5ee8f",
   "metadata": {},
   "outputs": [],
   "source": [
    "import statsmodels.stats.multitest as multi"
   ]
  },
  {
   "cell_type": "code",
   "execution_count": 6,
   "id": "8519e79f-6ffc-4bd2-a746-7fc11efa90e2",
   "metadata": {},
   "outputs": [],
   "source": [
    "with open('/cellar/users/mpagadal/resources/tcga/ensembl_map.json', 'r') as f:\n",
    "    ensembl = json.load(f)\n",
    "ensembl={k.split(\".\")[0]:v for k,v in ensembl.items()}"
   ]
  },
  {
   "cell_type": "code",
   "execution_count": 7,
   "id": "77f2a9df-557b-48d4-8db8-2068e1bde5c8",
   "metadata": {},
   "outputs": [],
   "source": [
    "with open('/cellar/controlled/dbgap-genetic/ICB/rna/TPMs/all_immunotherapy_tpm.json', 'r') as f:\n",
    "    icb_tpm = json.load(f)\n",
    "tpm=pd.DataFrame.from_dict(icb_tpm)"
   ]
  },
  {
   "cell_type": "code",
   "execution_count": 8,
   "id": "f91121b0-3cc6-484c-9ebc-451756397a49",
   "metadata": {},
   "outputs": [],
   "source": [
    "def fdr(df,pseudo,p):\n",
    "    \n",
    "    '''\n",
    "    calculate Benjamini-Hochberg FDR\n",
    "    pseudo: True or False\n",
    "    '''\n",
    "    \n",
    "    #add pseudocounta\n",
    "    if pseudo == True:\n",
    "        df[p]=df[p]+0.000000000001\n",
    "    \n",
    "    #calculate benjamin-hochberg fdr\n",
    "    probabilities = df[p].to_numpy()\n",
    "    report = multi.multipletests(probabilities,\n",
    "                alpha=0.05,\n",
    "                method=\"fdr_bh\",\n",
    "                is_sorted=False,\n",
    "            )\n",
    "    discoveries = report[1]\n",
    "    df[\"fdr\"]=discoveries\n",
    "    df[\"fdr\"]=pd.to_numeric(df[\"fdr\"])\n",
    "    df[\"-log10(fdr)\"]=-np.log10(df[\"fdr\"])\n",
    "    \n",
    "    return(df)"
   ]
  },
  {
   "cell_type": "markdown",
   "id": "1c19ff92-839e-4c8e-896b-8edc74b5beea",
   "metadata": {},
   "source": [
    "### Get PD-1/PD-L1"
   ]
  },
  {
   "cell_type": "code",
   "execution_count": 9,
   "id": "98842604-f1b1-4cf4-aaef-4c4adc8b690d",
   "metadata": {},
   "outputs": [],
   "source": [
    "#analyze TPM rna\n",
    "rna=tpm.copy()\n",
    "rna+=1\n",
    "rna=np.log2(rna)"
   ]
  },
  {
   "cell_type": "code",
   "execution_count": 10,
   "id": "5bf1c354-9d97-49a4-aafc-7012834c9b83",
   "metadata": {},
   "outputs": [],
   "source": [
    "rna.index=rna.index.str.split(\".\").str[0]\n",
    "rna[\"gene name\"]=rna.index.map(ensembl)\n",
    "rna=rna[~(rna[\"gene name\"].isnull())]\n",
    "rna.index=rna[\"gene name\"]\n",
    "del rna[\"gene name\"]\n",
    "rna=rna.T\n",
    "rna.index=rna.index.str.split(\".sra\").str[0]\n",
    "rna=rna.reset_index()\n",
    "rna=rna.rename(columns={\"index\":\"FID\"})"
   ]
  },
  {
   "cell_type": "code",
   "execution_count": 11,
   "id": "f489d0fb-ead4-4a78-aa46-05e8cb3174c7",
   "metadata": {},
   "outputs": [
    {
     "name": "stdout",
     "output_type": "stream",
     "text": [
      "742\n"
     ]
    }
   ],
   "source": [
    "#get mapping file\n",
    "mapping=pd.read_csv(\"/nrnb/users/mpagadal/immunotherapy-trials/wxs_rna_mapping_table_v2.tsv\",delimiter=\"\\t\")\n",
    "print(len(mapping[\"normal WXS id\"].unique()))\n",
    "mapping=mapping[~(mapping[\"tumor RNA id\"].isnull())]"
   ]
  },
  {
   "cell_type": "code",
   "execution_count": 12,
   "id": "3cd97484-c765-4ca5-8e27-b11ed870875b",
   "metadata": {},
   "outputs": [
    {
     "data": {
      "text/plain": [
       "Index(['normal WXS id', 'study', 'patient id', 'Age', 'Gender', 'Response',\n",
       "       'OS', 'OS.time', 'PFS', 'PFS.time', 'Biopsy Time', 'tumor RNA id',\n",
       "       'BCR_Shannon', 'TCR_Shannon', 'BCR_Richness', 'TCR_Richness',\n",
       "       'BCR_Evenness', 'TCR_Evenness', 'tumor WXS id', 'cancer',\n",
       "       'partial.coding', 'partial.sd.coding', 'complete.coding',\n",
       "       'partial.sd.surv.coding', 'nonresponder.sd.coding', 'response_crist_sd',\n",
       "       'response_crist_sd_surv', 'response_crist_partial',\n",
       "       'response_crist_complete', 'study_cancer'],\n",
       "      dtype='object')"
      ]
     },
     "execution_count": 12,
     "metadata": {},
     "output_type": "execute_result"
    }
   ],
   "source": [
    "mapping.columns"
   ]
  },
  {
   "cell_type": "code",
   "execution_count": 13,
   "id": "55908887-82e8-4c4c-a75f-960c1c38fcc9",
   "metadata": {},
   "outputs": [],
   "source": [
    "mp_study=dict(zip(mapping[\"tumor RNA id\"],mapping[\"study\"]))\n",
    "mp_time=dict(zip(mapping[\"tumor RNA id\"],mapping[\"Biopsy Time\"]))\n",
    "mp_response=dict(zip(mapping[\"normal WXS id\"],mapping[\"Response\"]))\n",
    "mp_rna2geno=dict(zip(mapping[\"tumor RNA id\"],mapping[\"normal WXS id\"]))\n",
    "\n",
    "mp_tmr2geno={}\n",
    "for i,row in mapping.iterrows():\n",
    "    for x in row[\"tumor WXS id\"].split(\", \"):\n",
    "        mp_tmr2geno[x]=row[\"normal WXS id\"]"
   ]
  },
  {
   "cell_type": "code",
   "execution_count": 14,
   "id": "19d1219e-573a-41e6-80a1-634df70872d9",
   "metadata": {},
   "outputs": [
    {
     "name": "stderr",
     "output_type": "stream",
     "text": [
      "/cm/shared/apps/jupyter/12.3.0/lib/python3.7/site-packages/ipykernel_launcher.py:7: SettingWithCopyWarning: \n",
      "A value is trying to be set on a copy of a slice from a DataFrame.\n",
      "Try using .loc[row_indexer,col_indexer] = value instead\n",
      "\n",
      "See the caveats in the documentation: https://pandas.pydata.org/pandas-docs/stable/user_guide/indexing.html#returning-a-view-versus-a-copy\n",
      "  import sys\n"
     ]
    }
   ],
   "source": [
    "rna[\"study\"]=rna[\"FID\"].map(mp_study)\n",
    "rna[\"time\"]=rna[\"FID\"].map(mp_time)\n",
    "\n",
    "rna[\"FID\"]=rna[\"FID\"].map(mp_rna2geno)\n",
    "rna_filt=rna[~(rna[\"FID\"].isnull())]\n",
    "\n",
    "rna_filt[\"response\"]=rna_filt[\"FID\"].map(mp_response)\n",
    "\n",
    "dict_response={\"Progressive Disease\":\"PD\",\"Partial Response\":\"PR\",\"Complete Response\":\"CR\"}\n",
    "rna_filt=rna_filt.replace({\"response\": dict_response})\n",
    "rna_filt_pre=rna_filt[~rna_filt[\"time\"].isin([\"On\",\"on-treatment\"])]"
   ]
  },
  {
   "cell_type": "code",
   "execution_count": 15,
   "id": "49f0433d-e9ad-4bfc-a98a-b4375e292fcf",
   "metadata": {},
   "outputs": [],
   "source": [
    "ic_exp=rna_filt_pre[[\"FID\",\"PDCD1\",\"CD274\",\"CTLA4\"]]"
   ]
  },
  {
   "cell_type": "markdown",
   "id": "3a7cc8db-b6af-4ffd-9df6-bda17edc0b11",
   "metadata": {},
   "source": [
    "### Get TMB"
   ]
  },
  {
   "cell_type": "code",
   "execution_count": 90,
   "id": "87192efc-1fa7-4b70-936c-fe831ed82163",
   "metadata": {},
   "outputs": [],
   "source": [
    "tmb=pd.read_csv(\"/cellar/users/mpagadal/immunotherapy-trials/data/tmb/mutect.filtered.muts.tsv\",delimiter=\"\\t\")\n",
    "tmb=tmb[[\"tumor_id\"]].groupby([\"tumor_id\"]).size().reset_index()\n",
    "tmb.columns=[\"tumor_id\",\"TMB\"]"
   ]
  },
  {
   "cell_type": "code",
   "execution_count": 91,
   "id": "6a399c20-b2ff-4992-a70d-9d27ce6412a7",
   "metadata": {},
   "outputs": [],
   "source": [
    "tmb[\"FID\"]=tmb[\"tumor_id\"].map(mp_tmr2geno)"
   ]
  },
  {
   "cell_type": "code",
   "execution_count": 92,
   "id": "034d06ae-da8a-4443-a4e7-5ef59357eb3a",
   "metadata": {},
   "outputs": [],
   "source": [
    "tmb=tmb[~tmb[\"FID\"].isnull()]"
   ]
  },
  {
   "cell_type": "code",
   "execution_count": 93,
   "id": "ded590c8-0b99-4f34-8d01-8d52ce26957a",
   "metadata": {},
   "outputs": [],
   "source": [
    "tmb=tmb[[\"FID\",\"TMB\"]].groupby([\"FID\"]).mean().reset_index()"
   ]
  },
  {
   "cell_type": "code",
   "execution_count": 94,
   "id": "18f2b157-18ba-4fce-b619-125eddc01dd8",
   "metadata": {},
   "outputs": [
    {
     "name": "stdout",
     "output_type": "stream",
     "text": [
      "134\n"
     ]
    }
   ],
   "source": [
    "print(len(tmb))"
   ]
  },
  {
   "cell_type": "markdown",
   "id": "9c3385d4-ea88-4748-aeb9-14641eee9820",
   "metadata": {},
   "source": [
    "### Get germline PRS"
   ]
  },
  {
   "cell_type": "code",
   "execution_count": 95,
   "id": "3660b8b8-3e3b-4687-b4fb-c4e63c084efe",
   "metadata": {},
   "outputs": [],
   "source": [
    "compiled_prs=pd.read_csv(\"../data/icb-response/burden-score/burden.fdr.5.csv\")"
   ]
  },
  {
   "cell_type": "code",
   "execution_count": 96,
   "id": "c83b819e-7f6c-463a-9ab1-0f4ec8ed3892",
   "metadata": {},
   "outputs": [],
   "source": [
    "compiled_prs=compiled_prs[[\"FID\",\"burden\",\"pheno\",\"study\"]]"
   ]
  },
  {
   "cell_type": "markdown",
   "id": "6da799d0-279c-4c8f-bd96-24ac51fd4d89",
   "metadata": {},
   "source": [
    "### Get covariate"
   ]
  },
  {
   "cell_type": "code",
   "execution_count": 97,
   "id": "6cd8f522-da8f-4e5a-bacd-37b1a049e6a6",
   "metadata": {},
   "outputs": [],
   "source": [
    "cov=pd.read_csv(\"/nrnb/users/mpagadal/immunotherapy-trials/normal_wxs/covar/total.cov.age.sex.study.v2.txt\",delimiter=\"\\t\")"
   ]
  },
  {
   "cell_type": "markdown",
   "id": "e9d67d56-198e-474a-82ed-f62006349bb0",
   "metadata": {},
   "source": [
    "### Combine"
   ]
  },
  {
   "cell_type": "code",
   "execution_count": 98,
   "id": "a495ee6c-1497-4d8a-b1b7-2301be674a33",
   "metadata": {},
   "outputs": [],
   "source": [
    "markers=pd.merge(ic_exp,tmb[[\"FID\",\"TMB\"]],on=\"FID\",how=\"left\")\n",
    "markers=pd.merge(markers,compiled_prs,on=\"FID\",how=\"outer\")\n",
    "markers=pd.merge(markers,cov,on=[\"FID\"])\n",
    "markers=markers[~markers[\"study\"].isnull()]"
   ]
  },
  {
   "cell_type": "code",
   "execution_count": 99,
   "id": "d7d4c4d9-132d-4968-b115-c4d4575ce5fd",
   "metadata": {},
   "outputs": [],
   "source": [
    "markers[\"response\"]=markers[\"pheno\"].map({2:1,1:0})"
   ]
  },
  {
   "cell_type": "code",
   "execution_count": 100,
   "id": "d1ae277d-d4e2-4965-9f0d-2aa64c669742",
   "metadata": {},
   "outputs": [],
   "source": [
    "markers.to_csv(\"../data/r2/icb.pd1.pdl1.tmb.germline.tsv\",index=None,sep=\"\\t\")"
   ]
  },
  {
   "cell_type": "markdown",
   "id": "d2d41d88-7f62-4d21-a27b-d1dcebee3c0a",
   "metadata": {},
   "source": [
    "### Run OLS with markers"
   ]
  },
  {
   "cell_type": "code",
   "execution_count": 101,
   "id": "e4228102-1c1e-4eb9-95b5-edb0433b90ac",
   "metadata": {},
   "outputs": [
    {
     "name": "stderr",
     "output_type": "stream",
     "text": [
      "/cellar/users/mpagadal/Programs/miniconda3/envs/baseold/lib/python3.7/site-packages/numpy/core/fromnumeric.py:2389: FutureWarning: Method .ptp is deprecated and will be removed in a future version. Use numpy.ptp instead.\n",
      "  return ptp(axis=axis, out=out, **kwargs)\n"
     ]
    }
   ],
   "source": [
    "beta=[]\n",
    "pval=[]\n",
    "marker_lst=[]\n",
    "study_lst=[]\n",
    "\n",
    "for study in markers[\"study\"].unique():\n",
    "    \n",
    "    for marker in [\"PDCD1\",\"CD274\",\"CTLA4\",\"TMB\"]:\n",
    "        try:\n",
    "            markers_study=markers[markers[\"study\"]==study]\n",
    "            markers_study=markers_study[~markers_study[marker].isnull()]\n",
    "        \n",
    "            ols = linear_model.LinearRegression()\n",
    "            X=markers_study[[marker,\"Age\",\"Gender\",\"C1\",\"C2\",\"C3\",\"C4\",\"C5\",\"C6\",\"C7\",\"C8\",\"C9\",\"C10\"]]\n",
    "            y=markers_study[\"pheno\"].values.reshape(-1, 1)\n",
    "        \n",
    "            X = sm.add_constant(X)\n",
    "        \n",
    "            model=sm.OLS(y,X)\n",
    "            results=model.fit()\n",
    "        \n",
    "            beta.append(results.params[1])\n",
    "            pval.append(results.pvalues[1])\n",
    "            marker_lst.append(marker)\n",
    "            study_lst.append(study)\n",
    "        except:\n",
    "            beta.append(0)\n",
    "            pval.append(0)\n",
    "            marker_lst.append(marker)\n",
    "            study_lst.append(study)\n",
    "            pass\n",
    "\n",
    "df_ols=pd.DataFrame({\"markers\":marker_lst,\"study\":study_lst,\"beta\":beta,\"p\":pval})\n",
    "        "
   ]
  },
  {
   "cell_type": "code",
   "execution_count": 102,
   "id": "45e63018-408a-4093-92f5-e41a72b0ebf6",
   "metadata": {},
   "outputs": [],
   "source": [
    "df_ols=df_ols[df_ols[\"study\"].isin([\"riaz\",\"miao\",\"vanallen\",\"hugo\",\"rizvi\",\"snyder\"])]"
   ]
  },
  {
   "cell_type": "code",
   "execution_count": 103,
   "id": "0b9741e6-c9e9-419a-be30-c6934b808186",
   "metadata": {},
   "outputs": [
    {
     "name": "stderr",
     "output_type": "stream",
     "text": [
      "/cellar/users/mpagadal/Programs/miniconda3/envs/baseold/lib/python3.7/site-packages/ipykernel_launcher.py:1: RuntimeWarning: divide by zero encountered in log10\n",
      "  \"\"\"Entry point for launching an IPython kernel.\n"
     ]
    }
   ],
   "source": [
    "df_ols[\"-log10p\"]=-np.log10(df_ols[\"p\"])"
   ]
  },
  {
   "cell_type": "code",
   "execution_count": 104,
   "id": "2973283a-7513-4d08-b210-e0c0b6e0aa7b",
   "metadata": {},
   "outputs": [],
   "source": [
    "df_ols=df_ols.sort_values(by=\"study\")"
   ]
  },
  {
   "cell_type": "code",
   "execution_count": 220,
   "id": "e7dc3ff8-9f85-424f-b1ac-088e74bd3119",
   "metadata": {},
   "outputs": [
    {
     "data": {
      "image/png": "[encoded data removed]",
      "text/plain": [
       "<Figure size 216x216 with 2 Axes>"
      ]
     },
     "metadata": {
      "needs_background": "light"
     },
     "output_type": "display_data"
    }
   ],
   "source": [
    "#Plot\n",
    "\n",
    "def heatmap(x, y, size,color):\n",
    "    fig, ax = plt.subplots(figsize=(3, 3))\n",
    "    \n",
    "    # Mapping from column names to integer coordinates\n",
    "    x_labels = [v for v in x.unique()]\n",
    "    y_labels = [v for v in y.unique()]\n",
    "    x_to_num = {p[1]:p[0] for p in enumerate(x_labels)} \n",
    "    y_to_num = {p[1]:p[0] for p in enumerate(y_labels)} \n",
    "    \n",
    "    size_scale = 100\n",
    "    plt.scatter(\n",
    "        x=x.map(x_to_num), # Use mapping for x\n",
    "        y=y.map(y_to_num), # Use mapping for y\n",
    "        s=size * size_scale, \n",
    "        c=color,\n",
    "        cmap=\"RdBu_r\", vmin=-.5, vmax=.5# Vector of square sizes, proportional to size parameter\n",
    "    )\n",
    "    \n",
    "    # Show column labels on the axes\n",
    "    ax.set_xticks([x_to_num[v] for v in x_labels])\n",
    "    ax.set_xticklabels(x_labels, rotation=45, horizontalalignment='right')\n",
    "    ax.set_yticks([y_to_num[v] for v in y_labels])\n",
    "    ax.set_yticklabels(y_labels)\n",
    "    plt.colorbar()\n",
    "    \n",
    "    plt.xticks(rotation=90)\n",
    "    \n",
    "    \n",
    "heatmap(\n",
    "    x=df_ols['markers'],\n",
    "    y=df_ols['study'],\n",
    "    size=df_ols['-log10p'],\n",
    "    color=df_ols['beta'],\n",
    ")\n",
    "\n",
    "plt.savefig(\"../plots/fig7/study.markers.clustermap.pdf\")"
   ]
  },
  {
   "cell_type": "code",
   "execution_count": 222,
   "id": "8812c96f-bdd3-4fb7-8f8a-3af6ebed8681",
   "metadata": {},
   "outputs": [],
   "source": [
    "df_avg=markers[[\"TMB\",\"CTLA4\",\"CD274\",\"PDCD1\",\"study\"]].groupby(\"study\").mean().reset_index()\n",
    "df_avg=df_avg[df_avg[\"study\"].isin([\"hugo\",\"miao\",\"riaz\",\"vanallen\"])]\n",
    "\n",
    "df_mean=df_avg.mean().reset_index()\n",
    "df_mean.columns=[\"gene\",\"mean\"]\n",
    "\n",
    "df_std=df_avg.std().reset_index()\n",
    "df_std.columns=[\"gene\",\"std\"]\n",
    "\n",
    "df_plot=pd.merge(df_mean,df_std,on=\"gene\",how=\"left\")"
   ]
  },
  {
   "cell_type": "code",
   "execution_count": 241,
   "id": "11583f19-abd0-481c-b659-3e9338a6aedb",
   "metadata": {},
   "outputs": [
    {
     "data": {
      "image/png": "[encoded data removed]",
      "text/plain": [
       "<Figure size 216x72 with 1 Axes>"
      ]
     },
     "metadata": {
      "needs_background": "light"
     },
     "output_type": "display_data"
    }
   ],
   "source": [
    "fig = plt.figure(figsize=(3,1))\n",
    "plt.errorbar(x=df_plot.gene.tolist(),y=df_plot[\"mean\"].tolist(),yerr=df_plot[\"std\"].tolist(),fmt=\"o\",color=\"gray\")\n",
    "plt.savefig(\"../plots/fig7/io.error.pdf\")"
   ]
  },
  {
   "cell_type": "markdown",
   "id": "8eea6be9-9a1f-42ff-9274-1b366a63fd4f",
   "metadata": {},
   "source": [
    "### Get results"
   ]
  },
  {
   "cell_type": "code",
   "execution_count": 109,
   "id": "95cbba0f-1a62-4076-b748-34aadc1ac9f5",
   "metadata": {},
   "outputs": [],
   "source": [
    "results=pd.read_csv(\"../data/r2/r2.results.csv\")"
   ]
  },
  {
   "cell_type": "code",
   "execution_count": 110,
   "id": "152e31b5-469b-42ef-afbe-f22d6d91ffd5",
   "metadata": {},
   "outputs": [],
   "source": [
    "results=results[results[\"Unnamed: 0\"].str.contains(\"McFadden\")]\n",
    "results=results[~results[\"Unnamed: 0\"].str.contains(\"Adj\")]"
   ]
  },
  {
   "cell_type": "code",
   "execution_count": 111,
   "id": "b786f41e-624d-4c9c-b77f-8c57cfb39f2d",
   "metadata": {},
   "outputs": [],
   "source": [
    "results=results.pivot(index=\"study\",columns=\"model\",values=\"r2\").fillna(0)"
   ]
  },
  {
   "cell_type": "code",
   "execution_count": 112,
   "id": "2294606d-0141-4de5-93ac-ba10c83396c8",
   "metadata": {},
   "outputs": [],
   "source": [
    "results=results[results.index.isin([\"riaz\",\"miao\",\"vanallen\",\"hugo\",\"rizvi\",\"snyder\"])]\n",
    "results=results.reset_index()"
   ]
  },
  {
   "cell_type": "code",
   "execution_count": 114,
   "id": "b6eaae10-e9a1-4678-9e9d-5cc2b71c2351",
   "metadata": {},
   "outputs": [],
   "source": [
    "results=pd.melt(results,id_vars=[\"study\"],value_vars=[\"TMB\",\"TMB/PD1/PDL1/CTLA4\",\"TMB/PD1/PDL1/CTLA4+germline\",\"germline PRS only\"])"
   ]
  },
  {
   "cell_type": "code",
   "execution_count": 115,
   "id": "70a08cd9-ea5d-4d39-98d6-b2d1e07e41b7",
   "metadata": {},
   "outputs": [],
   "source": [
    "results=results.sort_values(by=\"study\",ascending=False)"
   ]
  },
  {
   "cell_type": "code",
   "execution_count": 116,
   "id": "1d28096f-77b3-4c40-af67-650afcb23fa4",
   "metadata": {},
   "outputs": [
    {
     "name": "stderr",
     "output_type": "stream",
     "text": [
      "/cellar/users/mpagadal/Programs/miniconda3/envs/baseold/lib/python3.7/site-packages/matplotlib/tight_layout.py:211: UserWarning: Tight layout not applied. tight_layout cannot make axes height small enough to accommodate all axes decorations\n",
      "  warnings.warn('Tight layout not applied. '\n",
      "/cellar/users/mpagadal/Programs/miniconda3/envs/baseold/lib/python3.7/site-packages/matplotlib/tight_layout.py:211: UserWarning: Tight layout not applied. tight_layout cannot make axes height small enough to accommodate all axes decorations\n",
      "  warnings.warn('Tight layout not applied. '\n",
      "/cellar/users/mpagadal/Programs/miniconda3/envs/baseold/lib/python3.7/site-packages/matplotlib/tight_layout.py:211: UserWarning: Tight layout not applied. tight_layout cannot make axes height small enough to accommodate all axes decorations\n",
      "  warnings.warn('Tight layout not applied. '\n",
      "/cellar/users/mpagadal/Programs/miniconda3/envs/baseold/lib/python3.7/site-packages/matplotlib/figure.py:2369: UserWarning: This figure includes Axes that are not compatible with tight_layout, so results might be incorrect.\n",
      "  warnings.warn(\"This figure includes Axes that are not compatible \"\n"
     ]
    },
    {
     "data": {
      "image/png": "[encoded data removed]",
      "text/plain": [
       "<Figure size 432x288 with 6 Axes>"
      ]
     },
     "metadata": {
      "needs_background": "light"
     },
     "output_type": "display_data"
    }
   ],
   "source": [
    "fig, axs = plt.subplots(6, 1, sharey=True, tight_layout=True, figsize=(6, 4))\n",
    "axli = axs.flatten()\n",
    "\n",
    "for i,x in enumerate(results[\"study\"].unique().tolist()):\n",
    "    df=results[results[\"study\"]==x]\n",
    "    \n",
    "    sns.barplot(x=\"model\",y=\"value\",data=df,ax=axli[i],order=[\"germline PRS only\",\"TMB\",\"TMB/PD1/PDL1/CTLA4\",\"TMB/PD1/PDL1/CTLA4+germline\"])\n",
    "    axli[i].tick_params(labelrotation=90)\n",
    "    axli[i].set_title(x)\n",
    "plt.savefig(\"../plots/fig7/r2.pdf\")"
   ]
  },
  {
   "cell_type": "markdown",
   "id": "9ef75ec4-92c5-48d4-ba80-69be2dcf3122",
   "metadata": {},
   "source": [
    "### Get association of CTSS variant with RNA"
   ]
  },
  {
   "cell_type": "code",
   "execution_count": 16,
   "id": "ff9f957f-49b6-4f7a-b213-d4982ae119a4",
   "metadata": {},
   "outputs": [],
   "source": [
    "raw=pd.read_csv(\"/cellar/users/mpagadal/projects/germline-immune/data/icb-genotypes/all.time.raw\",delim_whitespace=True)"
   ]
  },
  {
   "cell_type": "code",
   "execution_count": 17,
   "id": "6d8d71be-e386-4d36-b223-a7d4544b051c",
   "metadata": {},
   "outputs": [],
   "source": [
    "rna_pre=rna[~rna[\"time\"].isin([\"On\"])]\n",
    "raw_rna=pd.merge(raw,rna_pre,on=\"FID\",how=\"left\")"
   ]
  },
  {
   "cell_type": "code",
   "execution_count": 18,
   "id": "ca3cac59-1d36-45f8-bcae-da7b8fd4cf2d",
   "metadata": {},
   "outputs": [],
   "source": [
    "ciber=pd.read_csv(\"/nrnb/users/mpagadal/immunotherapy-trials/normal_wxs/phenos/pheno.cibersortx.txt\",delimiter=\"\\t\")\n",
    "ciber[\"FID\"]=ciber[\"FID\"].str.split(\".\").str[0]"
   ]
  },
  {
   "cell_type": "code",
   "execution_count": 19,
   "id": "dc0cfb01-3735-4bf5-9cd6-3ec188636198",
   "metadata": {},
   "outputs": [],
   "source": [
    "raw_rna=pd.merge(raw_rna,ciber,on=\"FID\",how=\"left\")"
   ]
  },
  {
   "cell_type": "code",
   "execution_count": 20,
   "id": "2e5d56ef-f03e-483e-b638-29ddd16ddfb2",
   "metadata": {},
   "outputs": [],
   "source": [
    "raw_rna[\"response\"]=raw_rna[\"FID\"].map(mp_response)\n",
    "raw_rna=raw_rna.replace({\"response\": dict_response})"
   ]
  },
  {
   "cell_type": "code",
   "execution_count": 21,
   "id": "60bfa88a-76c5-4030-b55f-709801aedf5d",
   "metadata": {},
   "outputs": [
    {
     "data": {
      "text/html": [
       "<div>\n",
       "<style scoped>\n",
       "    .dataframe tbody tr th:only-of-type {\n",
       "        vertical-align: middle;\n",
       "    }\n",
       "\n",
       "    .dataframe tbody tr th {\n",
       "        vertical-align: top;\n",
       "    }\n",
       "\n",
       "    .dataframe thead th {\n",
       "        text-align: right;\n",
       "    }\n",
       "</style>\n",
       "<table border=\"1\" class=\"dataframe\">\n",
       "  <thead>\n",
       "    <tr style=\"text-align: right;\">\n",
       "      <th></th>\n",
       "      <th>FID</th>\n",
       "      <th>IID_x</th>\n",
       "      <th>PAT</th>\n",
       "      <th>MAT</th>\n",
       "      <th>SEX</th>\n",
       "      <th>PHENOTYPE</th>\n",
       "      <th>1:1421752:G:A_A</th>\n",
       "      <th>1:7833228:A:G_G</th>\n",
       "      <th>1:7836659:A:C_C</th>\n",
       "      <th>1:7836798:A:G_G</th>\n",
       "      <th>...</th>\n",
       "      <th>Macrophages.M1</th>\n",
       "      <th>Macrophages.M2</th>\n",
       "      <th>Dendritic.cells.resting</th>\n",
       "      <th>Dendritic.cells.activated</th>\n",
       "      <th>Mast.cells.resting</th>\n",
       "      <th>Mast.cells.activated</th>\n",
       "      <th>Eosinophils</th>\n",
       "      <th>Neutrophils</th>\n",
       "      <th>M1.M2</th>\n",
       "      <th>response</th>\n",
       "    </tr>\n",
       "  </thead>\n",
       "  <tbody>\n",
       "    <tr>\n",
       "      <th>0</th>\n",
       "      <td>SRR478575</td>\n",
       "      <td>SRR478575</td>\n",
       "      <td>0</td>\n",
       "      <td>0</td>\n",
       "      <td>0</td>\n",
       "      <td>-9</td>\n",
       "      <td>0</td>\n",
       "      <td>0</td>\n",
       "      <td>0</td>\n",
       "      <td>0</td>\n",
       "      <td>...</td>\n",
       "      <td>NaN</td>\n",
       "      <td>NaN</td>\n",
       "      <td>NaN</td>\n",
       "      <td>NaN</td>\n",
       "      <td>NaN</td>\n",
       "      <td>NaN</td>\n",
       "      <td>NaN</td>\n",
       "      <td>NaN</td>\n",
       "      <td>NaN</td>\n",
       "      <td>NaN</td>\n",
       "    </tr>\n",
       "    <tr>\n",
       "      <th>1</th>\n",
       "      <td>SRR478621</td>\n",
       "      <td>SRR478621</td>\n",
       "      <td>0</td>\n",
       "      <td>0</td>\n",
       "      <td>0</td>\n",
       "      <td>-9</td>\n",
       "      <td>0</td>\n",
       "      <td>1</td>\n",
       "      <td>1</td>\n",
       "      <td>1</td>\n",
       "      <td>...</td>\n",
       "      <td>NaN</td>\n",
       "      <td>NaN</td>\n",
       "      <td>NaN</td>\n",
       "      <td>NaN</td>\n",
       "      <td>NaN</td>\n",
       "      <td>NaN</td>\n",
       "      <td>NaN</td>\n",
       "      <td>NaN</td>\n",
       "      <td>NaN</td>\n",
       "      <td>NaN</td>\n",
       "    </tr>\n",
       "    <tr>\n",
       "      <th>2</th>\n",
       "      <td>SRR478648</td>\n",
       "      <td>SRR478648</td>\n",
       "      <td>0</td>\n",
       "      <td>0</td>\n",
       "      <td>0</td>\n",
       "      <td>-9</td>\n",
       "      <td>0</td>\n",
       "      <td>1</td>\n",
       "      <td>1</td>\n",
       "      <td>1</td>\n",
       "      <td>...</td>\n",
       "      <td>NaN</td>\n",
       "      <td>NaN</td>\n",
       "      <td>NaN</td>\n",
       "      <td>NaN</td>\n",
       "      <td>NaN</td>\n",
       "      <td>NaN</td>\n",
       "      <td>NaN</td>\n",
       "      <td>NaN</td>\n",
       "      <td>NaN</td>\n",
       "      <td>NaN</td>\n",
       "    </tr>\n",
       "    <tr>\n",
       "      <th>3</th>\n",
       "      <td>SRR478798</td>\n",
       "      <td>SRR478798</td>\n",
       "      <td>0</td>\n",
       "      <td>0</td>\n",
       "      <td>0</td>\n",
       "      <td>-9</td>\n",
       "      <td>1</td>\n",
       "      <td>0</td>\n",
       "      <td>2</td>\n",
       "      <td>0</td>\n",
       "      <td>...</td>\n",
       "      <td>NaN</td>\n",
       "      <td>NaN</td>\n",
       "      <td>NaN</td>\n",
       "      <td>NaN</td>\n",
       "      <td>NaN</td>\n",
       "      <td>NaN</td>\n",
       "      <td>NaN</td>\n",
       "      <td>NaN</td>\n",
       "      <td>NaN</td>\n",
       "      <td>NaN</td>\n",
       "    </tr>\n",
       "    <tr>\n",
       "      <th>4</th>\n",
       "      <td>SRR478821</td>\n",
       "      <td>SRR478821</td>\n",
       "      <td>0</td>\n",
       "      <td>0</td>\n",
       "      <td>0</td>\n",
       "      <td>-9</td>\n",
       "      <td>0</td>\n",
       "      <td>0</td>\n",
       "      <td>2</td>\n",
       "      <td>0</td>\n",
       "      <td>...</td>\n",
       "      <td>NaN</td>\n",
       "      <td>NaN</td>\n",
       "      <td>NaN</td>\n",
       "      <td>NaN</td>\n",
       "      <td>NaN</td>\n",
       "      <td>NaN</td>\n",
       "      <td>NaN</td>\n",
       "      <td>NaN</td>\n",
       "      <td>NaN</td>\n",
       "      <td>NaN</td>\n",
       "    </tr>\n",
       "    <tr>\n",
       "      <th>...</th>\n",
       "      <td>...</td>\n",
       "      <td>...</td>\n",
       "      <td>...</td>\n",
       "      <td>...</td>\n",
       "      <td>...</td>\n",
       "      <td>...</td>\n",
       "      <td>...</td>\n",
       "      <td>...</td>\n",
       "      <td>...</td>\n",
       "      <td>...</td>\n",
       "      <td>...</td>\n",
       "      <td>...</td>\n",
       "      <td>...</td>\n",
       "      <td>...</td>\n",
       "      <td>...</td>\n",
       "      <td>...</td>\n",
       "      <td>...</td>\n",
       "      <td>...</td>\n",
       "      <td>...</td>\n",
       "      <td>...</td>\n",
       "      <td>...</td>\n",
       "    </tr>\n",
       "    <tr>\n",
       "      <th>873</th>\n",
       "      <td>SRR10899963</td>\n",
       "      <td>SRR10899963</td>\n",
       "      <td>0</td>\n",
       "      <td>0</td>\n",
       "      <td>0</td>\n",
       "      <td>-9</td>\n",
       "      <td>0</td>\n",
       "      <td>0</td>\n",
       "      <td>1</td>\n",
       "      <td>0</td>\n",
       "      <td>...</td>\n",
       "      <td>NaN</td>\n",
       "      <td>NaN</td>\n",
       "      <td>NaN</td>\n",
       "      <td>NaN</td>\n",
       "      <td>NaN</td>\n",
       "      <td>NaN</td>\n",
       "      <td>NaN</td>\n",
       "      <td>NaN</td>\n",
       "      <td>NaN</td>\n",
       "      <td>PD</td>\n",
       "    </tr>\n",
       "    <tr>\n",
       "      <th>874</th>\n",
       "      <td>SRR10899966</td>\n",
       "      <td>SRR10899966</td>\n",
       "      <td>0</td>\n",
       "      <td>0</td>\n",
       "      <td>0</td>\n",
       "      <td>-9</td>\n",
       "      <td>0</td>\n",
       "      <td>0</td>\n",
       "      <td>1</td>\n",
       "      <td>0</td>\n",
       "      <td>...</td>\n",
       "      <td>NaN</td>\n",
       "      <td>NaN</td>\n",
       "      <td>NaN</td>\n",
       "      <td>NaN</td>\n",
       "      <td>NaN</td>\n",
       "      <td>NaN</td>\n",
       "      <td>NaN</td>\n",
       "      <td>NaN</td>\n",
       "      <td>NaN</td>\n",
       "      <td>PD</td>\n",
       "    </tr>\n",
       "    <tr>\n",
       "      <th>875</th>\n",
       "      <td>SRR10899968</td>\n",
       "      <td>SRR10899968</td>\n",
       "      <td>0</td>\n",
       "      <td>0</td>\n",
       "      <td>0</td>\n",
       "      <td>-9</td>\n",
       "      <td>0</td>\n",
       "      <td>0</td>\n",
       "      <td>0</td>\n",
       "      <td>0</td>\n",
       "      <td>...</td>\n",
       "      <td>NaN</td>\n",
       "      <td>NaN</td>\n",
       "      <td>NaN</td>\n",
       "      <td>NaN</td>\n",
       "      <td>NaN</td>\n",
       "      <td>NaN</td>\n",
       "      <td>NaN</td>\n",
       "      <td>NaN</td>\n",
       "      <td>NaN</td>\n",
       "      <td>CR</td>\n",
       "    </tr>\n",
       "    <tr>\n",
       "      <th>876</th>\n",
       "      <td>SRR10899971</td>\n",
       "      <td>SRR10899971</td>\n",
       "      <td>0</td>\n",
       "      <td>0</td>\n",
       "      <td>0</td>\n",
       "      <td>-9</td>\n",
       "      <td>0</td>\n",
       "      <td>1</td>\n",
       "      <td>1</td>\n",
       "      <td>1</td>\n",
       "      <td>...</td>\n",
       "      <td>NaN</td>\n",
       "      <td>NaN</td>\n",
       "      <td>NaN</td>\n",
       "      <td>NaN</td>\n",
       "      <td>NaN</td>\n",
       "      <td>NaN</td>\n",
       "      <td>NaN</td>\n",
       "      <td>NaN</td>\n",
       "      <td>NaN</td>\n",
       "      <td>PD</td>\n",
       "    </tr>\n",
       "    <tr>\n",
       "      <th>877</th>\n",
       "      <td>SRR10899972</td>\n",
       "      <td>SRR10899972</td>\n",
       "      <td>0</td>\n",
       "      <td>0</td>\n",
       "      <td>0</td>\n",
       "      <td>-9</td>\n",
       "      <td>0</td>\n",
       "      <td>0</td>\n",
       "      <td>1</td>\n",
       "      <td>0</td>\n",
       "      <td>...</td>\n",
       "      <td>NaN</td>\n",
       "      <td>NaN</td>\n",
       "      <td>NaN</td>\n",
       "      <td>NaN</td>\n",
       "      <td>NaN</td>\n",
       "      <td>NaN</td>\n",
       "      <td>NaN</td>\n",
       "      <td>NaN</td>\n",
       "      <td>NaN</td>\n",
       "      <td>PR</td>\n",
       "    </tr>\n",
       "  </tbody>\n",
       "</table>\n",
       "<p>878 rows × 55779 columns</p>\n",
       "</div>"
      ],
      "text/plain": [
       "             FID        IID_x  PAT  MAT  SEX  PHENOTYPE  1:1421752:G:A_A  \\\n",
       "0      SRR478575    SRR478575    0    0    0         -9                0   \n",
       "1      SRR478621    SRR478621    0    0    0         -9                0   \n",
       "2      SRR478648    SRR478648    0    0    0         -9                0   \n",
       "3      SRR478798    SRR478798    0    0    0         -9                1   \n",
       "4      SRR478821    SRR478821    0    0    0         -9                0   \n",
       "..           ...          ...  ...  ...  ...        ...              ...   \n",
       "873  SRR10899963  SRR10899963    0    0    0         -9                0   \n",
       "874  SRR10899966  SRR10899966    0    0    0         -9                0   \n",
       "875  SRR10899968  SRR10899968    0    0    0         -9                0   \n",
       "876  SRR10899971  SRR10899971    0    0    0         -9                0   \n",
       "877  SRR10899972  SRR10899972    0    0    0         -9                0   \n",
       "\n",
       "     1:7833228:A:G_G  1:7836659:A:C_C  1:7836798:A:G_G  ...  Macrophages.M1  \\\n",
       "0                  0                0                0  ...             NaN   \n",
       "1                  1                1                1  ...             NaN   \n",
       "2                  1                1                1  ...             NaN   \n",
       "3                  0                2                0  ...             NaN   \n",
       "4                  0                2                0  ...             NaN   \n",
       "..               ...              ...              ...  ...             ...   \n",
       "873                0                1                0  ...             NaN   \n",
       "874                0                1                0  ...             NaN   \n",
       "875                0                0                0  ...             NaN   \n",
       "876                1                1                1  ...             NaN   \n",
       "877                0                1                0  ...             NaN   \n",
       "\n",
       "     Macrophages.M2  Dendritic.cells.resting  Dendritic.cells.activated  \\\n",
       "0               NaN                      NaN                        NaN   \n",
       "1               NaN                      NaN                        NaN   \n",
       "2               NaN                      NaN                        NaN   \n",
       "3               NaN                      NaN                        NaN   \n",
       "4               NaN                      NaN                        NaN   \n",
       "..              ...                      ...                        ...   \n",
       "873             NaN                      NaN                        NaN   \n",
       "874             NaN                      NaN                        NaN   \n",
       "875             NaN                      NaN                        NaN   \n",
       "876             NaN                      NaN                        NaN   \n",
       "877             NaN                      NaN                        NaN   \n",
       "\n",
       "     Mast.cells.resting  Mast.cells.activated  Eosinophils  Neutrophils  \\\n",
       "0                   NaN                   NaN          NaN          NaN   \n",
       "1                   NaN                   NaN          NaN          NaN   \n",
       "2                   NaN                   NaN          NaN          NaN   \n",
       "3                   NaN                   NaN          NaN          NaN   \n",
       "4                   NaN                   NaN          NaN          NaN   \n",
       "..                  ...                   ...          ...          ...   \n",
       "873                 NaN                   NaN          NaN          NaN   \n",
       "874                 NaN                   NaN          NaN          NaN   \n",
       "875                 NaN                   NaN          NaN          NaN   \n",
       "876                 NaN                   NaN          NaN          NaN   \n",
       "877                 NaN                   NaN          NaN          NaN   \n",
       "\n",
       "     M1.M2  response  \n",
       "0      NaN       NaN  \n",
       "1      NaN       NaN  \n",
       "2      NaN       NaN  \n",
       "3      NaN       NaN  \n",
       "4      NaN       NaN  \n",
       "..     ...       ...  \n",
       "873    NaN        PD  \n",
       "874    NaN        PD  \n",
       "875    NaN        CR  \n",
       "876    NaN        PD  \n",
       "877    NaN        PR  \n",
       "\n",
       "[878 rows x 55779 columns]"
      ]
     },
     "execution_count": 21,
     "metadata": {},
     "output_type": "execute_result"
    }
   ],
   "source": [
    "raw_rna"
   ]
  },
  {
   "cell_type": "code",
   "execution_count": 22,
   "id": "b3126e06-a7ce-4e6c-b38e-764f0c5d826c",
   "metadata": {},
   "outputs": [],
   "source": [
    "raw_rna[\"CTSS_snp\"]=np.where(raw_rna[\"1:150958977:T:C_C\"]>0,1,0)\n",
    "raw_rna[\"CTSW_snp\"]=np.where(raw_rna[\"11:65712413:G:A_A\"]>0,1,0)\n",
    "raw_rna[\"FAM216A_snp\"]=np.where(raw_rna[\"12:110857324:C:T_T\"]>0,1,0)\n",
    "raw_rna[\"LYZ_snp\"]=np.where(raw_rna[\"12:69794086:C:G_C\"]>0,1,0)\n",
    "raw_rna[\"C3AR1_snp\"]=np.where(raw_rna[\"12:8210697:A:G_A\"]>0,1,0)\n",
    "raw_rna[\"DCTN5_snp\"]=np.where(raw_rna[\"16:23621132:T:C_C\"]>0,1,0)\n",
    "raw_rna[\"DBNDD1_snp\"]=np.where(raw_rna[\"16:90080852:C:T_T\"]>0,1,0)\n",
    "raw_rna[\"FPR1_snp\"]=np.where(raw_rna[\"19:52249702:G:T_T\"]>0,1,0)\n",
    "raw_rna[\"TREX1_snp\"]=np.where(raw_rna[\"3:47587905:A:G_A\"]>0,1,0)\n",
    "raw_rna[\"DHFR_snp\"]=np.where(raw_rna[\"5:80279422:T:G_T\"]>0,1,0)\n",
    "raw_rna[\"ERAP1_snp\"]=np.where(raw_rna[\"5:96103589:G:A_A\"]>0,1,0)\n",
    "raw_rna[\"ERAP2_snp\"]=np.where(raw_rna[\"5:96229542:T:G_G\"]>0,1,0)\n",
    "raw_rna[\"DYNLT1_snp\"]=np.where(raw_rna[\"6:159050889:C:T_T\"]>0,1,0)\n",
    "raw_rna[\"GPLD1_snp\"]=np.where(raw_rna[\"6:24560002:A:T_T\"]>0,1,0)\n",
    "raw_rna[\"PSMD11_snp\"]=np.where(raw_rna[\"9:34549235:C:G_G\"]>0,1,0)"
   ]
  },
  {
   "cell_type": "code",
   "execution_count": 25,
   "id": "f37a9b64-f2d2-4c15-9ef3-7213b7f685b2",
   "metadata": {},
   "outputs": [],
   "source": [
    "def plot_snp(df,snp_lst,gene_lst):\n",
    "    \n",
    "    for snp in snp_lst:\n",
    "    \n",
    "        for gene in gene_lst:\n",
    "            \n",
    "            #if snp.rsplit(\"_\")[0]==gene:\n",
    "        \n",
    "            fig = plt.figure(figsize=(5,5))\n",
    "            ax=sns.boxplot(x=\"study\",y=gene,hue=snp,data=raw_rna)\n",
    "\n",
    "            #get p-values\n",
    "            labels=[item.get_text() for item in ax.get_xticklabels()]\n",
    "\n",
    "            new_labels=[]\n",
    "            for x in labels:\n",
    "                raw_rna_study=raw_rna[raw_rna[\"study\"]==x]\n",
    "                cat0 = raw_rna_study[raw_rna_study[snp]==0]\n",
    "                cat1 = raw_rna_study[raw_rna_study[snp]!=0]\n",
    "                p=mannwhitneyu(cat0[gene], cat1[gene])[1]\n",
    "                new_labels.append(x+\"\\n{0:.4f}\".format(p))\n",
    "            ax.set_xticklabels(new_labels)\n",
    "\n",
    "        #plt.savefig(\"/cellar/users/tsears/projects/germline-immune/plots/fig7/\"+snp+\".\"+gene+\".pdf\")\n",
    "        "
   ]
  },
  {
   "cell_type": "code",
   "execution_count": 26,
   "id": "a4fe1e77-964a-4c1c-9460-badb8a1f151a",
   "metadata": {},
   "outputs": [],
   "source": [
    "raw_rna[\"M1_M2+M0\"]=raw_rna[\"Macrophages.M1\"]/(raw_rna[\"Macrophages.M2\"]+raw_rna[\"Macrophages.M0\"])"
   ]
  },
  {
   "cell_type": "code",
   "execution_count": 28,
   "id": "19a47359-ce46-4524-a927-b67042610d19",
   "metadata": {},
   "outputs": [
    {
     "data": {
      "text/html": [
       "<div>\n",
       "<style scoped>\n",
       "    .dataframe tbody tr th:only-of-type {\n",
       "        vertical-align: middle;\n",
       "    }\n",
       "\n",
       "    .dataframe tbody tr th {\n",
       "        vertical-align: top;\n",
       "    }\n",
       "\n",
       "    .dataframe thead th {\n",
       "        text-align: right;\n",
       "    }\n",
       "</style>\n",
       "<table border=\"1\" class=\"dataframe\">\n",
       "  <thead>\n",
       "    <tr style=\"text-align: right;\">\n",
       "      <th></th>\n",
       "      <th>FID</th>\n",
       "      <th>IID_x</th>\n",
       "      <th>PAT</th>\n",
       "      <th>MAT</th>\n",
       "      <th>SEX</th>\n",
       "      <th>PHENOTYPE</th>\n",
       "      <th>1:1421752:G:A_A</th>\n",
       "      <th>1:7833228:A:G_G</th>\n",
       "      <th>1:7836659:A:C_C</th>\n",
       "      <th>1:7836798:A:G_G</th>\n",
       "      <th>...</th>\n",
       "      <th>DBNDD1_snp</th>\n",
       "      <th>FPR1_snp</th>\n",
       "      <th>TREX1_snp</th>\n",
       "      <th>DHFR_snp</th>\n",
       "      <th>ERAP1_snp</th>\n",
       "      <th>ERAP2_snp</th>\n",
       "      <th>DYNLT1_snp</th>\n",
       "      <th>GPLD1_snp</th>\n",
       "      <th>PSMD11_snp</th>\n",
       "      <th>M1_M2+M0</th>\n",
       "    </tr>\n",
       "  </thead>\n",
       "  <tbody>\n",
       "    <tr>\n",
       "      <th>0</th>\n",
       "      <td>SRR478575</td>\n",
       "      <td>SRR478575</td>\n",
       "      <td>0</td>\n",
       "      <td>0</td>\n",
       "      <td>0</td>\n",
       "      <td>-9</td>\n",
       "      <td>0</td>\n",
       "      <td>0</td>\n",
       "      <td>0</td>\n",
       "      <td>0</td>\n",
       "      <td>...</td>\n",
       "      <td>1</td>\n",
       "      <td>1</td>\n",
       "      <td>1</td>\n",
       "      <td>1</td>\n",
       "      <td>0</td>\n",
       "      <td>1</td>\n",
       "      <td>1</td>\n",
       "      <td>1</td>\n",
       "      <td>0</td>\n",
       "      <td>NaN</td>\n",
       "    </tr>\n",
       "    <tr>\n",
       "      <th>1</th>\n",
       "      <td>SRR478621</td>\n",
       "      <td>SRR478621</td>\n",
       "      <td>0</td>\n",
       "      <td>0</td>\n",
       "      <td>0</td>\n",
       "      <td>-9</td>\n",
       "      <td>0</td>\n",
       "      <td>1</td>\n",
       "      <td>1</td>\n",
       "      <td>1</td>\n",
       "      <td>...</td>\n",
       "      <td>1</td>\n",
       "      <td>1</td>\n",
       "      <td>1</td>\n",
       "      <td>0</td>\n",
       "      <td>0</td>\n",
       "      <td>0</td>\n",
       "      <td>1</td>\n",
       "      <td>0</td>\n",
       "      <td>1</td>\n",
       "      <td>NaN</td>\n",
       "    </tr>\n",
       "    <tr>\n",
       "      <th>2</th>\n",
       "      <td>SRR478648</td>\n",
       "      <td>SRR478648</td>\n",
       "      <td>0</td>\n",
       "      <td>0</td>\n",
       "      <td>0</td>\n",
       "      <td>-9</td>\n",
       "      <td>0</td>\n",
       "      <td>1</td>\n",
       "      <td>1</td>\n",
       "      <td>1</td>\n",
       "      <td>...</td>\n",
       "      <td>1</td>\n",
       "      <td>1</td>\n",
       "      <td>1</td>\n",
       "      <td>0</td>\n",
       "      <td>0</td>\n",
       "      <td>1</td>\n",
       "      <td>1</td>\n",
       "      <td>0</td>\n",
       "      <td>0</td>\n",
       "      <td>NaN</td>\n",
       "    </tr>\n",
       "    <tr>\n",
       "      <th>3</th>\n",
       "      <td>SRR478798</td>\n",
       "      <td>SRR478798</td>\n",
       "      <td>0</td>\n",
       "      <td>0</td>\n",
       "      <td>0</td>\n",
       "      <td>-9</td>\n",
       "      <td>1</td>\n",
       "      <td>0</td>\n",
       "      <td>2</td>\n",
       "      <td>0</td>\n",
       "      <td>...</td>\n",
       "      <td>0</td>\n",
       "      <td>0</td>\n",
       "      <td>1</td>\n",
       "      <td>0</td>\n",
       "      <td>0</td>\n",
       "      <td>0</td>\n",
       "      <td>1</td>\n",
       "      <td>0</td>\n",
       "      <td>0</td>\n",
       "      <td>NaN</td>\n",
       "    </tr>\n",
       "    <tr>\n",
       "      <th>4</th>\n",
       "      <td>SRR478821</td>\n",
       "      <td>SRR478821</td>\n",
       "      <td>0</td>\n",
       "      <td>0</td>\n",
       "      <td>0</td>\n",
       "      <td>-9</td>\n",
       "      <td>0</td>\n",
       "      <td>0</td>\n",
       "      <td>2</td>\n",
       "      <td>0</td>\n",
       "      <td>...</td>\n",
       "      <td>0</td>\n",
       "      <td>1</td>\n",
       "      <td>0</td>\n",
       "      <td>0</td>\n",
       "      <td>0</td>\n",
       "      <td>0</td>\n",
       "      <td>1</td>\n",
       "      <td>0</td>\n",
       "      <td>0</td>\n",
       "      <td>NaN</td>\n",
       "    </tr>\n",
       "    <tr>\n",
       "      <th>...</th>\n",
       "      <td>...</td>\n",
       "      <td>...</td>\n",
       "      <td>...</td>\n",
       "      <td>...</td>\n",
       "      <td>...</td>\n",
       "      <td>...</td>\n",
       "      <td>...</td>\n",
       "      <td>...</td>\n",
       "      <td>...</td>\n",
       "      <td>...</td>\n",
       "      <td>...</td>\n",
       "      <td>...</td>\n",
       "      <td>...</td>\n",
       "      <td>...</td>\n",
       "      <td>...</td>\n",
       "      <td>...</td>\n",
       "      <td>...</td>\n",
       "      <td>...</td>\n",
       "      <td>...</td>\n",
       "      <td>...</td>\n",
       "      <td>...</td>\n",
       "    </tr>\n",
       "    <tr>\n",
       "      <th>873</th>\n",
       "      <td>SRR10899963</td>\n",
       "      <td>SRR10899963</td>\n",
       "      <td>0</td>\n",
       "      <td>0</td>\n",
       "      <td>0</td>\n",
       "      <td>-9</td>\n",
       "      <td>0</td>\n",
       "      <td>0</td>\n",
       "      <td>1</td>\n",
       "      <td>0</td>\n",
       "      <td>...</td>\n",
       "      <td>0</td>\n",
       "      <td>1</td>\n",
       "      <td>1</td>\n",
       "      <td>0</td>\n",
       "      <td>1</td>\n",
       "      <td>0</td>\n",
       "      <td>1</td>\n",
       "      <td>0</td>\n",
       "      <td>0</td>\n",
       "      <td>NaN</td>\n",
       "    </tr>\n",
       "    <tr>\n",
       "      <th>874</th>\n",
       "      <td>SRR10899966</td>\n",
       "      <td>SRR10899966</td>\n",
       "      <td>0</td>\n",
       "      <td>0</td>\n",
       "      <td>0</td>\n",
       "      <td>-9</td>\n",
       "      <td>0</td>\n",
       "      <td>0</td>\n",
       "      <td>1</td>\n",
       "      <td>0</td>\n",
       "      <td>...</td>\n",
       "      <td>1</td>\n",
       "      <td>0</td>\n",
       "      <td>0</td>\n",
       "      <td>0</td>\n",
       "      <td>0</td>\n",
       "      <td>0</td>\n",
       "      <td>0</td>\n",
       "      <td>1</td>\n",
       "      <td>0</td>\n",
       "      <td>NaN</td>\n",
       "    </tr>\n",
       "    <tr>\n",
       "      <th>875</th>\n",
       "      <td>SRR10899968</td>\n",
       "      <td>SRR10899968</td>\n",
       "      <td>0</td>\n",
       "      <td>0</td>\n",
       "      <td>0</td>\n",
       "      <td>-9</td>\n",
       "      <td>0</td>\n",
       "      <td>0</td>\n",
       "      <td>0</td>\n",
       "      <td>0</td>\n",
       "      <td>...</td>\n",
       "      <td>1</td>\n",
       "      <td>0</td>\n",
       "      <td>1</td>\n",
       "      <td>0</td>\n",
       "      <td>0</td>\n",
       "      <td>0</td>\n",
       "      <td>0</td>\n",
       "      <td>0</td>\n",
       "      <td>0</td>\n",
       "      <td>NaN</td>\n",
       "    </tr>\n",
       "    <tr>\n",
       "      <th>876</th>\n",
       "      <td>SRR10899971</td>\n",
       "      <td>SRR10899971</td>\n",
       "      <td>0</td>\n",
       "      <td>0</td>\n",
       "      <td>0</td>\n",
       "      <td>-9</td>\n",
       "      <td>0</td>\n",
       "      <td>1</td>\n",
       "      <td>1</td>\n",
       "      <td>1</td>\n",
       "      <td>...</td>\n",
       "      <td>0</td>\n",
       "      <td>1</td>\n",
       "      <td>0</td>\n",
       "      <td>1</td>\n",
       "      <td>0</td>\n",
       "      <td>0</td>\n",
       "      <td>1</td>\n",
       "      <td>1</td>\n",
       "      <td>0</td>\n",
       "      <td>NaN</td>\n",
       "    </tr>\n",
       "    <tr>\n",
       "      <th>877</th>\n",
       "      <td>SRR10899972</td>\n",
       "      <td>SRR10899972</td>\n",
       "      <td>0</td>\n",
       "      <td>0</td>\n",
       "      <td>0</td>\n",
       "      <td>-9</td>\n",
       "      <td>0</td>\n",
       "      <td>0</td>\n",
       "      <td>1</td>\n",
       "      <td>0</td>\n",
       "      <td>...</td>\n",
       "      <td>1</td>\n",
       "      <td>0</td>\n",
       "      <td>0</td>\n",
       "      <td>1</td>\n",
       "      <td>0</td>\n",
       "      <td>1</td>\n",
       "      <td>1</td>\n",
       "      <td>0</td>\n",
       "      <td>0</td>\n",
       "      <td>NaN</td>\n",
       "    </tr>\n",
       "  </tbody>\n",
       "</table>\n",
       "<p>878 rows × 55795 columns</p>\n",
       "</div>"
      ],
      "text/plain": [
       "             FID        IID_x  PAT  MAT  SEX  PHENOTYPE  1:1421752:G:A_A  \\\n",
       "0      SRR478575    SRR478575    0    0    0         -9                0   \n",
       "1      SRR478621    SRR478621    0    0    0         -9                0   \n",
       "2      SRR478648    SRR478648    0    0    0         -9                0   \n",
       "3      SRR478798    SRR478798    0    0    0         -9                1   \n",
       "4      SRR478821    SRR478821    0    0    0         -9                0   \n",
       "..           ...          ...  ...  ...  ...        ...              ...   \n",
       "873  SRR10899963  SRR10899963    0    0    0         -9                0   \n",
       "874  SRR10899966  SRR10899966    0    0    0         -9                0   \n",
       "875  SRR10899968  SRR10899968    0    0    0         -9                0   \n",
       "876  SRR10899971  SRR10899971    0    0    0         -9                0   \n",
       "877  SRR10899972  SRR10899972    0    0    0         -9                0   \n",
       "\n",
       "     1:7833228:A:G_G  1:7836659:A:C_C  1:7836798:A:G_G  ...  DBNDD1_snp  \\\n",
       "0                  0                0                0  ...           1   \n",
       "1                  1                1                1  ...           1   \n",
       "2                  1                1                1  ...           1   \n",
       "3                  0                2                0  ...           0   \n",
       "4                  0                2                0  ...           0   \n",
       "..               ...              ...              ...  ...         ...   \n",
       "873                0                1                0  ...           0   \n",
       "874                0                1                0  ...           1   \n",
       "875                0                0                0  ...           1   \n",
       "876                1                1                1  ...           0   \n",
       "877                0                1                0  ...           1   \n",
       "\n",
       "     FPR1_snp  TREX1_snp  DHFR_snp  ERAP1_snp  ERAP2_snp  DYNLT1_snp  \\\n",
       "0           1          1         1          0          1           1   \n",
       "1           1          1         0          0          0           1   \n",
       "2           1          1         0          0          1           1   \n",
       "3           0          1         0          0          0           1   \n",
       "4           1          0         0          0          0           1   \n",
       "..        ...        ...       ...        ...        ...         ...   \n",
       "873         1          1         0          1          0           1   \n",
       "874         0          0         0          0          0           0   \n",
       "875         0          1         0          0          0           0   \n",
       "876         1          0         1          0          0           1   \n",
       "877         0          0         1          0          1           1   \n",
       "\n",
       "     GPLD1_snp  PSMD11_snp  M1_M2+M0  \n",
       "0            1           0       NaN  \n",
       "1            0           1       NaN  \n",
       "2            0           0       NaN  \n",
       "3            0           0       NaN  \n",
       "4            0           0       NaN  \n",
       "..         ...         ...       ...  \n",
       "873          0           0       NaN  \n",
       "874          1           0       NaN  \n",
       "875          0           0       NaN  \n",
       "876          1           0       NaN  \n",
       "877          0           0       NaN  \n",
       "\n",
       "[878 rows x 55795 columns]"
      ]
     },
     "execution_count": 28,
     "metadata": {},
     "output_type": "execute_result"
    }
   ],
   "source": [
    "raw_rna"
   ]
  },
  {
   "cell_type": "code",
   "execution_count": 27,
   "id": "87bda328-1a29-4625-8a4a-bf89c343cb76",
   "metadata": {
    "tags": []
   },
   "outputs": [
    {
     "data": {
      "image/png": "[encoded data removed]",
      "text/plain": [
       "<Figure size 360x360 with 1 Axes>"
      ]
     },
     "metadata": {
      "needs_background": "light"
     },
     "output_type": "display_data"
    }
   ],
   "source": [
    "#plot_snp(raw_rna,[\"CTSS_snp\",\"CTSW_snp\",\"FAM216A_snp\",\"LYZ_snp\",\"C3AR1_snp\",\"DCTN5_snp\",\"DBNDD1_snp\",\"FPR1_snp\",\"TREX1_snp\",\"DHFR_snp\",\"ERAP1_snp\",\"ERAP2_snp\",\"DYNLT1_snp\",\"GPLD1_snp\",\"PSMD11_snp\"],[\"CTSS\",\"CTSW\",\"FAM216A\",\"LYZ\",\"C3AR1\",\"DCTN5\",\"DBNDD1\",\"FPR1\",\"TREX1\",\"DHFR\",\"ERAP1\",\"ERAP2\",\"DYNLT1\",\"GPLD1\",\"PSMD11\"])\n",
    "plot_snp(raw_rna,[\"CTSS_snp\"],[\"CTSS\"])\n",
    "\n"
   ]
  },
  {
   "cell_type": "markdown",
   "id": "d4af87e6-333f-4b80-ad46-b6acce2244bf",
   "metadata": {},
   "source": [
    "### Get association of TREX1 variant with RNA"
   ]
  },
  {
   "cell_type": "code",
   "execution_count": 127,
   "id": "9b61d0fc-123a-4c3b-b499-72a9bb67f312",
   "metadata": {},
   "outputs": [],
   "source": [
    "raw_rna[\"3:47587905:A:G_A_snp\"]=np.where(raw_rna[\"3:47587905:A:G_A\"]>0,1,0)\n",
    "raw_rna[\"3:48591481:C:T_C_snp\"]=np.where(raw_rna[\"3:48591481:C:T_C\"]>0,1,0)"
   ]
  },
  {
   "cell_type": "code",
   "execution_count": 128,
   "id": "20ee03ca-8430-4a2a-b310-d934c36494d1",
   "metadata": {},
   "outputs": [
    {
     "data": {
      "image/png": "[encoded data removed]",
      "text/plain": [
       "<Figure size 360x360 with 1 Axes>"
      ]
     },
     "metadata": {
      "needs_background": "light"
     },
     "output_type": "display_data"
    },
    {
     "data": {
      "image/png": "[encoded data removed]",
      "text/plain": [
       "<Figure size 360x360 with 1 Axes>"
      ]
     },
     "metadata": {
      "needs_background": "light"
     },
     "output_type": "display_data"
    }
   ],
   "source": [
    "plot_snp(raw_rna,[\"3:47587905:A:G_A_snp\",\"3:48591481:C:T_C_snp\"],[\"TREX1\"])"
   ]
  },
  {
   "cell_type": "markdown",
   "id": "f5c2ef4f-3483-49ae-aec2-b96a74231c21",
   "metadata": {},
   "source": [
    "### Get if SNPs are associated with increased expression"
   ]
  },
  {
   "cell_type": "code",
   "execution_count": 130,
   "id": "12ca6cca-b691-404a-80ce-3a7028d6ae9a",
   "metadata": {},
   "outputs": [],
   "source": [
    "supp=pd.read_csv(\"../data/supplemental/Supplemental_Table_8.csv\")"
   ]
  },
  {
   "cell_type": "code",
   "execution_count": 138,
   "id": "533f6507-7302-4718-a08f-22c1d29c56fe",
   "metadata": {},
   "outputs": [
    {
     "data": {
      "text/html": [
       "<div>\n",
       "<style scoped>\n",
       "    .dataframe tbody tr th:only-of-type {\n",
       "        vertical-align: middle;\n",
       "    }\n",
       "\n",
       "    .dataframe tbody tr th {\n",
       "        vertical-align: top;\n",
       "    }\n",
       "\n",
       "    .dataframe thead th {\n",
       "        text-align: right;\n",
       "    }\n",
       "</style>\n",
       "<table border=\"1\" class=\"dataframe\">\n",
       "  <thead>\n",
       "    <tr style=\"text-align: right;\">\n",
       "      <th></th>\n",
       "      <th>MarkerName</th>\n",
       "      <th>Allele1</th>\n",
       "      <th>Allele2</th>\n",
       "      <th>Weight</th>\n",
       "      <th>Zscore</th>\n",
       "      <th>P-value</th>\n",
       "      <th>Direction</th>\n",
       "      <th>fdr</th>\n",
       "      <th>-log10(fdr)</th>\n",
       "      <th>snp_noallele</th>\n",
       "      <th>freq</th>\n",
       "      <th>file</th>\n",
       "    </tr>\n",
       "  </thead>\n",
       "  <tbody>\n",
       "    <tr>\n",
       "      <th>47</th>\n",
       "      <td>8:19233093:G:C</td>\n",
       "      <td>c</td>\n",
       "      <td>g</td>\n",
       "      <td>276.0</td>\n",
       "      <td>3.370</td>\n",
       "      <td>0.000753</td>\n",
       "      <td>++++</td>\n",
       "      <td>0.194862</td>\n",
       "      <td>0.710272</td>\n",
       "      <td>8:19233093</td>\n",
       "      <td>0.118444</td>\n",
       "      <td>Sigs160-Bindea_Tfh-cells</td>\n",
       "    </tr>\n",
       "    <tr>\n",
       "      <th>117</th>\n",
       "      <td>5:95818549:G:A</td>\n",
       "      <td>a</td>\n",
       "      <td>g</td>\n",
       "      <td>276.0</td>\n",
       "      <td>-3.259</td>\n",
       "      <td>0.001119</td>\n",
       "      <td>----</td>\n",
       "      <td>0.194862</td>\n",
       "      <td>0.710272</td>\n",
       "      <td>5:95818549</td>\n",
       "      <td>0.108636</td>\n",
       "      <td>ERAP2</td>\n",
       "    </tr>\n",
       "    <tr>\n",
       "      <th>137</th>\n",
       "      <td>12:69794086:C:G</td>\n",
       "      <td>c</td>\n",
       "      <td>g</td>\n",
       "      <td>276.0</td>\n",
       "      <td>2.884</td>\n",
       "      <td>0.003921</td>\n",
       "      <td>+++-</td>\n",
       "      <td>0.293475</td>\n",
       "      <td>0.532429</td>\n",
       "      <td>12:69794086</td>\n",
       "      <td>0.391185</td>\n",
       "      <td>LYZ</td>\n",
       "    </tr>\n",
       "    <tr>\n",
       "      <th>204</th>\n",
       "      <td>3:48591481:C:T</td>\n",
       "      <td>t</td>\n",
       "      <td>c</td>\n",
       "      <td>276.0</td>\n",
       "      <td>-3.082</td>\n",
       "      <td>0.002056</td>\n",
       "      <td>----</td>\n",
       "      <td>0.194862</td>\n",
       "      <td>0.710272</td>\n",
       "      <td>3:48591481</td>\n",
       "      <td>0.404275</td>\n",
       "      <td>TREX1</td>\n",
       "    </tr>\n",
       "    <tr>\n",
       "      <th>282</th>\n",
       "      <td>5:80279422:T:G</td>\n",
       "      <td>t</td>\n",
       "      <td>g</td>\n",
       "      <td>276.0</td>\n",
       "      <td>-2.843</td>\n",
       "      <td>0.004472</td>\n",
       "      <td>----</td>\n",
       "      <td>0.293475</td>\n",
       "      <td>0.532429</td>\n",
       "      <td>5:80279422</td>\n",
       "      <td>0.241884</td>\n",
       "      <td>DHFR</td>\n",
       "    </tr>\n",
       "    <tr>\n",
       "      <th>287</th>\n",
       "      <td>16:23621132:T:C</td>\n",
       "      <td>t</td>\n",
       "      <td>c</td>\n",
       "      <td>276.0</td>\n",
       "      <td>-2.589</td>\n",
       "      <td>0.009633</td>\n",
       "      <td>----</td>\n",
       "      <td>0.459757</td>\n",
       "      <td>0.337472</td>\n",
       "      <td>16:23621132</td>\n",
       "      <td>0.256992</td>\n",
       "      <td>DCTN5</td>\n",
       "    </tr>\n",
       "    <tr>\n",
       "      <th>289</th>\n",
       "      <td>5:96103589:G:A</td>\n",
       "      <td>a</td>\n",
       "      <td>g</td>\n",
       "      <td>276.0</td>\n",
       "      <td>3.058</td>\n",
       "      <td>0.002227</td>\n",
       "      <td>++++</td>\n",
       "      <td>0.194862</td>\n",
       "      <td>0.710272</td>\n",
       "      <td>5:96103589</td>\n",
       "      <td>0.070832</td>\n",
       "      <td>ERAP1</td>\n",
       "    </tr>\n",
       "    <tr>\n",
       "      <th>366</th>\n",
       "      <td>9:34549235:C:G</td>\n",
       "      <td>c</td>\n",
       "      <td>g</td>\n",
       "      <td>276.0</td>\n",
       "      <td>3.058</td>\n",
       "      <td>0.002225</td>\n",
       "      <td>-+++</td>\n",
       "      <td>0.194862</td>\n",
       "      <td>0.710272</td>\n",
       "      <td>9:34549235</td>\n",
       "      <td>0.200526</td>\n",
       "      <td>PSMD11</td>\n",
       "    </tr>\n",
       "    <tr>\n",
       "      <th>420</th>\n",
       "      <td>12:110857324:C:T</td>\n",
       "      <td>t</td>\n",
       "      <td>c</td>\n",
       "      <td>276.0</td>\n",
       "      <td>-2.612</td>\n",
       "      <td>0.009002</td>\n",
       "      <td>----</td>\n",
       "      <td>0.459757</td>\n",
       "      <td>0.337472</td>\n",
       "      <td>12:110857324</td>\n",
       "      <td>0.112010</td>\n",
       "      <td>FAM216A</td>\n",
       "    </tr>\n",
       "    <tr>\n",
       "      <th>463</th>\n",
       "      <td>1:150958977:T:C</td>\n",
       "      <td>t</td>\n",
       "      <td>c</td>\n",
       "      <td>276.0</td>\n",
       "      <td>-2.630</td>\n",
       "      <td>0.008541</td>\n",
       "      <td>----</td>\n",
       "      <td>0.459757</td>\n",
       "      <td>0.337472</td>\n",
       "      <td>1:150958977</td>\n",
       "      <td>0.436175</td>\n",
       "      <td>CTSS</td>\n",
       "    </tr>\n",
       "    <tr>\n",
       "      <th>506</th>\n",
       "      <td>3:47587905:A:G</td>\n",
       "      <td>a</td>\n",
       "      <td>g</td>\n",
       "      <td>276.0</td>\n",
       "      <td>-3.679</td>\n",
       "      <td>0.000234</td>\n",
       "      <td>----</td>\n",
       "      <td>0.123060</td>\n",
       "      <td>0.909883</td>\n",
       "      <td>3:47587905</td>\n",
       "      <td>0.329379</td>\n",
       "      <td>TREX1</td>\n",
       "    </tr>\n",
       "  </tbody>\n",
       "</table>\n",
       "</div>"
      ],
      "text/plain": [
       "           MarkerName Allele1 Allele2  Weight  Zscore   P-value Direction  \\\n",
       "47     8:19233093:G:C       c       g   276.0   3.370  0.000753      ++++   \n",
       "117    5:95818549:G:A       a       g   276.0  -3.259  0.001119      ----   \n",
       "137   12:69794086:C:G       c       g   276.0   2.884  0.003921      +++-   \n",
       "204    3:48591481:C:T       t       c   276.0  -3.082  0.002056      ----   \n",
       "282    5:80279422:T:G       t       g   276.0  -2.843  0.004472      ----   \n",
       "287   16:23621132:T:C       t       c   276.0  -2.589  0.009633      ----   \n",
       "289    5:96103589:G:A       a       g   276.0   3.058  0.002227      ++++   \n",
       "366    9:34549235:C:G       c       g   276.0   3.058  0.002225      -+++   \n",
       "420  12:110857324:C:T       t       c   276.0  -2.612  0.009002      ----   \n",
       "463   1:150958977:T:C       t       c   276.0  -2.630  0.008541      ----   \n",
       "506    3:47587905:A:G       a       g   276.0  -3.679  0.000234      ----   \n",
       "\n",
       "          fdr  -log10(fdr)  snp_noallele      freq                      file  \n",
       "47   0.194862     0.710272    8:19233093  0.118444  Sigs160-Bindea_Tfh-cells  \n",
       "117  0.194862     0.710272    5:95818549  0.108636                     ERAP2  \n",
       "137  0.293475     0.532429   12:69794086  0.391185                       LYZ  \n",
       "204  0.194862     0.710272    3:48591481  0.404275                     TREX1  \n",
       "282  0.293475     0.532429    5:80279422  0.241884                      DHFR  \n",
       "287  0.459757     0.337472   16:23621132  0.256992                     DCTN5  \n",
       "289  0.194862     0.710272    5:96103589  0.070832                     ERAP1  \n",
       "366  0.194862     0.710272    9:34549235  0.200526                    PSMD11  \n",
       "420  0.459757     0.337472  12:110857324  0.112010                   FAM216A  \n",
       "463  0.459757     0.337472   1:150958977  0.436175                      CTSS  \n",
       "506  0.123060     0.909883    3:47587905  0.329379                     TREX1  "
      ]
     },
     "execution_count": 138,
     "metadata": {},
     "output_type": "execute_result"
    }
   ],
   "source": [
    "supp_sig=supp[supp[\"fdr\"]<0.5]\n",
    "supp_sig"
   ]
  },
  {
   "cell_type": "code",
   "execution_count": 137,
   "id": "56670cd4-9f65-4578-a16d-e05e4b980f47",
   "metadata": {},
   "outputs": [
    {
     "data": {
      "text/plain": [
       "<Figure size 360x360 with 0 Axes>"
      ]
     },
     "metadata": {},
     "output_type": "display_data"
    },
    {
     "data": {
      "image/png": "[encoded data removed]",
      "text/plain": [
       "<Figure size 360x360 with 1 Axes>"
      ]
     },
     "metadata": {
      "needs_background": "light"
     },
     "output_type": "display_data"
    },
    {
     "data": {
      "image/png": "[encoded data removed]",
      "text/plain": [
       "<Figure size 360x360 with 1 Axes>"
      ]
     },
     "metadata": {
      "needs_background": "light"
     },
     "output_type": "display_data"
    },
    {
     "data": {
      "image/png": "[encoded data removed]",
      "text/plain": [
       "<Figure size 360x360 with 1 Axes>"
      ]
     },
     "metadata": {
      "needs_background": "light"
     },
     "output_type": "display_data"
    },
    {
     "data": {
      "image/png": "[encoded data removed]",
      "text/plain": [
       "<Figure size 360x360 with 1 Axes>"
      ]
     },
     "metadata": {
      "needs_background": "light"
     },
     "output_type": "display_data"
    },
    {
     "data": {
      "image/png": "[encoded data removed]",
      "text/plain": [
       "<Figure size 360x360 with 1 Axes>"
      ]
     },
     "metadata": {
      "needs_background": "light"
     },
     "output_type": "display_data"
    },
    {
     "data": {
      "image/png": "[encoded data removed]",
      "text/plain": [
       "<Figure size 360x360 with 1 Axes>"
      ]
     },
     "metadata": {
      "needs_background": "light"
     },
     "output_type": "display_data"
    },
    {
     "data": {
      "image/png": "[encoded data removed]",
      "text/plain": [
       "<Figure size 360x360 with 1 Axes>"
      ]
     },
     "metadata": {
      "needs_background": "light"
     },
     "output_type": "display_data"
    },
    {
     "data": {
      "image/png": "[encoded data removed]",
      "text/plain": [
       "<Figure size 360x360 with 1 Axes>"
      ]
     },
     "metadata": {
      "needs_background": "light"
     },
     "output_type": "display_data"
    },
    {
     "data": {
      "image/png": "[encoded data removed]",
      "text/plain": [
       "<Figure size 360x360 with 1 Axes>"
      ]
     },
     "metadata": {
      "needs_background": "light"
     },
     "output_type": "display_data"
    },
    {
     "data": {
      "image/png": "[encoded data removed]",
      "text/plain": [
       "<Figure size 360x360 with 1 Axes>"
      ]
     },
     "metadata": {
      "needs_background": "light"
     },
     "output_type": "display_data"
    }
   ],
   "source": [
    "for i, row in supp_sig.iterrows():\n",
    "    col=[x for x in raw_rna.columns if row[\"MarkerName\"] in x][0]\n",
    "    raw_rna[col+\"_snp\"]=np.where(raw_rna[col]>0,1,0)\n",
    "    try:\n",
    "        plot_snp(raw_rna,[col+\"_snp\"],[row[\"file\"]])\n",
    "    except:\n",
    "        pass"
   ]
  },
  {
   "cell_type": "markdown",
   "id": "883f53cd-0bcd-413e-8183-fee47b8da9e3",
   "metadata": {},
   "source": [
    "### Validate APOE"
   ]
  },
  {
   "cell_type": "code",
   "execution_count": 297,
   "id": "c064630c-8f61-4fe3-9831-f0d450af9001",
   "metadata": {},
   "outputs": [],
   "source": [
    "surv=pd.read_csv(\"/nrnb/users/mpagadal/immunotherapy-trials/wxs_rna_mapping_table_v2.tsv\",delimiter=\"\\t\")\n",
    "surv_riaz=surv[surv[\"study\"]==\"riaz\"]\n",
    "surv_riaz=surv_riaz[[\"normal WXS id\",\"patient id\",\"OS\",\"OS.time\"]].drop_duplicates()\n",
    "surv_riaz[\"OS\"]=surv_riaz[\"OS\"].map({\"True\":1,\"False\":0})"
   ]
  },
  {
   "cell_type": "code",
   "execution_count": 298,
   "id": "6aca3aff-e7a8-46a4-a620-4a77dba0cbfb",
   "metadata": {},
   "outputs": [],
   "source": [
    "surv_riaz.columns=[\"FID\",\"pt\",\"OS\",\"OS.time\"]\n",
    "surv_riaz[\"pt\"]=surv_riaz[\"pt\"].str.split(\"_\").str[0]"
   ]
  },
  {
   "cell_type": "code",
   "execution_count": 299,
   "id": "a077f0d2-3ec7-44e3-bff6-c18581691c8f",
   "metadata": {},
   "outputs": [],
   "source": [
    "geno=pd.read_csv(\"/cellar/users/mpagadal/projects/germline-immune3/data/icb-genotypes/all.time.raw\",delim_whitespace=True)"
   ]
  },
  {
   "cell_type": "code",
   "execution_count": 302,
   "id": "d9ecabc1-73c1-400c-9fe6-81d4cacc710b",
   "metadata": {},
   "outputs": [],
   "source": [
    "riaz_pts=pd.read_excel(\"/cellar/users/mpagadal/immunotherapy-trials/data/supplemental/1-s2.0-S0092867417311224-mmc2.xlsx\",skiprows=[0,1])"
   ]
  },
  {
   "cell_type": "code",
   "execution_count": 304,
   "id": "dddc1477-9468-4ec3-9f8e-59345acc0b98",
   "metadata": {},
   "outputs": [],
   "source": [
    "surv_riaz=surv_riaz[surv_riaz[\"pt\"].isin(riaz_pts[riaz_pts[\"Cohort\"]==\"NIV3-PROG\"][\"Patient\"].tolist())]"
   ]
  },
  {
   "cell_type": "code",
   "execution_count": 305,
   "id": "0e195df5-aa2b-4b1b-90f4-df9ef6d17f41",
   "metadata": {},
   "outputs": [
    {
     "data": {
      "text/plain": [
       "['19:45411941:T:C_C']"
      ]
     },
     "execution_count": 305,
     "metadata": {},
     "output_type": "execute_result"
    }
   ],
   "source": [
    "[x for x in geno.columns if \"19:45411941\" in x]"
   ]
  },
  {
   "cell_type": "code",
   "execution_count": 306,
   "id": "aeed8fd2-bff9-4993-92cc-907865e79c16",
   "metadata": {},
   "outputs": [
    {
     "data": {
      "text/plain": [
       "['19:45412079:C:T_T']"
      ]
     },
     "execution_count": 306,
     "metadata": {},
     "output_type": "execute_result"
    }
   ],
   "source": [
    "[x for x in geno.columns if \"19:45412079\" in x]"
   ]
  },
  {
   "cell_type": "code",
   "execution_count": 307,
   "id": "6f11c15b-2ff0-43f9-888a-db857ccf6ef8",
   "metadata": {},
   "outputs": [],
   "source": [
    "geno[\"e2\"]=np.where((geno[\"19:45411941:T:C_C\"]==0)&(geno[\"19:45412079:C:T_T\"]==1),\"yes\",\"no\")\n",
    "geno[\"e3\"]=np.where((geno[\"19:45411941:T:C_C\"]==0)&(geno[\"19:45412079:C:T_T\"]==0),\"yes\",\"no\")\n",
    "geno[\"e4\"]=np.where((geno[\"19:45411941:T:C_C\"]==1)&(geno[\"19:45412079:C:T_T\"]==0),\"yes\",\"no\")"
   ]
  },
  {
   "cell_type": "code",
   "execution_count": 308,
   "id": "daa24c95-943f-41ac-ad52-56b01421af8d",
   "metadata": {},
   "outputs": [],
   "source": [
    "surv_riaz=pd.merge(surv_riaz,geno,on=\"FID\",how=\"left\")"
   ]
  },
  {
   "cell_type": "code",
   "execution_count": 309,
   "id": "5bb2aa15-c6a8-4a0b-abec-09bec71e6fa1",
   "metadata": {},
   "outputs": [
    {
     "data": {
      "text/plain": [
       "0.0    20\n",
       "1.0    14\n",
       "Name: 19:45411941:T:C_C, dtype: int64"
      ]
     },
     "execution_count": 309,
     "metadata": {},
     "output_type": "execute_result"
    }
   ],
   "source": [
    "surv_riaz[\"19:45411941:T:C_C\"].value_counts()"
   ]
  },
  {
   "cell_type": "code",
   "execution_count": 310,
   "id": "0893a8f3-5b52-40e5-893c-f4109970a5e1",
   "metadata": {},
   "outputs": [
    {
     "data": {
      "text/plain": [
       "0.0    29\n",
       "1.0     5\n",
       "Name: 19:45412079:C:T_T, dtype: int64"
      ]
     },
     "execution_count": 310,
     "metadata": {},
     "output_type": "execute_result"
    }
   ],
   "source": [
    "surv_riaz[\"19:45412079:C:T_T\"].value_counts()"
   ]
  },
  {
   "cell_type": "code",
   "execution_count": 311,
   "id": "08effaf4-a3bf-42e7-a72e-fe8bb42c99d3",
   "metadata": {},
   "outputs": [
    {
     "data": {
      "text/plain": [
       "no     29\n",
       "yes     5\n",
       "Name: e2, dtype: int64"
      ]
     },
     "execution_count": 311,
     "metadata": {},
     "output_type": "execute_result"
    }
   ],
   "source": [
    "surv_riaz[\"e2\"].value_counts()"
   ]
  },
  {
   "cell_type": "code",
   "execution_count": 312,
   "id": "54212303-cd44-47ff-8668-a4f034ba8661",
   "metadata": {},
   "outputs": [
    {
     "data": {
      "text/plain": [
       "no     19\n",
       "yes    15\n",
       "Name: e3, dtype: int64"
      ]
     },
     "execution_count": 312,
     "metadata": {},
     "output_type": "execute_result"
    }
   ],
   "source": [
    "surv_riaz[\"e3\"].value_counts()"
   ]
  },
  {
   "cell_type": "code",
   "execution_count": 313,
   "id": "10478631-951c-448f-ab39-c133ba24f2f7",
   "metadata": {},
   "outputs": [
    {
     "data": {
      "text/plain": [
       "no     20\n",
       "yes    14\n",
       "Name: e4, dtype: int64"
      ]
     },
     "execution_count": 313,
     "metadata": {},
     "output_type": "execute_result"
    }
   ],
   "source": [
    "surv_riaz[\"e4\"].value_counts()"
   ]
  },
  {
   "cell_type": "code",
   "execution_count": 314,
   "id": "452632c1-1373-46d0-a032-bc56962e14c8",
   "metadata": {},
   "outputs": [],
   "source": [
    "import pandas as pd\n",
    "import numpy as np\n",
    "import sys\n",
    "sys.path.insert(0, \"/cellarold/users/mpagadal/Programs/anaconda3/lib/python3.7/site-packages\")\n",
    "import lifelines\n",
    "\n",
    "from lifelines import KaplanMeierFitter\n",
    "from lifelines import CoxPHFitter\n",
    "from lifelines.statistics import logrank_test\n",
    "from scipy.stats import pearsonr, spearmanr, mannwhitneyu"
   ]
  },
  {
   "cell_type": "code",
   "execution_count": 317,
   "id": "3515df86-27ca-4182-8bdd-702971d58935",
   "metadata": {},
   "outputs": [
    {
     "data": {
      "image/png": "[encoded data removed]",
      "text/plain": [
       "<Figure size 864x360 with 1 Axes>"
      ]
     },
     "metadata": {
      "needs_background": "light"
     },
     "output_type": "display_data"
    }
   ],
   "source": [
    "fig=plt.figure(figsize=(12,5))\n",
    "ax1 = plt.subplot(1,2,1)\n",
    "            \n",
    "for x in [\"e2\",\"e3\",\"e4\"]:\n",
    "    kmf = KaplanMeierFitter()\n",
    "    kmf.fit(surv_riaz[surv_riaz[x]==\"yes\"][\"OS.time\"], surv_riaz[surv_riaz[x]==\"yes\"][\"OS\"],label=x+\" n=\"+str(len(surv_riaz[surv_riaz[x]==\"yes\"])))\n",
    "    kmf.plot(ci_show=False, ax=ax1)\n",
    "            \n",
    "\n",
    "    results = logrank_test(surv_riaz[surv_riaz[\"e2\"]==\"yes\"][\"OS.time\"], surv_riaz[surv_riaz[\"e4\"]==\"yes\"][\"OS.time\"],event_observed_A=surv_riaz[surv_riaz[\"e2\"]==\"yes\"][\"OS\"], event_observed_B=surv_riaz[surv_riaz[\"e4\"]==\"yes\"][\"OS\"], alpha=.95) \n",
    "    plt.title('Log-rank test: p<{:.3}'.format(results.p_value))\n",
    "\n",
    "    plt.ylabel('% survival')\n",
    "    plt.xlabel('OS time (days)')\n",
    "    plt.legend(frameon=False)\n",
    "\n",
    "    plt.tight_layout()\n",
    "plt.savefig(\"../plots/fig6/apoe.pdf\")\n"
   ]
  },
  {
   "cell_type": "code",
   "execution_count": null,
   "id": "451f297a-dc06-4768-bff3-79eb72207353",
   "metadata": {},
   "outputs": [],
   "source": []
  },
  {
   "cell_type": "markdown",
   "id": "1fe7dbc7-469f-4d0c-98b2-df9003ceb5eb",
   "metadata": {},
   "source": [
    "### Get RNA associations"
   ]
  },
  {
   "cell_type": "code",
   "execution_count": 224,
   "id": "89310705-d666-47c6-b017-6e30c74f6e24",
   "metadata": {},
   "outputs": [],
   "source": [
    "rna_dir=\"../data/icb-associations/bycohort/\"\n",
    "\n",
    "rna_assoc=pd.DataFrame()\n",
    "\n",
    "for x in [x for x in os.listdir(rna_dir) if \"linear\" in x]:\n",
    "    rna=pd.read_csv(rna_dir+x,delimiter=\"\\t\")\n",
    "    rna[\"file\"]=x.split(\".\")[1]\n",
    "    rna[\"cohort\"]=x.split(\".\")[0]\n",
    "    rna_assoc=rna_assoc.append(rna)\n",
    "\n",
    "rna_assoc=rna_assoc[rna_assoc[\"TEST\"]==\"ADD\"].sort_values(by=\"P\")\n",
    "    "
   ]
  },
  {
   "cell_type": "code",
   "execution_count": 225,
   "id": "8b708746-dcd2-4911-9df5-f7e9a53c74ab",
   "metadata": {},
   "outputs": [],
   "source": [
    "rna_io=rna_assoc[rna_assoc[\"file\"].isin([\"TMB\",\"PDCD1\",\"CD274\",\"CTLA4\"])]"
   ]
  },
  {
   "cell_type": "code",
   "execution_count": 226,
   "id": "27fae132-49b2-430b-a8cb-35eb7ced6655",
   "metadata": {},
   "outputs": [
    {
     "name": "stderr",
     "output_type": "stream",
     "text": [
      "/cellar/users/mpagadal/Programs/miniconda3/envs/baseold/lib/python3.7/site-packages/ipykernel_launcher.py:1: SettingWithCopyWarning: \n",
      "A value is trying to be set on a copy of a slice from a DataFrame.\n",
      "Try using .loc[row_indexer,col_indexer] = value instead\n",
      "\n",
      "See the caveats in the documentation: http://pandas.pydata.org/pandas-docs/stable/indexing.html#indexing-view-versus-copy\n",
      "  \"\"\"Entry point for launching an IPython kernel.\n"
     ]
    }
   ],
   "source": [
    "rna_io[\"-log10p\"]=-np.log10(rna_io[\"P\"])"
   ]
  },
  {
   "cell_type": "code",
   "execution_count": 227,
   "id": "56264ae4-f7c2-4f27-bde8-27623761e275",
   "metadata": {},
   "outputs": [
    {
     "name": "stderr",
     "output_type": "stream",
     "text": [
      "/cellar/users/mpagadal/Programs/miniconda3/envs/baseold/lib/python3.7/site-packages/ipykernel_launcher.py:1: SettingWithCopyWarning: \n",
      "A value is trying to be set on a copy of a slice from a DataFrame.\n",
      "Try using .loc[row_indexer,col_indexer] = value instead\n",
      "\n",
      "See the caveats in the documentation: http://pandas.pydata.org/pandas-docs/stable/indexing.html#indexing-view-versus-copy\n",
      "  \"\"\"Entry point for launching an IPython kernel.\n"
     ]
    }
   ],
   "source": [
    "rna_io[\"ID_cohort\"]=rna_io[\"ID\"]+\"_\"+rna_io[\"cohort\"]"
   ]
  },
  {
   "cell_type": "code",
   "execution_count": 228,
   "id": "30e86bc8-0fa1-4cee-8f55-4aaaeb6a09f7",
   "metadata": {},
   "outputs": [],
   "source": [
    "rna_io=rna_io.sort_values(by=[\"#CHROM\",\"POS\",\"cohort\"])"
   ]
  },
  {
   "cell_type": "code",
   "execution_count": 262,
   "id": "8f7ef6aa-98c4-44cb-aa29-b7a2e9e5ff91",
   "metadata": {},
   "outputs": [
    {
     "data": {
      "image/png": "[encoded data removed]",
      "text/plain": [
       "<Figure size 864x144 with 2 Axes>"
      ]
     },
     "metadata": {
      "needs_background": "light"
     },
     "output_type": "display_data"
    }
   ],
   "source": [
    "#Plot\n",
    "\n",
    "def heatmap(x, y, size,color):\n",
    "    fig, ax = plt.subplots(figsize=(12, 2))\n",
    "    \n",
    "    # Mapping from column names to integer coordinates\n",
    "    x_labels = [v for v in x.unique()]\n",
    "    y_labels = [v for v in y.unique()]\n",
    "    x_to_num = {p[1]:p[0] for p in enumerate(x_labels)} \n",
    "    y_to_num = {p[1]:p[0] for p in enumerate(y_labels)} \n",
    "    \n",
    "    size_scale = 20\n",
    "    plt.scatter(\n",
    "        x=x.map(x_to_num), # Use mapping for x\n",
    "        y=y.map(y_to_num), # Use mapping for y\n",
    "        s=size * size_scale, \n",
    "        c=color,\n",
    "        cmap=\"RdBu_r\", vmin=-.5, vmax=.5# Vector of square sizes, proportional to size parameter\n",
    "    )\n",
    "    \n",
    "    # Show column labels on the axes\n",
    "    ax.set_xticks([x_to_num[v] for v in x_labels])\n",
    "    ax.set_xticklabels(x_labels, rotation=45, horizontalalignment='right')\n",
    "    ax.set_yticks([y_to_num[v] for v in y_labels])\n",
    "    ax.set_yticklabels(y_labels)\n",
    "    plt.colorbar()\n",
    "    \n",
    "    plt.xticks(rotation=90)\n",
    "    \n",
    "    ax.axvspan(-0.5, 4.5, facecolor='gray', alpha=0.2)\n",
    "    ax.axvspan(10.5, 16.5, facecolor='gray', alpha=0.2)\n",
    "    ax.axvspan(22.5, 28.5, facecolor='gray', alpha=0.2)\n",
    "    ax.axvspan(34.5, 40.5, facecolor='gray', alpha=0.2)\n",
    "    ax.axvspan(46.5, 52.5, facecolor='gray', alpha=0.2)\n",
    "    ax.axvspan(58.5, 65.5, facecolor='gray', alpha=0.2)\n",
    "    \n",
    "    \n",
    "heatmap(\n",
    "    x=rna_io['ID_cohort'],\n",
    "    y=rna_io['file'],\n",
    "    size=rna_io['-log10p'],\n",
    "    color=rna_io['BETA'],\n",
    ")\n",
    "\n",
    "\n",
    "\n",
    "plt.savefig(\"../plots/fig7/study.icb.io.clustermap.pdf\")"
   ]
  },
  {
   "cell_type": "code",
   "execution_count": 80,
   "id": "a3208c5e-f7b6-48c0-89a6-7623bf388cde",
   "metadata": {},
   "outputs": [
    {
     "data": {
      "text/html": [
       "<div>\n",
       "<style scoped>\n",
       "    .dataframe tbody tr th:only-of-type {\n",
       "        vertical-align: middle;\n",
       "    }\n",
       "\n",
       "    .dataframe tbody tr th {\n",
       "        vertical-align: top;\n",
       "    }\n",
       "\n",
       "    .dataframe thead th {\n",
       "        text-align: right;\n",
       "    }\n",
       "</style>\n",
       "<table border=\"1\" class=\"dataframe\">\n",
       "  <thead>\n",
       "    <tr style=\"text-align: right;\">\n",
       "      <th></th>\n",
       "      <th>#CHROM</th>\n",
       "      <th>POS</th>\n",
       "      <th>ID</th>\n",
       "      <th>REF</th>\n",
       "      <th>ALT</th>\n",
       "      <th>A1</th>\n",
       "      <th>TEST</th>\n",
       "      <th>OBS_CT</th>\n",
       "      <th>BETA</th>\n",
       "      <th>SE</th>\n",
       "      <th>T_STAT</th>\n",
       "      <th>P</th>\n",
       "      <th>ERRCODE</th>\n",
       "      <th>file</th>\n",
       "      <th>cohort</th>\n",
       "      <th>-log10p</th>\n",
       "      <th>ID_cohort</th>\n",
       "      <th>fdr</th>\n",
       "      <th>-log10(fdr)</th>\n",
       "    </tr>\n",
       "  </thead>\n",
       "  <tbody>\n",
       "    <tr>\n",
       "      <th>65</th>\n",
       "      <td>5</td>\n",
       "      <td>96103589</td>\n",
       "      <td>5:96103589:G:A</td>\n",
       "      <td>G</td>\n",
       "      <td>A</td>\n",
       "      <td>A</td>\n",
       "      <td>ADD</td>\n",
       "      <td>38</td>\n",
       "      <td>780.398000</td>\n",
       "      <td>159.796000</td>\n",
       "      <td>4.88370</td>\n",
       "      <td>0.000056</td>\n",
       "      <td>.</td>\n",
       "      <td>TMB</td>\n",
       "      <td>hugo</td>\n",
       "      <td>4.253119</td>\n",
       "      <td>5:96103589:G:A_hugo</td>\n",
       "      <td>0.011055</td>\n",
       "      <td>1.956454</td>\n",
       "    </tr>\n",
       "    <tr>\n",
       "      <th>104</th>\n",
       "      <td>12</td>\n",
       "      <td>69794086</td>\n",
       "      <td>12:69794086:C:G</td>\n",
       "      <td>G</td>\n",
       "      <td>C</td>\n",
       "      <td>C</td>\n",
       "      <td>ADD</td>\n",
       "      <td>33</td>\n",
       "      <td>-1.004000</td>\n",
       "      <td>0.305093</td>\n",
       "      <td>-3.29081</td>\n",
       "      <td>0.003844</td>\n",
       "      <td>.</td>\n",
       "      <td>PDCD1</td>\n",
       "      <td>miao</td>\n",
       "      <td>2.415206</td>\n",
       "      <td>12:69794086:C:G_miao</td>\n",
       "      <td>0.292912</td>\n",
       "      <td>0.533263</td>\n",
       "    </tr>\n",
       "    <tr>\n",
       "      <th>130</th>\n",
       "      <td>16</td>\n",
       "      <td>23621132</td>\n",
       "      <td>16:23621132:T:C</td>\n",
       "      <td>T</td>\n",
       "      <td>C</td>\n",
       "      <td>C</td>\n",
       "      <td>ADD</td>\n",
       "      <td>26</td>\n",
       "      <td>-0.894155</td>\n",
       "      <td>0.255979</td>\n",
       "      <td>-3.49308</td>\n",
       "      <td>0.004438</td>\n",
       "      <td>.</td>\n",
       "      <td>CD274</td>\n",
       "      <td>hugo</td>\n",
       "      <td>2.352807</td>\n",
       "      <td>16:23621132:T:C_hugo</td>\n",
       "      <td>0.292912</td>\n",
       "      <td>0.533263</td>\n",
       "    </tr>\n",
       "    <tr>\n",
       "      <th>104</th>\n",
       "      <td>12</td>\n",
       "      <td>69794086</td>\n",
       "      <td>12:69794086:C:G</td>\n",
       "      <td>G</td>\n",
       "      <td>C</td>\n",
       "      <td>C</td>\n",
       "      <td>ADD</td>\n",
       "      <td>30</td>\n",
       "      <td>-75.828500</td>\n",
       "      <td>28.246600</td>\n",
       "      <td>-2.68451</td>\n",
       "      <td>0.016280</td>\n",
       "      <td>.</td>\n",
       "      <td>TMB</td>\n",
       "      <td>rizvi</td>\n",
       "      <td>1.788346</td>\n",
       "      <td>12:69794086:C:G_rizvi</td>\n",
       "      <td>0.644688</td>\n",
       "      <td>0.190650</td>\n",
       "    </tr>\n",
       "    <tr>\n",
       "      <th>78</th>\n",
       "      <td>8</td>\n",
       "      <td>19233093</td>\n",
       "      <td>8:19233093:G:C</td>\n",
       "      <td>G</td>\n",
       "      <td>C</td>\n",
       "      <td>C</td>\n",
       "      <td>ADD</td>\n",
       "      <td>90</td>\n",
       "      <td>93.604000</td>\n",
       "      <td>37.407000</td>\n",
       "      <td>2.50231</td>\n",
       "      <td>0.014487</td>\n",
       "      <td>.</td>\n",
       "      <td>TMB</td>\n",
       "      <td>vanallen</td>\n",
       "      <td>1.839013</td>\n",
       "      <td>8:19233093:G:C_vanallen</td>\n",
       "      <td>0.644688</td>\n",
       "      <td>0.190650</td>\n",
       "    </tr>\n",
       "  </tbody>\n",
       "</table>\n",
       "</div>"
      ],
      "text/plain": [
       "     #CHROM       POS               ID REF ALT A1 TEST  OBS_CT        BETA  \\\n",
       "65        5  96103589   5:96103589:G:A   G   A  A  ADD      38  780.398000   \n",
       "104      12  69794086  12:69794086:C:G   G   C  C  ADD      33   -1.004000   \n",
       "130      16  23621132  16:23621132:T:C   T   C  C  ADD      26   -0.894155   \n",
       "104      12  69794086  12:69794086:C:G   G   C  C  ADD      30  -75.828500   \n",
       "78        8  19233093   8:19233093:G:C   G   C  C  ADD      90   93.604000   \n",
       "\n",
       "             SE   T_STAT         P ERRCODE   file    cohort   -log10p  \\\n",
       "65   159.796000  4.88370  0.000056       .    TMB      hugo  4.253119   \n",
       "104    0.305093 -3.29081  0.003844       .  PDCD1      miao  2.415206   \n",
       "130    0.255979 -3.49308  0.004438       .  CD274      hugo  2.352807   \n",
       "104   28.246600 -2.68451  0.016280       .    TMB     rizvi  1.788346   \n",
       "78    37.407000  2.50231  0.014487       .    TMB  vanallen  1.839013   \n",
       "\n",
       "                   ID_cohort       fdr  -log10(fdr)  \n",
       "65       5:96103589:G:A_hugo  0.011055     1.956454  \n",
       "104     12:69794086:C:G_miao  0.292912     0.533263  \n",
       "130     16:23621132:T:C_hugo  0.292912     0.533263  \n",
       "104    12:69794086:C:G_rizvi  0.644688     0.190650  \n",
       "78   8:19233093:G:C_vanallen  0.644688     0.190650  "
      ]
     },
     "execution_count": 80,
     "metadata": {},
     "output_type": "execute_result"
    }
   ],
   "source": [
    "fdr(rna_io,False,\"P\").sort_values(by=\"fdr\").head()"
   ]
  },
  {
   "cell_type": "code",
   "execution_count": 81,
   "id": "aa5cf914-b2a1-4a38-9bf7-6da484c2fa55",
   "metadata": {},
   "outputs": [],
   "source": [
    "cohort_lst=[]\n",
    "\n",
    "for i in range(11):\n",
    "    for cohort in [\"hugo\",\"miao\",\"riaz\",\"rizvi\",\"snyder\",\"vanallen\"]:\n",
    "        cohort_lst.append(cohort)\n",
    "        "
   ]
  },
  {
   "cell_type": "code",
   "execution_count": 82,
   "id": "d2f4b087-c223-46cd-8f98-33caec56120c",
   "metadata": {},
   "outputs": [],
   "source": [
    "df=pd.DataFrame({\"cohort\":cohort_lst})"
   ]
  },
  {
   "cell_type": "code",
   "execution_count": 83,
   "id": "f2a0f931-0b8c-4471-82b7-d480a66cfd64",
   "metadata": {},
   "outputs": [],
   "source": [
    "mp_cohort_color={\"hugo\":\"#1b9e77\",\"miao\":\"#d95f02\",\"riaz\":\"#7570b3\",\"rizvi\":\"#e7298a\",\"snyder\":\"#66a61e\",\"vanallen\":\"#e6ab02\"}"
   ]
  },
  {
   "cell_type": "code",
   "execution_count": 84,
   "id": "1ea92035-a0a8-4cfb-a91b-3abfeb49d843",
   "metadata": {},
   "outputs": [],
   "source": [
    "df[\"color\"]=df[\"cohort\"].map(mp_cohort_color)\n",
    "df[\"value\"]=1"
   ]
  },
  {
   "cell_type": "code",
   "execution_count": 85,
   "id": "5c52e917-59ca-4a7f-add1-794908f4eeaa",
   "metadata": {},
   "outputs": [],
   "source": [
    "df[\"cohort\"]=df[\"cohort\"]+df.index.astype(str)"
   ]
  },
  {
   "cell_type": "code",
   "execution_count": 86,
   "id": "cd5f0252-5d9e-45bc-b189-f8fd288d3550",
   "metadata": {},
   "outputs": [
    {
     "data": {
      "image/png": "[encoded data removed]",
      "text/plain": [
       "<Figure size 864x288 with 1 Axes>"
      ]
     },
     "metadata": {
      "needs_background": "light"
     },
     "output_type": "display_data"
    }
   ],
   "source": [
    "fig, ax = plt.subplots(figsize=(12, 4))\n",
    "plt.bar(df[\"cohort\"].tolist(),df[\"value\"].tolist(),color=df[\"color\"].tolist())\n",
    "plt.savefig(\"../plots/fig7/cohort.io.legend.pdf\")"
   ]
  },
  {
   "cell_type": "code",
   "execution_count": 87,
   "id": "20a200d0-704f-42a8-85b8-6f77b45f58c7",
   "metadata": {},
   "outputs": [
    {
     "data": {
      "text/html": [
       "<div>\n",
       "<style scoped>\n",
       "    .dataframe tbody tr th:only-of-type {\n",
       "        vertical-align: middle;\n",
       "    }\n",
       "\n",
       "    .dataframe tbody tr th {\n",
       "        vertical-align: top;\n",
       "    }\n",
       "\n",
       "    .dataframe thead th {\n",
       "        text-align: right;\n",
       "    }\n",
       "</style>\n",
       "<table border=\"1\" class=\"dataframe\">\n",
       "  <thead>\n",
       "    <tr style=\"text-align: right;\">\n",
       "      <th></th>\n",
       "      <th>#CHROM</th>\n",
       "      <th>POS</th>\n",
       "      <th>ID</th>\n",
       "      <th>REF</th>\n",
       "      <th>ALT</th>\n",
       "      <th>A1</th>\n",
       "      <th>TEST</th>\n",
       "      <th>OBS_CT</th>\n",
       "      <th>BETA</th>\n",
       "      <th>SE</th>\n",
       "      <th>T_STAT</th>\n",
       "      <th>P</th>\n",
       "      <th>ERRCODE</th>\n",
       "      <th>file</th>\n",
       "      <th>cohort</th>\n",
       "    </tr>\n",
       "  </thead>\n",
       "  <tbody>\n",
       "    <tr>\n",
       "      <th>0</th>\n",
       "      <td>1</td>\n",
       "      <td>150958977</td>\n",
       "      <td>1:150958977:T:C</td>\n",
       "      <td>T</td>\n",
       "      <td>C</td>\n",
       "      <td>C</td>\n",
       "      <td>ADD</td>\n",
       "      <td>33</td>\n",
       "      <td>0.518707</td>\n",
       "      <td>0.315331</td>\n",
       "      <td>1.64496</td>\n",
       "      <td>0.116421</td>\n",
       "      <td>.</td>\n",
       "      <td>CTSS</td>\n",
       "      <td>miao</td>\n",
       "    </tr>\n",
       "    <tr>\n",
       "      <th>0</th>\n",
       "      <td>1</td>\n",
       "      <td>150958977</td>\n",
       "      <td>1:150958977:T:C</td>\n",
       "      <td>T</td>\n",
       "      <td>C</td>\n",
       "      <td>C</td>\n",
       "      <td>ADD</td>\n",
       "      <td>46</td>\n",
       "      <td>0.297346</td>\n",
       "      <td>0.224772</td>\n",
       "      <td>1.32288</td>\n",
       "      <td>0.195252</td>\n",
       "      <td>.</td>\n",
       "      <td>CTSS</td>\n",
       "      <td>riaz</td>\n",
       "    </tr>\n",
       "    <tr>\n",
       "      <th>0</th>\n",
       "      <td>1</td>\n",
       "      <td>150958977</td>\n",
       "      <td>1:150958977:T:C</td>\n",
       "      <td>T</td>\n",
       "      <td>C</td>\n",
       "      <td>C</td>\n",
       "      <td>ADD</td>\n",
       "      <td>26</td>\n",
       "      <td>-0.403576</td>\n",
       "      <td>0.330665</td>\n",
       "      <td>-1.22050</td>\n",
       "      <td>0.245718</td>\n",
       "      <td>.</td>\n",
       "      <td>CTSS</td>\n",
       "      <td>hugo</td>\n",
       "    </tr>\n",
       "    <tr>\n",
       "      <th>0</th>\n",
       "      <td>1</td>\n",
       "      <td>150958977</td>\n",
       "      <td>1:150958977:T:C</td>\n",
       "      <td>T</td>\n",
       "      <td>C</td>\n",
       "      <td>C</td>\n",
       "      <td>ADD</td>\n",
       "      <td>39</td>\n",
       "      <td>-0.231698</td>\n",
       "      <td>0.303639</td>\n",
       "      <td>-0.76307</td>\n",
       "      <td>0.452563</td>\n",
       "      <td>.</td>\n",
       "      <td>CTSS</td>\n",
       "      <td>vanallen</td>\n",
       "    </tr>\n",
       "  </tbody>\n",
       "</table>\n",
       "</div>"
      ],
      "text/plain": [
       "   #CHROM        POS               ID REF ALT A1 TEST  OBS_CT      BETA  \\\n",
       "0       1  150958977  1:150958977:T:C   T   C  C  ADD      33  0.518707   \n",
       "0       1  150958977  1:150958977:T:C   T   C  C  ADD      46  0.297346   \n",
       "0       1  150958977  1:150958977:T:C   T   C  C  ADD      26 -0.403576   \n",
       "0       1  150958977  1:150958977:T:C   T   C  C  ADD      39 -0.231698   \n",
       "\n",
       "         SE   T_STAT         P ERRCODE  file    cohort  \n",
       "0  0.315331  1.64496  0.116421       .  CTSS      miao  \n",
       "0  0.224772  1.32288  0.195252       .  CTSS      riaz  \n",
       "0  0.330665 -1.22050  0.245718       .  CTSS      hugo  \n",
       "0  0.303639 -0.76307  0.452563       .  CTSS  vanallen  "
      ]
     },
     "execution_count": 87,
     "metadata": {},
     "output_type": "execute_result"
    }
   ],
   "source": [
    "rna_assoc[(rna_assoc[\"ID\"]==\"1:150958977:T:C\")&(rna_assoc[\"file\"]==\"CTSS\")]"
   ]
  },
  {
   "cell_type": "code",
   "execution_count": 88,
   "id": "3cc65b42-a4a0-4fa1-9b9f-1797d6cdc6ff",
   "metadata": {},
   "outputs": [
    {
     "data": {
      "text/html": [
       "<div>\n",
       "<style scoped>\n",
       "    .dataframe tbody tr th:only-of-type {\n",
       "        vertical-align: middle;\n",
       "    }\n",
       "\n",
       "    .dataframe tbody tr th {\n",
       "        vertical-align: top;\n",
       "    }\n",
       "\n",
       "    .dataframe thead th {\n",
       "        text-align: right;\n",
       "    }\n",
       "</style>\n",
       "<table border=\"1\" class=\"dataframe\">\n",
       "  <thead>\n",
       "    <tr style=\"text-align: right;\">\n",
       "      <th></th>\n",
       "      <th>#CHROM</th>\n",
       "      <th>POS</th>\n",
       "      <th>ID</th>\n",
       "      <th>REF</th>\n",
       "      <th>ALT</th>\n",
       "      <th>A1</th>\n",
       "      <th>TEST</th>\n",
       "      <th>OBS_CT</th>\n",
       "      <th>BETA</th>\n",
       "      <th>SE</th>\n",
       "      <th>T_STAT</th>\n",
       "      <th>P</th>\n",
       "      <th>ERRCODE</th>\n",
       "      <th>file</th>\n",
       "      <th>cohort</th>\n",
       "    </tr>\n",
       "  </thead>\n",
       "  <tbody>\n",
       "    <tr>\n",
       "      <th>13</th>\n",
       "      <td>3</td>\n",
       "      <td>47587905</td>\n",
       "      <td>3:47587905:A:G</td>\n",
       "      <td>G</td>\n",
       "      <td>A</td>\n",
       "      <td>A</td>\n",
       "      <td>ADD</td>\n",
       "      <td>39</td>\n",
       "      <td>0.444765</td>\n",
       "      <td>0.346206</td>\n",
       "      <td>1.284680</td>\n",
       "      <td>0.210679</td>\n",
       "      <td>.</td>\n",
       "      <td>TREX1</td>\n",
       "      <td>vanallen</td>\n",
       "    </tr>\n",
       "    <tr>\n",
       "      <th>13</th>\n",
       "      <td>3</td>\n",
       "      <td>47587905</td>\n",
       "      <td>3:47587905:A:G</td>\n",
       "      <td>G</td>\n",
       "      <td>A</td>\n",
       "      <td>A</td>\n",
       "      <td>ADD</td>\n",
       "      <td>46</td>\n",
       "      <td>0.352343</td>\n",
       "      <td>0.282077</td>\n",
       "      <td>1.249100</td>\n",
       "      <td>0.220688</td>\n",
       "      <td>.</td>\n",
       "      <td>TREX1</td>\n",
       "      <td>riaz</td>\n",
       "    </tr>\n",
       "    <tr>\n",
       "      <th>13</th>\n",
       "      <td>3</td>\n",
       "      <td>47587905</td>\n",
       "      <td>3:47587905:A:G</td>\n",
       "      <td>G</td>\n",
       "      <td>A</td>\n",
       "      <td>A</td>\n",
       "      <td>ADD</td>\n",
       "      <td>33</td>\n",
       "      <td>-0.349393</td>\n",
       "      <td>0.321454</td>\n",
       "      <td>-1.086920</td>\n",
       "      <td>0.290672</td>\n",
       "      <td>.</td>\n",
       "      <td>TREX1</td>\n",
       "      <td>miao</td>\n",
       "    </tr>\n",
       "    <tr>\n",
       "      <th>13</th>\n",
       "      <td>3</td>\n",
       "      <td>47587905</td>\n",
       "      <td>3:47587905:A:G</td>\n",
       "      <td>G</td>\n",
       "      <td>A</td>\n",
       "      <td>A</td>\n",
       "      <td>ADD</td>\n",
       "      <td>26</td>\n",
       "      <td>-0.103379</td>\n",
       "      <td>0.379742</td>\n",
       "      <td>-0.272236</td>\n",
       "      <td>0.790068</td>\n",
       "      <td>.</td>\n",
       "      <td>TREX1</td>\n",
       "      <td>hugo</td>\n",
       "    </tr>\n",
       "  </tbody>\n",
       "</table>\n",
       "</div>"
      ],
      "text/plain": [
       "    #CHROM       POS              ID REF ALT A1 TEST  OBS_CT      BETA  \\\n",
       "13       3  47587905  3:47587905:A:G   G   A  A  ADD      39  0.444765   \n",
       "13       3  47587905  3:47587905:A:G   G   A  A  ADD      46  0.352343   \n",
       "13       3  47587905  3:47587905:A:G   G   A  A  ADD      33 -0.349393   \n",
       "13       3  47587905  3:47587905:A:G   G   A  A  ADD      26 -0.103379   \n",
       "\n",
       "          SE    T_STAT         P ERRCODE   file    cohort  \n",
       "13  0.346206  1.284680  0.210679       .  TREX1  vanallen  \n",
       "13  0.282077  1.249100  0.220688       .  TREX1      riaz  \n",
       "13  0.321454 -1.086920  0.290672       .  TREX1      miao  \n",
       "13  0.379742 -0.272236  0.790068       .  TREX1      hugo  "
      ]
     },
     "execution_count": 88,
     "metadata": {},
     "output_type": "execute_result"
    }
   ],
   "source": [
    "rna_assoc[(rna_assoc[\"ID\"]==\"3:47587905:A:G\")&(rna_assoc[\"file\"]==\"TREX1\")]"
   ]
  },
  {
   "cell_type": "code",
   "execution_count": 89,
   "id": "28fb9a8f-5305-42c0-8c04-650ff69f7d7f",
   "metadata": {},
   "outputs": [
    {
     "data": {
      "text/html": [
       "<div>\n",
       "<style scoped>\n",
       "    .dataframe tbody tr th:only-of-type {\n",
       "        vertical-align: middle;\n",
       "    }\n",
       "\n",
       "    .dataframe tbody tr th {\n",
       "        vertical-align: top;\n",
       "    }\n",
       "\n",
       "    .dataframe thead th {\n",
       "        text-align: right;\n",
       "    }\n",
       "</style>\n",
       "<table border=\"1\" class=\"dataframe\">\n",
       "  <thead>\n",
       "    <tr style=\"text-align: right;\">\n",
       "      <th></th>\n",
       "      <th>#CHROM</th>\n",
       "      <th>POS</th>\n",
       "      <th>ID</th>\n",
       "      <th>REF</th>\n",
       "      <th>ALT</th>\n",
       "      <th>A1</th>\n",
       "      <th>TEST</th>\n",
       "      <th>OBS_CT</th>\n",
       "      <th>BETA</th>\n",
       "      <th>SE</th>\n",
       "      <th>T_STAT</th>\n",
       "      <th>P</th>\n",
       "      <th>ERRCODE</th>\n",
       "      <th>file</th>\n",
       "      <th>cohort</th>\n",
       "    </tr>\n",
       "  </thead>\n",
       "  <tbody>\n",
       "    <tr>\n",
       "      <th>26</th>\n",
       "      <td>3</td>\n",
       "      <td>48591481</td>\n",
       "      <td>3:48591481:C:T</td>\n",
       "      <td>T</td>\n",
       "      <td>C</td>\n",
       "      <td>C</td>\n",
       "      <td>ADD</td>\n",
       "      <td>39</td>\n",
       "      <td>-0.522984</td>\n",
       "      <td>0.297428</td>\n",
       "      <td>-1.758360</td>\n",
       "      <td>0.090925</td>\n",
       "      <td>.</td>\n",
       "      <td>TREX1</td>\n",
       "      <td>vanallen</td>\n",
       "    </tr>\n",
       "    <tr>\n",
       "      <th>26</th>\n",
       "      <td>3</td>\n",
       "      <td>48591481</td>\n",
       "      <td>3:48591481:C:T</td>\n",
       "      <td>T</td>\n",
       "      <td>C</td>\n",
       "      <td>C</td>\n",
       "      <td>ADD</td>\n",
       "      <td>26</td>\n",
       "      <td>-0.508182</td>\n",
       "      <td>0.309513</td>\n",
       "      <td>-1.641880</td>\n",
       "      <td>0.126544</td>\n",
       "      <td>.</td>\n",
       "      <td>TREX1</td>\n",
       "      <td>hugo</td>\n",
       "    </tr>\n",
       "    <tr>\n",
       "      <th>26</th>\n",
       "      <td>3</td>\n",
       "      <td>48591481</td>\n",
       "      <td>3:48591481:C:T</td>\n",
       "      <td>T</td>\n",
       "      <td>C</td>\n",
       "      <td>C</td>\n",
       "      <td>ADD</td>\n",
       "      <td>33</td>\n",
       "      <td>-0.369563</td>\n",
       "      <td>0.288384</td>\n",
       "      <td>-1.281490</td>\n",
       "      <td>0.215439</td>\n",
       "      <td>.</td>\n",
       "      <td>TREX1</td>\n",
       "      <td>miao</td>\n",
       "    </tr>\n",
       "    <tr>\n",
       "      <th>26</th>\n",
       "      <td>3</td>\n",
       "      <td>48591481</td>\n",
       "      <td>3:48591481:C:T</td>\n",
       "      <td>T</td>\n",
       "      <td>C</td>\n",
       "      <td>C</td>\n",
       "      <td>ADD</td>\n",
       "      <td>46</td>\n",
       "      <td>-0.154789</td>\n",
       "      <td>0.250603</td>\n",
       "      <td>-0.617665</td>\n",
       "      <td>0.541167</td>\n",
       "      <td>.</td>\n",
       "      <td>TREX1</td>\n",
       "      <td>riaz</td>\n",
       "    </tr>\n",
       "  </tbody>\n",
       "</table>\n",
       "</div>"
      ],
      "text/plain": [
       "    #CHROM       POS              ID REF ALT A1 TEST  OBS_CT      BETA  \\\n",
       "26       3  48591481  3:48591481:C:T   T   C  C  ADD      39 -0.522984   \n",
       "26       3  48591481  3:48591481:C:T   T   C  C  ADD      26 -0.508182   \n",
       "26       3  48591481  3:48591481:C:T   T   C  C  ADD      33 -0.369563   \n",
       "26       3  48591481  3:48591481:C:T   T   C  C  ADD      46 -0.154789   \n",
       "\n",
       "          SE    T_STAT         P ERRCODE   file    cohort  \n",
       "26  0.297428 -1.758360  0.090925       .  TREX1  vanallen  \n",
       "26  0.309513 -1.641880  0.126544       .  TREX1      hugo  \n",
       "26  0.288384 -1.281490  0.215439       .  TREX1      miao  \n",
       "26  0.250603 -0.617665  0.541167       .  TREX1      riaz  "
      ]
     },
     "execution_count": 89,
     "metadata": {},
     "output_type": "execute_result"
    }
   ],
   "source": [
    "rna_assoc[(rna_assoc[\"ID\"]==\"3:48591481:C:T\")&(rna_assoc[\"file\"]==\"TREX1\")]"
   ]
  },
  {
   "cell_type": "code",
   "execution_count": 90,
   "id": "6c5ad5f7-8751-43c7-804d-57b99933ec23",
   "metadata": {},
   "outputs": [],
   "source": [
    "rna_dir=\"../data/icb-associations/\"\n",
    "\n",
    "rna_assoc=pd.DataFrame()\n",
    "\n",
    "for x in [x for x in os.listdir(rna_dir) if \"linear\" in x]:\n",
    "    rna=pd.read_csv(rna_dir+x,delimiter=\"\\t\")\n",
    "    rna[\"file\"]=x\n",
    "    rna_assoc=rna_assoc.append(rna)\n",
    "\n",
    "rna_assoc=rna_assoc[rna_assoc[\"TEST\"]==\"ADD\"].sort_values(by=\"P\")\n",
    "rna_assoc[\"file\"]=rna_assoc[\"file\"].str.split(\".\").str[4]\n",
    "    "
   ]
  },
  {
   "cell_type": "code",
   "execution_count": 101,
   "id": "d48ae9bc-d5d6-4329-9be1-93cdc50f9571",
   "metadata": {},
   "outputs": [
    {
     "name": "stderr",
     "output_type": "stream",
     "text": [
      "/cellar/users/mpagadal/Programs/miniconda3/envs/baseold/lib/python3.7/site-packages/ipykernel_launcher.py:2: SettingWithCopyWarning: \n",
      "A value is trying to be set on a copy of a slice from a DataFrame.\n",
      "Try using .loc[row_indexer,col_indexer] = value instead\n",
      "\n",
      "See the caveats in the documentation: http://pandas.pydata.org/pandas-docs/stable/indexing.html#indexing-view-versus-copy\n",
      "  \n",
      "/cellar/users/mpagadal/Programs/miniconda3/envs/baseold/lib/python3.7/site-packages/ipykernel_launcher.py:3: SettingWithCopyWarning: \n",
      "A value is trying to be set on a copy of a slice from a DataFrame.\n",
      "Try using .loc[row_indexer,col_indexer] = value instead\n",
      "\n",
      "See the caveats in the documentation: http://pandas.pydata.org/pandas-docs/stable/indexing.html#indexing-view-versus-copy\n",
      "  This is separate from the ipykernel package so we can avoid doing imports until\n"
     ]
    }
   ],
   "source": [
    "rna_io=rna_assoc[rna_assoc[\"file\"].isin([\"TMB\",\"PDCD1\",\"CD274\",\"CTLA4\"])]\n",
    "rna_io[\"-log10p\"]=-np.log10(rna_io[\"P\"])\n",
    "rna_io[\"index\"]=rna_io[\"file\"].map({\"TMB\":3,\"PDCD1\":2,\"CD274\":1,\"CTLA4\":1})\n",
    "rna_io=rna_io.sort_values(by=[\"#CHROM\",\"POS\",\"index\"])"
   ]
  },
  {
   "cell_type": "code",
   "execution_count": 102,
   "id": "b460fe0d-8061-41c3-af90-4fed5b7916c3",
   "metadata": {},
   "outputs": [
    {
     "data": {
      "image/png": "[encoded data removed]",
      "text/plain": [
       "<Figure size 864x144 with 2 Axes>"
      ]
     },
     "metadata": {
      "needs_background": "light"
     },
     "output_type": "display_data"
    }
   ],
   "source": [
    "#Plot\n",
    "\n",
    "def heatmap(x, y, size,color):\n",
    "    fig, ax = plt.subplots(figsize=(12, 2))\n",
    "    \n",
    "    # Mapping from column names to integer coordinates\n",
    "    x_labels = [v for v in x.unique()]\n",
    "    y_labels = [v for v in y.unique()]\n",
    "    x_to_num = {p[1]:p[0] for p in enumerate(x_labels)} \n",
    "    y_to_num = {p[1]:p[0] for p in enumerate(y_labels)} \n",
    "    \n",
    "    size_scale = 20\n",
    "    plt.scatter(\n",
    "        x=x.map(x_to_num), # Use mapping for x\n",
    "        y=y.map(y_to_num), # Use mapping for y\n",
    "        s=size * size_scale, \n",
    "        c=color,\n",
    "        cmap=\"RdBu_r\", vmin=-.5, vmax=.5# Vector of square sizes, proportional to size parameter\n",
    "    )\n",
    "    \n",
    "    # Show column labels on the axes\n",
    "    ax.set_xticks([x_to_num[v] for v in x_labels])\n",
    "    ax.set_xticklabels(x_labels, rotation=45, horizontalalignment='right')\n",
    "    ax.set_yticks([y_to_num[v] for v in y_labels])\n",
    "    ax.set_yticklabels(y_labels)\n",
    "    plt.colorbar()\n",
    "    \n",
    "    plt.xticks(rotation=90)\n",
    "    \n",
    "    \n",
    "heatmap(\n",
    "    x=rna_io['ID'],\n",
    "    y=rna_io['file'],\n",
    "    size=rna_io['-log10p'],\n",
    "    color=rna_io['BETA'],\n",
    ")\n",
    "\n",
    "plt.savefig(\"../plots/fig7/study.icb.io.cov.clustermap.pdf\")"
   ]
  },
  {
   "cell_type": "code",
   "execution_count": null,
   "id": "7bdfc4ea-a3de-47f6-ac82-5db2c5408984",
   "metadata": {},
   "outputs": [],
   "source": []
  }
 ],
 "metadata": {
  "kernelspec": {
   "display_name": "ML_kernal",
   "language": "python",
   "name": "ml_kernal"
  },
  "language_info": {
   "codemirror_mode": {
    "name": "ipython",
    "version": 3
   },
   "file_extension": ".py",
   "mimetype": "text/x-python",
   "name": "python",
   "nbconvert_exporter": "python",
   "pygments_lexer": "ipython3",
   "version": "3.7.12"
  }
 },
 "nbformat": 4,
 "nbformat_minor": 5
}
