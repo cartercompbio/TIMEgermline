{
 "cells": [
  {
   "cell_type": "code",
   "execution_count": 25,
   "id": "7705a516-1b71-4740-ac38-d30b59e93fca",
   "metadata": {},
   "outputs": [],
   "source": [
    "import pandas as pd\n",
    "import os\n",
    "import statsmodels.stats.multitest as multi\n",
    "import numpy as np"
   ]
  },
  {
   "cell_type": "code",
   "execution_count": 26,
   "id": "1c4132a2-e957-49e6-8395-0b93f4c696b7",
   "metadata": {},
   "outputs": [],
   "source": [
    "import matplotlib.pyplot as plt\n",
    "import seaborn as sns\n",
    "import matplotlib\n",
    "matplotlib.rcParams['pdf.fonttype'] = 42\n",
    "matplotlib.rcParams['ps.fonttype'] = 42"
   ]
  },
  {
   "cell_type": "code",
   "execution_count": 27,
   "id": "de4f1028-11c9-4edd-9224-bb5b2c2e641b",
   "metadata": {},
   "outputs": [],
   "source": [
    "from scipy.stats import mannwhitneyu\n",
    "import statsmodels.formula.api as smf\n",
    "import statsmodels.api as sm\n",
    "import qnorm\n",
    "from scipy.stats import mannwhitneyu\n",
    "from scipy import stats\n",
    "from sklearn import preprocessing"
   ]
  },
  {
   "cell_type": "markdown",
   "id": "8bb59855-b443-4414-a95b-f68ab14591f9",
   "metadata": {},
   "source": [
    "### Get UKBB risk variants"
   ]
  },
  {
   "cell_type": "code",
   "execution_count": 28,
   "id": "974cd661-1c21-4ce9-8203-47492481af10",
   "metadata": {},
   "outputs": [],
   "source": [
    "import json\n",
    "with open('/cellar/users/mpagadal/resources/tcga/ensembl_map.json', 'r') as f:\n",
    "    ensembl = json.load(f)\n",
    "ensembl={k.split(\".\")[0]:v for k,v in ensembl.items()}"
   ]
  },
  {
   "cell_type": "code",
   "execution_count": 29,
   "id": "be19db0c-8b5b-4ee0-96a3-45f8ba701a5a",
   "metadata": {},
   "outputs": [],
   "source": [
    "def make_ukbb_prs(raw,sumstats,snps):\n",
    "    \n",
    "    print(\"{} PRS snps\".format(len(snps)))\n",
    "    \n",
    "    #compile raw files\n",
    "    compiled_raw=pd.read_csv(raw,delim_whitespace=True)\n",
    "    \n",
    "    #keep snps in list\n",
    "    keep_snps=[]\n",
    "    \n",
    "    for x in snps:\n",
    "        try:\n",
    "            keep_snps.append([s for s in compiled_raw.columns if x in s][0])\n",
    "        except:\n",
    "            try:\n",
    "                keep_snps.append([s for s in compiled_raw.columns if x.rsplit(\":\",2)[0]+\":\"+x.split(\":\")[3]+\":\"+x.split(\":\")[2] in s][0])\n",
    "            except:\n",
    "                pass\n",
    "    \n",
    "    compiled_raw=compiled_raw[[\"IID\"]+keep_snps]\n",
    "    #print(\"loading {} snps\".format(len([x for x in compiled_raw.columns if \":\" in x])))\n",
    "    #print([x for x in compiled_raw.columns if \":\" in x])\n",
    "    \n",
    "    #format raw files\n",
    "    compiled_raw=compiled_raw.set_index(\"IID\")\n",
    "    compiled_raw=compiled_raw.T\n",
    "    compiled_raw[\"min_allele\"]=compiled_raw.index.str.split(\"_\").str[-1]\n",
    "    \n",
    "    #remove duplicates\n",
    "    compiled_raw[\"snp\"]=compiled_raw.index.str.split(\"_\").str[0]\n",
    "    compiled_raw=compiled_raw[~compiled_raw[\"snp\"].duplicated()]\n",
    "    del compiled_raw[\"snp\"]\n",
    "    \n",
    "    compiled_raw.index=compiled_raw.index.str.rsplit(\":\",2).str[0]\n",
    "    \n",
    "    #reformat summary\n",
    "    summary_merge=sumstats[[\"ID\",\"A1\",\"OR\"]].copy()\n",
    "    summary_merge=summary_merge.drop_duplicates(subset=\"ID\",keep=\"first\")\n",
    "    summary_merge=summary_merge.set_index(\"ID\")\n",
    "    summary_merge.index=summary_merge.index.str.rsplit(\":\",2).str[0]\n",
    "    \n",
    "    #annotate the genotypes\n",
    "    compiled_raw=pd.merge(compiled_raw,summary_merge, left_index=True,right_index=True,how=\"left\")\n",
    "    print(\"{} snps missing weight\".format(len(compiled_raw[compiled_raw[\"OR\"].isnull()])))\n",
    "    \n",
    "    compiled_raw[\"logOR\"]=np.log2(compiled_raw[\"OR\"])\n",
    "    del compiled_raw[\"OR\"]\n",
    "    compiled_raw=compiled_raw[~compiled_raw[\"logOR\"].isnull()] #remove null weights\n",
    "    compiled_raw[\"logOR\"]=np.where(compiled_raw[\"min_allele\"]!=compiled_raw[\"A1\"],compiled_raw[\"logOR\"]*-1,compiled_raw[\"logOR\"]) #orient the odds ratio\n",
    "    print(\"switching {} genotypes\".format(len(compiled_raw[compiled_raw[\"min_allele\"]!=compiled_raw[\"A1\"]]))) #number of mismatched genotypes\n",
    "\n",
    "    del compiled_raw[\"min_allele\"]\n",
    "    del compiled_raw[\"A1\"]\n",
    "\n",
    "    #get beta values\n",
    "    mp_beta=dict(zip(compiled_raw.index,compiled_raw[\"logOR\"]))\n",
    "    compiled_raw_switch=compiled_raw.iloc[:,:-1].T\n",
    "    \n",
    "    #align to all positive snps\n",
    "    switch_snps=[k for k,v in mp_beta.items() if v < 0]\n",
    "    \n",
    "    compiled_raw_switch=compiled_raw_switch.fillna(0)\n",
    "    \n",
    "    for x in switch_snps:\n",
    "        compiled_raw_switch[x]=2-compiled_raw_switch[x]\n",
    "        \n",
    "    compiled_raw_switch=compiled_raw_switch.T\n",
    "    compiled_raw_switch[\"beta\"]=compiled_raw_switch.index.map(mp_beta)\n",
    "    compiled_raw_switch[\"beta\"]=abs(compiled_raw_switch[\"beta\"])\n",
    "    compiled_raw_switch=compiled_raw_switch.astype(float)\n",
    "    \n",
    "    #compile weighted genotypes\n",
    "    \n",
    "    #FOR TJ TOMORROW, WIEGHT THE SNPS USING THE LOG ORS\n",
    "    compiled_raw_switch_out=compiled_raw_switch.iloc[:,:-1].mul(compiled_raw_switch[\"beta\"],axis=0)\n",
    "    \n",
    "    raw_prs=compiled_raw_switch.iloc[:,:-1].mul(compiled_raw_switch[\"beta\"],axis=0).sum(axis=0).reset_index()\n",
    "    raw_prs.columns=[\"IID\",\"PRS\"]\n",
    "    \n",
    "    return(raw_prs,compiled_raw_switch_out)"
   ]
  },
  {
   "cell_type": "code",
   "execution_count": 30,
   "id": "7f1aaa13-bcb7-479e-96f7-9cb28ff63492",
   "metadata": {},
   "outputs": [],
   "source": [
    "def quantile_plot(df,form,num,lin_log):\n",
    "    '''\n",
    "    df: dataframe with PRS and pheno/cov in form\n",
    "    prs: prs column\n",
    "    form: formula for analysis\n",
    "    num: number of quantiles\n",
    "    '''\n",
    "    \n",
    "    if lin_log == \"logistic\":\n",
    "        \n",
    "        quant=[]\n",
    "        odds=[]\n",
    "        se=[]\n",
    "\n",
    "        for i in range(num):\n",
    "            quant.append(str((100/num)*i))\n",
    "    \n",
    "            #make groupings for logistic regression\n",
    "            \n",
    "            cases=df[(df[\"PRS\"]>df[\"PRS\"].quantile((1/num)*i))&(df[\"PRS\"]<df[\"PRS\"].quantile((1/num)*(i+1)))][\"FID\"].tolist()\n",
    "            \n",
    "            controls=df[(df[\"PRS\"]>df[\"PRS\"].quantile(int(num/2)*(1/num)))&(df[\"PRS\"]<df[\"PRS\"].quantile(int(num/2)*(1/num)+(1/(num))))][\"FID\"].tolist()\n",
    "    \n",
    "            df_filt=df[df[\"FID\"].isin(cases+controls)]\n",
    "            #df_filt=df[df[\"FID\"].isin(cases)]\n",
    "\n",
    "            df_filt[\"group\"]=np.where(df_filt[\"FID\"].isin(cases),1,0)\n",
    "            print(df_filt[\"group\"].value_counts())\n",
    "            \n",
    "            if i != int(num/2):\n",
    "                model=smf.logit(form,data=df_filt,method='bfgs').fit()\n",
    "                odds.append(np.exp(model.params.tolist()[1]))\n",
    "                se.append(model.bse.tolist()[1])\n",
    "            else:\n",
    "                odds.append(1)\n",
    "                se.append(0)\n",
    "                \n",
    "        df_odds=pd.DataFrame({\"quant\":quant,\"odds\":odds,\"se\":se})\n",
    "        return(df_odds)"
   ]
  },
  {
   "cell_type": "code",
   "execution_count": 31,
   "id": "96ef7f65-b421-4050-980d-93ddd4d59f18",
   "metadata": {},
   "outputs": [],
   "source": [
    "snps=pd.read_csv(\"/cellar/users/mpagadal/projects/germline-immune/data/supplemental/Supplemental_Table_3.csv\",delimiter=\"\\t\")\n",
    "snps[\"snp_noallele\"]=snps[\"proxy_variant\"].str.rsplit(\":\",2).str[0]\n",
    "mp_variant=dict(zip(snps[\"proxy_snp\"],snps[\"proxy_variant\"]))"
   ]
  },
  {
   "cell_type": "code",
   "execution_count": 32,
   "id": "1f7c3451-4d13-4bc6-b251-1987f7c6c0f7",
   "metadata": {},
   "outputs": [
    {
     "data": {
      "text/plain": [
       "129"
      ]
     },
     "execution_count": 32,
     "metadata": {},
     "output_type": "execute_result"
    }
   ],
   "source": [
    "len([x.replace(\"-\",\".\") for x in snps[\"file\"].unique().tolist()])"
   ]
  },
  {
   "cell_type": "code",
   "execution_count": 33,
   "id": "5fbcef1e-8e75-4622-aedd-0e13d4c13de5",
   "metadata": {},
   "outputs": [],
   "source": [
    "ukbb=pd.read_csv(\"/cellar/users/mpagadal/projects/germline-immune/data/supplemental/Supplemental_Table_5.csv\")"
   ]
  },
  {
   "cell_type": "code",
   "execution_count": 34,
   "id": "5dbc74de-b2af-430e-94e0-f121e321db20",
   "metadata": {},
   "outputs": [
    {
     "data": {
      "text/plain": [
       "15"
      ]
     },
     "execution_count": 34,
     "metadata": {},
     "output_type": "execute_result"
    }
   ],
   "source": [
    "len(ukbb[ukbb[\"Outcome\"].str.startswith(\"C\")][\"Outcome\"].value_counts())"
   ]
  },
  {
   "cell_type": "code",
   "execution_count": 35,
   "id": "dad9694e-7a38-46b8-8270-2e8b375dd4c6",
   "metadata": {},
   "outputs": [],
   "source": [
    "fdr_thresh=0.05"
   ]
  },
  {
   "cell_type": "code",
   "execution_count": 36,
   "id": "b9f0d3d8-dad1-4167-876d-4f9f0d7dc84b",
   "metadata": {},
   "outputs": [
    {
     "name": "stderr",
     "output_type": "stream",
     "text": [
      "/cm/shared/apps/jupyter/12.3.0/lib/python3.7/site-packages/ipykernel_launcher.py:5: FutureWarning: The default value of regex will change from True to False in a future version. In addition, single character regular expressions will *not* be treated as literal strings when regex=True.\n",
      "  \"\"\"\n"
     ]
    }
   ],
   "source": [
    "ukbb_sig=ukbb[ukbb[\"Overall_Pval\"]<fdr_thresh]\n",
    "ukbb_sig=ukbb_sig[ukbb_sig[\"Outcome\"].str.startswith(\"C\")]\n",
    "ukbb_annot=pd.merge(ukbb_sig, snps, on=\"proxy_variant\", how=\"left\")\n",
    "pheno_group=pd.read_csv(\"/cellar/users/mpagadal/projects/germline-immune/data/networkx/networkx.group.csv\")\n",
    "pheno_group[\"nodes\"]=pheno_group[\"nodes\"].str.replace(\".\",\"-\")\n",
    "mp_group=dict(zip(pheno_group[\"nodes\"],pheno_group[\"group\"]))\n",
    "ukbb_annot[\"group\"]=ukbb_annot[\"file\"].map(mp_group)\n",
    "ukbb_sig[\"proxy_variant\"]=ukbb_sig[\"Var1_ID\"].map(mp_variant).fillna(ukbb_sig[\"Var1_ID\"])\n",
    "\n",
    "#annotate dataframe\n",
    "ukbb_sig_snps=ukbb_sig[\"proxy_variant\"].tolist()+[x.rsplit(\":\",2)[0]+\":\"+x.split(\":\")[3]+\":\"+x.split(\":\")[2] for x in ukbb_sig[\"proxy_variant\"].tolist()]\n",
    "snps[\"ukbb\"]=np.where(snps[\"proxy_variant\"].isin(ukbb_sig_snps),\"ukbb\",\"no\")"
   ]
  },
  {
   "cell_type": "code",
   "execution_count": 37,
   "id": "fa31ddad-da51-4a94-90b3-e3aaff175276",
   "metadata": {},
   "outputs": [
    {
     "name": "stdout",
     "output_type": "stream",
     "text": [
      "619 UKBB associations from 112 IP components\n"
     ]
    }
   ],
   "source": [
    "print(\"{} UKBB associations from {} IP components\".format(len(snps[snps[\"ukbb\"]==\"ukbb\"][\"proxy_variant\"].unique()),len(snps[snps[\"ukbb\"]==\"ukbb\"][\"file\"].unique())))"
   ]
  },
  {
   "cell_type": "code",
   "execution_count": 38,
   "id": "4e82f3e7-4614-41df-ad14-12525120ded2",
   "metadata": {},
   "outputs": [
    {
     "data": {
      "text/plain": [
       "353"
      ]
     },
     "execution_count": 38,
     "metadata": {},
     "output_type": "execute_result"
    }
   ],
   "source": [
    "len(ukbb_annot[(ukbb_annot[\"file\"]==\"Sigs160-Wolf_MHC2-21978456\")|(ukbb_annot[\"group\"]==\"group1\")][\"Var1_ID\"].unique())"
   ]
  },
  {
   "cell_type": "code",
   "execution_count": 39,
   "id": "a78f69ab-8b8f-4489-a04e-8f3efb858267",
   "metadata": {},
   "outputs": [],
   "source": [
    "#get significant UKBB associations \n",
    "    #filter for cancer associations: Outcome ICD10 codes - C\n",
    "    #Adjusted for pval instead of FDR thresh\n",
    "    \n",
    "ukbb_sig=ukbb[ukbb[\"Overall_Pval\"]<fdr_thresh]\n",
    "ukbb_sig=ukbb_sig[ukbb_sig[\"Outcome\"].str.startswith(\"C\")]\n",
    "ukbb_sig[\"proxy_variant\"]=ukbb_sig[\"Var1_ID\"].map(mp_variant).fillna(ukbb_sig[\"Var1_ID\"])\n",
    "\n",
    "#annotate dataframe\n",
    "ukbb_sig_snps=ukbb_sig[\"proxy_variant\"].tolist()+[x.rsplit(\":\",2)[0]+\":\"+x.split(\":\")[3]+\":\"+x.split(\":\")[2] for x in ukbb_sig[\"proxy_variant\"].tolist()]\n",
    "snps[\"ukbb\"]=np.where(snps[\"proxy_variant\"].isin(ukbb_sig_snps),\"ukbb\",\"no\")\n",
    "\n"
   ]
  },
  {
   "cell_type": "code",
   "execution_count": 40,
   "id": "e66b83c1-518c-48de-b367-3eb412ed463d",
   "metadata": {},
   "outputs": [
    {
     "name": "stdout",
     "output_type": "stream",
     "text": [
      "660 UKBB associations from 112 IP components\n"
     ]
    }
   ],
   "source": [
    "print(\"{} UKBB associations from {} IP components\".format(len(snps[snps[\"ukbb\"]==\"ukbb\"]),len(snps[snps[\"ukbb\"]==\"ukbb\"][\"file\"].unique())))"
   ]
  },
  {
   "cell_type": "code",
   "execution_count": 41,
   "id": "846bcd2c-bcc5-4a69-bcee-288d33f7190c",
   "metadata": {},
   "outputs": [],
   "source": [
    "ukbb_annot=pd.merge(ukbb_sig, snps, on=\"proxy_variant\", how=\"left\")\n",
    "ukbb_annot[\"ukbb_a1\"]=ukbb_annot[\"Var1_MAF\"].str.split(\":\").str[0]\n",
    "ukbb_annot[\"beta_match\"]=np.where(ukbb_annot['ukbb_a1']!=ukbb_annot[\"A1\"],ukbb_annot[\"beta\"]*-1,ukbb_annot[\"beta\"])\n",
    "ukbb_annot[\"logOR\"]=np.log10(ukbb_annot[\"Var1_OR\"])\n",
    "ukbb_annot[\"ref\"]=ukbb_annot[\"proxy_variant\"].str.split(\":\").str[2]"
   ]
  },
  {
   "cell_type": "code",
   "execution_count": 42,
   "id": "21bb4b30-3453-4095-b4a5-7ddd5ce51277",
   "metadata": {},
   "outputs": [
    {
     "name": "stderr",
     "output_type": "stream",
     "text": [
      "/cm/shared/apps/jupyter/12.3.0/lib/python3.7/site-packages/ipykernel_launcher.py:2: FutureWarning: The default value of regex will change from True to False in a future version. In addition, single character regular expressions will *not* be treated as literal strings when regex=True.\n",
      "  \n"
     ]
    }
   ],
   "source": [
    "pheno_group=pd.read_csv(\"/cellar/users/mpagadal/projects/germline-immune/data/networkx/networkx.group.csv\")\n",
    "pheno_group[\"nodes\"]=pheno_group[\"nodes\"].str.replace(\".\",\"-\")\n",
    "mp_group=dict(zip(pheno_group[\"nodes\"],pheno_group[\"group\"]))"
   ]
  },
  {
   "cell_type": "code",
   "execution_count": 43,
   "id": "cf6b5c86-72b4-464b-a5a4-88dfe1584839",
   "metadata": {},
   "outputs": [],
   "source": [
    "ukbb_annot[\"group\"]=ukbb_annot[\"file\"].map(mp_group)"
   ]
  },
  {
   "cell_type": "markdown",
   "id": "ea0333bd-b57a-47ff-8e3f-8aabba6760b2",
   "metadata": {
    "tags": []
   },
   "source": [
    "#### group1 PRS"
   ]
  },
  {
   "cell_type": "code",
   "execution_count": 45,
   "id": "b2954815-44b0-4812-a128-fa2c342755b2",
   "metadata": {},
   "outputs": [],
   "source": [
    "group1_sumstats=ukbb_annot[ukbb_annot[\"group\"]==\"group1\"][[\"proxy_variant\",\"ukbb_a1\",\"Var1_OR\",\"Outcome\"]]\n",
    "group1_sumstats=group1_sumstats[np.logical_or(group1_sumstats[\"Outcome\"]==\"C43-C44\",group1_sumstats[\"Outcome\"]==\"C60-C63\")] #\n",
    "group1_sumstats.columns=[\"ID\",\"A1\",\"OR\",\"Outcome\"]"
   ]
  },
  {
   "cell_type": "code",
   "execution_count": 46,
   "id": "2ded7659-81e3-4dfc-a0e3-b963ab415657",
   "metadata": {},
   "outputs": [
    {
     "data": {
      "text/html": [
       "<div>\n",
       "<style scoped>\n",
       "    .dataframe tbody tr th:only-of-type {\n",
       "        vertical-align: middle;\n",
       "    }\n",
       "\n",
       "    .dataframe tbody tr th {\n",
       "        vertical-align: top;\n",
       "    }\n",
       "\n",
       "    .dataframe thead th {\n",
       "        text-align: right;\n",
       "    }\n",
       "</style>\n",
       "<table border=\"1\" class=\"dataframe\">\n",
       "  <thead>\n",
       "    <tr style=\"text-align: right;\">\n",
       "      <th></th>\n",
       "      <th>Unnamed: 0</th>\n",
       "      <th>Outcome</th>\n",
       "      <th>Var1_ID</th>\n",
       "      <th>Var1_Pos</th>\n",
       "      <th>Var1_MAF</th>\n",
       "      <th>Num_Missing</th>\n",
       "      <th>Analysis_Type</th>\n",
       "      <th>Converged</th>\n",
       "      <th>Var1_Pval</th>\n",
       "      <th>Var1_OR</th>\n",
       "      <th>...</th>\n",
       "      <th>found</th>\n",
       "      <th>proxy_snp</th>\n",
       "      <th>chr</th>\n",
       "      <th>cis tss</th>\n",
       "      <th>ukbb</th>\n",
       "      <th>ukbb_a1</th>\n",
       "      <th>beta_match</th>\n",
       "      <th>logOR</th>\n",
       "      <th>ref</th>\n",
       "      <th>group</th>\n",
       "    </tr>\n",
       "  </thead>\n",
       "  <tbody>\n",
       "    <tr>\n",
       "      <th>0</th>\n",
       "      <td>1</td>\n",
       "      <td>C45-C49</td>\n",
       "      <td>rs56252769</td>\n",
       "      <td>11:65718633</td>\n",
       "      <td>T:0.731893</td>\n",
       "      <td>113151</td>\n",
       "      <td>logistic</td>\n",
       "      <td>1</td>\n",
       "      <td>8.579050e-03</td>\n",
       "      <td>0.865384</td>\n",
       "      <td>...</td>\n",
       "      <td>found</td>\n",
       "      <td>rs56252769</td>\n",
       "      <td>11</td>\n",
       "      <td>-71350.0</td>\n",
       "      <td>ukbb</td>\n",
       "      <td>T</td>\n",
       "      <td>0.239914</td>\n",
       "      <td>-0.062791</td>\n",
       "      <td>T</td>\n",
       "      <td>group1</td>\n",
       "    </tr>\n",
       "    <tr>\n",
       "      <th>1</th>\n",
       "      <td>2</td>\n",
       "      <td>C30-C39</td>\n",
       "      <td>rs56252769</td>\n",
       "      <td>11:65718633</td>\n",
       "      <td>T:0.731893</td>\n",
       "      <td>113151</td>\n",
       "      <td>logistic</td>\n",
       "      <td>1</td>\n",
       "      <td>9.891960e-03</td>\n",
       "      <td>1.082210</td>\n",
       "      <td>...</td>\n",
       "      <td>found</td>\n",
       "      <td>rs56252769</td>\n",
       "      <td>11</td>\n",
       "      <td>-71350.0</td>\n",
       "      <td>ukbb</td>\n",
       "      <td>T</td>\n",
       "      <td>0.239914</td>\n",
       "      <td>0.034312</td>\n",
       "      <td>T</td>\n",
       "      <td>group1</td>\n",
       "    </tr>\n",
       "    <tr>\n",
       "      <th>2</th>\n",
       "      <td>2</td>\n",
       "      <td>C43-C44</td>\n",
       "      <td>11:65477306:A:C</td>\n",
       "      <td>11:65477306</td>\n",
       "      <td>A:0.523835</td>\n",
       "      <td>105518</td>\n",
       "      <td>logistic</td>\n",
       "      <td>1</td>\n",
       "      <td>4.234990e-02</td>\n",
       "      <td>1.024740</td>\n",
       "      <td>...</td>\n",
       "      <td>found</td>\n",
       "      <td>rs12787843</td>\n",
       "      <td>11</td>\n",
       "      <td>169977.0</td>\n",
       "      <td>ukbb</td>\n",
       "      <td>A</td>\n",
       "      <td>-0.101507</td>\n",
       "      <td>0.010614</td>\n",
       "      <td>A</td>\n",
       "      <td>group1</td>\n",
       "    </tr>\n",
       "    <tr>\n",
       "      <th>3</th>\n",
       "      <td>0</td>\n",
       "      <td>C43-C44</td>\n",
       "      <td>rs4785702</td>\n",
       "      <td>16:89733206</td>\n",
       "      <td>G:0.890151</td>\n",
       "      <td>105329</td>\n",
       "      <td>logistic</td>\n",
       "      <td>1</td>\n",
       "      <td>7.512590e-40</td>\n",
       "      <td>0.786236</td>\n",
       "      <td>...</td>\n",
       "      <td>found</td>\n",
       "      <td>rs4785702</td>\n",
       "      <td>16</td>\n",
       "      <td>338072.0</td>\n",
       "      <td>ukbb</td>\n",
       "      <td>G</td>\n",
       "      <td>-0.250181</td>\n",
       "      <td>-0.104447</td>\n",
       "      <td>G</td>\n",
       "      <td>group2</td>\n",
       "    </tr>\n",
       "    <tr>\n",
       "      <th>4</th>\n",
       "      <td>1</td>\n",
       "      <td>C15-C26</td>\n",
       "      <td>rs4785702</td>\n",
       "      <td>16:89733206</td>\n",
       "      <td>G:0.890151</td>\n",
       "      <td>105329</td>\n",
       "      <td>logistic</td>\n",
       "      <td>1</td>\n",
       "      <td>7.971590e-03</td>\n",
       "      <td>1.076180</td>\n",
       "      <td>...</td>\n",
       "      <td>found</td>\n",
       "      <td>rs4785702</td>\n",
       "      <td>16</td>\n",
       "      <td>338072.0</td>\n",
       "      <td>ukbb</td>\n",
       "      <td>G</td>\n",
       "      <td>-0.250181</td>\n",
       "      <td>0.031885</td>\n",
       "      <td>G</td>\n",
       "      <td>group2</td>\n",
       "    </tr>\n",
       "    <tr>\n",
       "      <th>...</th>\n",
       "      <td>...</td>\n",
       "      <td>...</td>\n",
       "      <td>...</td>\n",
       "      <td>...</td>\n",
       "      <td>...</td>\n",
       "      <td>...</td>\n",
       "      <td>...</td>\n",
       "      <td>...</td>\n",
       "      <td>...</td>\n",
       "      <td>...</td>\n",
       "      <td>...</td>\n",
       "      <td>...</td>\n",
       "      <td>...</td>\n",
       "      <td>...</td>\n",
       "      <td>...</td>\n",
       "      <td>...</td>\n",
       "      <td>...</td>\n",
       "      <td>...</td>\n",
       "      <td>...</td>\n",
       "      <td>...</td>\n",
       "      <td>...</td>\n",
       "    </tr>\n",
       "    <tr>\n",
       "      <th>1087</th>\n",
       "      <td>1</td>\n",
       "      <td>C69-C72</td>\n",
       "      <td>rs13183802</td>\n",
       "      <td>5:79635332</td>\n",
       "      <td>A:0.686152</td>\n",
       "      <td>110070</td>\n",
       "      <td>logistic</td>\n",
       "      <td>1</td>\n",
       "      <td>3.552620e-02</td>\n",
       "      <td>0.893094</td>\n",
       "      <td>...</td>\n",
       "      <td>found</td>\n",
       "      <td>rs13183802</td>\n",
       "      <td>5</td>\n",
       "      <td>286712.0</td>\n",
       "      <td>ukbb</td>\n",
       "      <td>A</td>\n",
       "      <td>0.107530</td>\n",
       "      <td>-0.049103</td>\n",
       "      <td>A</td>\n",
       "      <td>group2</td>\n",
       "    </tr>\n",
       "    <tr>\n",
       "      <th>1088</th>\n",
       "      <td>0</td>\n",
       "      <td>C64-C68</td>\n",
       "      <td>rs62376449</td>\n",
       "      <td>5:96202273</td>\n",
       "      <td>G:0.895913</td>\n",
       "      <td>105372</td>\n",
       "      <td>logistic</td>\n",
       "      <td>1</td>\n",
       "      <td>2.556620e-02</td>\n",
       "      <td>1.096060</td>\n",
       "      <td>...</td>\n",
       "      <td>found</td>\n",
       "      <td>rs62376449</td>\n",
       "      <td>5</td>\n",
       "      <td>-92086.0</td>\n",
       "      <td>ukbb</td>\n",
       "      <td>G</td>\n",
       "      <td>0.253384</td>\n",
       "      <td>0.039834</td>\n",
       "      <td>G</td>\n",
       "      <td>group1</td>\n",
       "    </tr>\n",
       "    <tr>\n",
       "      <th>1089</th>\n",
       "      <td>2</td>\n",
       "      <td>C81-C96</td>\n",
       "      <td>rs62376449</td>\n",
       "      <td>5:96202273</td>\n",
       "      <td>G:0.895913</td>\n",
       "      <td>105372</td>\n",
       "      <td>logistic</td>\n",
       "      <td>1</td>\n",
       "      <td>4.581120e-02</td>\n",
       "      <td>1.079870</td>\n",
       "      <td>...</td>\n",
       "      <td>found</td>\n",
       "      <td>rs62376449</td>\n",
       "      <td>5</td>\n",
       "      <td>-92086.0</td>\n",
       "      <td>ukbb</td>\n",
       "      <td>G</td>\n",
       "      <td>0.253384</td>\n",
       "      <td>0.033371</td>\n",
       "      <td>G</td>\n",
       "      <td>group1</td>\n",
       "    </tr>\n",
       "    <tr>\n",
       "      <th>1090</th>\n",
       "      <td>8</td>\n",
       "      <td>C81-C96</td>\n",
       "      <td>rs7754768</td>\n",
       "      <td>6:32420179</td>\n",
       "      <td>T:0.597129</td>\n",
       "      <td>105537</td>\n",
       "      <td>logistic</td>\n",
       "      <td>1</td>\n",
       "      <td>2.223960e-02</td>\n",
       "      <td>0.948427</td>\n",
       "      <td>...</td>\n",
       "      <td>found</td>\n",
       "      <td>rs7754768</td>\n",
       "      <td>6</td>\n",
       "      <td>NaN</td>\n",
       "      <td>ukbb</td>\n",
       "      <td>T</td>\n",
       "      <td>-0.093750</td>\n",
       "      <td>-0.022996</td>\n",
       "      <td>T</td>\n",
       "      <td>NaN</td>\n",
       "    </tr>\n",
       "    <tr>\n",
       "      <th>1091</th>\n",
       "      <td>10</td>\n",
       "      <td>C73-C75</td>\n",
       "      <td>rs7754768</td>\n",
       "      <td>6:32420179</td>\n",
       "      <td>T:0.597129</td>\n",
       "      <td>105537</td>\n",
       "      <td>logistic</td>\n",
       "      <td>1</td>\n",
       "      <td>4.048000e-02</td>\n",
       "      <td>1.143700</td>\n",
       "      <td>...</td>\n",
       "      <td>found</td>\n",
       "      <td>rs7754768</td>\n",
       "      <td>6</td>\n",
       "      <td>NaN</td>\n",
       "      <td>ukbb</td>\n",
       "      <td>T</td>\n",
       "      <td>-0.093750</td>\n",
       "      <td>0.058312</td>\n",
       "      <td>T</td>\n",
       "      <td>NaN</td>\n",
       "    </tr>\n",
       "  </tbody>\n",
       "</table>\n",
       "<p>1092 rows × 38 columns</p>\n",
       "</div>"
      ],
      "text/plain": [
       "      Unnamed: 0  Outcome          Var1_ID     Var1_Pos    Var1_MAF  \\\n",
       "0              1  C45-C49       rs56252769  11:65718633  T:0.731893   \n",
       "1              2  C30-C39       rs56252769  11:65718633  T:0.731893   \n",
       "2              2  C43-C44  11:65477306:A:C  11:65477306  A:0.523835   \n",
       "3              0  C43-C44        rs4785702  16:89733206  G:0.890151   \n",
       "4              1  C15-C26        rs4785702  16:89733206  G:0.890151   \n",
       "...          ...      ...              ...          ...         ...   \n",
       "1087           1  C69-C72       rs13183802   5:79635332  A:0.686152   \n",
       "1088           0  C64-C68       rs62376449   5:96202273  G:0.895913   \n",
       "1089           2  C81-C96       rs62376449   5:96202273  G:0.895913   \n",
       "1090           8  C81-C96        rs7754768   6:32420179  T:0.597129   \n",
       "1091          10  C73-C75        rs7754768   6:32420179  T:0.597129   \n",
       "\n",
       "      Num_Missing Analysis_Type  Converged     Var1_Pval   Var1_OR  ...  \\\n",
       "0          113151      logistic          1  8.579050e-03  0.865384  ...   \n",
       "1          113151      logistic          1  9.891960e-03  1.082210  ...   \n",
       "2          105518      logistic          1  4.234990e-02  1.024740  ...   \n",
       "3          105329      logistic          1  7.512590e-40  0.786236  ...   \n",
       "4          105329      logistic          1  7.971590e-03  1.076180  ...   \n",
       "...           ...           ...        ...           ...       ...  ...   \n",
       "1087       110070      logistic          1  3.552620e-02  0.893094  ...   \n",
       "1088       105372      logistic          1  2.556620e-02  1.096060  ...   \n",
       "1089       105372      logistic          1  4.581120e-02  1.079870  ...   \n",
       "1090       105537      logistic          1  2.223960e-02  0.948427  ...   \n",
       "1091       105537      logistic          1  4.048000e-02  1.143700  ...   \n",
       "\n",
       "      found   proxy_snp  chr   cis tss  ukbb  ukbb_a1  beta_match     logOR  \\\n",
       "0     found  rs56252769   11  -71350.0  ukbb        T    0.239914 -0.062791   \n",
       "1     found  rs56252769   11  -71350.0  ukbb        T    0.239914  0.034312   \n",
       "2     found  rs12787843   11  169977.0  ukbb        A   -0.101507  0.010614   \n",
       "3     found   rs4785702   16  338072.0  ukbb        G   -0.250181 -0.104447   \n",
       "4     found   rs4785702   16  338072.0  ukbb        G   -0.250181  0.031885   \n",
       "...     ...         ...  ...       ...   ...      ...         ...       ...   \n",
       "1087  found  rs13183802    5  286712.0  ukbb        A    0.107530 -0.049103   \n",
       "1088  found  rs62376449    5  -92086.0  ukbb        G    0.253384  0.039834   \n",
       "1089  found  rs62376449    5  -92086.0  ukbb        G    0.253384  0.033371   \n",
       "1090  found   rs7754768    6       NaN  ukbb        T   -0.093750 -0.022996   \n",
       "1091  found   rs7754768    6       NaN  ukbb        T   -0.093750  0.058312   \n",
       "\n",
       "     ref   group  \n",
       "0      T  group1  \n",
       "1      T  group1  \n",
       "2      A  group1  \n",
       "3      G  group2  \n",
       "4      G  group2  \n",
       "...   ..     ...  \n",
       "1087   A  group2  \n",
       "1088   G  group1  \n",
       "1089   G  group1  \n",
       "1090   T     NaN  \n",
       "1091   T     NaN  \n",
       "\n",
       "[1092 rows x 38 columns]"
      ]
     },
     "execution_count": 46,
     "metadata": {},
     "output_type": "execute_result"
    }
   ],
   "source": [
    "ukbb_annot"
   ]
  },
  {
   "cell_type": "code",
   "execution_count": 43,
   "id": "cb11a57b-6735-4a1d-b44a-2269b89369b4",
   "metadata": {},
   "outputs": [
    {
     "name": "stdout",
     "output_type": "stream",
     "text": [
      "CTSW,FCGR3B,CTSS,ERAP1,ERAP2,LYZ,HLA-DQA2,MNDA,HLA-DQA1,HLA-DRB1,HLA-C,MICB,HLA-G,HLA-DQB2,OAS1,TAP2,HLA-DRB5,HLA-DQB1,IL2RA,HLA-H,FPR1,HLA-A,HLA-B phenotypes implicated in PRS\n"
     ]
    }
   ],
   "source": [
    "print(\"{} phenotypes implicated in PRS\".format(\",\".join(ukbb_annot[(ukbb_annot[\"group\"]==\"group1\")&(ukbb_annot[\"Outcome\"]==\"C43-C44\")][\"file\"].unique())))"
   ]
  },
  {
   "cell_type": "code",
   "execution_count": 44,
   "id": "03c7f167-d59c-48ec-ae08-257d90a72c40",
   "metadata": {},
   "outputs": [
    {
     "name": "stdout",
     "output_type": "stream",
     "text": [
      "158 PRS snps\n",
      "0 snps missing weight\n",
      "switching 128 genotypes\n"
     ]
    }
   ],
   "source": [
    "group1_prs,test_ukbb_res=make_ukbb_prs(\"/cellar/users/mpagadal/projects/germline-immune/data/ukbb/time-snp/dosage-multi/ukbb_bialleleic.raw\",group1_sumstats,group1_sumstats[\"ID\"].tolist())\n",
    "icd=pd.read_csv(\"/cellar/users/mpagadal/data/ukbb/plato_input/immune_cancer_lev1_pheno.txt\",delim_whitespace=True)\n",
    "group1_prs=pd.merge(group1_prs,icd,on=\"IID\",how=\"left\")\n"
   ]
  },
  {
   "cell_type": "code",
   "execution_count": 45,
   "id": "801371ba-73b3-4d0e-9afb-a902d89eb8b0",
   "metadata": {},
   "outputs": [],
   "source": [
    "#need to transpose SNP table"
   ]
  },
  {
   "cell_type": "code",
   "execution_count": 46,
   "id": "74b85c32-e1e0-499a-ab85-7d8b5f2cce4a",
   "metadata": {},
   "outputs": [
    {
     "data": {
      "text/plain": [
       "Text(0.5, 0, 'PRS')"
      ]
     },
     "execution_count": 46,
     "metadata": {},
     "output_type": "execute_result"
    },
    {
     "data": {
      "image/png": "[encoded data removed]",
      "text/plain": [
       "<Figure size 432x288 with 1 Axes>"
      ]
     },
     "metadata": {
      "needs_background": "light"
     },
     "output_type": "display_data"
    }
   ],
   "source": [
    "sns.kdeplot(group1_prs[group1_prs[\"C43-C44\"]==0][\"PRS\"],label=\"controls\")\n",
    "sns.kdeplot(group1_prs[group1_prs[\"C43-C44\"]==1][\"PRS\"],label=\"cases\")\n",
    "plt.ylabel(\"density\")\n",
    "plt.xlabel(\"PRS\")"
   ]
  },
  {
   "cell_type": "code",
   "execution_count": 47,
   "id": "296b92b3-294c-4f7e-9b4e-b276a643c479",
   "metadata": {},
   "outputs": [
    {
     "data": {
      "text/plain": [
       "9.193457481966835e-24"
      ]
     },
     "execution_count": 47,
     "metadata": {},
     "output_type": "execute_result"
    }
   ],
   "source": [
    "cat1 = group1_prs[group1_prs[\"C43-C44\"]==0]\n",
    "cat2 = group1_prs[group1_prs[\"C43-C44\"]==1]\n",
    "mannwhitneyu(cat1[\"PRS\"], cat2[\"PRS\"])[1]"
   ]
  },
  {
   "cell_type": "code",
   "execution_count": 48,
   "id": "977de613-73b6-4f40-b97f-f276f367883e",
   "metadata": {
    "tags": []
   },
   "outputs": [
    {
     "name": "stderr",
     "output_type": "stream",
     "text": [
      "/cm/shared/apps/jupyter/12.3.0/lib/python3.7/site-packages/ipykernel_launcher.py:27: SettingWithCopyWarning: \n",
      "A value is trying to be set on a copy of a slice from a DataFrame.\n",
      "Try using .loc[row_indexer,col_indexer] = value instead\n",
      "\n",
      "See the caveats in the documentation: https://pandas.pydata.org/pandas-docs/stable/user_guide/indexing.html#returning-a-view-versus-a-copy\n",
      "/cellar/users/tsears/.local/lib/python3.7/site-packages/statsmodels/base/model.py:127: ValueWarning: unknown kwargs ['method']\n",
      "  warnings.warn(msg, ValueWarning)\n"
     ]
    },
    {
     "name": "stdout",
     "output_type": "stream",
     "text": [
      "1    144796\n",
      "0     38952\n",
      "Name: group, dtype: int64\n",
      "Optimization terminated successfully.\n",
      "         Current function value: 0.145063\n",
      "         Iterations 8\n",
      "1    144163\n",
      "0     38952\n",
      "Name: group, dtype: int64\n"
     ]
    },
    {
     "name": "stderr",
     "output_type": "stream",
     "text": [
      "/cm/shared/apps/jupyter/12.3.0/lib/python3.7/site-packages/ipykernel_launcher.py:27: SettingWithCopyWarning: \n",
      "A value is trying to be set on a copy of a slice from a DataFrame.\n",
      "Try using .loc[row_indexer,col_indexer] = value instead\n",
      "\n",
      "See the caveats in the documentation: https://pandas.pydata.org/pandas-docs/stable/user_guide/indexing.html#returning-a-view-versus-a-copy\n",
      "/cellar/users/tsears/.local/lib/python3.7/site-packages/statsmodels/base/model.py:127: ValueWarning: unknown kwargs ['method']\n",
      "  warnings.warn(msg, ValueWarning)\n"
     ]
    },
    {
     "name": "stdout",
     "output_type": "stream",
     "text": [
      "Optimization terminated successfully.\n",
      "         Current function value: 0.149523\n",
      "         Iterations 8\n"
     ]
    },
    {
     "name": "stderr",
     "output_type": "stream",
     "text": [
      "/cm/shared/apps/jupyter/12.3.0/lib/python3.7/site-packages/ipykernel_launcher.py:27: SettingWithCopyWarning: \n",
      "A value is trying to be set on a copy of a slice from a DataFrame.\n",
      "Try using .loc[row_indexer,col_indexer] = value instead\n",
      "\n",
      "See the caveats in the documentation: https://pandas.pydata.org/pandas-docs/stable/user_guide/indexing.html#returning-a-view-versus-a-copy\n",
      "/cellar/users/tsears/.local/lib/python3.7/site-packages/statsmodels/base/model.py:127: ValueWarning: unknown kwargs ['method']\n",
      "  warnings.warn(msg, ValueWarning)\n"
     ]
    },
    {
     "name": "stdout",
     "output_type": "stream",
     "text": [
      "1    144060\n",
      "0     38952\n",
      "Name: group, dtype: int64\n",
      "Optimization terminated successfully.\n",
      "         Current function value: 0.151365\n",
      "         Iterations 8\n",
      "1    143642\n",
      "0     38952\n",
      "Name: group, dtype: int64\n"
     ]
    },
    {
     "name": "stderr",
     "output_type": "stream",
     "text": [
      "/cm/shared/apps/jupyter/12.3.0/lib/python3.7/site-packages/ipykernel_launcher.py:27: SettingWithCopyWarning: \n",
      "A value is trying to be set on a copy of a slice from a DataFrame.\n",
      "Try using .loc[row_indexer,col_indexer] = value instead\n",
      "\n",
      "See the caveats in the documentation: https://pandas.pydata.org/pandas-docs/stable/user_guide/indexing.html#returning-a-view-versus-a-copy\n",
      "/cellar/users/tsears/.local/lib/python3.7/site-packages/statsmodels/base/model.py:127: ValueWarning: unknown kwargs ['method']\n",
      "  warnings.warn(msg, ValueWarning)\n"
     ]
    },
    {
     "name": "stdout",
     "output_type": "stream",
     "text": [
      "Optimization terminated successfully.\n",
      "         Current function value: 0.154279\n",
      "         Iterations 8\n",
      "1    143672\n",
      "0     38952\n",
      "Name: group, dtype: int64\n"
     ]
    },
    {
     "name": "stderr",
     "output_type": "stream",
     "text": [
      "/cm/shared/apps/jupyter/12.3.0/lib/python3.7/site-packages/ipykernel_launcher.py:27: SettingWithCopyWarning: \n",
      "A value is trying to be set on a copy of a slice from a DataFrame.\n",
      "Try using .loc[row_indexer,col_indexer] = value instead\n",
      "\n",
      "See the caveats in the documentation: https://pandas.pydata.org/pandas-docs/stable/user_guide/indexing.html#returning-a-view-versus-a-copy\n",
      "/cellar/users/tsears/.local/lib/python3.7/site-packages/statsmodels/base/model.py:127: ValueWarning: unknown kwargs ['method']\n",
      "  warnings.warn(msg, ValueWarning)\n"
     ]
    },
    {
     "name": "stdout",
     "output_type": "stream",
     "text": [
      "Optimization terminated successfully.\n",
      "         Current function value: 0.151821\n",
      "         Iterations 8\n",
      "1    143522\n",
      "Name: group, dtype: int64\n"
     ]
    },
    {
     "name": "stderr",
     "output_type": "stream",
     "text": [
      "/cm/shared/apps/jupyter/12.3.0/lib/python3.7/site-packages/ipykernel_launcher.py:27: SettingWithCopyWarning: \n",
      "A value is trying to be set on a copy of a slice from a DataFrame.\n",
      "Try using .loc[row_indexer,col_indexer] = value instead\n",
      "\n",
      "See the caveats in the documentation: https://pandas.pydata.org/pandas-docs/stable/user_guide/indexing.html#returning-a-view-versus-a-copy\n"
     ]
    },
    {
     "name": "stdout",
     "output_type": "stream",
     "text": [
      "1    143573\n",
      "0     38952\n",
      "Name: group, dtype: int64\n"
     ]
    },
    {
     "name": "stderr",
     "output_type": "stream",
     "text": [
      "/cellar/users/tsears/.local/lib/python3.7/site-packages/statsmodels/base/model.py:127: ValueWarning: unknown kwargs ['method']\n",
      "  warnings.warn(msg, ValueWarning)\n"
     ]
    },
    {
     "name": "stdout",
     "output_type": "stream",
     "text": [
      "Optimization terminated successfully.\n",
      "         Current function value: 0.154011\n",
      "         Iterations 8\n",
      "1    143643\n",
      "0     38952\n",
      "Name: group, dtype: int64\n"
     ]
    },
    {
     "name": "stderr",
     "output_type": "stream",
     "text": [
      "/cm/shared/apps/jupyter/12.3.0/lib/python3.7/site-packages/ipykernel_launcher.py:27: SettingWithCopyWarning: \n",
      "A value is trying to be set on a copy of a slice from a DataFrame.\n",
      "Try using .loc[row_indexer,col_indexer] = value instead\n",
      "\n",
      "See the caveats in the documentation: https://pandas.pydata.org/pandas-docs/stable/user_guide/indexing.html#returning-a-view-versus-a-copy\n",
      "/cellar/users/tsears/.local/lib/python3.7/site-packages/statsmodels/base/model.py:127: ValueWarning: unknown kwargs ['method']\n",
      "  warnings.warn(msg, ValueWarning)\n"
     ]
    },
    {
     "name": "stdout",
     "output_type": "stream",
     "text": [
      "Optimization terminated successfully.\n",
      "         Current function value: 0.156317\n",
      "         Iterations 8\n",
      "1    143694\n",
      "0     38952\n",
      "Name: group, dtype: int64\n"
     ]
    },
    {
     "name": "stderr",
     "output_type": "stream",
     "text": [
      "/cm/shared/apps/jupyter/12.3.0/lib/python3.7/site-packages/ipykernel_launcher.py:27: SettingWithCopyWarning: \n",
      "A value is trying to be set on a copy of a slice from a DataFrame.\n",
      "Try using .loc[row_indexer,col_indexer] = value instead\n",
      "\n",
      "See the caveats in the documentation: https://pandas.pydata.org/pandas-docs/stable/user_guide/indexing.html#returning-a-view-versus-a-copy\n",
      "/cellar/users/tsears/.local/lib/python3.7/site-packages/statsmodels/base/model.py:127: ValueWarning: unknown kwargs ['method']\n",
      "  warnings.warn(msg, ValueWarning)\n"
     ]
    },
    {
     "name": "stdout",
     "output_type": "stream",
     "text": [
      "Optimization terminated successfully.\n",
      "         Current function value: 0.160174\n",
      "         Iterations 8\n",
      "1    144967\n",
      "0     38952\n",
      "Name: group, dtype: int64\n"
     ]
    },
    {
     "name": "stderr",
     "output_type": "stream",
     "text": [
      "/cm/shared/apps/jupyter/12.3.0/lib/python3.7/site-packages/ipykernel_launcher.py:27: SettingWithCopyWarning: \n",
      "A value is trying to be set on a copy of a slice from a DataFrame.\n",
      "Try using .loc[row_indexer,col_indexer] = value instead\n",
      "\n",
      "See the caveats in the documentation: https://pandas.pydata.org/pandas-docs/stable/user_guide/indexing.html#returning-a-view-versus-a-copy\n",
      "/cellar/users/tsears/.local/lib/python3.7/site-packages/statsmodels/base/model.py:127: ValueWarning: unknown kwargs ['method']\n",
      "  warnings.warn(msg, ValueWarning)\n"
     ]
    },
    {
     "name": "stdout",
     "output_type": "stream",
     "text": [
      "Optimization terminated successfully.\n",
      "         Current function value: 0.163967\n",
      "         Iterations 8\n"
     ]
    }
   ],
   "source": [
    "group1_prs[\"melanoma\"]=group1_prs[\"C43-C44\"]\n",
    "group1_odds=quantile_plot(group1_prs,\"melanoma ~ group + AGE + SEX + PC1 + PC2 + PC3 + PC4 + PC5 + PC6 + PC7 + PC8 + PC9 + PC10\",10,\"logistic\")"
   ]
  },
  {
   "cell_type": "code",
   "execution_count": 33,
   "id": "d7f1d3db-87b9-4f6d-91a6-9d010db95a3f",
   "metadata": {},
   "outputs": [
    {
     "data": {
      "image/png": "[encoded data removed]",
      "text/plain": [
       "<Figure size 432x288 with 1 Axes>"
      ]
     },
     "metadata": {
      "needs_background": "light"
     },
     "output_type": "display_data"
    }
   ],
   "source": [
    "plt.errorbar(x=group1_odds[\"quant\"].tolist(),y=group1_odds[\"odds\"].tolist(),yerr=group1_odds[\"se\"].tolist(),fmt=\"o\")\n",
    "plt.xlabel(\"group 1 PRS quantile\")\n",
    "plt.ylabel(\"odds of C43-C44\")\n",
    "plt.axhline(1,linestyle=\"--\",color=\"gray\")\n",
    "plt.savefig(\"/cellar/users/tsears/projects/germline-immune/plots/fig5/group1.melanoma.ukbb.prs.quantile.pdf\")"
   ]
  },
  {
   "cell_type": "markdown",
   "id": "ce9255ac-4d9b-44e9-b7bf-20fced64e01b",
   "metadata": {
    "tags": []
   },
   "source": [
    "#### MHC II signature"
   ]
  },
  {
   "cell_type": "code",
   "execution_count": 34,
   "id": "99117f18-eb8e-4112-bedf-557498cbd79b",
   "metadata": {},
   "outputs": [],
   "source": [
    "mhcII_sumstats=ukbb_annot[ukbb_annot[\"file\"]==\"Sigs160-Wolf_MHC2-21978456\"][[\"proxy_variant\",\"ukbb_a1\",\"Var1_OR\",\"Outcome\"]]\n",
    "mhcII_sumstats=mhcII_sumstats[mhcII_sumstats[\"Outcome\"]==\"C43-C44\"]\n",
    "mhcII_sumstats.columns=[\"ID\",\"A1\",\"OR\",\"Outcome\"]"
   ]
  },
  {
   "cell_type": "code",
   "execution_count": 35,
   "id": "115699c5-8b59-465e-aaaf-dc3247aaf69a",
   "metadata": {},
   "outputs": [
    {
     "name": "stdout",
     "output_type": "stream",
     "text": [
      "13 PRS snps\n",
      "loading 13 snps\n",
      "['6:32586908:A:G_G', '6:32634405:T:C_C', '6:32692735:T:A_A', '6:32602396:T:C_C', '6:32575658:G:C_C', '6:32683121:A:G_G', '6:32389255:A:C_C', '6:32612397:G:A_A', '6:32592796:C:T_T', '6:32582194:C:T_T', '6:32584625:G:A_A', '6:32581582:G:C_C', '6:32583274:G:T_T']\n",
      "0 snps missing weight\n",
      "switching 13 genotypes\n"
     ]
    }
   ],
   "source": [
    "mhcII_prs=make_ukbb_prs(\"/cellar/users/mpagadal/projects/germline-immune/data/ukbb/time-snp/dosage-multi/ukbb_bialleleic.raw\",mhcII_sumstats,mhcII_sumstats[\"ID\"].tolist())\n",
    "icd=pd.read_csv(\"/cellar/users/mpagadal/data/ukbb/plato_input/immune_cancer_lev1_pheno.txt\",delim_whitespace=True)\n",
    "mhcII_prs=pd.merge(mhcII_prs,icd,on=\"IID\",how=\"left\")"
   ]
  },
  {
   "cell_type": "code",
   "execution_count": 36,
   "id": "f5cda91e-c184-4298-ac20-b0e3120292f3",
   "metadata": {},
   "outputs": [
    {
     "data": {
      "text/plain": [
       "Text(0.5, 0, 'PRS')"
      ]
     },
     "execution_count": 36,
     "metadata": {},
     "output_type": "execute_result"
    },
    {
     "data": {
      "image/png": "[encoded data removed]",
      "text/plain": [
       "<Figure size 432x288 with 1 Axes>"
      ]
     },
     "metadata": {
      "needs_background": "light"
     },
     "output_type": "display_data"
    }
   ],
   "source": [
    "sns.kdeplot(mhcII_prs[mhcII_prs[\"C43-C44\"]==0][\"PRS\"],label=\"controls\")\n",
    "sns.kdeplot(mhcII_prs[mhcII_prs[\"C43-C44\"]==1][\"PRS\"],label=\"cases\")\n",
    "plt.ylabel(\"density\")\n",
    "plt.xlabel(\"PRS\")"
   ]
  },
  {
   "cell_type": "code",
   "execution_count": 37,
   "id": "16304b7b-9e63-459b-b5b8-abeeac5b633b",
   "metadata": {},
   "outputs": [
    {
     "data": {
      "text/plain": [
       "1.7861255457978958e-14"
      ]
     },
     "execution_count": 37,
     "metadata": {},
     "output_type": "execute_result"
    }
   ],
   "source": [
    "cat1 = mhcII_prs[mhcII_prs[\"C43-C44\"]==0]\n",
    "cat2 = mhcII_prs[mhcII_prs[\"C43-C44\"]==1]\n",
    "mannwhitneyu(cat1[\"PRS\"], cat2[\"PRS\"])[1]"
   ]
  },
  {
   "cell_type": "code",
   "execution_count": 38,
   "id": "a5f93527-fed6-490f-ae10-da851df09213",
   "metadata": {
    "tags": []
   },
   "outputs": [
    {
     "name": "stderr",
     "output_type": "stream",
     "text": [
      "/cm/shared/apps/jupyter/12.3.0/lib/python3.7/site-packages/ipykernel_launcher.py:24: SettingWithCopyWarning: \n",
      "A value is trying to be set on a copy of a slice from a DataFrame.\n",
      "Try using .loc[row_indexer,col_indexer] = value instead\n",
      "\n",
      "See the caveats in the documentation: https://pandas.pydata.org/pandas-docs/stable/user_guide/indexing.html#returning-a-view-versus-a-copy\n"
     ]
    },
    {
     "name": "stdout",
     "output_type": "stream",
     "text": [
      "1    145295\n",
      "0     98145\n",
      "Name: group, dtype: int64\n",
      "Optimization terminated successfully.\n",
      "         Current function value: 0.149096\n",
      "         Iterations 8\n"
     ]
    },
    {
     "name": "stderr",
     "output_type": "stream",
     "text": [
      "/cm/shared/apps/jupyter/12.3.0/lib/python3.7/site-packages/ipykernel_launcher.py:24: SettingWithCopyWarning: \n",
      "A value is trying to be set on a copy of a slice from a DataFrame.\n",
      "Try using .loc[row_indexer,col_indexer] = value instead\n",
      "\n",
      "See the caveats in the documentation: https://pandas.pydata.org/pandas-docs/stable/user_guide/indexing.html#returning-a-view-versus-a-copy\n"
     ]
    },
    {
     "name": "stdout",
     "output_type": "stream",
     "text": [
      "1    144262\n",
      "0     98145\n",
      "Name: group, dtype: int64\n",
      "Optimization terminated successfully.\n",
      "         Current function value: 0.153378\n",
      "         Iterations 8\n"
     ]
    },
    {
     "name": "stderr",
     "output_type": "stream",
     "text": [
      "/cm/shared/apps/jupyter/12.3.0/lib/python3.7/site-packages/ipykernel_launcher.py:24: SettingWithCopyWarning: \n",
      "A value is trying to be set on a copy of a slice from a DataFrame.\n",
      "Try using .loc[row_indexer,col_indexer] = value instead\n",
      "\n",
      "See the caveats in the documentation: https://pandas.pydata.org/pandas-docs/stable/user_guide/indexing.html#returning-a-view-versus-a-copy\n"
     ]
    },
    {
     "name": "stdout",
     "output_type": "stream",
     "text": [
      "1    142965\n",
      "0     98145\n",
      "Name: group, dtype: int64\n",
      "Optimization terminated successfully.\n",
      "         Current function value: 0.152381\n",
      "         Iterations 8\n"
     ]
    },
    {
     "name": "stderr",
     "output_type": "stream",
     "text": [
      "/cm/shared/apps/jupyter/12.3.0/lib/python3.7/site-packages/ipykernel_launcher.py:24: SettingWithCopyWarning: \n",
      "A value is trying to be set on a copy of a slice from a DataFrame.\n",
      "Try using .loc[row_indexer,col_indexer] = value instead\n",
      "\n",
      "See the caveats in the documentation: https://pandas.pydata.org/pandas-docs/stable/user_guide/indexing.html#returning-a-view-versus-a-copy\n"
     ]
    },
    {
     "name": "stdout",
     "output_type": "stream",
     "text": [
      "1    141986\n",
      "0     98145\n",
      "Name: group, dtype: int64\n",
      "Optimization terminated successfully.\n",
      "         Current function value: 0.150085\n",
      "         Iterations 8\n"
     ]
    },
    {
     "name": "stderr",
     "output_type": "stream",
     "text": [
      "/cm/shared/apps/jupyter/12.3.0/lib/python3.7/site-packages/ipykernel_launcher.py:24: SettingWithCopyWarning: \n",
      "A value is trying to be set on a copy of a slice from a DataFrame.\n",
      "Try using .loc[row_indexer,col_indexer] = value instead\n",
      "\n",
      "See the caveats in the documentation: https://pandas.pydata.org/pandas-docs/stable/user_guide/indexing.html#returning-a-view-versus-a-copy\n"
     ]
    },
    {
     "name": "stdout",
     "output_type": "stream",
     "text": [
      "1    134254\n",
      "0     98145\n",
      "Name: group, dtype: int64\n",
      "Optimization terminated successfully.\n",
      "         Current function value: 0.150760\n",
      "         Iterations 8\n"
     ]
    },
    {
     "name": "stderr",
     "output_type": "stream",
     "text": [
      "/cm/shared/apps/jupyter/12.3.0/lib/python3.7/site-packages/ipykernel_launcher.py:24: SettingWithCopyWarning: \n",
      "A value is trying to be set on a copy of a slice from a DataFrame.\n",
      "Try using .loc[row_indexer,col_indexer] = value instead\n",
      "\n",
      "See the caveats in the documentation: https://pandas.pydata.org/pandas-docs/stable/user_guide/indexing.html#returning-a-view-versus-a-copy\n"
     ]
    },
    {
     "name": "stdout",
     "output_type": "stream",
     "text": [
      "1    141075\n",
      "0     74166\n",
      "Name: group, dtype: int64\n",
      "1    142468\n",
      "0     76824\n",
      "Name: group, dtype: int64\n",
      "Optimization terminated successfully.\n",
      "         Current function value: 0.154349\n",
      "         Iterations 8\n"
     ]
    },
    {
     "name": "stderr",
     "output_type": "stream",
     "text": [
      "/cm/shared/apps/jupyter/12.3.0/lib/python3.7/site-packages/ipykernel_launcher.py:24: SettingWithCopyWarning: \n",
      "A value is trying to be set on a copy of a slice from a DataFrame.\n",
      "Try using .loc[row_indexer,col_indexer] = value instead\n",
      "\n",
      "See the caveats in the documentation: https://pandas.pydata.org/pandas-docs/stable/user_guide/indexing.html#returning-a-view-versus-a-copy\n"
     ]
    },
    {
     "name": "stdout",
     "output_type": "stream",
     "text": [
      "1    142989\n",
      "0     80829\n",
      "Name: group, dtype: int64\n",
      "Optimization terminated successfully.\n",
      "         Current function value: 0.155369\n",
      "         Iterations 8\n"
     ]
    },
    {
     "name": "stderr",
     "output_type": "stream",
     "text": [
      "/cm/shared/apps/jupyter/12.3.0/lib/python3.7/site-packages/ipykernel_launcher.py:24: SettingWithCopyWarning: \n",
      "A value is trying to be set on a copy of a slice from a DataFrame.\n",
      "Try using .loc[row_indexer,col_indexer] = value instead\n",
      "\n",
      "See the caveats in the documentation: https://pandas.pydata.org/pandas-docs/stable/user_guide/indexing.html#returning-a-view-versus-a-copy\n"
     ]
    },
    {
     "name": "stdout",
     "output_type": "stream",
     "text": [
      "1    142964\n",
      "0     79561\n",
      "Name: group, dtype: int64\n",
      "Optimization terminated successfully.\n",
      "         Current function value: 0.155538\n",
      "         Iterations 8\n"
     ]
    },
    {
     "name": "stderr",
     "output_type": "stream",
     "text": [
      "/cm/shared/apps/jupyter/12.3.0/lib/python3.7/site-packages/ipykernel_launcher.py:24: SettingWithCopyWarning: \n",
      "A value is trying to be set on a copy of a slice from a DataFrame.\n",
      "Try using .loc[row_indexer,col_indexer] = value instead\n",
      "\n",
      "See the caveats in the documentation: https://pandas.pydata.org/pandas-docs/stable/user_guide/indexing.html#returning-a-view-versus-a-copy\n"
     ]
    },
    {
     "name": "stdout",
     "output_type": "stream",
     "text": [
      "1    144529\n",
      "0     82663\n",
      "Name: group, dtype: int64\n",
      "Optimization terminated successfully.\n",
      "         Current function value: 0.155820\n",
      "         Iterations 8\n"
     ]
    }
   ],
   "source": [
    "mhcII_prs[\"melanoma\"]=mhcII_prs[\"C43-C44\"]\n",
    "mhcII_odds=quantile_plot(mhcII_prs,\"melanoma ~ group + AGE + SEX + PC1 + PC2 + PC3 + PC4 + PC5 + PC6 + PC7 + PC8 + PC9 + PC10\",10,\"logistic\")"
   ]
  },
  {
   "cell_type": "code",
   "execution_count": 39,
   "id": "076e71e6-d796-4020-a8a9-1d948fc639b2",
   "metadata": {},
   "outputs": [
    {
     "data": {
      "image/png": "[encoded data removed]",
      "text/plain": [
       "<Figure size 432x288 with 1 Axes>"
      ]
     },
     "metadata": {
      "needs_background": "light"
     },
     "output_type": "display_data"
    }
   ],
   "source": [
    "plt.errorbar(x=mhcII_odds[\"quant\"].tolist(),y=mhcII_odds[\"odds\"].tolist(),yerr=mhcII_odds[\"se\"].tolist(),fmt=\"o\")\n",
    "plt.xlabel(\"MHC II signature PRS quantile\")\n",
    "plt.ylabel(\"odds of C43-C44\")\n",
    "plt.axhline(1,linestyle=\"--\",color=\"gray\")\n",
    "plt.savefig(\"/cellar/users/tsears/projects/germline-immune/plots/fig5/mhcII.sig.melanoma.ukbb.prs.quantile.pdf\")"
   ]
  },
  {
   "cell_type": "code",
   "execution_count": 40,
   "id": "4d9b76f4-a885-4583-8c4d-b6f76c1d8e3f",
   "metadata": {},
   "outputs": [
    {
     "data": {
      "image/png": "[encoded data removed]",
      "text/plain": [
       "<Figure size 504x360 with 1 Axes>"
      ]
     },
     "metadata": {
      "needs_background": "light"
     },
     "output_type": "display_data"
    }
   ],
   "source": [
    "f=plt.figure(figsize=(7,5))\n",
    "plt.errorbar(x=group1_odds[\"quant\"].tolist(),y=group1_odds[\"odds\"].tolist(),yerr=group1_odds[\"se\"].tolist(),fmt=\"o\",color=\"blue\",label=\"group1 genes\")\n",
    "plt.errorbar(x=mhcII_odds[\"quant\"].tolist(),y=mhcII_odds[\"odds\"].tolist(),yerr=mhcII_odds[\"se\"].tolist(),fmt=\"o\",color=\"red\",label=\"MHC II signature\")\n",
    "plt.ylabel(\"quantile\")\n",
    "plt.ylabel(\"odds of C43-C44 \\n (melanoma and other malignant neoplasms of skin)\")\n",
    "plt.axhline(1,linestyle=\"--\",color=\"gray\")\n",
    "plt.legend()\n",
    "plt.savefig(\"/cellar/users/tsears/projects/germline-immune/plots/fig5/mhcI.II.ukbb.quantile.pdf\")"
   ]
  },
  {
   "cell_type": "markdown",
   "id": "030148f0-2dd3-4858-93ee-88f1eb39ded3",
   "metadata": {
    "tags": []
   },
   "source": [
    "### UKBB with combined MHC+group1 SNPs, Melanoma training and validation ONLY"
   ]
  },
  {
   "cell_type": "code",
   "execution_count": 2903,
   "id": "c3bff65e-a6cf-4512-9f99-b8403c0a2d27",
   "metadata": {
    "tags": []
   },
   "outputs": [
    {
     "name": "stdout",
     "output_type": "stream",
     "text": [
      "181 PRS snps\n",
      "0 snps missing weight\n",
      "switching 148 genotypes\n"
     ]
    }
   ],
   "source": [
    "group1_sumstats=ukbb_annot[ukbb_annot[\"group\"]==\"group1\"][[\"proxy_variant\",\"ukbb_a1\",\"Var1_OR\",\"Outcome\"]]\n",
    "group1_sumstats=group1_sumstats[np.logical_or(group1_sumstats[\"Outcome\"]==\"C43-C44\",group1_sumstats[\"Outcome\"]==\"C60-C63\")] #\n",
    "group1_sumstats.columns=[\"ID\",\"A1\",\"OR\",\"Outcome\"]\n",
    "\n",
    "mhcII_sumstats=ukbb_annot[ukbb_annot[\"file\"]==\"Sigs160-Wolf_MHC2-21978456\"][[\"proxy_variant\",\"ukbb_a1\",\"Var1_OR\",\"Outcome\"]]\n",
    "mhcII_sumstats=mhcII_sumstats[np.logical_or(mhcII_sumstats[\"Outcome\"]==\"C43-C44\",mhcII_sumstats[\"Outcome\"]==\"C60-C63\")]\n",
    "mhcII_sumstats.columns=[\"ID\",\"A1\",\"OR\",\"Outcome\"]\n",
    "\n",
    "group1_mhcII_sumstats=group1_sumstats.append(mhcII_sumstats)\n",
    "group1_mhcII_sumstats\n",
    "\n",
    "group1_mhc_prs,test_ukbb_res=make_ukbb_prs(\"/cellar/users/mpagadal/projects/germline-immune/data/ukbb/time-snp/dosage-multi/ukbb_bialleleic.raw\",group1_mhcII_sumstats,group1_mhcII_sumstats[\"ID\"].tolist())\n",
    "icd=pd.read_csv(\"/cellar/users/mpagadal/data/ukbb/plato_input/immune_cancer_lev1_pheno.txt\",delim_whitespace=True)\n",
    "group1_mhc_prs=pd.merge(group1_mhc_prs,icd,on=\"IID\",how=\"left\")\n"
   ]
  },
  {
   "cell_type": "markdown",
   "id": "b298b4e6-5cb6-4d7c-96aa-3150aaa84f16",
   "metadata": {},
   "source": [
    "#### melanoma genes ONLY"
   ]
  },
  {
   "cell_type": "code",
   "execution_count": 131,
   "id": "ba7cbe4e-f822-45f5-91bd-36844b1dc37a",
   "metadata": {},
   "outputs": [],
   "source": [
    "random_sate=75#31 all except M2 #35 is good w alpha 0.00016\n",
    "\n",
    "#75 is the WINNARRRRRRRR, lasso alpha=0.000015, n_estimators = 200, random_state = random_sate,learning_rate=0.3,max_depth=9 "
   ]
  },
  {
   "cell_type": "code",
   "execution_count": 132,
   "id": "145f10e4-2c9b-43a5-bfce-99ceb9dbe681",
   "metadata": {},
   "outputs": [
    {
     "name": "stdout",
     "output_type": "stream",
     "text": [
      "124 PRS snps\n",
      "0 snps missing weight\n",
      "switching 115 genotypes\n"
     ]
    }
   ],
   "source": [
    "group1_sumstats=ukbb_annot[ukbb_annot[\"group\"]==\"group1\"][[\"proxy_variant\",\"ukbb_a1\",\"Var1_OR\",\"Outcome\"]]\n",
    "group1_sumstats=group1_sumstats[group1_sumstats[\"Outcome\"]==\"C43-C44\"]\n",
    "group1_sumstats.columns=[\"ID\",\"A1\",\"OR\",\"Outcome\"]\n",
    "\n",
    "mhcII_sumstats=ukbb_annot[ukbb_annot[\"file\"]==\"Sigs160-Wolf_MHC2-21978456\"][[\"proxy_variant\",\"ukbb_a1\",\"Var1_OR\",\"Outcome\"]]\n",
    "mhcII_sumstats=mhcII_sumstats[mhcII_sumstats[\"Outcome\"]==\"C43-C44\"]\n",
    "mhcII_sumstats.columns=[\"ID\",\"A1\",\"OR\",\"Outcome\"]\n",
    "\n",
    "group1_mhcII_sumstats=group1_sumstats.append(mhcII_sumstats)\n",
    "group1_mhcII_sumstats\n",
    "\n",
    "group1_mhc_prs,test_ukbb_res=make_ukbb_prs(\"/cellar/users/mpagadal/projects/germline-immune/data/ukbb/time-snp/dosage-multi/ukbb_bialleleic.raw\",group1_mhcII_sumstats,group1_mhcII_sumstats[\"ID\"].tolist())\n",
    "icd=pd.read_csv(\"/cellar/users/mpagadal/data/ukbb/plato_input/immune_cancer_lev1_pheno.txt\",delim_whitespace=True)\n",
    "group1_mhc_prs=pd.merge(group1_mhc_prs,icd,on=\"IID\",how=\"left\")\n"
   ]
  },
  {
   "cell_type": "code",
   "execution_count": 133,
   "id": "d4afa76a-b69b-4a68-bc80-b2b83383fe30",
   "metadata": {},
   "outputs": [],
   "source": [
    "#merge group1_mhc_prs with raw SNP data then format for model building\n",
    "group1_mhc_prs_short=group1_mhc_prs[[\"IID\",\"C43-C44\",\"C60-C63\",\"AGE\",\"SEX\",\"PC1\",\"PC2\",\"PC3\",\"PC4\",\"PC5\",\"PC6\",\"PC7\",\"PC8\",\"PC9\",\"PC10\"]]\n",
    "test_ukbb_res_t=test_ukbb_res.transpose()\n",
    "SNP_outcome_cov_table=pd.merge(test_ukbb_res_t,group1_mhc_prs,right_on=\"IID\",how=\"left\",left_index=True)"
   ]
  },
  {
   "cell_type": "code",
   "execution_count": 134,
   "id": "c0a4b56f-255c-464f-8c91-dc6fbabf769a",
   "metadata": {},
   "outputs": [
    {
     "data": {
      "text/plain": [
       "(21701.0, 14960.0, 7291.0)"
      ]
     },
     "execution_count": 134,
     "metadata": {},
     "output_type": "execute_result"
    }
   ],
   "source": [
    "SNP_outcome_cov_table[\"Cancer\"]=SNP_outcome_cov_table[[\"C43-C44\",\"C60-C63\"]].max(axis=1)\n",
    "np.nansum(SNP_outcome_cov_table[\"Cancer\"]),np.nansum(SNP_outcome_cov_table[\"C43-C44\"]),np.nansum(SNP_outcome_cov_table[\"C60-C63\"])"
   ]
  },
  {
   "cell_type": "code",
   "execution_count": 135,
   "id": "579899fc-e8c9-4fa5-959b-596197657d4c",
   "metadata": {},
   "outputs": [],
   "source": [
    "#Try joint gene score but slim down to melanoma only\n",
    "SNP_outcome_cov_table.columns.values\n",
    "SNP_outcome_cov_table[\"AnyCancer\"]=SNP_outcome_cov_table[['C73-C75', 'C81-C96', 'C40-C41',\n",
    "        'C50-C50',  'C00-C14', 'C45-C49',\n",
    "       'C30-C39', 'C97-C97', 'C76-C80', 'C60-C63',\n",
    "       'C15-C26', 'C51-C58', 'C43-C44', 'C69-C72', 'C64-C68']].max(axis=1)\n",
    "\n",
    "SNP_outcome_cov_table=SNP_outcome_cov_table[np.logical_or(SNP_outcome_cov_table[\"C43-C44\"]==1,SNP_outcome_cov_table[\"AnyCancer\"]==0)]\n",
    "SNP_outcome_cov_table[\"Cancer\"]=SNP_outcome_cov_table[[\"C43-C44\"]].max(axis=1)\n"
   ]
  },
  {
   "cell_type": "code",
   "execution_count": 136,
   "id": "1ae8949e-5740-44a3-9807-16ca2af084cb",
   "metadata": {},
   "outputs": [],
   "source": [
    "SNP_outcome_cov_table=SNP_outcome_cov_table.reset_index()\n",
    "SNP_outcome_cov_table=SNP_outcome_cov_table[~SNP_outcome_cov_table[\"Cancer\"].isnull()]"
   ]
  },
  {
   "cell_type": "code",
   "execution_count": 137,
   "id": "20a87f89-d63a-4e21-81bf-eda3077da947",
   "metadata": {},
   "outputs": [],
   "source": [
    "SNP_outcome_cov_table = SNP_outcome_cov_table.reset_index()"
   ]
  },
  {
   "cell_type": "code",
   "execution_count": 138,
   "id": "5d796d7b-4d14-45b1-a642-0e15e600b38d",
   "metadata": {},
   "outputs": [
    {
     "name": "stdout",
     "output_type": "stream",
     "text": [
      "(341376, 174)\n"
     ]
    }
   ],
   "source": [
    "#downsample the controls by a lot\n",
    "from sklearn.utils import resample\n",
    "\n",
    "# Separate majority and minority classes\n",
    "df_majority = SNP_outcome_cov_table[SNP_outcome_cov_table[\"Cancer\"]==0]\n",
    "df_minority = SNP_outcome_cov_table[SNP_outcome_cov_table[\"Cancer\"]==1]\n",
    " \n",
    "# Downsample majority class\n",
    "df_majority_downsampled = resample(df_majority, \n",
    "                                 replace=False,random_state=random_sate,\n",
    "                                 n_samples=len(df_majority))\n",
    "print(df_majority_downsampled.shape)\n",
    "\n",
    "# Combine minority class with downsampled majority class\n",
    "SNP_outcome_cov_table_downsamp = pd.concat([df_majority_downsampled, df_minority])"
   ]
  },
  {
   "cell_type": "code",
   "execution_count": 139,
   "id": "08aeb26e-a696-428d-97f8-b35463b8156b",
   "metadata": {},
   "outputs": [],
   "source": [
    "SNP_outcome_cov_table_training_x=SNP_outcome_cov_table_downsamp.drop([\"IID\",\"Cancer\",\"C43-C44\",\"C60-C63\",\"AGE\",\"SEX\",\"PC1\",\"PC2\",\"PC3\",\"PC4\",\"PC5\",\"PC6\",\"PC7\",\"PC8\",\"PC9\",\"PC10\",'PRS',\n",
    "       'FID', 'D55-D59', 'D80-D89', 'E70-E90', 'I70-I79', 'K20-K31',\n",
    "       'K50-K52', 'K70-K77', 'K80-K87', 'K90-K93', 'L40-L45', 'M00-M03',\n",
    "       'M05-M14', 'M15-M19', 'M20-M25', 'M70-M79', 'M45-M49', 'M60-M63',\n",
    "       'R70-R79', 'C73-C75', 'C81-C96', 'D60-D64', 'C40-C41', 'D37-D48',\n",
    "       'D70-D77', 'C50-C50', 'D65-D69', 'C00-C14', 'C45-C49', 'D00-D09',\n",
    "       'C30-C39', 'C97-C97', 'D50-D53', 'C76-C80', 'C15-C26', 'C51-C58',\n",
    "       'D10-D36', 'C69-C72', 'C64-C68','AnyCancer'],axis=1)\n",
    "SNP_outcome_cov_table_training_x.index=SNP_outcome_cov_table_downsamp[\"IID\"]\n",
    "SNP_outcome_cov_table_training_x=SNP_outcome_cov_table_training_x.drop([\"level_0\",\"index\"],axis=1)\n",
    "SNP_outcome_cov_table_training_y=SNP_outcome_cov_table_downsamp[\"Cancer\"]\n",
    "SNP_outcome_cov_table_training_y.index=SNP_outcome_cov_table_downsamp[\"IID\"]\n"
   ]
  },
  {
   "cell_type": "markdown",
   "id": "3b8d89f9-effc-452f-b30d-1ff7f3bff4db",
   "metadata": {
    "tags": []
   },
   "source": [
    "### Generating and preparing the validation datasets"
   ]
  },
  {
   "cell_type": "code",
   "execution_count": 140,
   "id": "da126bba-4665-4a7d-a9b5-e8d8dbd53452",
   "metadata": {},
   "outputs": [
    {
     "name": "stdout",
     "output_type": "stream",
     "text": [
      "124 PRS snps\n",
      "0 snps missing weight\n",
      "switching 111 genotypes\n"
     ]
    }
   ],
   "source": [
    "geneva_prs,geneva_snps=make_ukbb_prs(\"/cellar/users/mpagadal/projects/germline-immune/data/genotypes/geneva_melanoma/geneva.raw\",group1_mhcII_sumstats,group1_mhcII_sumstats[\"ID\"].tolist())\n",
    "\n",
    "pheno=pd.read_csv(\"/cellar/controlled/dbgap-genetic/phs000187v1_geneva_melanoma/phenotypes/phs000187.v1.pht000814.v1.p1.c1.Melanoma_Data.GRU.txt.gz\",comment=\"#\",delimiter=\"\\t\")\n",
    "pheno[\"case_control\"]=pheno[\"case_control\"].map({1:1,2:0,3:np.nan})\n",
    "pheno[\"pheno\"]=pheno[\"case_control\"]\n",
    "pheno=pheno.rename(columns={\"Geneva_ID_\":\"IID\"})\n",
    "pheno[\"age\"]=pheno[\"Age_at_DX\"].fillna(pheno[\"Control_Age_at_DX\"])\n",
    "geneva_prs=pd.merge(geneva_prs,pheno[[\"IID\",\"pheno\",\"age\",\"Gender_\",\"Breslow_tumor_thickness\",\"family_history\"]],on=\"IID\",how=\"left\")\n",
    "geneva_prs[\"sex\"]=geneva_prs[\"Gender_\"].map({\"M\":0,\"F\":1})\n",
    "pcs=pd.read_csv(\"/cellar/users/mpagadal/ancestry-analysis/geneva/all.cluster.mds\",delim_whitespace=True)\n",
    "pcs[\"IID\"]=pcs[\"IID\"].astype(str)\n",
    "geneva_prs[\"IID\"]=geneva_prs[\"IID\"].astype(str)\n",
    "\n",
    "geneva_prs=pd.merge(geneva_prs,pcs,on=\"IID\",how=\"left\")\n",
    "geneva_prs[\"FID\"]=geneva_prs[\"IID\"]\n",
    "\n",
    "#Merge geneva_prs file with SNP inputs, then chop up into train/test\n",
    "geneva_snps_t=geneva_snps.transpose()\n",
    "geneva_snps_t[\"IID\"]=geneva_snps_t.index\n",
    "\n",
    "geneva_snps_t = geneva_snps_t.reset_index()\n",
    "geneva_prs = geneva_prs.reset_index()\n",
    "\n",
    "geneva_snps_t[\"IID\"]=geneva_snps_t['IID'].astype(str)\n",
    "geneva_prs[\"IID\"]=geneva_prs['IID'].astype(str)\n",
    "\n",
    "geneva_outcome_cov_table=pd.merge(pd.DataFrame(geneva_snps_t),pd.DataFrame(geneva_prs),on=\"IID\",how=\"left\")\n"
   ]
  },
  {
   "cell_type": "code",
   "execution_count": 141,
   "id": "f30bab8e-3e90-4a51-bead-7f1a856c6517",
   "metadata": {},
   "outputs": [],
   "source": [
    "geneva_outcome_cov_table=geneva_outcome_cov_table[~geneva_outcome_cov_table[\"pheno\"].isnull()]\n",
    "geneva_outcome_cov_table_x=geneva_outcome_cov_table.drop(['IID',\n",
    "       'PRS', 'pheno', 'age', 'Gender_', 'Breslow_tumor_thickness',\n",
    "       'family_history', 'sex', 'FID', 'SOL', 'C1', 'C2', 'C3', 'C4',\n",
    "       'C5', 'C6', 'C7', 'C8', 'C9', 'C10'],axis=1)\n",
    "geneva_outcome_cov_table_x.index=geneva_outcome_cov_table[\"IID\"]\n",
    "geneva_outcome_cov_table_x=geneva_outcome_cov_table_x.drop([\"index_x\",\"index_y\"],axis=1)\n",
    "\n",
    "geneva_outcome_cov_table_y=geneva_outcome_cov_table[\"pheno\"]\n",
    "geneva_outcome_cov_table_y.index=geneva_outcome_cov_table[\"IID\"]"
   ]
  },
  {
   "cell_type": "code",
   "execution_count": 142,
   "id": "22a8e5f9-1ce7-42f7-a65b-13b074036b75",
   "metadata": {},
   "outputs": [],
   "source": [
    "SNP_outcome_cov_table_training_y=pd.to_numeric(SNP_outcome_cov_table_training_y, errors='coerce').astype(\"Int32\")\n",
    "geneva_outcome_cov_table_y=pd.to_numeric(geneva_outcome_cov_table_y, errors='coerce').astype(\"Int32\")"
   ]
  },
  {
   "cell_type": "code",
   "execution_count": 143,
   "id": "015fa9db-3f83-4539-99fe-1726ed3eb262",
   "metadata": {},
   "outputs": [
    {
     "data": {
      "text/plain": [
       "((356336, 115), (356336,), (3029, 115), (3029,))"
      ]
     },
     "execution_count": 143,
     "metadata": {},
     "output_type": "execute_result"
    }
   ],
   "source": [
    "SNP_outcome_cov_table_training_x.shape,SNP_outcome_cov_table_training_y.shape,geneva_outcome_cov_table_x.shape,geneva_outcome_cov_table_y.shape"
   ]
  },
  {
   "cell_type": "code",
   "execution_count": 144,
   "id": "861fd687-0781-41df-b652-6c0123871834",
   "metadata": {},
   "outputs": [
    {
     "name": "stdout",
     "output_type": "stream",
     "text": [
      "0.5390563113191547\n"
     ]
    },
    {
     "data": {
      "image/png": "[encoded data removed]",
      "text/plain": [
       "<Figure size 720x720 with 1 Axes>"
      ]
     },
     "metadata": {
      "needs_background": "light"
     },
     "output_type": "display_data"
    },
    {
     "name": "stdout",
     "output_type": "stream",
     "text": [
      "['11:65477306' '1:150456350' '11:65585257' '5:96374150' '5:96200770'\n",
      " '5:96257285' '11:65407886' '6:32438298' '6:32606941' '5:96101944'\n",
      " '6:32592605' '5:96323549' '5:96124330' '6:31239896' '6:31461771'\n",
      " '5:96057882' '1:150406172' '5:96092990' '1:150861859' '5:96115721'\n",
      " '5:96206563' '6:32581973' '6:32731258' '5:96147733' '6:32614080'\n",
      " '6:32789480' '6:32580657' '5:96128022' '5:96125330' '11:65640906'\n",
      " '11:65747057' '1:150467096' '1:150958977' '1:150635066' '1:150558293'\n",
      " '5:96185467' '5:95897963' '5:96198479' '6:29910358' '6:32636866'\n",
      " '11:65473798' '5:95999526' '5:96174446' '5:96229272' '1:150527294'\n",
      " '5:96174186' '5:96182717' '11:65583066' '1:150878649' '5:95981261'\n",
      " '6:31322980' '12:113411806' '11:65412467' '5:96120933' '5:96216387'\n",
      " '1:150737220' '5:95909680' '5:96293021' '6:32561327' '6:32610059'\n",
      " '1:150618632' '5:96151760' '6:32602396' '6:32575658' '6:32683121'\n",
      " '6:32389255' '6:32612397' '6:32592796' '6:32582194' '6:32584625'\n",
      " '6:32581582' '6:32583274']\n"
     ]
    }
   ],
   "source": [
    "#Now recreate model from fig. 7 using this new composite dataframe\n",
    "\n",
    "#filter using LASSO regression\n",
    "from sklearn.linear_model import Lasso\n",
    "\n",
    "model = Lasso(alpha=0.000015,random_state=random_sate)  \n",
    "\n",
    "# fit model\n",
    "model.fit(SNP_outcome_cov_table_training_x, SNP_outcome_cov_table_training_y)\n",
    "\n",
    "p = model.predict(SNP_outcome_cov_table_training_x)  # test the output by changing values\n",
    "#Find model that gives best AUC, do a cutoff of weakest contributing SNPS, then run all analysis portions\n",
    "\n",
    "import sklearn.metrics as metrics\n",
    "# calculate the fpr and tpr for all thresholds of the classification\n",
    "#preds = np.around(p, decimals=0, out=None)\n",
    "\n",
    "preds=p\n",
    "\n",
    "fpr, tpr, threshold = metrics.roc_curve(list(SNP_outcome_cov_table_training_y), preds,pos_label=1)\n",
    "\n",
    "roc_auc = metrics.auc(fpr, tpr)\n",
    "\n",
    "print(roc_auc)\n",
    "# method I: plt\n",
    "import matplotlib.pyplot as plt\n",
    "plt.figure(figsize=(10,10))\n",
    "plt.title('Simple LASSO AUC')\n",
    "plt.plot(fpr, tpr, 'b', label = 'AUC = %0.2f' % roc_auc)\n",
    "plt.legend(loc = 'lower right')\n",
    "plt.plot([0, 1], [0, 1],'r--')\n",
    "plt.xlim([0, 1])\n",
    "plt.ylim([0, 1])\n",
    "plt.ylabel('True Positive Rate')\n",
    "plt.xlabel('False Positive Rate')\n",
    "plt.show()\n",
    "\n",
    "#now drop SNPs with low contribution\n",
    "print(SNP_outcome_cov_table_training_x.columns.values[model.coef_==0])\n"
   ]
  },
  {
   "cell_type": "code",
   "execution_count": 145,
   "id": "4abcb5ae-9e08-428a-8054-34a267d5c995",
   "metadata": {},
   "outputs": [],
   "source": [
    "#remake SNP list with dropped \"useless\" SNPs\n",
    "\n",
    "geneva_outcome_cov_table_dropped=geneva_outcome_cov_table.drop(SNP_outcome_cov_table_training_x.columns.values[model.coef_==0],axis=1)\n",
    "SNP_outcome_cov_table_downsamp_dropped=SNP_outcome_cov_table_downsamp.drop(SNP_outcome_cov_table_training_x.columns.values[model.coef_==0],axis=1)\n",
    "\n",
    "geneva_outcome_cov_table_x=geneva_outcome_cov_table_dropped.drop(['IID',\n",
    "       'PRS', 'pheno', 'age', 'Gender_', 'Breslow_tumor_thickness',\n",
    "       'family_history', 'sex', 'FID', 'SOL', 'C1', 'C2', 'C3', 'C4',\n",
    "       'C5', 'C6', 'C7', 'C8', 'C9', 'C10'],axis=1)\n",
    "geneva_outcome_cov_table_x.index=geneva_outcome_cov_table_dropped[\"IID\"]\n",
    "geneva_outcome_cov_table_x=geneva_outcome_cov_table_x.drop([\"index_x\",\"index_y\"],axis=1)\n",
    "\n",
    "geneva_outcome_cov_table_y=geneva_outcome_cov_table_dropped[\"pheno\"]\n",
    "geneva_outcome_cov_table_y.index=geneva_outcome_cov_table_dropped[\"IID\"]\n",
    "\n",
    "SNP_outcome_cov_table_training_x=SNP_outcome_cov_table_downsamp_dropped.drop([\"IID\",\"Cancer\",\"C43-C44\",\"C60-C63\",\"AGE\",\"SEX\",\"PC1\",\"PC2\",\"PC3\",\"PC4\",\"PC5\",\"PC6\",\"PC7\",\"PC8\",\"PC9\",\"PC10\",'PRS',\n",
    "       'FID', 'D55-D59', 'D80-D89', 'E70-E90', 'I70-I79', 'K20-K31',\n",
    "       'K50-K52', 'K70-K77', 'K80-K87', 'K90-K93', 'L40-L45', 'M00-M03',\n",
    "       'M05-M14', 'M15-M19', 'M20-M25', 'M70-M79', 'M45-M49', 'M60-M63',\n",
    "       'R70-R79', 'C73-C75', 'C81-C96', 'D60-D64', 'C40-C41', 'D37-D48',\n",
    "       'D70-D77', 'C50-C50', 'D65-D69', 'C00-C14', 'C45-C49', 'D00-D09',\n",
    "       'C30-C39', 'C97-C97', 'D50-D53', 'C76-C80', 'C15-C26', 'C51-C58',\n",
    "       'D10-D36', 'C69-C72', 'C64-C68',\"AnyCancer\"],axis=1)\n",
    "SNP_outcome_cov_table_training_x.index=SNP_outcome_cov_table_downsamp_dropped[\"IID\"]\n",
    "SNP_outcome_cov_table_training_x=SNP_outcome_cov_table_training_x.drop([\"level_0\",\"index\"],axis=1)\n",
    "SNP_outcome_cov_table_training_y=SNP_outcome_cov_table_downsamp_dropped[\"Cancer\"]\n",
    "SNP_outcome_cov_table_training_y.index=SNP_outcome_cov_table_downsamp_dropped[\"IID\"]\n",
    "\n",
    "geneva_outcome_cov_table_dropped=geneva_outcome_cov_table_dropped.reset_index()\n"
   ]
  },
  {
   "cell_type": "code",
   "execution_count": 146,
   "id": "b7658f37-c4d9-446c-97e7-6eaee2ff5563",
   "metadata": {},
   "outputs": [],
   "source": [
    "pd.DataFrame(SNP_outcome_cov_table_training_x.columns.values).to_csv(\"/cellar/users/tsears/projects/germline-immune/data/fig4/melanoma_final_snps.txt\",sep=\"\\t\")"
   ]
  },
  {
   "cell_type": "code",
   "execution_count": 147,
   "id": "ff75fd25-0a96-4975-9453-5bab10104efe",
   "metadata": {},
   "outputs": [
    {
     "name": "stdout",
     "output_type": "stream",
     "text": [
      "[17:58:00] WARNING: /tmp/abs_40obctay9q/croots/recipe/xgboost-split_1659548945886/work/src/learner.cc:576: \n",
      "Parameters: { \"verbose_eval\" } might not be used.\n",
      "\n",
      "  This could be a false alarm, with some parameters getting used by language bindings but\n",
      "  then being mistakenly passed down to XGBoost core, or some parameter actually being used\n",
      "  but getting flagged wrongly here. Please open an issue if you find any such cases.\n",
      "\n",
      "\n"
     ]
    }
   ],
   "source": [
    "import xgboost\n",
    "from sklearn.model_selection import cross_val_score\n",
    "from sklearn.model_selection import RepeatedKFold\n",
    "\n",
    "regressor_xgb = xgboost.XGBRFRegressor(n_estimators = 200, random_state = random_sate,learning_rate=0.3,max_depth=9,verbose_eval=10)\n",
    "\n",
    "regressor_xgb.fit(SNP_outcome_cov_table_training_x, SNP_outcome_cov_table_training_y)  \n",
    "\n",
    "p = regressor_xgb.predict(geneva_outcome_cov_table_x)  # test the output by changing values\n",
    "p_disc=regressor_xgb.predict(SNP_outcome_cov_table_training_x)\n",
    "\n",
    "geneva_outcome_cov_table_dropped[\"LASSO_burden\"]=p\n",
    "SNP_outcome_cov_table_downsamp_dropped[\"LASSO_burden\"]=p_disc"
   ]
  },
  {
   "cell_type": "code",
   "execution_count": 148,
   "id": "e24cd1c8-87d3-459d-b22d-47172627d839",
   "metadata": {},
   "outputs": [
    {
     "data": {
      "image/png": "[encoded data removed]",
      "text/plain": [
       "<Figure size 576x720 with 1 Axes>"
      ]
     },
     "metadata": {
      "needs_background": "light"
     },
     "output_type": "display_data"
    }
   ],
   "source": [
    "features = SNP_outcome_cov_table_training_x.columns.values.tolist()\n",
    "features=[x.rsplit(\"_\")[0] for x in features]\n",
    "importances = regressor_xgb.feature_importances_\n",
    "\n",
    "mapping_table=pd.concat([pd.DataFrame(features),pd.DataFrame(importances)],axis=1)\n",
    "mapping_table.columns=[\"ID\",\"importance\"]\n",
    "\n",
    "rsid_table=pd.read_csv(\"/cellar/users/mpagadal/projects/germline-immune/data/supplemental/Supplemental_Table_3_annot.csv\",sep=\"\\t\")\n",
    "rsid_table=rsid_table.drop_duplicates(subset=\"rsid\")\n",
    "rsid_table=rsid_table[[\"snp_noallele\",\"rsid\"]]\n",
    "\n",
    "compiled_icb_rsid_plot=pd.merge(mapping_table,rsid_table,left_on=\"ID\",right_on=\"snp_noallele\")\n",
    "\n",
    "compiled_icb_rsid_plot=compiled_icb_rsid_plot.sort_values(by=\"importance\")\n",
    "compiled_icb_rsid_plot=compiled_icb_rsid_plot.iloc[compiled_icb_rsid_plot.shape[0]-15:compiled_icb_rsid_plot.shape[0],:]\n",
    "\n",
    "plt.rcParams['font.family'] = 'sans-serif'\n",
    "plt.rcParams['font.sans-serif'] = 'Helvetica'\n",
    "\n",
    "plt.rcParams['axes.edgecolor']='darkslategrey'\n",
    "plt.rcParams['axes.linewidth']=1\n",
    "plt.rcParams['xtick.color']='black'\n",
    "plt.rcParams['ytick.color']='black'\n",
    "plt.style.use('seaborn-dark-palette')\n",
    "\n",
    "my_range=list(range(0,len(compiled_icb_rsid_plot[\"importance\"])))\n",
    "fig, ax = plt.subplots(figsize=(8,10))\n",
    "plt.hlines(y=my_range, xmin=0, xmax=compiled_icb_rsid_plot[\"importance\"], alpha=0.4, linewidth=7)\n",
    "plt.plot(compiled_icb_rsid_plot[\"importance\"], my_range, \"o\", markersize=7, alpha=0.7)\n",
    "# set labels style\n",
    "ax.set_xlabel('Relative Importance', fontsize=15, fontweight='black', color = '#333F4B')\n",
    "ax.set_ylabel('')\n",
    "# change the style of the axis spines\n",
    "ax.spines['top'].set_visible(False)\n",
    "ax.spines['right'].set_visible(False)\n",
    "ax.spines['left'].set_bounds((0, len(my_range)-1))\n",
    "ax.set_xlim(0,0.035)\n",
    "plt.yticks(range(len(compiled_icb_rsid_plot[\"importance\"])), compiled_icb_rsid_plot[\"rsid\"])\n",
    "# add some space between the axis and the plot\n",
    "ax.spines['left'].set_position(('outward', 8))\n",
    "ax.spines['bottom'].set_position(('outward', -10))\n",
    "\n",
    "plt.savefig(\"/cellar/users/tsears/projects/germline-immune/plots/fig4/melanoma_feature_importance_V2.pdf\",bbox_inches = \"tight\")\n"
   ]
  },
  {
   "cell_type": "code",
   "execution_count": 65,
   "id": "964cc0a4-44dc-4bb0-8bfe-3f000457ebb9",
   "metadata": {},
   "outputs": [
    {
     "name": "stderr",
     "output_type": "stream",
     "text": [
      "/cm/shared/apps/jupyter/12.3.0/lib/python3.7/site-packages/ipykernel_launcher.py:6: SettingWithCopyWarning: \n",
      "A value is trying to be set on a copy of a slice from a DataFrame.\n",
      "Try using .loc[row_indexer,col_indexer] = value instead\n",
      "\n",
      "See the caveats in the documentation: https://pandas.pydata.org/pandas-docs/stable/user_guide/indexing.html#returning-a-view-versus-a-copy\n",
      "  \n"
     ]
    },
    {
     "data": {
      "image/png": "[encoded data removed]",
      "text/plain": [
       "<Figure size 360x360 with 1 Axes>"
      ]
     },
     "metadata": {
      "needs_background": "light"
     },
     "output_type": "display_data"
    }
   ],
   "source": [
    "geneva_outcome_cov_table2=geneva_outcome_cov_table_dropped[geneva_outcome_cov_table_dropped[\"family_history\"]!=1]\n",
    "geneva_outcome_cov_table_plot=geneva_outcome_cov_table2\n",
    "geneva_outcome_cov_table_plot=geneva_outcome_cov_table_plot.loc[geneva_outcome_cov_table_plot['LASSO_burden']<float(geneva_outcome_cov_table_plot['LASSO_burden'].quantile([0.99]))]\n",
    "minmax_scale = preprocessing.MinMaxScaler(feature_range=(0, 10))\n",
    "x = geneva_outcome_cov_table_plot[\"LASSO_burden\"].values.reshape(-1, 1)\n",
    "geneva_outcome_cov_table_plot[\"LASSO_scaled\"] = minmax_scale.fit_transform(x)\n",
    "\n",
    "fig = plt.figure(figsize=(5,5))\n",
    "\n",
    "sns.violinplot(x=\"pheno\",y=\"LASSO_scaled\",data=geneva_outcome_cov_table_plot)\n",
    "\n",
    "cat1 = geneva_outcome_cov_table2[geneva_outcome_cov_table2[\"pheno\"]==0]\n",
    "cat2 = geneva_outcome_cov_table2[geneva_outcome_cov_table2[\"pheno\"]==1]\n",
    "disc_score=cat2[\"LASSO_burden\"].mean()-cat1[\"LASSO_burden\"].mean()\n",
    "\n",
    "plt.title(stats.mannwhitneyu(cat1[\"LASSO_burden\"], cat2[\"LASSO_burden\"])[1])\n",
    "\n",
    "plt.ylabel(\"burden (pvalue < 0.05) RF Regression\")\n",
    "plt.xticks(rotation=90)\n",
    "#plt.savefig(\"/cellar/users/tsears/projects/germline-immune/plots/fig5/melanomaViolin_FH_only_RescaledOutlierDroppedFromPlot.pdf\")\n",
    "plt.savefig(\"/cellar/users/tsears/projects/germline-immune/plots/fig5/melanomaViolin_FH_only_rescaled_99th_dropped.pdf\")\n",
    "\n"
   ]
  },
  {
   "cell_type": "code",
   "execution_count": 66,
   "id": "7a5665dc-b0fc-4bd6-bc97-9a899b20024d",
   "metadata": {},
   "outputs": [
    {
     "name": "stderr",
     "output_type": "stream",
     "text": [
      "/cm/shared/apps/jupyter/12.3.0/lib/python3.7/site-packages/ipykernel_launcher.py:4: SettingWithCopyWarning: \n",
      "A value is trying to be set on a copy of a slice from a DataFrame.\n",
      "Try using .loc[row_indexer,col_indexer] = value instead\n",
      "\n",
      "See the caveats in the documentation: https://pandas.pydata.org/pandas-docs/stable/user_guide/indexing.html#returning-a-view-versus-a-copy\n",
      "  after removing the cwd from sys.path.\n"
     ]
    }
   ],
   "source": [
    "#restructure PRS score so that it makes more sense to plot\n",
    "geneva_outcome_cov_table_dropped.columns.values\n",
    "geneva_outcome_cov_table_dropped[\"PRS\"]=geneva_outcome_cov_table_dropped[\"LASSO_burden\"]\n",
    "geneva_outcome_cov_table2[\"PRS\"]=geneva_outcome_cov_table2[\"LASSO_burden\"]"
   ]
  },
  {
   "cell_type": "code",
   "execution_count": 67,
   "id": "aca011fa-19e1-4b09-8dd1-4300a8f335dc",
   "metadata": {},
   "outputs": [
    {
     "name": "stderr",
     "output_type": "stream",
     "text": [
      "/cm/shared/apps/jupyter/12.3.0/lib/python3.7/site-packages/ipykernel_launcher.py:27: SettingWithCopyWarning: \n",
      "A value is trying to be set on a copy of a slice from a DataFrame.\n",
      "Try using .loc[row_indexer,col_indexer] = value instead\n",
      "\n",
      "See the caveats in the documentation: https://pandas.pydata.org/pandas-docs/stable/user_guide/indexing.html#returning-a-view-versus-a-copy\n",
      "/cellar/users/tsears/.local/lib/python3.7/site-packages/statsmodels/base/model.py:127: ValueWarning: unknown kwargs ['method']\n",
      "  warnings.warn(msg, ValueWarning)\n",
      "/cm/shared/apps/jupyter/12.3.0/lib/python3.7/site-packages/ipykernel_launcher.py:27: SettingWithCopyWarning: \n",
      "A value is trying to be set on a copy of a slice from a DataFrame.\n",
      "Try using .loc[row_indexer,col_indexer] = value instead\n",
      "\n",
      "See the caveats in the documentation: https://pandas.pydata.org/pandas-docs/stable/user_guide/indexing.html#returning-a-view-versus-a-copy\n",
      "/cellar/users/tsears/.local/lib/python3.7/site-packages/statsmodels/base/model.py:127: ValueWarning: unknown kwargs ['method']\n",
      "  warnings.warn(msg, ValueWarning)\n",
      "/cm/shared/apps/jupyter/12.3.0/lib/python3.7/site-packages/ipykernel_launcher.py:27: SettingWithCopyWarning: \n",
      "A value is trying to be set on a copy of a slice from a DataFrame.\n",
      "Try using .loc[row_indexer,col_indexer] = value instead\n",
      "\n",
      "See the caveats in the documentation: https://pandas.pydata.org/pandas-docs/stable/user_guide/indexing.html#returning-a-view-versus-a-copy\n",
      "/cellar/users/tsears/.local/lib/python3.7/site-packages/statsmodels/base/model.py:127: ValueWarning: unknown kwargs ['method']\n",
      "  warnings.warn(msg, ValueWarning)\n",
      "/cm/shared/apps/jupyter/12.3.0/lib/python3.7/site-packages/ipykernel_launcher.py:27: SettingWithCopyWarning: \n",
      "A value is trying to be set on a copy of a slice from a DataFrame.\n",
      "Try using .loc[row_indexer,col_indexer] = value instead\n",
      "\n",
      "See the caveats in the documentation: https://pandas.pydata.org/pandas-docs/stable/user_guide/indexing.html#returning-a-view-versus-a-copy\n"
     ]
    },
    {
     "name": "stdout",
     "output_type": "stream",
     "text": [
      "0    169\n",
      "1    169\n",
      "Name: group, dtype: int64\n",
      "Optimization terminated successfully.\n",
      "         Current function value: 0.551226\n",
      "         Iterations 6\n",
      "1    170\n",
      "0    169\n",
      "Name: group, dtype: int64\n",
      "Optimization terminated successfully.\n",
      "         Current function value: 0.519002\n",
      "         Iterations 6\n",
      "1    169\n",
      "0    169\n",
      "Name: group, dtype: int64\n",
      "Optimization terminated successfully.\n",
      "         Current function value: 0.545223\n",
      "         Iterations 6\n",
      "1    170\n",
      "0    169\n",
      "Name: group, dtype: int64\n"
     ]
    },
    {
     "name": "stderr",
     "output_type": "stream",
     "text": [
      "/cellar/users/tsears/.local/lib/python3.7/site-packages/statsmodels/base/model.py:127: ValueWarning: unknown kwargs ['method']\n",
      "  warnings.warn(msg, ValueWarning)\n",
      "/cm/shared/apps/jupyter/12.3.0/lib/python3.7/site-packages/ipykernel_launcher.py:27: SettingWithCopyWarning: \n",
      "A value is trying to be set on a copy of a slice from a DataFrame.\n",
      "Try using .loc[row_indexer,col_indexer] = value instead\n",
      "\n",
      "See the caveats in the documentation: https://pandas.pydata.org/pandas-docs/stable/user_guide/indexing.html#returning-a-view-versus-a-copy\n",
      "/cellar/users/tsears/.local/lib/python3.7/site-packages/statsmodels/base/model.py:127: ValueWarning: unknown kwargs ['method']\n",
      "  warnings.warn(msg, ValueWarning)\n",
      "/cm/shared/apps/jupyter/12.3.0/lib/python3.7/site-packages/ipykernel_launcher.py:27: SettingWithCopyWarning: \n",
      "A value is trying to be set on a copy of a slice from a DataFrame.\n",
      "Try using .loc[row_indexer,col_indexer] = value instead\n",
      "\n",
      "See the caveats in the documentation: https://pandas.pydata.org/pandas-docs/stable/user_guide/indexing.html#returning-a-view-versus-a-copy\n",
      "/cellar/users/tsears/.local/lib/python3.7/site-packages/statsmodels/base/model.py:127: ValueWarning: unknown kwargs ['method']\n",
      "  warnings.warn(msg, ValueWarning)\n",
      "/cm/shared/apps/jupyter/12.3.0/lib/python3.7/site-packages/ipykernel_launcher.py:27: SettingWithCopyWarning: \n",
      "A value is trying to be set on a copy of a slice from a DataFrame.\n",
      "Try using .loc[row_indexer,col_indexer] = value instead\n",
      "\n",
      "See the caveats in the documentation: https://pandas.pydata.org/pandas-docs/stable/user_guide/indexing.html#returning-a-view-versus-a-copy\n"
     ]
    },
    {
     "name": "stdout",
     "output_type": "stream",
     "text": [
      "Optimization terminated successfully.\n",
      "         Current function value: 0.540988\n",
      "         Iterations 6\n",
      "0    169\n",
      "1    169\n",
      "Name: group, dtype: int64\n",
      "Optimization terminated successfully.\n",
      "         Current function value: 0.501235\n",
      "         Iterations 6\n",
      "1    169\n",
      "Name: group, dtype: int64\n",
      "1    170\n",
      "0    169\n",
      "Name: group, dtype: int64\n",
      "Optimization terminated successfully.\n",
      "         Current function value: 0.529732\n",
      "         Iterations 6\n",
      "1    170\n",
      "0    169\n",
      "Name: group, dtype: int64\n"
     ]
    },
    {
     "name": "stderr",
     "output_type": "stream",
     "text": [
      "/cellar/users/tsears/.local/lib/python3.7/site-packages/statsmodels/base/model.py:127: ValueWarning: unknown kwargs ['method']\n",
      "  warnings.warn(msg, ValueWarning)\n",
      "/cm/shared/apps/jupyter/12.3.0/lib/python3.7/site-packages/ipykernel_launcher.py:27: SettingWithCopyWarning: \n",
      "A value is trying to be set on a copy of a slice from a DataFrame.\n",
      "Try using .loc[row_indexer,col_indexer] = value instead\n",
      "\n",
      "See the caveats in the documentation: https://pandas.pydata.org/pandas-docs/stable/user_guide/indexing.html#returning-a-view-versus-a-copy\n",
      "/cellar/users/tsears/.local/lib/python3.7/site-packages/statsmodels/base/model.py:127: ValueWarning: unknown kwargs ['method']\n",
      "  warnings.warn(msg, ValueWarning)\n",
      "/cm/shared/apps/jupyter/12.3.0/lib/python3.7/site-packages/ipykernel_launcher.py:27: SettingWithCopyWarning: \n",
      "A value is trying to be set on a copy of a slice from a DataFrame.\n",
      "Try using .loc[row_indexer,col_indexer] = value instead\n",
      "\n",
      "See the caveats in the documentation: https://pandas.pydata.org/pandas-docs/stable/user_guide/indexing.html#returning-a-view-versus-a-copy\n"
     ]
    },
    {
     "name": "stdout",
     "output_type": "stream",
     "text": [
      "Optimization terminated successfully.\n",
      "         Current function value: 0.508096\n",
      "         Iterations 6\n",
      "1    170\n",
      "0    169\n",
      "Name: group, dtype: int64\n",
      "Optimization terminated successfully.\n",
      "         Current function value: 0.483214\n",
      "         Iterations 6\n",
      "1    169\n",
      "0    169\n",
      "Name: group, dtype: int64\n",
      "Optimization terminated successfully.\n",
      "         Current function value: 0.464374\n",
      "         Iterations 7\n"
     ]
    },
    {
     "name": "stderr",
     "output_type": "stream",
     "text": [
      "/cellar/users/tsears/.local/lib/python3.7/site-packages/statsmodels/base/model.py:127: ValueWarning: unknown kwargs ['method']\n",
      "  warnings.warn(msg, ValueWarning)\n"
     ]
    }
   ],
   "source": [
    "geneva_outcome_odds=quantile_plot(geneva_outcome_cov_table2,\"pheno ~ group + age + sex + C1 + C2 + C3 + C4 + C5 + C6 + C7 + C8 + C9 + C10\",10,\"logistic\")\n",
    "#geneva_outcome_odds=quantile_plot(geneva_outcome_cov_table2,\"pheno ~ group\",10,\"logistic\")"
   ]
  },
  {
   "cell_type": "code",
   "execution_count": 68,
   "id": "10b7b77c-0f7f-4160-b779-a5e44cc3865f",
   "metadata": {},
   "outputs": [
    {
     "data": {
      "image/png": "[encoded data removed]",
      "text/plain": [
       "<Figure size 504x360 with 1 Axes>"
      ]
     },
     "metadata": {
      "needs_background": "light"
     },
     "output_type": "display_data"
    }
   ],
   "source": [
    "f=plt.figure(figsize=(7,5))\n",
    "\n",
    "plt.errorbar(x=geneva_outcome_odds[\"quant\"].tolist(),y=geneva_outcome_odds[\"odds\"].tolist(),yerr=geneva_outcome_odds[\"se\"].tolist(),fmt=\"o\",color=\"blue\",label=\"group1 + mhc genes\")\n",
    "plt.ylabel(\"quantile\")\n",
    "plt.ylabel(\"odds of C43-C44 \\n (melanoma and other malignant neoplasms of skin)\")\n",
    "plt.axhline(1,linestyle=\"--\",color=\"gray\")\n",
    "plt.savefig(\"/cellar/users/tsears/projects/germline-immune/plots/fig5/melanoma.quantile.FH.pdf\")\n"
   ]
  },
  {
   "cell_type": "code",
   "execution_count": 69,
   "id": "ef217834-4971-4133-8278-ed6c8d15afd6",
   "metadata": {},
   "outputs": [
    {
     "data": {
      "text/plain": [
       "Text(0.5, 0, 'PRS')"
      ]
     },
     "execution_count": 69,
     "metadata": {},
     "output_type": "execute_result"
    },
    {
     "data": {
      "image/png": "[encoded data removed]",
      "text/plain": [
       "<Figure size 432x288 with 1 Axes>"
      ]
     },
     "metadata": {
      "needs_background": "light"
     },
     "output_type": "display_data"
    }
   ],
   "source": [
    "sns.kdeplot(geneva_outcome_cov_table2[geneva_outcome_cov_table2[\"pheno\"]==0][\"LASSO_burden\"],label=\"controls\")\n",
    "sns.kdeplot(geneva_outcome_cov_table2[geneva_outcome_cov_table2[\"pheno\"]==1][\"LASSO_burden\"],label=\"cases\")\n",
    "plt.ylabel(\"density\")\n",
    "plt.xlabel(\"PRS\")"
   ]
  },
  {
   "cell_type": "code",
   "execution_count": 70,
   "id": "e6e85aad-1154-4730-9c31-7b7540e7e9b7",
   "metadata": {},
   "outputs": [
    {
     "data": {
      "image/png": "[encoded data removed]",
      "text/plain": [
       "<Figure size 216x360 with 1 Axes>"
      ]
     },
     "metadata": {
      "needs_background": "light"
     },
     "output_type": "display_data"
    }
   ],
   "source": [
    "#1st vs 10th quantile\n",
    "geneva_outcome_odds_filt=geneva_outcome_odds[geneva_outcome_odds[\"quant\"].isin([\"0.0\",\"90.0\"])]\n",
    "f=plt.figure(figsize=(3,5))\n",
    "plt.errorbar(x=geneva_outcome_odds_filt[\"quant\"].tolist(),y=geneva_outcome_odds_filt[\"odds\"].tolist(),yerr=geneva_outcome_odds_filt[\"se\"].tolist(),fmt=\"o\")\n",
    "plt.xlabel(\"LASSO signature PRS quantile\")\n",
    "plt.ylabel(\"odds of melanoma\")\n",
    "plt.title(\"High-Density Melanoma Cohort\")\n",
    "plt.xticks([0,1])\n",
    "plt.xlim((-1, 2))\n",
    "plt.axhline(1,linestyle=\"--\",color=\"gray\")\n",
    "plt.savefig(\"/cellar/users/tsears/projects/germline-immune/plots/fig5/1vs9_melanoma.quantile.pdf\")\n"
   ]
  },
  {
   "cell_type": "markdown",
   "id": "4868e038-be48-4af6-a506-c6b8ec955ab7",
   "metadata": {},
   "source": [
    "## Melanoma based TCGA inflammation"
   ]
  },
  {
   "cell_type": "code",
   "execution_count": 72,
   "id": "f7407215-e10c-45ae-910f-9f7900b40d29",
   "metadata": {},
   "outputs": [
    {
     "name": "stdout",
     "output_type": "stream",
     "text": [
      "124 PRS snps\n",
      "0 snps missing weight\n",
      "switching 108 genotypes\n"
     ]
    }
   ],
   "source": [
    "group1_sumstats=ukbb_annot[ukbb_annot[\"group\"]==\"group1\"][[\"proxy_variant\",\"ukbb_a1\",\"Var1_OR\",\"Outcome\"]]\n",
    "group1_sumstats=group1_sumstats[group1_sumstats[\"Outcome\"]==\"C43-C44\"]\n",
    "group1_sumstats.columns=[\"ID\",\"A1\",\"OR\",\"Outcome\"]\n",
    "\n",
    "mhcII_sumstats=ukbb_annot[ukbb_annot[\"file\"]==\"Sigs160-Wolf_MHC2-21978456\"][[\"proxy_variant\",\"ukbb_a1\",\"Var1_OR\",\"Outcome\"]]\n",
    "mhcII_sumstats=mhcII_sumstats[mhcII_sumstats[\"Outcome\"]==\"C43-C44\"]\n",
    "mhcII_sumstats.columns=[\"ID\",\"A1\",\"OR\",\"Outcome\"]\n",
    "\n",
    "group1_mhcII_sumstats=group1_sumstats.append(mhcII_sumstats)\n",
    "group1_mhcII_sumstats\n",
    "\n",
    "tcga_group1_prs,tcga_snp_table=make_ukbb_prs(\"/cellar/users/mpagadal/projects/germline-immune/data/genotypes/all.time.raw\",group1_mhcII_sumstats,group1_mhcII_sumstats[\"ID\"].tolist())"
   ]
  },
  {
   "cell_type": "code",
   "execution_count": 73,
   "id": "ff0bc895-4435-4091-9205-ce6f91269ed8",
   "metadata": {},
   "outputs": [],
   "source": [
    "canc = pd.read_csv(\"/cellar/controlled/dbgap-genetic/phs000178_TCGA/birdseed-processing/gtype.meta\", delimiter=\"\\t\", header=None)\n",
    "mp = canc.set_index(2)[0].to_dict()\n",
    "tcga_group1_prs[\"cancer\"]=tcga_group1_prs[\"IID\"].map(mp)\n",
    "tcga_group1_prs_SKCM=tcga_group1_prs[tcga_group1_prs[\"cancer\"]==\"SKCM\"]\n",
    "\n",
    "tcga_snp_table=tcga_snp_table[tcga_group1_prs_SKCM[\"IID\"]]\n",
    "tcga_snp_table=tcga_snp_table.transpose()"
   ]
  },
  {
   "cell_type": "code",
   "execution_count": 74,
   "id": "3935592c-fb0e-4554-b799-8e62efffad55",
   "metadata": {},
   "outputs": [],
   "source": [
    "#trim tcga_snp_table down to model feature space\n",
    "tcga_snp_table_test=tcga_snp_table[geneva_outcome_cov_table_x.columns.values]"
   ]
  },
  {
   "cell_type": "code",
   "execution_count": 75,
   "id": "5c92a03c-a95e-4023-a8cb-3a62a4ee1e4a",
   "metadata": {},
   "outputs": [
    {
     "name": "stderr",
     "output_type": "stream",
     "text": [
      "/cm/shared/apps/jupyter/12.3.0/lib/python3.7/site-packages/ipykernel_launcher.py:9: SettingWithCopyWarning: \n",
      "A value is trying to be set on a copy of a slice from a DataFrame.\n",
      "Try using .loc[row_indexer,col_indexer] = value instead\n",
      "\n",
      "See the caveats in the documentation: https://pandas.pydata.org/pandas-docs/stable/user_guide/indexing.html#returning-a-view-versus-a-copy\n",
      "  if __name__ == '__main__':\n",
      "/cm/shared/apps/jupyter/12.3.0/lib/python3.7/site-packages/ipykernel_launcher.py:10: SettingWithCopyWarning: \n",
      "A value is trying to be set on a copy of a slice from a DataFrame.\n",
      "Try using .loc[row_indexer,col_indexer] = value instead\n",
      "\n",
      "See the caveats in the documentation: https://pandas.pydata.org/pandas-docs/stable/user_guide/indexing.html#returning-a-view-versus-a-copy\n",
      "  # Remove the CWD from sys.path while we load stuff.\n"
     ]
    }
   ],
   "source": [
    "#test the melanoma xgboost model using tcga_snp_table as an input dataset..?\n",
    "import xgboost\n",
    "from sklearn.model_selection import cross_val_score\n",
    "from sklearn.model_selection import RepeatedKFold\n",
    "\n",
    "#MAKE SURE YOU RUN THIS SECTION JUST AFTER THE MELANOMA MODEL TRAINING BECAUSE IT HAS THE SAME VARIABLE NAME AS THE PROSTATE MODEL... SORRY\n",
    "p = regressor_xgb.predict(tcga_snp_table_test)  # test the output by changing values\n",
    "\n",
    "tcga_snp_table_test[\"LASSO_burden\"]=p\n",
    "tcga_group1_prs_SKCM[\"LASSO_burden\"]=p"
   ]
  },
  {
   "cell_type": "code",
   "execution_count": 76,
   "id": "46135bb1-92ab-423a-8567-6002d28deb44",
   "metadata": {},
   "outputs": [
    {
     "name": "stderr",
     "output_type": "stream",
     "text": [
      "/cm/shared/apps/jupyter/12.3.0/lib/python3.7/site-packages/ipykernel_launcher.py:3: FutureWarning: The default value of regex will change from True to False in a future version. In addition, single character regular expressions will *not* be treated as literal strings when regex=True.\n",
      "  This is separate from the ipykernel package so we can avoid doing imports until\n"
     ]
    }
   ],
   "source": [
    "#get cibersortx data\n",
    "ciber_lm22=pd.read_csv(\"/cellar/users/mpagadal/projects/germline-immune/data/plink-associations/phenotypes/TCGA.Kallisto.fullIDs.cibersort.relative.tsv\",delimiter=\"\\t\")\n",
    "ciber_lm22[\"id\"]=ciber_lm22[\"SampleID\"].str.replace(\".\",\"-\")\n",
    "ciber_lm22[\"code\"]=ciber_lm22[\"id\"].str.rsplit(\"-\",4).str[1]\n",
    "ciber_lm22[\"id\"]=ciber_lm22[\"id\"].str.rsplit(\"-\",4).str[0]\n",
    "ciber_lm22=ciber_lm22[ciber_lm22[\"code\"].str.contains(\"01\")]\n",
    "ciber_lm22.index=ciber_lm22[\"id\"]\n",
    "ciber_lm22=ciber_lm22[ciber_lm22.columns[2:-5].tolist()]\n",
    "ciber_lm22=ciber_lm22.groupby(ciber_lm22.index).mean()\n",
    "ciber_lm22=ciber_lm22.reset_index().rename(columns={\"id\":\"IID\"})\n",
    "\n",
    "tcga_group1_prs=pd.merge(tcga_group1_prs_SKCM,ciber_lm22,on=\"IID\",how=\"left\")"
   ]
  },
  {
   "cell_type": "code",
   "execution_count": 77,
   "id": "4d9c2032-43c9-43b8-99e6-ca6399f8d8c7",
   "metadata": {},
   "outputs": [
    {
     "name": "stderr",
     "output_type": "stream",
     "text": [
      "/cm/shared/apps/jupyter/12.3.0/lib/python3.7/site-packages/ipykernel_launcher.py:2: RuntimeWarning: More than 20 figures have been opened. Figures created through the pyplot interface (`matplotlib.pyplot.figure`) are retained until explicitly closed and may consume too much memory. (To control this warning, see the rcParam `figure.max_open_warning`).\n",
      "  \n"
     ]
    },
    {
     "data": {
      "image/png": "[encoded data removed]",
      "text/plain": [
       "<Figure size 360x360 with 1 Axes>"
      ]
     },
     "metadata": {
      "needs_background": "light"
     },
     "output_type": "display_data"
    },
    {
     "data": {
      "image/png": "[encoded data removed]",
      "text/plain": [
       "<Figure size 360x360 with 1 Axes>"
      ]
     },
     "metadata": {
      "needs_background": "light"
     },
     "output_type": "display_data"
    },
    {
     "data": {
      "image/png": "[encoded data removed]",
      "text/plain": [
       "<Figure size 360x360 with 1 Axes>"
      ]
     },
     "metadata": {
      "needs_background": "light"
     },
     "output_type": "display_data"
    },
    {
     "data": {
      "image/png": "[encoded data removed]",
      "text/plain": [
       "<Figure size 360x360 with 1 Axes>"
      ]
     },
     "metadata": {
      "needs_background": "light"
     },
     "output_type": "display_data"
    },
    {
     "data": {
      "image/png": "[encoded data removed]",
      "text/plain": [
       "<Figure size 360x360 with 1 Axes>"
      ]
     },
     "metadata": {
      "needs_background": "light"
     },
     "output_type": "display_data"
    },
    {
     "data": {
      "image/png": "[encoded data removed]",
      "text/plain": [
       "<Figure size 360x360 with 1 Axes>"
      ]
     },
     "metadata": {
      "needs_background": "light"
     },
     "output_type": "display_data"
    },
    {
     "data": {
      "image/png": "[encoded data removed]",
      "text/plain": [
       "<Figure size 360x360 with 1 Axes>"
      ]
     },
     "metadata": {
      "needs_background": "light"
     },
     "output_type": "display_data"
    },
    {
     "data": {
      "image/png": "[encoded data removed]",
      "text/plain": [
       "<Figure size 360x360 with 1 Axes>"
      ]
     },
     "metadata": {
      "needs_background": "light"
     },
     "output_type": "display_data"
    },
    {
     "data": {
      "image/png": "[encoded data removed]",
      "text/plain": [
       "<Figure size 360x360 with 1 Axes>"
      ]
     },
     "metadata": {
      "needs_background": "light"
     },
     "output_type": "display_data"
    },
    {
     "data": {
      "image/png": "[encoded data removed]",
      "text/plain": [
       "<Figure size 360x360 with 1 Axes>"
      ]
     },
     "metadata": {
      "needs_background": "light"
     },
     "output_type": "display_data"
    },
    {
     "data": {
      "image/png": "[encoded data removed]",
      "text/plain": [
       "<Figure size 360x360 with 1 Axes>"
      ]
     },
     "metadata": {
      "needs_background": "light"
     },
     "output_type": "display_data"
    },
    {
     "data": {
      "image/png": "[encoded data removed]",
      "text/plain": [
       "<Figure size 360x360 with 1 Axes>"
      ]
     },
     "metadata": {
      "needs_background": "light"
     },
     "output_type": "display_data"
    },
    {
     "data": {
      "image/png": "[encoded data removed]",
      "text/plain": [
       "<Figure size 360x360 with 1 Axes>"
      ]
     },
     "metadata": {
      "needs_background": "light"
     },
     "output_type": "display_data"
    },
    {
     "data": {
      "image/png": "[encoded data removed]",
      "text/plain": [
       "<Figure size 360x360 with 1 Axes>"
      ]
     },
     "metadata": {
      "needs_background": "light"
     },
     "output_type": "display_data"
    },
    {
     "data": {
      "image/png": "[encoded data removed]",
      "text/plain": [
       "<Figure size 360x360 with 1 Axes>"
      ]
     },
     "metadata": {
      "needs_background": "light"
     },
     "output_type": "display_data"
    },
    {
     "data": {
      "image/png": "[encoded data removed]",
      "text/plain": [
       "<Figure size 360x360 with 1 Axes>"
      ]
     },
     "metadata": {
      "needs_background": "light"
     },
     "output_type": "display_data"
    },
    {
     "data": {
      "image/png": "[encoded data removed]",
      "text/plain": [
       "<Figure size 360x360 with 1 Axes>"
      ]
     },
     "metadata": {
      "needs_background": "light"
     },
     "output_type": "display_data"
    },
    {
     "data": {
      "image/png": "[encoded data removed]",
      "text/plain": [
       "<Figure size 360x360 with 1 Axes>"
      ]
     },
     "metadata": {
      "needs_background": "light"
     },
     "output_type": "display_data"
    },
    {
     "data": {
      "image/png": "[encoded data removed]",
      "text/plain": [
       "<Figure size 360x360 with 1 Axes>"
      ]
     },
     "metadata": {
      "needs_background": "light"
     },
     "output_type": "display_data"
    },
    {
     "data": {
      "image/png": "[encoded data removed]",
      "text/plain": [
       "<Figure size 360x360 with 1 Axes>"
      ]
     },
     "metadata": {
      "needs_background": "light"
     },
     "output_type": "display_data"
    },
    {
     "data": {
      "image/png": "[encoded data removed]",
      "text/plain": [
       "<Figure size 360x360 with 1 Axes>"
      ]
     },
     "metadata": {
      "needs_background": "light"
     },
     "output_type": "display_data"
    },
    {
     "data": {
      "image/png": "[encoded data removed]",
      "text/plain": [
       "<Figure size 360x360 with 1 Axes>"
      ]
     },
     "metadata": {
      "needs_background": "light"
     },
     "output_type": "display_data"
    }
   ],
   "source": [
    "for x in tcga_group1_prs.columns[4:]:\n",
    "    f=plt.figure(figsize=(5,5))\n",
    "    \n",
    "    pheno=x \n",
    "    tcga_group1_prs_cancer=tcga_group1_prs[tcga_group1_prs[\"cancer\"]==\"SKCM\"]\n",
    "    tcga_group1_prs_cancer=tcga_group1_prs_cancer[~tcga_group1_prs_cancer[x].isnull()]\n",
    "    \n",
    "    tcga_group1_prs_cancer[\"group\"]=np.where(tcga_group1_prs_cancer[\"LASSO_burden\"]>tcga_group1_prs_cancer[\"LASSO_burden\"].quantile(0.9),\"high\",\"medium\")\n",
    "    tcga_group1_prs_cancer[\"group\"]=np.where(tcga_group1_prs_cancer[\"LASSO_burden\"]<tcga_group1_prs_cancer[\"LASSO_burden\"].quantile(0.1),\"low\",tcga_group1_prs_cancer[\"group\"])\n",
    "\n",
    "    ax=sns.boxplot(x=\"group\",y=pheno,data=tcga_group1_prs_cancer,order=[\"low\",\"high\"])\n",
    "    \n",
    "    labels=[item.get_text() for item in ax.get_xticklabels()]\n",
    "    labels=[x+\" (\"+str(len(tcga_group1_prs_cancer[tcga_group1_prs_cancer[\"group\"]==x]))+\")\" for x in labels]\n",
    "    ax.set_xticklabels(labels)\n",
    "    \n",
    "    cat1 = tcga_group1_prs_cancer[(tcga_group1_prs_cancer[\"group\"]==\"low\")]\n",
    "    cat2 = tcga_group1_prs_cancer[(tcga_group1_prs_cancer[\"group\"]==\"high\")]\n",
    "    plt.title(str(mannwhitneyu(cat1[pheno], cat2[pheno])[1]))\n",
    "    plt.savefig(\"/cellar/users/tsears/projects/germline-immune/plots/fig5/melanoma.PRS.\"+x+\".pdf\")"
   ]
  },
  {
   "cell_type": "code",
   "execution_count": 78,
   "id": "40daba9e-d5fc-4b18-8caf-0444794a919f",
   "metadata": {},
   "outputs": [],
   "source": [
    "mac_plot=pd.melt(tcga_group1_prs_cancer,id_vars=[\"IID\",\"group\"],value_vars=[\"Macrophages.M1\",\"Macrophages.M2\"])"
   ]
  },
  {
   "cell_type": "code",
   "execution_count": 79,
   "id": "2c3e1dc0-dd7a-4657-8d44-2d1c37d60522",
   "metadata": {},
   "outputs": [],
   "source": [
    "mac_plot=mac_plot[mac_plot[\"group\"].isin([\"low\",\"high\"])]"
   ]
  },
  {
   "cell_type": "code",
   "execution_count": 80,
   "id": "96cbf361-ab0f-4bc5-b7ca-8ce258c275a2",
   "metadata": {},
   "outputs": [
    {
     "data": {
      "image/png": "[encoded data removed]",
      "text/plain": [
       "<Figure size 720x360 with 1 Axes>"
      ]
     },
     "metadata": {
      "needs_background": "light"
     },
     "output_type": "display_data"
    }
   ],
   "source": [
    "f=plt.figure(figsize=(10,5))\n",
    "sns.boxplot(x=\"variable\",hue=\"group\",y=\"value\",data=mac_plot)\n",
    "plt.ylabel('% Infiltration')\n",
    "plt.savefig(\"/cellar/users/tsears/projects/germline-immune/plots/fig5/mac.pdf\")"
   ]
  },
  {
   "cell_type": "code",
   "execution_count": 2820,
   "id": "2dfd77d6-a921-4233-acfa-cb88f9eb6ad8",
   "metadata": {},
   "outputs": [
    {
     "data": {
      "image/png": "[encoded data removed]",
      "text/plain": [
       "<Figure size 720x360 with 1 Axes>"
      ]
     },
     "metadata": {
      "needs_background": "light"
     },
     "output_type": "display_data"
    }
   ],
   "source": [
    "tcga_group1_prs_cancer=tcga_group1_prs_cancer.rename(columns={\"T.cells.regulatory..Tregs.\": \"CD4+ Tregs\", \"T.cells.CD8\": \"CD8+ T Cells\"})\n",
    "T_plot=pd.melt(tcga_group1_prs_cancer,id_vars=[\"IID\",\"group\"],value_vars=[\"CD8+ T Cells\",\"CD4+ Tregs\"])\n",
    "T_plot=T_plot[T_plot[\"group\"].isin([\"low\",\"high\"])]\n",
    "f=plt.figure(figsize=(10,5))\n",
    "sns.boxplot(x=\"variable\",hue=\"group\",y=\"value\",data=T_plot)\n",
    "plt.ylabel('% Infiltration')\n",
    "plt.savefig(\"/cellar/users/tsears/projects/germline-immune/plots/fig5/Tcells.pdf\")"
   ]
  },
  {
   "cell_type": "markdown",
   "id": "5f2bf682-a03a-4ebf-a675-330098bbcbd3",
   "metadata": {
    "tags": []
   },
   "source": [
    "### UKBB with combined MHC+group1 SNPs, protstate training and validation ONLY"
   ]
  },
  {
   "cell_type": "markdown",
   "id": "a08daab0-5757-4545-b512-56de0e8475fb",
   "metadata": {},
   "source": [
    "#### Prostate Genes ONLY"
   ]
  },
  {
   "cell_type": "code",
   "execution_count": 149,
   "id": "24b6667f-f745-4d59-b0fc-108cbe18a986",
   "metadata": {},
   "outputs": [
    {
     "name": "stdout",
     "output_type": "stream",
     "text": [
      "57 PRS snps\n",
      "0 snps missing weight\n",
      "switching 53 genotypes\n"
     ]
    }
   ],
   "source": [
    "group1_sumstats=ukbb_annot[ukbb_annot[\"group\"]==\"group1\"][[\"proxy_variant\",\"ukbb_a1\",\"Var1_OR\",\"Outcome\"]]\n",
    "group1_sumstats=group1_sumstats[group1_sumstats[\"Outcome\"]==\"C60-C63\"]\n",
    "group1_sumstats.columns=[\"ID\",\"A1\",\"OR\",\"Outcome\"]\n",
    "\n",
    "mhcII_sumstats=ukbb_annot[ukbb_annot[\"file\"]==\"Sigs160-Wolf_MHC2-21978456\"][[\"proxy_variant\",\"ukbb_a1\",\"Var1_OR\",\"Outcome\"]]\n",
    "mhcII_sumstats=mhcII_sumstats[mhcII_sumstats[\"Outcome\"]==\"C60-C63\"]\n",
    "mhcII_sumstats.columns=[\"ID\",\"A1\",\"OR\",\"Outcome\"]\n",
    "\n",
    "group1_mhcII_sumstats=group1_sumstats.append(mhcII_sumstats)\n",
    "group1_mhcII_sumstats\n",
    "\n",
    "group1_mhc_prs,test_ukbb_res=make_ukbb_prs(\"/cellar/users/mpagadal/projects/germline-immune/data/ukbb/time-snp/dosage-multi/ukbb_bialleleic.raw\",group1_mhcII_sumstats,group1_mhcII_sumstats[\"ID\"].tolist())\n",
    "icd=pd.read_csv(\"/cellar/users/mpagadal/data/ukbb/plato_input/immune_cancer_lev1_pheno.txt\",delim_whitespace=True)\n",
    "group1_mhc_prs=pd.merge(group1_mhc_prs,icd,on=\"IID\",how=\"left\")\n",
    "\n"
   ]
  },
  {
   "cell_type": "code",
   "execution_count": 150,
   "id": "266beeec-462a-4844-b8c8-30aada541722",
   "metadata": {},
   "outputs": [],
   "source": [
    "#merge group1_mhc_prs with raw SNP data then format for model building\n",
    "group1_mhc_prs_short=group1_mhc_prs[[\"IID\",\"C43-C44\",\"C60-C63\",\"AGE\",\"SEX\",\"PC1\",\"PC2\",\"PC3\",\"PC4\",\"PC5\",\"PC6\",\"PC7\",\"PC8\",\"PC9\",\"PC10\"]]\n",
    "test_ukbb_res_t=test_ukbb_res.transpose()\n",
    "SNP_outcome_cov_table=pd.merge(test_ukbb_res_t,group1_mhc_prs,right_on=\"IID\",how=\"left\",left_index=True)"
   ]
  },
  {
   "cell_type": "code",
   "execution_count": 151,
   "id": "c9c36518-9b87-4a62-965a-77b0fed8148e",
   "metadata": {},
   "outputs": [
    {
     "data": {
      "text/plain": [
       "(21701.0, 14960.0, 7291.0)"
      ]
     },
     "execution_count": 151,
     "metadata": {},
     "output_type": "execute_result"
    }
   ],
   "source": [
    "SNP_outcome_cov_table[\"Cancer\"]=SNP_outcome_cov_table[[\"C43-C44\",\"C60-C63\"]].max(axis=1)\n",
    "np.nansum(SNP_outcome_cov_table[\"Cancer\"]),np.nansum(SNP_outcome_cov_table[\"C43-C44\"]),np.nansum(SNP_outcome_cov_table[\"C60-C63\"])"
   ]
  },
  {
   "cell_type": "code",
   "execution_count": 152,
   "id": "bb75c14f-6359-4eac-a188-8d262a064627",
   "metadata": {},
   "outputs": [],
   "source": [
    "#Try joint gene score but slim down to melanoma only\n",
    "SNP_outcome_cov_table.columns.values\n",
    "SNP_outcome_cov_table[\"AnyCancer\"]=SNP_outcome_cov_table[['C73-C75', 'C81-C96', 'C40-C41',\n",
    "        'C50-C50',  'C00-C14', 'C45-C49',\n",
    "       'C30-C39', 'C97-C97', 'C76-C80', 'C60-C63',\n",
    "       'C15-C26', 'C51-C58', 'C43-C44', 'C69-C72', 'C64-C68']].max(axis=1)\n",
    "\n",
    "SNP_outcome_cov_table=SNP_outcome_cov_table[np.logical_or(SNP_outcome_cov_table[\"C60-C63\"]==1,SNP_outcome_cov_table[\"AnyCancer\"]==0)]\n",
    "SNP_outcome_cov_table[\"Cancer\"]=SNP_outcome_cov_table[[\"C60-C63\"]].max(axis=1)\n"
   ]
  },
  {
   "cell_type": "code",
   "execution_count": 153,
   "id": "6a6b9471-29a7-4c0c-8e19-078c95cfa3ee",
   "metadata": {},
   "outputs": [],
   "source": [
    "SNP_outcome_cov_table=SNP_outcome_cov_table.reset_index()\n",
    "SNP_outcome_cov_table=SNP_outcome_cov_table[~SNP_outcome_cov_table[\"Cancer\"].isnull()]"
   ]
  },
  {
   "cell_type": "code",
   "execution_count": 154,
   "id": "f33802e9-29fd-4bd0-bacf-603e34d48a0b",
   "metadata": {},
   "outputs": [],
   "source": [
    "SNP_outcome_cov_table = SNP_outcome_cov_table.reset_index()"
   ]
  },
  {
   "cell_type": "code",
   "execution_count": 155,
   "id": "df14a07f-daf5-4695-bf30-13ff3ac4c281",
   "metadata": {},
   "outputs": [
    {
     "name": "stdout",
     "output_type": "stream",
     "text": [
      "(341376, 112)\n"
     ]
    }
   ],
   "source": [
    "#downsample the controls by a lot\n",
    "from sklearn.utils import resample\n",
    "\n",
    "# Separate majority and minority classes\n",
    "df_majority = SNP_outcome_cov_table[SNP_outcome_cov_table[\"Cancer\"]==0]\n",
    "df_minority = SNP_outcome_cov_table[SNP_outcome_cov_table[\"Cancer\"]==1]\n",
    " \n",
    "# Downsample majority class\n",
    "df_majority_downsampled = resample(df_majority, random_state=random_sate,\n",
    "                                 replace=False,    \n",
    "                                 n_samples=len(df_majority))\n",
    "print(df_majority_downsampled.shape)\n",
    "\n",
    "# Combine minority class with downsampled majority class\n",
    "SNP_outcome_cov_table_downsamp = pd.concat([df_majority_downsampled, df_minority])"
   ]
  },
  {
   "cell_type": "code",
   "execution_count": 156,
   "id": "76f3a26c-3a9c-42b1-9a97-93c150d0bc90",
   "metadata": {},
   "outputs": [],
   "source": [
    "SNP_outcome_cov_table_training_x=SNP_outcome_cov_table_downsamp.drop([\"IID\",\"Cancer\",\"C43-C44\",\"C60-C63\",\"AGE\",\"SEX\",\"PC1\",\"PC2\",\"PC3\",\"PC4\",\"PC5\",\"PC6\",\"PC7\",\"PC8\",\"PC9\",\"PC10\",'PRS',\n",
    "       'FID', 'D55-D59', 'D80-D89', 'E70-E90', 'I70-I79', 'K20-K31',\n",
    "       'K50-K52', 'K70-K77', 'K80-K87', 'K90-K93', 'L40-L45', 'M00-M03',\n",
    "       'M05-M14', 'M15-M19', 'M20-M25', 'M70-M79', 'M45-M49', 'M60-M63',\n",
    "       'R70-R79', 'C73-C75', 'C81-C96', 'D60-D64', 'C40-C41', 'D37-D48',\n",
    "       'D70-D77', 'C50-C50', 'D65-D69', 'C00-C14', 'C45-C49', 'D00-D09',\n",
    "       'C30-C39', 'C97-C97', 'D50-D53', 'C76-C80', 'C15-C26', 'C51-C58',\n",
    "       'D10-D36', 'C69-C72', 'C64-C68','AnyCancer'],axis=1)\n",
    "SNP_outcome_cov_table_training_x.index=SNP_outcome_cov_table_downsamp[\"IID\"]\n",
    "SNP_outcome_cov_table_training_x=SNP_outcome_cov_table_training_x.drop([\"level_0\",\"index\"],axis=1)\n",
    "SNP_outcome_cov_table_training_y=SNP_outcome_cov_table_downsamp[\"Cancer\"]\n",
    "SNP_outcome_cov_table_training_y.index=SNP_outcome_cov_table_downsamp[\"IID\"]\n"
   ]
  },
  {
   "cell_type": "markdown",
   "id": "f603fee6-bc0d-44f8-8885-c35601f8c06a",
   "metadata": {},
   "source": [
    "### Generating and preparing the validation datasets"
   ]
  },
  {
   "cell_type": "code",
   "execution_count": 157,
   "id": "5c2359fa-efa3-4ae3-9234-e4fc78f284df",
   "metadata": {},
   "outputs": [
    {
     "name": "stdout",
     "output_type": "stream",
     "text": [
      "57 PRS snps\n",
      "0 snps missing weight\n",
      "switching 45 genotypes\n"
     ]
    }
   ],
   "source": [
    "ellipse_prs,ellipse_snps=make_ukbb_prs(\"/cellar/users/mpagadal/projects/germline-immune/data/genotypes/ellipse/ellipse.raw\",group1_mhcII_sumstats,group1_mhcII_sumstats[\"ID\"].tolist())\n",
    "#add phenotyping\n",
    "pheno=pd.read_csv(\"/cellar/controlled/dbgap-genetic/phs001120.v1.p1_ellipse/phenotypes/pheno_affection_status.txt\",delimiter=\"\\t\",header=None)\n",
    "pheno[2]=pheno[2].map({1:0,2:1})\n",
    "\n",
    "mp_pheno=dict(zip(pheno[1],pheno[2]))\n",
    "\n",
    "ellipse_prs[\"pheno\"]=ellipse_prs[\"IID\"].map(mp_pheno)\n",
    "cov=pd.read_csv(\"/cellar/controlled/dbgap-genetic/phs001120.v1.p1_ellipse/covs/age-pcs-fh\",delimiter=\"\\t\")\n",
    "ellipse_prs=pd.merge(ellipse_prs,cov,on=\"IID\",how=\"left\")\n",
    "ellipse_prs[\"FH_PROS\"]=ellipse_prs[\"FH_PROS\"].replace(-9,0)\n",
    "\n",
    "ellipse_prs[\"FID\"]=ellipse_prs[\"IID\"]\n",
    "\n",
    "#Merge geneva_prs file with SNP inputs, then chop up into train/test\n",
    "ellipse_snps_t=ellipse_snps.transpose()\n",
    "ellipse_snps_t[\"IID\"]=ellipse_snps_t.index\n",
    "\n",
    "ellipse_snps_t = ellipse_snps_t.reset_index()\n",
    "ellipse_prs = ellipse_prs.reset_index()\n",
    "\n",
    "ellipse_snps_t[\"IID\"]=ellipse_snps_t['IID'].astype(str)\n",
    "ellipse_prs[\"IID\"]=ellipse_prs['IID'].astype(str)\n",
    "\n",
    "ellipse_outcome_cov_table=pd.merge(pd.DataFrame(ellipse_snps_t),pd.DataFrame(ellipse_prs),on=\"IID\",how=\"left\")\n"
   ]
  },
  {
   "cell_type": "code",
   "execution_count": 158,
   "id": "c65e6e34-ef9a-4ed6-b6d4-0749cab1b78b",
   "metadata": {},
   "outputs": [],
   "source": [
    "ellipse_outcome_cov_table=ellipse_outcome_cov_table[~ellipse_outcome_cov_table[\"pheno\"].isnull()]\n",
    "#ellipse_outcome_cov_table=ellipse_outcome_cov_table[ellipse_outcome_cov_table[\"FH_PROS\"]!=0]\n",
    "\n",
    "ellipse_outcome_cov_table_x=ellipse_outcome_cov_table.drop(['IID',\n",
    "       'PRS', 'pheno', 'age',\n",
    "       'FH_PROS', 'FID', 'PC1', 'PC2', 'PC3', 'PC4',\n",
    "       'PC5', 'PC6', 'PC7', 'PC8', 'PC9', 'PC10'],axis=1)\n",
    "\n",
    "ellipse_outcome_cov_table_x.index=ellipse_outcome_cov_table[\"IID\"]\n",
    "ellipse_outcome_cov_table_x=ellipse_outcome_cov_table_x.drop([\"index_x\",\"index_y\"],axis=1)\n",
    "\n",
    "ellipse_outcome_cov_table_y=ellipse_outcome_cov_table[\"pheno\"]\n",
    "ellipse_outcome_cov_table_y.index=ellipse_outcome_cov_table[\"IID\"]"
   ]
  },
  {
   "cell_type": "code",
   "execution_count": 159,
   "id": "f8e0e9af-168a-4af0-b695-9f866fd574ea",
   "metadata": {},
   "outputs": [],
   "source": [
    "SNP_outcome_cov_table_training_y=pd.to_numeric(SNP_outcome_cov_table_training_y, errors='coerce').astype(\"Int32\")\n",
    "ellipse_outcome_cov_table_y=pd.to_numeric(ellipse_outcome_cov_table_y, errors='coerce').astype(\"Int32\")"
   ]
  },
  {
   "cell_type": "code",
   "execution_count": 160,
   "id": "88cb0283-d5c3-407d-9c4f-76babf5960c4",
   "metadata": {},
   "outputs": [],
   "source": [
    "#Minor lack of overlap in SNPs from training to testing dataset, so need to pare down training table to SNPs that exist in the ellipse cohort\n",
    "SNP_outcome_cov_table_training_x=SNP_outcome_cov_table_training_x[ellipse_outcome_cov_table_x.columns.values]"
   ]
  },
  {
   "cell_type": "code",
   "execution_count": 161,
   "id": "f8789863-ea1f-42cf-8c1d-ea6f52dd67da",
   "metadata": {},
   "outputs": [
    {
     "data": {
      "text/plain": [
       "((348667, 50), (348667,), (91644, 50), (91644,))"
      ]
     },
     "execution_count": 161,
     "metadata": {},
     "output_type": "execute_result"
    }
   ],
   "source": [
    "SNP_outcome_cov_table_training_x.shape,SNP_outcome_cov_table_training_y.shape,ellipse_outcome_cov_table_x.shape,ellipse_outcome_cov_table_y.shape"
   ]
  },
  {
   "cell_type": "code",
   "execution_count": 162,
   "id": "a3e62485-efb8-4966-be59-f780efa62169",
   "metadata": {},
   "outputs": [
    {
     "name": "stdout",
     "output_type": "stream",
     "text": [
      "0.5382223014559917\n"
     ]
    },
    {
     "data": {
      "image/png": "[encoded data removed]",
      "text/plain": [
       "<Figure size 720x720 with 1 Axes>"
      ]
     },
     "metadata": {
      "needs_background": "light"
     },
     "output_type": "display_data"
    },
    {
     "name": "stdout",
     "output_type": "stream",
     "text": [
      "['6:32651641' '6:32438298' '6:29933439' '11:10490415' '6:26364628'\n",
      " '5:96124330' '1:150861859' '11:10489826' '6:32634243' '5:96216173'\n",
      " '5:96115146' '5:95981776' '1:150558293' '6:29910358' '5:96229272'\n",
      " '6:31322980' '6:32204433' '6:32602396' '6:32635629' '6:32212241'\n",
      " '6:32647701' '6:32575658' '6:32659609' '6:32134510']\n"
     ]
    }
   ],
   "source": [
    "#Now recreate model from fig. 7 using this new composite dataframe\n",
    "\n",
    "#filter using LASSO regression\n",
    "from sklearn.linear_model import Lasso\n",
    "\n",
    "# define model\n",
    "model = Lasso(alpha=0.00001,random_state=random_sate)\n",
    "\n",
    "# fit model\n",
    "model.fit(SNP_outcome_cov_table_training_x, SNP_outcome_cov_table_training_y)\n",
    "\n",
    "p = model.predict(SNP_outcome_cov_table_training_x)  \n",
    "\n",
    "#Find model that gives best AUC, do a cutoff of weakest contributing SNPS, then run all analysis portions\n",
    "\n",
    "import sklearn.metrics as metrics\n",
    "# calculate the fpr and tpr for all thresholds of the classification\n",
    "#preds = np.around(p, decimals=0, out=None)\n",
    "\n",
    "preds=p\n",
    "\n",
    "fpr, tpr, threshold = metrics.roc_curve(list(SNP_outcome_cov_table_training_y), preds,pos_label=1)\n",
    "\n",
    "roc_auc = metrics.auc(fpr, tpr)\n",
    "\n",
    "print(roc_auc)\n",
    "# method I: plt\n",
    "import matplotlib.pyplot as plt\n",
    "plt.figure(figsize=(10,10))\n",
    "plt.title('Simple LASSO AUC')\n",
    "plt.plot(fpr, tpr, 'b', label = 'AUC = %0.2f' % roc_auc)\n",
    "plt.legend(loc = 'lower right')\n",
    "plt.plot([0, 1], [0, 1],'r--')\n",
    "plt.xlim([0, 1])\n",
    "plt.ylim([0, 1])\n",
    "plt.ylabel('True Positive Rate')\n",
    "plt.xlabel('False Positive Rate')\n",
    "plt.show()\n",
    "\n",
    "#now drop SNPs with low contribution\n",
    "print(SNP_outcome_cov_table_training_x.columns.values[model.coef_==0])\n"
   ]
  },
  {
   "cell_type": "code",
   "execution_count": 163,
   "id": "5983c027-c1a9-4d08-ae36-d04b5f6260b6",
   "metadata": {},
   "outputs": [],
   "source": [
    "#remake SNP list with dropped \"useless\" SNPs\n",
    "\n",
    "ellipse_outcome_cov_table=ellipse_outcome_cov_table.drop(SNP_outcome_cov_table_training_x.columns.values[model.coef_==0],axis=1)\n",
    "SNP_outcome_cov_table_downsamp=SNP_outcome_cov_table_downsamp.drop(SNP_outcome_cov_table_training_x.columns.values[model.coef_==0],axis=1)\n",
    "\n",
    "ellipse_outcome_cov_table_x=ellipse_outcome_cov_table.drop(['IID',\n",
    "       'PRS', 'pheno', 'age',\n",
    "       'FH_PROS', 'FID', 'PC1', 'PC2', 'PC3', 'PC4',\n",
    "       'PC5', 'PC6', 'PC7', 'PC8', 'PC9', 'PC10'],axis=1)\n",
    "ellipse_outcome_cov_table_x.index=ellipse_outcome_cov_table[\"IID\"]\n",
    "ellipse_outcome_cov_table_x=ellipse_outcome_cov_table_x.drop([\"index_x\",\"index_y\"],axis=1)\n",
    "\n",
    "ellipse_outcome_cov_table_y=ellipse_outcome_cov_table[\"pheno\"]\n",
    "ellipse_outcome_cov_table_y.index=ellipse_outcome_cov_table[\"IID\"]\n",
    "\n",
    "SNP_outcome_cov_table_training_x=SNP_outcome_cov_table_downsamp.drop([\"IID\",\"Cancer\",\"C43-C44\",\"C60-C63\",\"AGE\",\"SEX\",\"PC1\",\"PC2\",\"PC3\",\"PC4\",\"PC5\",\"PC6\",\"PC7\",\"PC8\",\"PC9\",\"PC10\",'PRS',\n",
    "       'FID', 'D55-D59', 'D80-D89', 'E70-E90', 'I70-I79', 'K20-K31',\n",
    "       'K50-K52', 'K70-K77', 'K80-K87', 'K90-K93', 'L40-L45', 'M00-M03',\n",
    "       'M05-M14', 'M15-M19', 'M20-M25', 'M70-M79', 'M45-M49', 'M60-M63',\n",
    "       'R70-R79', 'C73-C75', 'C81-C96', 'D60-D64', 'C40-C41', 'D37-D48',\n",
    "       'D70-D77', 'C50-C50', 'D65-D69', 'C00-C14', 'C45-C49', 'D00-D09',\n",
    "       'C30-C39', 'C97-C97', 'D50-D53', 'C76-C80', 'C15-C26', 'C51-C58',\n",
    "       'D10-D36', 'C69-C72', 'C64-C68'],axis=1)\n",
    "SNP_outcome_cov_table_training_x.index=SNP_outcome_cov_table_downsamp[\"IID\"]\n",
    "SNP_outcome_cov_table_training_x=SNP_outcome_cov_table_training_x.drop([\"level_0\",\"index\"],axis=1)\n",
    "SNP_outcome_cov_table_training_y=SNP_outcome_cov_table_downsamp[\"Cancer\"]\n",
    "SNP_outcome_cov_table_training_y.index=SNP_outcome_cov_table_downsamp[\"IID\"]\n",
    "\n",
    "ellipse_outcome_cov_table=ellipse_outcome_cov_table.reset_index()\n",
    "\n",
    "SNP_outcome_cov_table_training_x=SNP_outcome_cov_table_training_x[ellipse_outcome_cov_table_x.columns.values]\n",
    "\n"
   ]
  },
  {
   "cell_type": "code",
   "execution_count": 164,
   "id": "28a20460-bcc8-45d8-b667-59d3f9b0a4a1",
   "metadata": {},
   "outputs": [],
   "source": [
    "pd.DataFrame(ellipse_outcome_cov_table_x.columns.values).to_csv(\"/cellar/users/tsears/projects/germline-immune/data/fig4/prostate_final_snps.txt\",sep=\"\\t\")"
   ]
  },
  {
   "cell_type": "code",
   "execution_count": 165,
   "id": "b7bbe455-07cd-4bf7-a38a-87850962ffcc",
   "metadata": {},
   "outputs": [
    {
     "name": "stdout",
     "output_type": "stream",
     "text": [
      "[18:01:07] WARNING: /tmp/abs_40obctay9q/croots/recipe/xgboost-split_1659548945886/work/src/learner.cc:576: \n",
      "Parameters: { \"verbose_eval\" } might not be used.\n",
      "\n",
      "  This could be a false alarm, with some parameters getting used by language bindings but\n",
      "  then being mistakenly passed down to XGBoost core, or some parameter actually being used\n",
      "  but getting flagged wrongly here. Please open an issue if you find any such cases.\n",
      "\n",
      "\n"
     ]
    }
   ],
   "source": [
    "import xgboost\n",
    "from sklearn.model_selection import cross_val_score\n",
    "from sklearn.model_selection import RepeatedKFold\n",
    "\n",
    "regressor_xgb = xgboost.XGBRFRegressor(n_estimators = 200, random_state = random_sate,learning_rate=0.1,max_depth=9,verbose_eval=10)\n",
    "regressor_xgb.fit(SNP_outcome_cov_table_training_x, SNP_outcome_cov_table_training_y)  \n",
    "\n",
    "p = regressor_xgb.predict(ellipse_outcome_cov_table_x)  # test the output by changing values\n",
    "p_disc=regressor_xgb.predict(SNP_outcome_cov_table_training_x)\n",
    "\n",
    "ellipse_outcome_cov_table[\"LASSO_burden\"]=p\n",
    "SNP_outcome_cov_table_downsamp[\"LASSO_burden\"]=p_disc"
   ]
  },
  {
   "cell_type": "code",
   "execution_count": 166,
   "id": "70c80610-f8bd-44bd-8e57-3d9b4b900d9a",
   "metadata": {},
   "outputs": [
    {
     "data": {
      "image/png": "[encoded data removed]",
      "text/plain": [
       "<Figure size 576x576 with 1 Axes>"
      ]
     },
     "metadata": {
      "needs_background": "light"
     },
     "output_type": "display_data"
    }
   ],
   "source": [
    "features = SNP_outcome_cov_table_training_x.columns.values.tolist()\n",
    "features=[x.rsplit(\"_\")[0] for x in features]\n",
    "importances = regressor_xgb.feature_importances_\n",
    "\n",
    "mapping_table=pd.concat([pd.DataFrame(features),pd.DataFrame(importances)],axis=1)\n",
    "mapping_table.columns=[\"ID\",\"importance\"]\n",
    "\n",
    "rsid_table=pd.read_csv(\"/cellar/users/mpagadal/projects/germline-immune/data/supplemental/Supplemental_Table_3_annot.csv\",sep=\"\\t\")\n",
    "rsid_table=rsid_table.drop_duplicates(subset=\"rsid\")\n",
    "rsid_table=rsid_table[[\"snp_noallele\",\"rsid\"]]\n",
    "\n",
    "compiled_icb_rsid_plot=pd.merge(mapping_table,rsid_table,left_on=\"ID\",right_on=\"snp_noallele\")\n",
    "\n",
    "compiled_icb_rsid_plot=compiled_icb_rsid_plot.sort_values(by=\"importance\")\n",
    "compiled_icb_rsid_plot=compiled_icb_rsid_plot.iloc[compiled_icb_rsid_plot.shape[0]-15:compiled_icb_rsid_plot.shape[0],:]\n",
    "\n",
    "plt.rcParams['font.family'] = 'sans-serif'\n",
    "plt.rcParams['font.sans-serif'] = 'Helvetica'\n",
    "\n",
    "plt.rcParams['axes.edgecolor']='darkslategrey'\n",
    "plt.rcParams['axes.linewidth']=1\n",
    "plt.rcParams['xtick.color']='black'\n",
    "plt.rcParams['ytick.color']='black'\n",
    "plt.style.use('seaborn-dark-palette')\n",
    "\n",
    "my_range=list(range(0,len(compiled_icb_rsid_plot[\"importance\"])))\n",
    "fig, ax = plt.subplots(figsize=(8,8))\n",
    "plt.hlines(y=my_range, xmin=0, xmax=compiled_icb_rsid_plot[\"importance\"], alpha=0.4, linewidth=7)\n",
    "plt.plot(compiled_icb_rsid_plot[\"importance\"], my_range, \"o\", markersize=7, alpha=0.7)\n",
    "# set labels style\n",
    "ax.set_xlabel('Relative Importance', fontsize=15, fontweight='black', color = '#333F4B')\n",
    "ax.set_ylabel('')\n",
    "# change the style of the axis spines\n",
    "ax.spines['top'].set_visible(False)\n",
    "ax.spines['right'].set_visible(False)\n",
    "ax.spines['left'].set_bounds((0, len(my_range)-1))\n",
    "ax.set_xlim(0,0.06)\n",
    "plt.yticks(range(len(compiled_icb_rsid_plot[\"importance\"])), compiled_icb_rsid_plot[\"rsid\"])\n",
    "# add some space between the axis and the plot\n",
    "ax.spines['left'].set_position(('outward', 8))\n",
    "ax.spines['bottom'].set_position(('outward', -10))\n",
    "\n",
    "plt.savefig(\"/cellar/users/tsears/projects/germline-immune/plots/fig4/prostate_feature_importance_V2.pdf\",bbox_inches = \"tight\")\n"
   ]
  },
  {
   "cell_type": "code",
   "execution_count": 2944,
   "id": "d241471e-ba7a-498f-822b-ed6ec79ad518",
   "metadata": {},
   "outputs": [
    {
     "name": "stderr",
     "output_type": "stream",
     "text": [
      "/cm/shared/apps/jupyter/12.3.0/lib/python3.7/site-packages/ipykernel_launcher.py:4: SettingWithCopyWarning: \n",
      "A value is trying to be set on a copy of a slice from a DataFrame.\n",
      "Try using .loc[row_indexer,col_indexer] = value instead\n",
      "\n",
      "See the caveats in the documentation: https://pandas.pydata.org/pandas-docs/stable/user_guide/indexing.html#returning-a-view-versus-a-copy\n",
      "  after removing the cwd from sys.path.\n"
     ]
    },
    {
     "data": {
      "image/png": "[encoded data removed]",
      "text/plain": [
       "<Figure size 360x360 with 1 Axes>"
      ]
     },
     "metadata": {
      "needs_background": "light"
     },
     "output_type": "display_data"
    }
   ],
   "source": [
    "ellipse_outcome_cov_table_plot=ellipse_outcome_cov_table[ellipse_outcome_cov_table['LASSO_burden']<float(ellipse_outcome_cov_table['LASSO_burden'].quantile([0.99]))]\n",
    "minmax_scale = preprocessing.MinMaxScaler(feature_range=(0, 10))\n",
    "x = ellipse_outcome_cov_table_plot[\"LASSO_burden\"].values.reshape(-1, 1)\n",
    "ellipse_outcome_cov_table_plot[\"LASSO_scaled\"] = minmax_scale.fit_transform(x)\n",
    "\n",
    "fig = plt.figure(figsize=(5,5))\n",
    "\n",
    "#sns.boxplot(x=\"pheno\",y=\"LASSO_scaled\",data=ellipse_outcome_cov_table_plot)\n",
    "sns.violinplot(x=\"pheno\",y=\"LASSO_scaled\",data=ellipse_outcome_cov_table_plot)\n",
    "\n",
    "\n",
    "cat1 = ellipse_outcome_cov_table[ellipse_outcome_cov_table[\"pheno\"]==0]\n",
    "cat2 = ellipse_outcome_cov_table[ellipse_outcome_cov_table[\"pheno\"]==1]\n",
    "disc_score=cat2[\"LASSO_burden\"].mean()-cat1[\"LASSO_burden\"].mean()\n",
    "\n",
    "plt.title(stats.mannwhitneyu(cat1[\"LASSO_burden\"], cat2[\"LASSO_burden\"])[1])\n",
    "\n",
    "plt.ylabel(\"burden (pvalue < 0.05) RF Regression\")\n",
    "plt.xticks(rotation=90)\n",
    "plt.savefig(\"/cellar/users/tsears/projects/germline-immune/plots/fig5/prostateViolin_0.99_quantile_Dropped_rescaled.pdf\")\n",
    "\n"
   ]
  },
  {
   "cell_type": "code",
   "execution_count": 2887,
   "id": "6535a876-0bed-4051-befc-e1636d9e7da5",
   "metadata": {},
   "outputs": [
    {
     "data": {
      "text/plain": [
       "Text(0.5, 0, 'PRS')"
      ]
     },
     "execution_count": 2887,
     "metadata": {},
     "output_type": "execute_result"
    },
    {
     "data": {
      "image/png": "[encoded data removed]",
      "text/plain": [
       "<Figure size 432x288 with 1 Axes>"
      ]
     },
     "metadata": {
      "needs_background": "light"
     },
     "output_type": "display_data"
    }
   ],
   "source": [
    "sns.kdeplot(ellipse_outcome_cov_table[ellipse_outcome_cov_table[\"pheno\"]==0][\"LASSO_burden\"],label=\"controls\")\n",
    "sns.kdeplot(ellipse_outcome_cov_table[ellipse_outcome_cov_table[\"pheno\"]==1][\"LASSO_burden\"],label=\"cases\")\n",
    "plt.ylabel(\"density\")\n",
    "plt.xlabel(\"PRS\")"
   ]
  },
  {
   "cell_type": "code",
   "execution_count": 2889,
   "id": "e85e7925-5c97-457f-82d2-6ec0b082658e",
   "metadata": {},
   "outputs": [],
   "source": [
    "#restructure PRS score so that it makes more sense to plot\n",
    "ellipse_outcome_cov_table[\"PRS\"]=ellipse_outcome_cov_table[\"LASSO_burden\"]"
   ]
  },
  {
   "cell_type": "code",
   "execution_count": 2890,
   "id": "b336d839-a0e6-4b3c-814f-ad447ad6a577",
   "metadata": {},
   "outputs": [
    {
     "name": "stdout",
     "output_type": "stream",
     "text": [
      "1    9162\n",
      "0    9155\n",
      "Name: group, dtype: int64\n",
      "Optimization terminated successfully.\n",
      "         Current function value: 0.633328\n",
      "         Iterations 6\n"
     ]
    },
    {
     "name": "stderr",
     "output_type": "stream",
     "text": [
      "/cm/shared/apps/jupyter/12.3.0/lib/python3.7/site-packages/ipykernel_launcher.py:27: SettingWithCopyWarning: \n",
      "A value is trying to be set on a copy of a slice from a DataFrame.\n",
      "Try using .loc[row_indexer,col_indexer] = value instead\n",
      "\n",
      "See the caveats in the documentation: https://pandas.pydata.org/pandas-docs/stable/user_guide/indexing.html#returning-a-view-versus-a-copy\n",
      "/cellar/users/tsears/.local/lib/python3.7/site-packages/statsmodels/base/model.py:127: ValueWarning: unknown kwargs ['method']\n",
      "  warnings.warn(msg, ValueWarning)\n",
      "/cm/shared/apps/jupyter/12.3.0/lib/python3.7/site-packages/ipykernel_launcher.py:27: SettingWithCopyWarning: \n",
      "A value is trying to be set on a copy of a slice from a DataFrame.\n",
      "Try using .loc[row_indexer,col_indexer] = value instead\n",
      "\n",
      "See the caveats in the documentation: https://pandas.pydata.org/pandas-docs/stable/user_guide/indexing.html#returning-a-view-versus-a-copy\n"
     ]
    },
    {
     "name": "stdout",
     "output_type": "stream",
     "text": [
      "1    9163\n",
      "0    9155\n",
      "Name: group, dtype: int64\n",
      "Optimization terminated successfully.\n",
      "         Current function value: 0.633945\n",
      "         Iterations 6\n",
      "1    9157\n",
      "0    9155\n",
      "Name: group, dtype: int64\n"
     ]
    },
    {
     "name": "stderr",
     "output_type": "stream",
     "text": [
      "/cellar/users/tsears/.local/lib/python3.7/site-packages/statsmodels/base/model.py:127: ValueWarning: unknown kwargs ['method']\n",
      "  warnings.warn(msg, ValueWarning)\n",
      "/cm/shared/apps/jupyter/12.3.0/lib/python3.7/site-packages/ipykernel_launcher.py:27: SettingWithCopyWarning: \n",
      "A value is trying to be set on a copy of a slice from a DataFrame.\n",
      "Try using .loc[row_indexer,col_indexer] = value instead\n",
      "\n",
      "See the caveats in the documentation: https://pandas.pydata.org/pandas-docs/stable/user_guide/indexing.html#returning-a-view-versus-a-copy\n",
      "/cellar/users/tsears/.local/lib/python3.7/site-packages/statsmodels/base/model.py:127: ValueWarning: unknown kwargs ['method']\n",
      "  warnings.warn(msg, ValueWarning)\n"
     ]
    },
    {
     "name": "stdout",
     "output_type": "stream",
     "text": [
      "Optimization terminated successfully.\n",
      "         Current function value: 0.633066\n",
      "         Iterations 6\n",
      "1    9158\n",
      "0    9155\n",
      "Name: group, dtype: int64\n",
      "Optimization terminated successfully.\n",
      "         Current function value: 0.630499\n",
      "         Iterations 6\n"
     ]
    },
    {
     "name": "stderr",
     "output_type": "stream",
     "text": [
      "/cm/shared/apps/jupyter/12.3.0/lib/python3.7/site-packages/ipykernel_launcher.py:27: SettingWithCopyWarning: \n",
      "A value is trying to be set on a copy of a slice from a DataFrame.\n",
      "Try using .loc[row_indexer,col_indexer] = value instead\n",
      "\n",
      "See the caveats in the documentation: https://pandas.pydata.org/pandas-docs/stable/user_guide/indexing.html#returning-a-view-versus-a-copy\n",
      "/cellar/users/tsears/.local/lib/python3.7/site-packages/statsmodels/base/model.py:127: ValueWarning: unknown kwargs ['method']\n",
      "  warnings.warn(msg, ValueWarning)\n",
      "/cm/shared/apps/jupyter/12.3.0/lib/python3.7/site-packages/ipykernel_launcher.py:27: SettingWithCopyWarning: \n",
      "A value is trying to be set on a copy of a slice from a DataFrame.\n",
      "Try using .loc[row_indexer,col_indexer] = value instead\n",
      "\n",
      "See the caveats in the documentation: https://pandas.pydata.org/pandas-docs/stable/user_guide/indexing.html#returning-a-view-versus-a-copy\n"
     ]
    },
    {
     "name": "stdout",
     "output_type": "stream",
     "text": [
      "0    9155\n",
      "1    9149\n",
      "Name: group, dtype: int64\n",
      "Optimization terminated successfully.\n",
      "         Current function value: 0.632324\n",
      "         Iterations 6\n",
      "1    9155\n",
      "Name: group, dtype: int64\n"
     ]
    },
    {
     "name": "stderr",
     "output_type": "stream",
     "text": [
      "/cellar/users/tsears/.local/lib/python3.7/site-packages/statsmodels/base/model.py:127: ValueWarning: unknown kwargs ['method']\n",
      "  warnings.warn(msg, ValueWarning)\n",
      "/cm/shared/apps/jupyter/12.3.0/lib/python3.7/site-packages/ipykernel_launcher.py:27: SettingWithCopyWarning: \n",
      "A value is trying to be set on a copy of a slice from a DataFrame.\n",
      "Try using .loc[row_indexer,col_indexer] = value instead\n",
      "\n",
      "See the caveats in the documentation: https://pandas.pydata.org/pandas-docs/stable/user_guide/indexing.html#returning-a-view-versus-a-copy\n"
     ]
    },
    {
     "name": "stdout",
     "output_type": "stream",
     "text": [
      "1    9162\n",
      "0    9155\n",
      "Name: group, dtype: int64\n",
      "Optimization terminated successfully.\n",
      "         Current function value: 0.630556\n",
      "         Iterations 6\n",
      "1    9156\n",
      "0    9155\n",
      "Name: group, dtype: int64\n"
     ]
    },
    {
     "name": "stderr",
     "output_type": "stream",
     "text": [
      "/cellar/users/tsears/.local/lib/python3.7/site-packages/statsmodels/base/model.py:127: ValueWarning: unknown kwargs ['method']\n",
      "  warnings.warn(msg, ValueWarning)\n",
      "/cm/shared/apps/jupyter/12.3.0/lib/python3.7/site-packages/ipykernel_launcher.py:27: SettingWithCopyWarning: \n",
      "A value is trying to be set on a copy of a slice from a DataFrame.\n",
      "Try using .loc[row_indexer,col_indexer] = value instead\n",
      "\n",
      "See the caveats in the documentation: https://pandas.pydata.org/pandas-docs/stable/user_guide/indexing.html#returning-a-view-versus-a-copy\n",
      "/cellar/users/tsears/.local/lib/python3.7/site-packages/statsmodels/base/model.py:127: ValueWarning: unknown kwargs ['method']\n",
      "  warnings.warn(msg, ValueWarning)\n"
     ]
    },
    {
     "name": "stdout",
     "output_type": "stream",
     "text": [
      "Optimization terminated successfully.\n",
      "         Current function value: 0.626826\n",
      "         Iterations 6\n",
      "1    9162\n",
      "0    9155\n",
      "Name: group, dtype: int64\n",
      "Optimization terminated successfully.\n",
      "         Current function value: 0.627650\n",
      "         Iterations 6\n"
     ]
    },
    {
     "name": "stderr",
     "output_type": "stream",
     "text": [
      "/cm/shared/apps/jupyter/12.3.0/lib/python3.7/site-packages/ipykernel_launcher.py:27: SettingWithCopyWarning: \n",
      "A value is trying to be set on a copy of a slice from a DataFrame.\n",
      "Try using .loc[row_indexer,col_indexer] = value instead\n",
      "\n",
      "See the caveats in the documentation: https://pandas.pydata.org/pandas-docs/stable/user_guide/indexing.html#returning-a-view-versus-a-copy\n",
      "/cellar/users/tsears/.local/lib/python3.7/site-packages/statsmodels/base/model.py:127: ValueWarning: unknown kwargs ['method']\n",
      "  warnings.warn(msg, ValueWarning)\n",
      "/cm/shared/apps/jupyter/12.3.0/lib/python3.7/site-packages/ipykernel_launcher.py:27: SettingWithCopyWarning: \n",
      "A value is trying to be set on a copy of a slice from a DataFrame.\n",
      "Try using .loc[row_indexer,col_indexer] = value instead\n",
      "\n",
      "See the caveats in the documentation: https://pandas.pydata.org/pandas-docs/stable/user_guide/indexing.html#returning-a-view-versus-a-copy\n"
     ]
    },
    {
     "name": "stdout",
     "output_type": "stream",
     "text": [
      "1    9163\n",
      "0    9155\n",
      "Name: group, dtype: int64\n",
      "Optimization terminated successfully.\n",
      "         Current function value: 0.628002\n",
      "         Iterations 6\n"
     ]
    },
    {
     "name": "stderr",
     "output_type": "stream",
     "text": [
      "/cellar/users/tsears/.local/lib/python3.7/site-packages/statsmodels/base/model.py:127: ValueWarning: unknown kwargs ['method']\n",
      "  warnings.warn(msg, ValueWarning)\n"
     ]
    }
   ],
   "source": [
    "ellipse_outcome_odds=quantile_plot(ellipse_outcome_cov_table,\"pheno ~ group + age + PC1 + PC2 + PC3 + PC4 + PC5 + PC6 + PC7 + PC8 + PC9 + PC10\",10,\"logistic\")"
   ]
  },
  {
   "cell_type": "code",
   "execution_count": 2969,
   "id": "6cc939df-957c-4ba4-a039-109f7ab82b97",
   "metadata": {},
   "outputs": [
    {
     "data": {
      "image/png": "[encoded data removed]",
      "text/plain": [
       "<Figure size 504x360 with 1 Axes>"
      ]
     },
     "metadata": {
      "needs_background": "light"
     },
     "output_type": "display_data"
    }
   ],
   "source": [
    "f=plt.figure(figsize=(7,5))\n",
    "plt.errorbar(x=ellipse_outcome_odds[\"quant\"].tolist(),y=ellipse_outcome_odds[\"odds\"].tolist(),yerr=ellipse_outcome_odds[\"se\"].tolist(),fmt=\"o\",color=\"blue\",label=\"group1 + mhc genes\")\n",
    "plt.ylabel(\"quantile\")\n",
    "plt.ylabel(\"odds of C60-C63 \\n (prostate cancer)\")\n",
    "plt.axhline(1,linestyle=\"--\",color=\"gray\")\n",
    "plt.savefig(\"/cellar/users/tsears/projects/germline-immune/plots/fig5/ellipse.quantile.pdf\")\n",
    "\n",
    "\n"
   ]
  },
  {
   "cell_type": "code",
   "execution_count": 2892,
   "id": "a886e5c3-de0a-4bb5-ac62-15ab6838ffac",
   "metadata": {},
   "outputs": [
    {
     "data": {
      "text/plain": [
       "Text(0.5, 0, 'PRS')"
      ]
     },
     "execution_count": 2892,
     "metadata": {},
     "output_type": "execute_result"
    },
    {
     "data": {
      "image/png": "[encoded data removed]",
      "text/plain": [
       "<Figure size 432x288 with 1 Axes>"
      ]
     },
     "metadata": {
      "needs_background": "light"
     },
     "output_type": "display_data"
    }
   ],
   "source": [
    "sns.kdeplot(ellipse_outcome_cov_table[ellipse_outcome_cov_table[\"pheno\"]==0][\"LASSO_burden\"],label=\"controls\")\n",
    "sns.kdeplot(ellipse_outcome_cov_table[ellipse_outcome_cov_table[\"pheno\"]==1][\"LASSO_burden\"],label=\"cases\")\n",
    "plt.ylabel(\"density\")\n",
    "plt.xlabel(\"PRS\")"
   ]
  },
  {
   "cell_type": "code",
   "execution_count": 2959,
   "id": "cc7c95f0-3346-4833-a0d6-94a1237bf81a",
   "metadata": {},
   "outputs": [
    {
     "data": {
      "image/png": "[encoded data removed]",
      "text/plain": [
       "<Figure size 216x360 with 1 Axes>"
      ]
     },
     "metadata": {
      "needs_background": "light"
     },
     "output_type": "display_data"
    }
   ],
   "source": [
    "#1st vs 10th quantile\n",
    "ellipse_outcome_odds_filt=ellipse_outcome_odds[ellipse_outcome_odds[\"quant\"].isin([\"0.0\",\"90.0\"])]\n",
    "f=plt.figure(figsize=(3,5))\n",
    "plt.errorbar(x=ellipse_outcome_odds_filt[\"quant\"].tolist(),y=ellipse_outcome_odds_filt[\"odds\"].tolist(),yerr=ellipse_outcome_odds_filt[\"se\"].tolist(),fmt=\"o\")\n",
    "plt.xlabel(\"LASSO signature PRS quantile\")\n",
    "plt.ylabel(\"odds of prostate cancer\")\n",
    "plt.xticks([0,1])\n",
    "plt.xlim((-1, 2))\n",
    "plt.title(\"ELLIPSE Consortium\")\n",
    "plt.axhline(1,linestyle=\"--\",color=\"gray\")\n",
    "plt.savefig(\"/cellar/users/tsears/projects/germline-immune/plots/fig5/1vs9_prostate.quantile.pdf\")\n"
   ]
  }
 ],
 "metadata": {
  "kernelspec": {
   "display_name": "ML_kernal",
   "language": "python",
   "name": "ml_kernal"
  },
  "language_info": {
   "codemirror_mode": {
    "name": "ipython",
    "version": 3
   },
   "file_extension": ".py",
   "mimetype": "text/x-python",
   "name": "python",
   "nbconvert_exporter": "python",
   "pygments_lexer": "ipython3",
   "version": "3.7.12"
  }
 },
 "nbformat": 4,
 "nbformat_minor": 5
}
