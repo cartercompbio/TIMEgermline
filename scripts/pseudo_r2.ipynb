{
 "cells": [
  {
   "cell_type": "code",
   "execution_count": 2,
   "id": "f7cd33dc-ca2a-4684-933a-34267e6d33a7",
   "metadata": {},
   "outputs": [
    {
     "ename": "NameError",
     "evalue": "name 'library' is not defined",
     "output_type": "error",
     "traceback": [
      "\u001b[0;31m---------------------------------------------------------------------------\u001b[0m",
      "\u001b[0;31mNameError\u001b[0m                                 Traceback (most recent call last)",
      "\u001b[0;32m/tmp/ipykernel_3656760/3818645243.py\u001b[0m in \u001b[0;36m<module>\u001b[0;34m\u001b[0m\n\u001b[0;32m----> 1\u001b[0;31m \u001b[0mlibrary\u001b[0m\u001b[0;34m(\u001b[0m\u001b[0mdata\u001b[0m\u001b[0;34m.\u001b[0m\u001b[0mtable\u001b[0m\u001b[0;34m)\u001b[0m\u001b[0;34m\u001b[0m\u001b[0;34m\u001b[0m\u001b[0m\n\u001b[0m\u001b[1;32m      2\u001b[0m \u001b[0mlibrary\u001b[0m\u001b[0;34m(\u001b[0m\u001b[0mDescTools\u001b[0m\u001b[0;34m)\u001b[0m\u001b[0;34m\u001b[0m\u001b[0;34m\u001b[0m\u001b[0m\n",
      "\u001b[0;31mNameError\u001b[0m: name 'library' is not defined"
     ]
    }
   ],
   "source": [
    "library(data.table)\n",
    "library(DescTools)"
   ]
  },
  {
   "cell_type": "code",
   "execution_count": 1,
   "id": "6652da6b-9792-43e6-b26d-bb3cf526bbc2",
   "metadata": {},
   "outputs": [
    {
     "ename": "NameError",
     "evalue": "name 'read' is not defined",
     "output_type": "error",
     "traceback": [
      "\u001b[0;31m---------------------------------------------------------------------------\u001b[0m",
      "\u001b[0;31mNameError\u001b[0m                                 Traceback (most recent call last)",
      "\u001b[0;32m/tmp/ipykernel_3656760/430006731.py\u001b[0m in \u001b[0;36m<module>\u001b[0;34m\u001b[0m\n\u001b[0;32m----> 1\u001b[0;31m \u001b[0mdf\u001b[0m\u001b[0;34m=\u001b[0m\u001b[0mread\u001b[0m\u001b[0;34m.\u001b[0m\u001b[0mtable\u001b[0m\u001b[0;34m(\u001b[0m\u001b[0;34m\"/cerllar/users/tsears/projects/germline-immune/data/icb.pd1.pdl1.tmb.germline.tsv\"\u001b[0m\u001b[0;34m,\u001b[0m\u001b[0msep\u001b[0m\u001b[0;34m=\u001b[0m\u001b[0;34m\"\\t\"\u001b[0m\u001b[0;34m,\u001b[0m\u001b[0mheader\u001b[0m\u001b[0;34m=\u001b[0m\u001b[0mTRUE\u001b[0m\u001b[0;34m)\u001b[0m\u001b[0;34m\u001b[0m\u001b[0;34m\u001b[0m\u001b[0m\n\u001b[0m",
      "\u001b[0;31mNameError\u001b[0m: name 'read' is not defined"
     ]
    }
   ],
   "source": [
    "df=read.table(\"/cerllar/users/tsears/projects/germline-immune/data/icb.pd1.pdl1.tmb.germline.tsv\",sep=\"\\t\",header=TRUE)"
   ]
  },
  {
   "cell_type": "code",
   "execution_count": 3,
   "id": "fb4b7085-87c2-475c-86ab-98fc10fd28ec",
   "metadata": {},
   "outputs": [
    {
     "data": {
      "text/html": [
       "<style>\n",
       ".list-inline {list-style: none; margin:0; padding: 0}\n",
       ".list-inline>li {display: inline-block}\n",
       ".list-inline>li:not(:last-child)::after {content: \"\\00b7\"; padding: 0 .5ex}\n",
       "</style>\n",
       "<ol class=list-inline><li>'riaz'</li><li>'miao'</li><li>'vanallen'</li><li>'hugo'</li><li>'rizvi'</li><li>'snyder'</li><li>'cristescu_urothelial'</li><li>'cristescu_tnbc'</li></ol>\n"
      ],
      "text/latex": [
       "\\begin{enumerate*}\n",
       "\\item 'riaz'\n",
       "\\item 'miao'\n",
       "\\item 'vanallen'\n",
       "\\item 'hugo'\n",
       "\\item 'rizvi'\n",
       "\\item 'snyder'\n",
       "\\item 'cristescu\\_urothelial'\n",
       "\\item 'cristescu\\_tnbc'\n",
       "\\end{enumerate*}\n"
      ],
      "text/markdown": [
       "1. 'riaz'\n",
       "2. 'miao'\n",
       "3. 'vanallen'\n",
       "4. 'hugo'\n",
       "5. 'rizvi'\n",
       "6. 'snyder'\n",
       "7. 'cristescu_urothelial'\n",
       "8. 'cristescu_tnbc'\n",
       "\n",
       "\n"
      ],
      "text/plain": [
       "[1] \"riaz\"                 \"miao\"                 \"vanallen\"            \n",
       "[4] \"hugo\"                 \"rizvi\"                \"snyder\"              \n",
       "[7] \"cristescu_urothelial\" \"cristescu_tnbc\"      "
      ]
     },
     "metadata": {},
     "output_type": "display_data"
    }
   ],
   "source": [
    "unique(df$study)[0:8]"
   ]
  },
  {
   "cell_type": "code",
   "execution_count": 4,
   "id": "ee4bdd86-a895-47ea-9235-2f6b49b2be59",
   "metadata": {
    "tags": []
   },
   "outputs": [
    {
     "data": {
      "text/html": [
       "<table class=\"dataframe\">\n",
       "<caption>A data.frame: 6 × 23</caption>\n",
       "<thead>\n",
       "\t<tr><th></th><th scope=col>FID</th><th scope=col>PDCD1</th><th scope=col>CD274</th><th scope=col>CTLA4</th><th scope=col>TMB</th><th scope=col>burden</th><th scope=col>pheno</th><th scope=col>study</th><th scope=col>IID</th><th scope=col>Age</th><th scope=col>⋯</th><th scope=col>C2</th><th scope=col>C3</th><th scope=col>C4</th><th scope=col>C5</th><th scope=col>C6</th><th scope=col>C7</th><th scope=col>C8</th><th scope=col>C9</th><th scope=col>C10</th><th scope=col>response</th></tr>\n",
       "\t<tr><th></th><th scope=col>&lt;chr&gt;</th><th scope=col>&lt;dbl&gt;</th><th scope=col>&lt;dbl&gt;</th><th scope=col>&lt;dbl&gt;</th><th scope=col>&lt;dbl&gt;</th><th scope=col>&lt;dbl&gt;</th><th scope=col>&lt;dbl&gt;</th><th scope=col>&lt;chr&gt;</th><th scope=col>&lt;chr&gt;</th><th scope=col>&lt;dbl&gt;</th><th scope=col>⋯</th><th scope=col>&lt;dbl&gt;</th><th scope=col>&lt;dbl&gt;</th><th scope=col>&lt;dbl&gt;</th><th scope=col>&lt;dbl&gt;</th><th scope=col>&lt;dbl&gt;</th><th scope=col>&lt;dbl&gt;</th><th scope=col>&lt;dbl&gt;</th><th scope=col>&lt;dbl&gt;</th><th scope=col>&lt;dbl&gt;</th><th scope=col>&lt;int&gt;</th></tr>\n",
       "</thead>\n",
       "<tbody>\n",
       "\t<tr><th scope=row>1</th><td>SRR5134823</td><td>2.3757345</td><td>3.416840</td><td>2.4568061</td><td> 45.0</td><td>0.5000000</td><td>2</td><td>riaz    </td><td>SRR5134823</td><td>52</td><td>⋯</td><td>-0.0346098</td><td>0.016462700</td><td>-0.01086980</td><td> 0.049784300</td><td>-0.02963000</td><td> 0.00103440</td><td>-0.03465830</td><td>-1.65245e-05</td><td> 0.045567500</td><td>1</td></tr>\n",
       "\t<tr><th scope=row>2</th><td>SRR6504839</td><td>3.6892992</td><td>3.001802</td><td>3.2986583</td><td> 58.0</td><td>0.3636364</td><td>1</td><td>miao    </td><td>SRR6504839</td><td>52</td><td>⋯</td><td>-0.0142743</td><td>0.008448920</td><td> 0.00377494</td><td>-0.001881900</td><td> 0.00172930</td><td>-0.00303252</td><td>-0.00641264</td><td>-1.35799e-03</td><td> 0.010186900</td><td>0</td></tr>\n",
       "\t<tr><th scope=row>3</th><td>SRR2724351</td><td>0.4005379</td><td>1.589763</td><td>0.2141248</td><td>   NA</td><td>0.5000000</td><td>1</td><td>vanallen</td><td>SRR2724351</td><td>61</td><td>⋯</td><td>-0.0103183</td><td>0.005870190</td><td> 0.00385378</td><td> 0.001428540</td><td>-0.00727709</td><td> 0.00454425</td><td>-0.00213939</td><td> 3.76886e-03</td><td>-0.009795290</td><td>0</td></tr>\n",
       "\t<tr><th scope=row>4</th><td>SRR6511550</td><td>1.6735564</td><td>1.356144</td><td>1.4750849</td><td>  9.0</td><td>0.4545455</td><td>2</td><td>miao    </td><td>SRR6511550</td><td>59</td><td>⋯</td><td>-0.0124123</td><td>0.004504520</td><td>-0.00325456</td><td> 0.001832370</td><td> 0.00304893</td><td>-0.00451186</td><td> 0.00105441</td><td>-5.88897e-03</td><td>-0.008792160</td><td>1</td></tr>\n",
       "\t<tr><th scope=row>5</th><td>SRR3083852</td><td>0.6229304</td><td>3.269033</td><td>2.4436067</td><td>339.0</td><td>0.5000000</td><td>2</td><td>hugo    </td><td>SRR3083852</td><td>82</td><td>⋯</td><td>-0.0133546</td><td>0.000326364</td><td>-0.00125437</td><td> 0.000724204</td><td> 0.00191811</td><td>-0.00434421</td><td> 0.00199442</td><td>-3.44412e-03</td><td> 0.002580710</td><td>1</td></tr>\n",
       "\t<tr><th scope=row>6</th><td>SRR5134900</td><td>1.7224660</td><td>2.972693</td><td>2.9855004</td><td> 32.5</td><td>0.5000000</td><td>2</td><td>riaz    </td><td>SRR5134900</td><td>61</td><td>⋯</td><td>-0.0119105</td><td>0.004152100</td><td>-0.00108714</td><td> 0.000102251</td><td> 0.00334026</td><td>-0.00452027</td><td>-0.00957989</td><td> 3.85907e-03</td><td>-0.000828938</td><td>1</td></tr>\n",
       "</tbody>\n",
       "</table>\n"
      ],
      "text/latex": [
       "A data.frame: 6 × 23\n",
       "\\begin{tabular}{r|lllllllllllllllllllll}\n",
       "  & FID & PDCD1 & CD274 & CTLA4 & TMB & burden & pheno & study & IID & Age & ⋯ & C2 & C3 & C4 & C5 & C6 & C7 & C8 & C9 & C10 & response\\\\\n",
       "  & <chr> & <dbl> & <dbl> & <dbl> & <dbl> & <dbl> & <dbl> & <chr> & <chr> & <dbl> & ⋯ & <dbl> & <dbl> & <dbl> & <dbl> & <dbl> & <dbl> & <dbl> & <dbl> & <dbl> & <int>\\\\\n",
       "\\hline\n",
       "\t1 & SRR5134823 & 2.3757345 & 3.416840 & 2.4568061 &  45.0 & 0.5000000 & 2 & riaz     & SRR5134823 & 52 & ⋯ & -0.0346098 & 0.016462700 & -0.01086980 &  0.049784300 & -0.02963000 &  0.00103440 & -0.03465830 & -1.65245e-05 &  0.045567500 & 1\\\\\n",
       "\t2 & SRR6504839 & 3.6892992 & 3.001802 & 3.2986583 &  58.0 & 0.3636364 & 1 & miao     & SRR6504839 & 52 & ⋯ & -0.0142743 & 0.008448920 &  0.00377494 & -0.001881900 &  0.00172930 & -0.00303252 & -0.00641264 & -1.35799e-03 &  0.010186900 & 0\\\\\n",
       "\t3 & SRR2724351 & 0.4005379 & 1.589763 & 0.2141248 &    NA & 0.5000000 & 1 & vanallen & SRR2724351 & 61 & ⋯ & -0.0103183 & 0.005870190 &  0.00385378 &  0.001428540 & -0.00727709 &  0.00454425 & -0.00213939 &  3.76886e-03 & -0.009795290 & 0\\\\\n",
       "\t4 & SRR6511550 & 1.6735564 & 1.356144 & 1.4750849 &   9.0 & 0.4545455 & 2 & miao     & SRR6511550 & 59 & ⋯ & -0.0124123 & 0.004504520 & -0.00325456 &  0.001832370 &  0.00304893 & -0.00451186 &  0.00105441 & -5.88897e-03 & -0.008792160 & 1\\\\\n",
       "\t5 & SRR3083852 & 0.6229304 & 3.269033 & 2.4436067 & 339.0 & 0.5000000 & 2 & hugo     & SRR3083852 & 82 & ⋯ & -0.0133546 & 0.000326364 & -0.00125437 &  0.000724204 &  0.00191811 & -0.00434421 &  0.00199442 & -3.44412e-03 &  0.002580710 & 1\\\\\n",
       "\t6 & SRR5134900 & 1.7224660 & 2.972693 & 2.9855004 &  32.5 & 0.5000000 & 2 & riaz     & SRR5134900 & 61 & ⋯ & -0.0119105 & 0.004152100 & -0.00108714 &  0.000102251 &  0.00334026 & -0.00452027 & -0.00957989 &  3.85907e-03 & -0.000828938 & 1\\\\\n",
       "\\end{tabular}\n"
      ],
      "text/markdown": [
       "\n",
       "A data.frame: 6 × 23\n",
       "\n",
       "| <!--/--> | FID &lt;chr&gt; | PDCD1 &lt;dbl&gt; | CD274 &lt;dbl&gt; | CTLA4 &lt;dbl&gt; | TMB &lt;dbl&gt; | burden &lt;dbl&gt; | pheno &lt;dbl&gt; | study &lt;chr&gt; | IID &lt;chr&gt; | Age &lt;dbl&gt; | ⋯ ⋯ | C2 &lt;dbl&gt; | C3 &lt;dbl&gt; | C4 &lt;dbl&gt; | C5 &lt;dbl&gt; | C6 &lt;dbl&gt; | C7 &lt;dbl&gt; | C8 &lt;dbl&gt; | C9 &lt;dbl&gt; | C10 &lt;dbl&gt; | response &lt;int&gt; |\n",
       "|---|---|---|---|---|---|---|---|---|---|---|---|---|---|---|---|---|---|---|---|---|---|\n",
       "| 1 | SRR5134823 | 2.3757345 | 3.416840 | 2.4568061 |  45.0 | 0.5000000 | 2 | riaz     | SRR5134823 | 52 | ⋯ | -0.0346098 | 0.016462700 | -0.01086980 |  0.049784300 | -0.02963000 |  0.00103440 | -0.03465830 | -1.65245e-05 |  0.045567500 | 1 |\n",
       "| 2 | SRR6504839 | 3.6892992 | 3.001802 | 3.2986583 |  58.0 | 0.3636364 | 1 | miao     | SRR6504839 | 52 | ⋯ | -0.0142743 | 0.008448920 |  0.00377494 | -0.001881900 |  0.00172930 | -0.00303252 | -0.00641264 | -1.35799e-03 |  0.010186900 | 0 |\n",
       "| 3 | SRR2724351 | 0.4005379 | 1.589763 | 0.2141248 |    NA | 0.5000000 | 1 | vanallen | SRR2724351 | 61 | ⋯ | -0.0103183 | 0.005870190 |  0.00385378 |  0.001428540 | -0.00727709 |  0.00454425 | -0.00213939 |  3.76886e-03 | -0.009795290 | 0 |\n",
       "| 4 | SRR6511550 | 1.6735564 | 1.356144 | 1.4750849 |   9.0 | 0.4545455 | 2 | miao     | SRR6511550 | 59 | ⋯ | -0.0124123 | 0.004504520 | -0.00325456 |  0.001832370 |  0.00304893 | -0.00451186 |  0.00105441 | -5.88897e-03 | -0.008792160 | 1 |\n",
       "| 5 | SRR3083852 | 0.6229304 | 3.269033 | 2.4436067 | 339.0 | 0.5000000 | 2 | hugo     | SRR3083852 | 82 | ⋯ | -0.0133546 | 0.000326364 | -0.00125437 |  0.000724204 |  0.00191811 | -0.00434421 |  0.00199442 | -3.44412e-03 |  0.002580710 | 1 |\n",
       "| 6 | SRR5134900 | 1.7224660 | 2.972693 | 2.9855004 |  32.5 | 0.5000000 | 2 | riaz     | SRR5134900 | 61 | ⋯ | -0.0119105 | 0.004152100 | -0.00108714 |  0.000102251 |  0.00334026 | -0.00452027 | -0.00957989 |  3.85907e-03 | -0.000828938 | 1 |\n",
       "\n"
      ],
      "text/plain": [
       "  FID        PDCD1     CD274    CTLA4     TMB   burden    pheno study   \n",
       "1 SRR5134823 2.3757345 3.416840 2.4568061  45.0 0.5000000 2     riaz    \n",
       "2 SRR6504839 3.6892992 3.001802 3.2986583  58.0 0.3636364 1     miao    \n",
       "3 SRR2724351 0.4005379 1.589763 0.2141248    NA 0.5000000 1     vanallen\n",
       "4 SRR6511550 1.6735564 1.356144 1.4750849   9.0 0.4545455 2     miao    \n",
       "5 SRR3083852 0.6229304 3.269033 2.4436067 339.0 0.5000000 2     hugo    \n",
       "6 SRR5134900 1.7224660 2.972693 2.9855004  32.5 0.5000000 2     riaz    \n",
       "  IID        Age ⋯ C2         C3          C4          C5           C6         \n",
       "1 SRR5134823 52  ⋯ -0.0346098 0.016462700 -0.01086980  0.049784300 -0.02963000\n",
       "2 SRR6504839 52  ⋯ -0.0142743 0.008448920  0.00377494 -0.001881900  0.00172930\n",
       "3 SRR2724351 61  ⋯ -0.0103183 0.005870190  0.00385378  0.001428540 -0.00727709\n",
       "4 SRR6511550 59  ⋯ -0.0124123 0.004504520 -0.00325456  0.001832370  0.00304893\n",
       "5 SRR3083852 82  ⋯ -0.0133546 0.000326364 -0.00125437  0.000724204  0.00191811\n",
       "6 SRR5134900 61  ⋯ -0.0119105 0.004152100 -0.00108714  0.000102251  0.00334026\n",
       "  C7          C8          C9           C10          response\n",
       "1  0.00103440 -0.03465830 -1.65245e-05  0.045567500 1       \n",
       "2 -0.00303252 -0.00641264 -1.35799e-03  0.010186900 0       \n",
       "3  0.00454425 -0.00213939  3.76886e-03 -0.009795290 0       \n",
       "4 -0.00451186  0.00105441 -5.88897e-03 -0.008792160 1       \n",
       "5 -0.00434421  0.00199442 -3.44412e-03  0.002580710 1       \n",
       "6 -0.00452027 -0.00957989  3.85907e-03 -0.000828938 1       "
      ]
     },
     "metadata": {},
     "output_type": "display_data"
    }
   ],
   "source": [
    "head(df)"
   ]
  },
  {
   "cell_type": "code",
   "execution_count": 5,
   "id": "57d22f27-3f89-430e-935e-d689434f3341",
   "metadata": {
    "tags": []
   },
   "outputs": [
    {
     "name": "stdout",
     "output_type": "stream",
     "text": [
      "[1] \"riaz\"\n",
      " McFadden \n",
      "0.2378576 \n",
      "   McFadden \n",
      "0.005865639 \n",
      "  McFadden \n",
      "0.07960989 \n",
      " McFadden \n",
      "0.3638099 \n",
      "[1] \"miao\"\n",
      "  McFadden \n",
      "0.02479299 \n",
      " McFadden \n",
      "0.0177138 \n",
      "  McFadden \n",
      "0.08974435 \n",
      "  McFadden \n",
      "0.09252941 \n",
      "[1] \"vanallen\"\n",
      " McFadden \n",
      "0.1757838 \n",
      "  McFadden \n",
      "0.06211065 \n",
      " McFadden \n",
      "0.1815904 \n",
      " McFadden \n",
      "0.4807361 \n",
      "[1] \"hugo\"\n",
      " McFadden \n",
      "0.2543428 \n",
      "  McFadden \n",
      "0.06455895 \n",
      "  McFadden \n",
      "0.07323529 \n",
      " McFadden \n",
      "0.2247198 \n",
      "[1] \"rizvi\"\n",
      "  McFadden \n",
      "0.04966792 \n",
      "[1] \"ERROR\"\n",
      "[1] \"ERROR\"\n",
      "[1] \"ERROR\"\n",
      "[1] \"snyder\"\n",
      " McFadden \n",
      "0.2069816 \n",
      "[1] \"ERROR\"\n",
      "[1] \"ERROR\"\n",
      "[1] \"ERROR\"\n",
      "[1] \"cristescu_urothelial\"\n",
      "    McFadden \n",
      "5.400543e-05 \n",
      "[1] \"ERROR\"\n",
      "[1] \"ERROR\"\n",
      "[1] \"ERROR\"\n",
      "[1] \"cristescu_tnbc\"\n",
      "  McFadden \n",
      "0.08533651 \n",
      "[1] \"ERROR\"\n",
      "[1] \"ERROR\"\n",
      "[1] \"ERROR\"\n",
      "[1] \"cristescu_er_her_breast\"\n",
      "[1] \"cristescu_sclc\"\n",
      "[1] \"cristescu_colon_rectaladeno\"\n",
      "[1] \"cristescu_hnscc\"\n",
      "   McFadden \n",
      "0.003645155 \n",
      "[1] \"ERROR\"\n",
      "[1] \"ERROR\"\n",
      "[1] \"ERROR\"\n",
      "[1] \"cristescu_melanoma\"\n",
      "    McFadden \n",
      "3.448611e-06 \n",
      "[1] \"ERROR\"\n",
      "[1] \"ERROR\"\n",
      "[1] \"ERROR\"\n",
      "[1] \"liu\"\n",
      "  McFadden \n",
      "0.00539702 \n",
      "[1] \"ERROR\"\n",
      "[1] \"ERROR\"\n",
      "[1] \"ERROR\"\n"
     ]
    }
   ],
   "source": [
    "df_results = data.frame(study = character(), model = character(), r2=numeric())\n",
    "\n",
    "for (study in unique(df$study)){\n",
    "\n",
    "    print(study)\n",
    "    df_study=df[df$study==study,]\n",
    "    \n",
    "    if (nrow(df_study)>10){\n",
    "    df_study=merge(df_study[c(\"FID\",\"study\",\"response\")],scale(df_study[c(\"PDCD1\",\"CD274\",\"TMB\",\"CTLA4\",\"LASSO_burden\")],center=T), by.x=0,by.y=0)\n",
    "    \n",
    "    tryCatch({\n",
    "    #germline PRS alone\n",
    "    study_prs<-glm(response ~ LASSO_burden, data = df_study,family = \"binomial\")\n",
    "    print(PseudoR2(study_prs))\n",
    "    df_results=rbind(df_results,data.frame(study=study,model=\"germline PRS only\",r2=PseudoR2(study_prs,which=\"all\")))\n",
    "        }\n",
    "    )\n",
    "\n",
    "    tryCatch({\n",
    "    #TMB/PDL1/PD1 \n",
    "    study_prs<-glm(response ~ TMB, data = df_study,family = \"binomial\")\n",
    "    print(PseudoR2(study_prs))\n",
    "    df_results=rbind(df_results,data.frame(study=study,model=\"TMB\",r2=PseudoR2(study_prs,which=\"all\")))\n",
    "                }, error=function(e){print(\"ERROR\")})\n",
    "        \n",
    "    tryCatch({\n",
    "    #TMB/PDL1/PD1 \n",
    "    study_prs<-glm(response ~ TMB + PDCD1 + CD274 + CTLA4, data = df_study,family = \"binomial\")\n",
    "    print(PseudoR2(study_prs))\n",
    "    df_results=rbind(df_results,data.frame(study=study,model=\"TMB/PD1/PDL1/CTLA4\",r2=PseudoR2(study_prs,which=\"all\")))\n",
    "                }, error=function(e){print(\"ERROR\")})\n",
    "        \n",
    "    tryCatch({\n",
    "    #TMB/PDL1/PD1 + germline PRS\n",
    "    study_prs<-glm(response ~ TMB + PDCD1 + CD274 +CTLA4 + LASSO_burden, data = df_study,family = \"binomial\")\n",
    "    print(PseudoR2(study_prs))\n",
    "    df_results=rbind(df_results,data.frame(study=study,model=\"TMB/PD1/PDL1/CTLA4+germline\",r2=PseudoR2(study_prs,which=\"all\")))\n",
    "                }, error=function(e){print(\"ERROR\")})\n",
    "    \n",
    "}\n",
    "\n",
    "}"
   ]
  },
  {
   "cell_type": "code",
   "execution_count": 6,
   "id": "fcee768d-7e22-43c2-a6a1-9fa99191b538",
   "metadata": {},
   "outputs": [],
   "source": [
    "write.csv(df_results,\"/cellar/users/tsears/projects/germline-immune/data/r2.results.csv\")"
   ]
  },
  {
   "cell_type": "code",
   "execution_count": null,
   "id": "306631f6-14b7-41d6-a3a4-befaf6cb311d",
   "metadata": {},
   "outputs": [],
   "source": []
  }
 ],
 "metadata": {
  "kernelspec": {
   "display_name": "Python 3",
   "language": "python",
   "name": "python3"
  },
  "language_info": {
   "codemirror_mode": {
    "name": "ipython",
    "version": 3
   },
   "file_extension": ".py",
   "mimetype": "text/x-python",
   "name": "python",
   "nbconvert_exporter": "python",
   "pygments_lexer": "ipython3",
   "version": "3.7.12"
  }
 },
 "nbformat": 4,
 "nbformat_minor": 5
}
