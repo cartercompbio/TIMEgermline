{
 "cells": [
  {
   "cell_type": "code",
   "execution_count": 20,
   "id": "c0b4c684-0117-4d93-b5e5-956f6ec7645c",
   "metadata": {},
   "outputs": [],
   "source": [
    "import pandas as pd\n",
    "import os\n",
    "import numpy as np"
   ]
  },
  {
   "cell_type": "code",
   "execution_count": 21,
   "id": "2ba2f054-c727-404f-ada3-40494d8e9db7",
   "metadata": {},
   "outputs": [],
   "source": [
    "cov=pd.read_csv(\"/cellar/users/mpagadal/gcta/covs/tcga.eur.sex.covar\",header=None,sep=\"\\t\")"
   ]
  },
  {
   "cell_type": "code",
   "execution_count": 22,
   "id": "ba6664c3-600d-40db-9486-d97ec3d9ec0d",
   "metadata": {},
   "outputs": [],
   "source": [
    "brca=pd.read_csv(\"/cellar/users/mpagadal/projects/er-brca/data/TCGA_BRCA_subtypes.csv\")"
   ]
  },
  {
   "cell_type": "code",
   "execution_count": 23,
   "id": "ba82f4c7-77e5-4dbc-808e-60e75ee89b78",
   "metadata": {},
   "outputs": [
    {
     "data": {
      "text/html": [
       "<div>\n",
       "<style scoped>\n",
       "    .dataframe tbody tr th:only-of-type {\n",
       "        vertical-align: middle;\n",
       "    }\n",
       "\n",
       "    .dataframe tbody tr th {\n",
       "        vertical-align: top;\n",
       "    }\n",
       "\n",
       "    .dataframe thead th {\n",
       "        text-align: right;\n",
       "    }\n",
       "</style>\n",
       "<table border=\"1\" class=\"dataframe\">\n",
       "  <thead>\n",
       "    <tr style=\"text-align: right;\">\n",
       "      <th></th>\n",
       "      <th>Unnamed: 0</th>\n",
       "      <th>bcr_patient_barcode</th>\n",
       "      <th>breast_carcinoma_estrogen_receptor_status</th>\n",
       "      <th>breast_carcinoma_progesterone_receptor_status</th>\n",
       "      <th>lab_proc_her2_neu_immunohistochemistry_receptor_status</th>\n",
       "    </tr>\n",
       "  </thead>\n",
       "  <tbody>\n",
       "    <tr>\n",
       "      <th>0</th>\n",
       "      <td>1</td>\n",
       "      <td>TCGA-3C-AAAU</td>\n",
       "      <td>Positive</td>\n",
       "      <td>Positive</td>\n",
       "      <td>Negative</td>\n",
       "    </tr>\n",
       "    <tr>\n",
       "      <th>1</th>\n",
       "      <td>2</td>\n",
       "      <td>TCGA-3C-AALI</td>\n",
       "      <td>Positive</td>\n",
       "      <td>Positive</td>\n",
       "      <td>Positive</td>\n",
       "    </tr>\n",
       "    <tr>\n",
       "      <th>2</th>\n",
       "      <td>3</td>\n",
       "      <td>TCGA-3C-AALJ</td>\n",
       "      <td>Positive</td>\n",
       "      <td>Positive</td>\n",
       "      <td>Indeterminate</td>\n",
       "    </tr>\n",
       "    <tr>\n",
       "      <th>3</th>\n",
       "      <td>4</td>\n",
       "      <td>TCGA-3C-AALK</td>\n",
       "      <td>Positive</td>\n",
       "      <td>Positive</td>\n",
       "      <td>Positive</td>\n",
       "    </tr>\n",
       "    <tr>\n",
       "      <th>4</th>\n",
       "      <td>5</td>\n",
       "      <td>TCGA-4H-AAAK</td>\n",
       "      <td>Positive</td>\n",
       "      <td>Positive</td>\n",
       "      <td>Equivocal</td>\n",
       "    </tr>\n",
       "    <tr>\n",
       "      <th>...</th>\n",
       "      <td>...</td>\n",
       "      <td>...</td>\n",
       "      <td>...</td>\n",
       "      <td>...</td>\n",
       "      <td>...</td>\n",
       "    </tr>\n",
       "    <tr>\n",
       "      <th>1041</th>\n",
       "      <td>1093</td>\n",
       "      <td>TCGA-WT-AB44</td>\n",
       "      <td>Positive</td>\n",
       "      <td>Positive</td>\n",
       "      <td>Negative</td>\n",
       "    </tr>\n",
       "    <tr>\n",
       "      <th>1042</th>\n",
       "      <td>1094</td>\n",
       "      <td>TCGA-XX-A899</td>\n",
       "      <td>Positive</td>\n",
       "      <td>Positive</td>\n",
       "      <td>Negative</td>\n",
       "    </tr>\n",
       "    <tr>\n",
       "      <th>1043</th>\n",
       "      <td>1095</td>\n",
       "      <td>TCGA-XX-A89A</td>\n",
       "      <td>Positive</td>\n",
       "      <td>Positive</td>\n",
       "      <td>Negative</td>\n",
       "    </tr>\n",
       "    <tr>\n",
       "      <th>1044</th>\n",
       "      <td>1096</td>\n",
       "      <td>TCGA-Z7-A8R5</td>\n",
       "      <td>Positive</td>\n",
       "      <td>Positive</td>\n",
       "      <td>Negative</td>\n",
       "    </tr>\n",
       "    <tr>\n",
       "      <th>1045</th>\n",
       "      <td>1097</td>\n",
       "      <td>TCGA-Z7-A8R6</td>\n",
       "      <td>Positive</td>\n",
       "      <td>Positive</td>\n",
       "      <td>Negative</td>\n",
       "    </tr>\n",
       "  </tbody>\n",
       "</table>\n",
       "<p>1046 rows × 5 columns</p>\n",
       "</div>"
      ],
      "text/plain": [
       "      Unnamed: 0 bcr_patient_barcode  \\\n",
       "0              1        TCGA-3C-AAAU   \n",
       "1              2        TCGA-3C-AALI   \n",
       "2              3        TCGA-3C-AALJ   \n",
       "3              4        TCGA-3C-AALK   \n",
       "4              5        TCGA-4H-AAAK   \n",
       "...          ...                 ...   \n",
       "1041        1093        TCGA-WT-AB44   \n",
       "1042        1094        TCGA-XX-A899   \n",
       "1043        1095        TCGA-XX-A89A   \n",
       "1044        1096        TCGA-Z7-A8R5   \n",
       "1045        1097        TCGA-Z7-A8R6   \n",
       "\n",
       "     breast_carcinoma_estrogen_receptor_status  \\\n",
       "0                                     Positive   \n",
       "1                                     Positive   \n",
       "2                                     Positive   \n",
       "3                                     Positive   \n",
       "4                                     Positive   \n",
       "...                                        ...   \n",
       "1041                                  Positive   \n",
       "1042                                  Positive   \n",
       "1043                                  Positive   \n",
       "1044                                  Positive   \n",
       "1045                                  Positive   \n",
       "\n",
       "     breast_carcinoma_progesterone_receptor_status  \\\n",
       "0                                         Positive   \n",
       "1                                         Positive   \n",
       "2                                         Positive   \n",
       "3                                         Positive   \n",
       "4                                         Positive   \n",
       "...                                            ...   \n",
       "1041                                      Positive   \n",
       "1042                                      Positive   \n",
       "1043                                      Positive   \n",
       "1044                                      Positive   \n",
       "1045                                      Positive   \n",
       "\n",
       "     lab_proc_her2_neu_immunohistochemistry_receptor_status  \n",
       "0                                              Negative      \n",
       "1                                              Positive      \n",
       "2                                         Indeterminate      \n",
       "3                                              Positive      \n",
       "4                                             Equivocal      \n",
       "...                                                 ...      \n",
       "1041                                           Negative      \n",
       "1042                                           Negative      \n",
       "1043                                           Negative      \n",
       "1044                                           Negative      \n",
       "1045                                           Negative      \n",
       "\n",
       "[1046 rows x 5 columns]"
      ]
     },
     "execution_count": 23,
     "metadata": {},
     "output_type": "execute_result"
    }
   ],
   "source": [
    "brca"
   ]
  },
  {
   "cell_type": "code",
   "execution_count": 24,
   "id": "3543d24e-6fef-4f9f-9ac4-2b023e09ff51",
   "metadata": {},
   "outputs": [],
   "source": [
    "cov[\"ER\"]=np.where(cov[0].isin(brca[brca[\"breast_carcinoma_estrogen_receptor_status\"]==\"Positive\"][\"bcr_patient_barcode\"].tolist()),1,0)\n",
    "cov[\"PR\"]=np.where(cov[0].isin(brca[brca[\"breast_carcinoma_progesterone_receptor_status\"]==\"Positive\"][\"bcr_patient_barcode\"].tolist()),1,0)\n",
    "cov[\"HER2\"]=np.where(cov[0].isin(brca[brca[\"lab_proc_her2_neu_immunohistochemistry_receptor_status\"]==\"Positive\"][\"bcr_patient_barcode\"].tolist()),1,0)"
   ]
  },
  {
   "cell_type": "code",
   "execution_count": 27,
   "id": "8e8fa93c-3b27-4ac5-bfa7-55f054138212",
   "metadata": {},
   "outputs": [],
   "source": [
    "cov.to_csv(\"/cellar/users/mpagadal/gcta/covs/tcga.eur.brca.sex.receptor.covar\",index=None,header=None,sep=\"\\t\")"
   ]
  },
  {
   "cell_type": "markdown",
   "id": "ac2b42dc-a7e7-4b78-b4b6-4d7f7b5dd2ad",
   "metadata": {},
   "source": [
    "### Get HLA phenotypes"
   ]
  },
  {
   "cell_type": "code",
   "execution_count": 41,
   "id": "af6c1952-cc29-4c0a-9271-0874519bed22",
   "metadata": {},
   "outputs": [],
   "source": [
    "hla=pd.read_csv(\"/cellar/users/andreabc/Data/TCGA/hla_types/all_mhc_ii_types.csv\")"
   ]
  },
  {
   "cell_type": "code",
   "execution_count": 42,
   "id": "e371a123-5ae4-4d75-a615-7490aedb09b4",
   "metadata": {},
   "outputs": [],
   "source": [
    "drb1_15=hla[hla[\"DRB1_1\"].str.startswith(\"DRB1_15\")][\"Unnamed: 0\"].tolist()+hla[hla[\"DRB1_1.1\"].str.startswith(\"DRB1_15\")][\"Unnamed: 0\"].tolist()+hla[hla[\"DRB1_2\"].str.startswith(\"DRB1_15\")][\"Unnamed: 0\"].tolist()+hla[hla[\"DRB1_2.1\"].str.startswith(\"DRB1_15\")][\"Unnamed: 0\"].tolist()\n",
    "drb1_16=hla[hla[\"DRB1_1\"].str.startswith(\"DRB1_16\")][\"Unnamed: 0\"].tolist()+hla[hla[\"DRB1_1.1\"].str.startswith(\"DRB1_16\")][\"Unnamed: 0\"].tolist()+hla[hla[\"DRB1_2\"].str.startswith(\"DRB1_16\")][\"Unnamed: 0\"].tolist()+hla[hla[\"DRB1_2.1\"].str.startswith(\"DRB1_16\")][\"Unnamed: 0\"].tolist()"
   ]
  },
  {
   "cell_type": "code",
   "execution_count": 43,
   "id": "b032eb09-5e73-4c76-8a69-527c666ffef5",
   "metadata": {},
   "outputs": [],
   "source": [
    "pts=[x for x in set(drb1_15+drb1_16)]"
   ]
  },
  {
   "cell_type": "code",
   "execution_count": 46,
   "id": "a92918d3-7c25-436d-9625-ed073efdaf09",
   "metadata": {},
   "outputs": [],
   "source": [
    "keep=pd.DataFrame({\"pts\":pts,\"pts2\":pts})"
   ]
  },
  {
   "cell_type": "code",
   "execution_count": 48,
   "id": "6d03dc1e-faac-4820-9b94-44a71f94a079",
   "metadata": {},
   "outputs": [],
   "source": [
    "keep.to_csv(\"keep_hla_drb1_15_15.txt\",index=None,header=None,sep=\"\\t\")"
   ]
  },
  {
   "cell_type": "code",
   "execution_count": null,
   "id": "6659f357-3f14-4dd7-b0c0-2ddd69630a23",
   "metadata": {},
   "outputs": [],
   "source": []
  }
 ],
 "metadata": {
  "kernelspec": {
   "display_name": "Python 3",
   "language": "python",
   "name": "python3"
  },
  "language_info": {
   "codemirror_mode": {
    "name": "ipython",
    "version": 3
   },
   "file_extension": ".py",
   "mimetype": "text/x-python",
   "name": "python",
   "nbconvert_exporter": "python",
   "pygments_lexer": "ipython3",
   "version": "3.9.7"
  }
 },
 "nbformat": 4,
 "nbformat_minor": 5
}
