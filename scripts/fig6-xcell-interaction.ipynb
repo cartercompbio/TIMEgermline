{
 "cells": [
  {
   "cell_type": "code",
   "execution_count": 98,
   "metadata": {},
   "outputs": [],
   "source": [
    "import pandas as pd\n",
    "import os\n",
    "import statsmodels.stats.multitest as multi\n",
    "import numpy as np"
   ]
  },
  {
   "cell_type": "code",
   "execution_count": 99,
   "metadata": {},
   "outputs": [],
   "source": [
    "import matplotlib\n",
    "from matplotlib import pyplot as plt\n",
    "import seaborn as sns\n",
    "matplotlib.rcParams['pdf.fonttype'] = 42\n",
    "matplotlib.rcParams['ps.fonttype'] = 42"
   ]
  },
  {
   "cell_type": "code",
   "execution_count": 100,
   "metadata": {},
   "outputs": [],
   "source": [
    "from matplotlib_venn import venn2\n",
    "from matplotlib_venn import venn3\n",
    "from matplotlib.pyplot import cm"
   ]
  },
  {
   "cell_type": "markdown",
   "metadata": {},
   "source": [
    "## Get Interaction data"
   ]
  },
  {
   "cell_type": "code",
   "execution_count": 101,
   "metadata": {},
   "outputs": [],
   "source": [
    "def intersection(lst1, lst2): \n",
    "    return list(set(lst1) & set(lst2))"
   ]
  },
  {
   "cell_type": "code",
   "execution_count": 102,
   "metadata": {},
   "outputs": [],
   "source": [
    "def fdr(df,P):\n",
    "    probabilities = df[P].to_numpy()\n",
    "    report = multi.multipletests(probabilities,\n",
    "                alpha=0.05,\n",
    "                method=\"fdr_bh\" ,\n",
    "                is_sorted=False,\n",
    "            )\n",
    "    discoveries = report[1]\n",
    "    \n",
    "    return(discoveries)"
   ]
  },
  {
   "cell_type": "markdown",
   "metadata": {},
   "source": [
    "## get association file"
   ]
  },
  {
   "cell_type": "code",
   "execution_count": 103,
   "metadata": {},
   "outputs": [],
   "source": [
    "assoc=pd.read_csv(\"/cellar/users/mpagadal/projects/germline-immune/data/supplemental/Supplemental_Table_3.csv\",delimiter=\"\\t\")\n",
    "assoc[\"assoc\"]=assoc[\"snps\"]+\"_\"+assoc[\"file\"]\n",
    "assoc[\"snp_assoc\"]=assoc[\"proxy_snp\"]+\"_\"+assoc[\"file\"]"
   ]
  },
  {
   "cell_type": "markdown",
   "metadata": {
    "jp-MarkdownHeadingCollapsed": true,
    "tags": []
   },
   "source": [
    "### run xcell-ieqt.sh"
   ]
  },
  {
   "cell_type": "markdown",
   "metadata": {
    "tags": []
   },
   "source": [
    "### run compiled-xcell-ieqtl.sh"
   ]
  },
  {
   "cell_type": "code",
   "execution_count": 242,
   "metadata": {},
   "outputs": [
    {
     "name": "stderr",
     "output_type": "stream",
     "text": [
      "/cm/shared/apps/jupyter/12.3.0/lib/python3.7/site-packages/ipykernel_launcher.py:4: FutureWarning: The default value of regex will change from True to False in a future version. In addition, single character regular expressions will *not* be treated as literal strings when regex=True.\n",
      "  after removing the cwd from sys.path.\n",
      "/cm/shared/apps/jupyter/12.3.0/lib/python3.7/site-packages/ipykernel_launcher.py:4: SettingWithCopyWarning: \n",
      "A value is trying to be set on a copy of a slice from a DataFrame.\n",
      "Try using .loc[row_indexer,col_indexer] = value instead\n",
      "\n",
      "See the caveats in the documentation: https://pandas.pydata.org/pandas-docs/stable/user_guide/indexing.html#returning-a-view-versus-a-copy\n",
      "  after removing the cwd from sys.path.\n"
     ]
    }
   ],
   "source": [
    "age=pd.read_csv(\"/cellar/users/mpagadal/projects/germline-immune/data/x-cell-interaction/results/xcell.age.csv\")\n",
    "age_filt=age[[\"pheno\",\"ID\",\"P\"]]\n",
    "age_filt.columns=[\"file\",\"snps\",\"ADDxage\"]\n",
    "age_filt[\"file\"]=age_filt[\"file\"].str.replace(\".\",\"-\")\n",
    "age_filt=pd.merge(assoc,age_filt,on=[\"file\",\"snps\"],how=\"left\")\n",
    "age_filt=age_filt[~age_filt[\"ADDxage\"].isnull()]\n",
    "age_filt[\"fdr age\"]=fdr(age_filt,\"ADDxage\")"
   ]
  },
  {
   "cell_type": "code",
   "execution_count": 243,
   "metadata": {},
   "outputs": [],
   "source": [
    "age_interact_sig=age_filt[age_filt[\"fdr age\"]<.1]"
   ]
  },
  {
   "cell_type": "code",
   "execution_count": 244,
   "metadata": {},
   "outputs": [
    {
     "name": "stderr",
     "output_type": "stream",
     "text": [
      "/cm/shared/apps/jupyter/12.3.0/lib/python3.7/site-packages/ipykernel_launcher.py:4: FutureWarning: The default value of regex will change from True to False in a future version. In addition, single character regular expressions will *not* be treated as literal strings when regex=True.\n",
      "  after removing the cwd from sys.path.\n",
      "/cm/shared/apps/jupyter/12.3.0/lib/python3.7/site-packages/ipykernel_launcher.py:4: SettingWithCopyWarning: \n",
      "A value is trying to be set on a copy of a slice from a DataFrame.\n",
      "Try using .loc[row_indexer,col_indexer] = value instead\n",
      "\n",
      "See the caveats in the documentation: https://pandas.pydata.org/pandas-docs/stable/user_guide/indexing.html#returning-a-view-versus-a-copy\n",
      "  after removing the cwd from sys.path.\n"
     ]
    }
   ],
   "source": [
    "sex=pd.read_csv(\"/cellar/users/mpagadal/projects/germline-immune/data/x-cell-interaction/results/xcell.sex.csv\",delimiter=\"\\t\")\n",
    "sex_filt=age[[\"pheno\",\"ID\",\"P\"]]\n",
    "sex_filt.columns=[\"file\",\"snps\",\"ADDxsex\"]\n",
    "sex_filt[\"file\"]=sex_filt[\"file\"].str.replace(\".\",\"-\")\n",
    "sex_filt=pd.merge(assoc,sex_filt,on=[\"file\",\"snps\"],how=\"left\")\n",
    "sex_filt=sex_filt[~sex_filt[\"ADDxsex\"].isnull()]\n",
    "sex_filt[\"fdr sex\"]=fdr(sex_filt,\"ADDxsex\")"
   ]
  },
  {
   "cell_type": "code",
   "execution_count": 245,
   "metadata": {},
   "outputs": [],
   "source": [
    "sex_interact_sig=sex_filt[sex_filt[\"fdr sex\"]<.1]"
   ]
  },
  {
   "cell_type": "code",
   "execution_count": 246,
   "metadata": {},
   "outputs": [
    {
     "data": {
      "text/html": [
       "<div>\n",
       "<style scoped>\n",
       "    .dataframe tbody tr th:only-of-type {\n",
       "        vertical-align: middle;\n",
       "    }\n",
       "\n",
       "    .dataframe tbody tr th {\n",
       "        vertical-align: top;\n",
       "    }\n",
       "\n",
       "    .dataframe thead th {\n",
       "        text-align: right;\n",
       "    }\n",
       "</style>\n",
       "<table border=\"1\" class=\"dataframe\">\n",
       "  <thead>\n",
       "    <tr style=\"text-align: right;\">\n",
       "      <th></th>\n",
       "      <th>A1</th>\n",
       "      <th>beta</th>\n",
       "      <th>file</th>\n",
       "      <th>maf</th>\n",
       "      <th>p-value</th>\n",
       "      <th>rsid</th>\n",
       "      <th>snps</th>\n",
       "      <th>source</th>\n",
       "      <th>type</th>\n",
       "      <th>snp_noallele</th>\n",
       "      <th>found</th>\n",
       "      <th>proxy_snp</th>\n",
       "      <th>proxy_variant</th>\n",
       "      <th>chr</th>\n",
       "      <th>cis tss</th>\n",
       "      <th>assoc</th>\n",
       "      <th>snp_assoc</th>\n",
       "      <th>ADDxage</th>\n",
       "      <th>fdr age</th>\n",
       "    </tr>\n",
       "  </thead>\n",
       "  <tbody>\n",
       "  </tbody>\n",
       "</table>\n",
       "</div>"
      ],
      "text/plain": [
       "Empty DataFrame\n",
       "Columns: [A1, beta, file, maf, p-value, rsid, snps, source, type, snp_noallele, found, proxy_snp, proxy_variant, chr, cis tss, assoc, snp_assoc, ADDxage, fdr age]\n",
       "Index: []"
      ]
     },
     "execution_count": 246,
     "metadata": {},
     "output_type": "execute_result"
    }
   ],
   "source": [
    "age_interact_sig"
   ]
  },
  {
   "cell_type": "code",
   "execution_count": 247,
   "metadata": {},
   "outputs": [
    {
     "data": {
      "text/html": [
       "<div>\n",
       "<style scoped>\n",
       "    .dataframe tbody tr th:only-of-type {\n",
       "        vertical-align: middle;\n",
       "    }\n",
       "\n",
       "    .dataframe tbody tr th {\n",
       "        vertical-align: top;\n",
       "    }\n",
       "\n",
       "    .dataframe thead th {\n",
       "        text-align: right;\n",
       "    }\n",
       "</style>\n",
       "<table border=\"1\" class=\"dataframe\">\n",
       "  <thead>\n",
       "    <tr style=\"text-align: right;\">\n",
       "      <th></th>\n",
       "      <th>A1</th>\n",
       "      <th>beta</th>\n",
       "      <th>file</th>\n",
       "      <th>maf</th>\n",
       "      <th>p-value</th>\n",
       "      <th>rsid</th>\n",
       "      <th>snps</th>\n",
       "      <th>source</th>\n",
       "      <th>type</th>\n",
       "      <th>snp_noallele</th>\n",
       "      <th>found</th>\n",
       "      <th>proxy_snp</th>\n",
       "      <th>proxy_variant</th>\n",
       "      <th>chr</th>\n",
       "      <th>cis tss</th>\n",
       "      <th>assoc</th>\n",
       "      <th>snp_assoc</th>\n",
       "      <th>ADDxsex</th>\n",
       "      <th>fdr sex</th>\n",
       "    </tr>\n",
       "  </thead>\n",
       "  <tbody>\n",
       "  </tbody>\n",
       "</table>\n",
       "</div>"
      ],
      "text/plain": [
       "Empty DataFrame\n",
       "Columns: [A1, beta, file, maf, p-value, rsid, snps, source, type, snp_noallele, found, proxy_snp, proxy_variant, chr, cis tss, assoc, snp_assoc, ADDxsex, fdr sex]\n",
       "Index: []"
      ]
     },
     "execution_count": 247,
     "metadata": {},
     "output_type": "execute_result"
    }
   ],
   "source": [
    "sex_interact_sig"
   ]
  },
  {
   "cell_type": "markdown",
   "metadata": {},
   "source": [
    "## Cell interaction"
   ]
  },
  {
   "cell_type": "code",
   "execution_count": 105,
   "metadata": {
    "tags": []
   },
   "outputs": [
    {
     "name": "stderr",
     "output_type": "stream",
     "text": [
      "/cm/shared/apps/jupyter/12.3.0/lib/python3.7/site-packages/ipykernel_launcher.py:2: FutureWarning: The default value of regex will change from True to False in a future version. In addition, single character regular expressions will *not* be treated as literal strings when regex=True.\n",
      "  \n",
      "/cm/shared/apps/jupyter/12.3.0/lib/python3.7/site-packages/ipykernel_launcher.py:15: SettingWithCopyWarning: \n",
      "A value is trying to be set on a copy of a slice from a DataFrame.\n",
      "Try using .loc[row_indexer,col_indexer] = value instead\n",
      "\n",
      "See the caveats in the documentation: https://pandas.pydata.org/pandas-docs/stable/user_guide/indexing.html#returning-a-view-versus-a-copy\n",
      "  from ipykernel import kernelapp as app\n"
     ]
    }
   ],
   "source": [
    "cell=pd.read_csv(\"/cellar/users/tsears/projects/germline-immune/xcell_V2/xcell.cell.csv\",delimiter=\",\")\n",
    "cell[\"pheno\"]=cell[\"pheno\"].str.replace(\".\",\"-\")\n",
    "cell[\"assoc\"]=cell[\"ID\"]+\"_\"+cell[\"pheno\"]\n",
    "cell_interact=cell.pivot_table(index=\"assoc\",columns=\"TEST\",values=\"P\")\n",
    "cell_interact=cell_interact.reset_index()\n",
    "df_cell_interact=pd.merge(assoc,cell_interact,on=\"assoc\",how=\"left\")\n",
    "cols=[x for x in df_cell_interact.columns if \"ADD\" in x]\n",
    "    \n",
    "cell_filt=pd.DataFrame()\n",
    "\n",
    "for x in cols:\n",
    "    df_cell_interact=df_cell_interact[~df_cell_interact[x].isnull()]\n",
    "    df_cell_interact[\"fdr \"+x]=fdr(df_cell_interact,x)\n",
    "    df_cell=df_cell_interact[[\"assoc\",x,\"fdr \"+x]]\n",
    "    df_cell[\"cell\"]=x\n",
    "    df_cell.columns=[\"assoc\",\"coef\",\"fdr\",\"cell\"]\n",
    "    cell_filt=cell_filt.append(df_cell)"
   ]
  },
  {
   "cell_type": "code",
   "execution_count": 106,
   "metadata": {},
   "outputs": [],
   "source": [
    "#df_cell_interact.to_csv(\"../data/supplemental/Supplemental_Table_10.csv\",index=None)"
   ]
  },
  {
   "cell_type": "code",
   "execution_count": 107,
   "metadata": {},
   "outputs": [
    {
     "name": "stderr",
     "output_type": "stream",
     "text": [
      "/cm/shared/apps/jupyter/12.3.0/lib/python3.7/site-packages/ipykernel_launcher.py:2: SettingWithCopyWarning: \n",
      "A value is trying to be set on a copy of a slice from a DataFrame.\n",
      "Try using .loc[row_indexer,col_indexer] = value instead\n",
      "\n",
      "See the caveats in the documentation: https://pandas.pydata.org/pandas-docs/stable/user_guide/indexing.html#returning-a-view-versus-a-copy\n",
      "  \n",
      "/cm/shared/apps/jupyter/12.3.0/lib/python3.7/site-packages/ipykernel_launcher.py:3: SettingWithCopyWarning: \n",
      "A value is trying to be set on a copy of a slice from a DataFrame.\n",
      "Try using .loc[row_indexer,col_indexer] = value instead\n",
      "\n",
      "See the caveats in the documentation: https://pandas.pydata.org/pandas-docs/stable/user_guide/indexing.html#returning-a-view-versus-a-copy\n",
      "  This is separate from the ipykernel package so we can avoid doing imports until\n",
      "/cm/shared/apps/jupyter/12.3.0/lib/python3.7/site-packages/ipykernel_launcher.py:4: SettingWithCopyWarning: \n",
      "A value is trying to be set on a copy of a slice from a DataFrame.\n",
      "Try using .loc[row_indexer,col_indexer] = value instead\n",
      "\n",
      "See the caveats in the documentation: https://pandas.pydata.org/pandas-docs/stable/user_guide/indexing.html#returning-a-view-versus-a-copy\n",
      "  after removing the cwd from sys.path.\n"
     ]
    }
   ],
   "source": [
    "cell_interact_sig=cell_filt[cell_filt[\"fdr\"]<.05]\n",
    "cell_interact_sig[\"snps\"]=cell_interact_sig[\"assoc\"].str.split(\"_\").str[0]\n",
    "cell_interact_sig[\"cell\"]=cell_interact_sig[\"cell\"].str.split(\"x\").str[1]\n",
    "cell_interact_sig[\"pheno\"]=cell_interact_sig[\"assoc\"].str.split(\"_\").str[1]"
   ]
  },
  {
   "cell_type": "code",
   "execution_count": 108,
   "metadata": {},
   "outputs": [
    {
     "data": {
      "text/plain": [
       "'32 associations have cell interactions'"
      ]
     },
     "execution_count": 108,
     "metadata": {},
     "output_type": "execute_result"
    }
   ],
   "source": [
    "\"{} associations have cell interactions\".format(len(cell_interact_sig[\"assoc\"].unique()))"
   ]
  },
  {
   "cell_type": "code",
   "execution_count": 109,
   "metadata": {},
   "outputs": [
    {
     "name": "stderr",
     "output_type": "stream",
     "text": [
      "/cellar/users/tsears/miniconda3/envs/ML/lib/python3.7/site-packages/openpyxl/worksheet/_reader.py:312: UserWarning: Unknown extension is not supported and will be removed\n",
      "  warn(msg)\n",
      "/cm/shared/apps/jupyter/12.3.0/lib/python3.7/site-packages/ipykernel_launcher.py:5: FutureWarning: The default value of regex will change from True to False in a future version. In addition, single character regular expressions will *not* be treated as literal strings when regex=True.\n",
      "  \"\"\"\n",
      "/cm/shared/apps/jupyter/12.3.0/lib/python3.7/site-packages/ipykernel_launcher.py:13: SettingWithCopyWarning: \n",
      "A value is trying to be set on a copy of a slice from a DataFrame.\n",
      "Try using .loc[row_indexer,col_indexer] = value instead\n",
      "\n",
      "See the caveats in the documentation: https://pandas.pydata.org/pandas-docs/stable/user_guide/indexing.html#returning-a-view-versus-a-copy\n",
      "  del sys.path[0]\n",
      "/cm/shared/apps/jupyter/12.3.0/lib/python3.7/site-packages/ipykernel_launcher.py:14: SettingWithCopyWarning: \n",
      "A value is trying to be set on a copy of a slice from a DataFrame.\n",
      "Try using .loc[row_indexer,col_indexer] = value instead\n",
      "\n",
      "See the caveats in the documentation: https://pandas.pydata.org/pandas-docs/stable/user_guide/indexing.html#returning-a-view-versus-a-copy\n",
      "  \n"
     ]
    }
   ],
   "source": [
    "xcell_annot=pd.read_excel(\"/cellar/users/mpagadal/projects/ARCHIVE/germline-immune2/data/xcell/13059_2017_1349_MOESM1_ESM.xlsx\")\n",
    "\n",
    "\n",
    "xcell_annot[\"Cell types\"]=xcell_annot[\"Cell types\"].str.replace(\" \",\".\")\n",
    "xcell_annot[\"Cell types\"]=xcell_annot[\"Cell types\"].str.replace(\"+\",\".\")\n",
    "xcell_annot[\"Cell types\"]=xcell_annot[\"Cell types\"].str.replace(\"-\",\".\")\n",
    "xcell_annot[\"Cell types\"]=xcell_annot[\"Cell types\"].replace({\"Smooth.muscle.cells\":\"Smooth.muscle\",\"Smooth.muscle.cells\":\"Smooth.muscle\",\"Skeletal.muscle.cells\":\"Skeletal.muscle\"})\n",
    "xcell_annot[\"Full name\"]=xcell_annot[\"Full name\"].replace({\"Macrophages M2\":\"Macrophages\",\"Macrophages M1\":\"Macrophages\",\"Activated dendritic cells\":\"Dendritic cells\",\"Plasmacytoid dendritic cells\":\"Dendritic cells\",\"Immature dendritic cells\":\"Dendritic cells\",\"Xonventional dendritic cells\":\"Dendritic cells\",\"CD8+ central memory T-cells\":\"CD8+ T cells\",\"CD4+ memory T-cells\":\"CD4+ T cells\",\"CD4+ effector memory T-cells\":\"CD4+ T cells\"})\n",
    "\n",
    "mp_name=dict(zip(xcell_annot[\"Cell types\"],xcell_annot[\"Full name\"]))\n",
    "mp_annot=dict(zip(xcell_annot[\"Full name\"],xcell_annot[\"Subgroup\"])) \n",
    "\n",
    "cell_interact_sig[\"name\"]=cell_interact_sig[\"cell\"].map(mp_name)\n",
    "cell_interact_sig[\"group\"]=cell_interact_sig[\"name\"].map(mp_annot)"
   ]
  },
  {
   "cell_type": "code",
   "execution_count": 110,
   "metadata": {
    "tags": []
   },
   "outputs": [],
   "source": [
    "mp_assoc=dict(zip(assoc[\"assoc\"],assoc[\"snp_assoc\"]))\n"
   ]
  },
  {
   "cell_type": "code",
   "execution_count": 111,
   "metadata": {},
   "outputs": [
    {
     "name": "stderr",
     "output_type": "stream",
     "text": [
      "/cm/shared/apps/jupyter/12.3.0/lib/python3.7/site-packages/ipykernel_launcher.py:1: SettingWithCopyWarning: \n",
      "A value is trying to be set on a copy of a slice from a DataFrame.\n",
      "Try using .loc[row_indexer,col_indexer] = value instead\n",
      "\n",
      "See the caveats in the documentation: https://pandas.pydata.org/pandas-docs/stable/user_guide/indexing.html#returning-a-view-versus-a-copy\n",
      "  \"\"\"Entry point for launching an IPython kernel.\n"
     ]
    },
    {
     "data": {
      "text/html": [
       "<div>\n",
       "<style scoped>\n",
       "    .dataframe tbody tr th:only-of-type {\n",
       "        vertical-align: middle;\n",
       "    }\n",
       "\n",
       "    .dataframe tbody tr th {\n",
       "        vertical-align: top;\n",
       "    }\n",
       "\n",
       "    .dataframe thead th {\n",
       "        text-align: right;\n",
       "    }\n",
       "</style>\n",
       "<table border=\"1\" class=\"dataframe\">\n",
       "  <thead>\n",
       "    <tr style=\"text-align: right;\">\n",
       "      <th></th>\n",
       "      <th>assoc</th>\n",
       "      <th>coef</th>\n",
       "      <th>fdr</th>\n",
       "      <th>cell</th>\n",
       "      <th>snps</th>\n",
       "      <th>pheno</th>\n",
       "      <th>name</th>\n",
       "      <th>group</th>\n",
       "    </tr>\n",
       "  </thead>\n",
       "  <tbody>\n",
       "    <tr>\n",
       "      <th>861</th>\n",
       "      <td>rs9272546_HLA-DQA2</td>\n",
       "      <td>0.000016</td>\n",
       "      <td>0.007393</td>\n",
       "      <td>B.cells</td>\n",
       "      <td>6:32606941:C:T</td>\n",
       "      <td>HLA-DQA2</td>\n",
       "      <td>B-cells</td>\n",
       "      <td>Lymphoid</td>\n",
       "    </tr>\n",
       "    <tr>\n",
       "      <th>442</th>\n",
       "      <td>rs2927610_ERAP2</td>\n",
       "      <td>0.000106</td>\n",
       "      <td>0.026566</td>\n",
       "      <td>CD4..memory.T.cells</td>\n",
       "      <td>5:96200770:T:A</td>\n",
       "      <td>ERAP2</td>\n",
       "      <td>CD4+ T cells</td>\n",
       "      <td>Lymphoid</td>\n",
       "    </tr>\n",
       "    <tr>\n",
       "      <th>444</th>\n",
       "      <td>rs2549781_ERAP2</td>\n",
       "      <td>0.000115</td>\n",
       "      <td>0.026566</td>\n",
       "      <td>CD4..memory.T.cells</td>\n",
       "      <td>5:96230122:T:G</td>\n",
       "      <td>ERAP2</td>\n",
       "      <td>CD4+ T cells</td>\n",
       "      <td>Lymphoid</td>\n",
       "    </tr>\n",
       "    <tr>\n",
       "      <th>863</th>\n",
       "      <td>rs3134996_HLA-DQA2</td>\n",
       "      <td>0.000248</td>\n",
       "      <td>0.038166</td>\n",
       "      <td>CD4..memory.T.cells</td>\n",
       "      <td>6:32636866:T:A</td>\n",
       "      <td>HLA-DQA2</td>\n",
       "      <td>CD4+ T cells</td>\n",
       "      <td>Lymphoid</td>\n",
       "    </tr>\n",
       "    <tr>\n",
       "      <th>165</th>\n",
       "      <td>rs28040_ERAP1</td>\n",
       "      <td>0.000693</td>\n",
       "      <td>0.045627</td>\n",
       "      <td>CD8..Tcm</td>\n",
       "      <td>5:96018066:C:G</td>\n",
       "      <td>ERAP1</td>\n",
       "      <td>CD8+ T cells</td>\n",
       "      <td>Lymphoid</td>\n",
       "    </tr>\n",
       "  </tbody>\n",
       "</table>\n",
       "</div>"
      ],
      "text/plain": [
       "                  assoc      coef       fdr                 cell  \\\n",
       "861  rs9272546_HLA-DQA2  0.000016  0.007393              B.cells   \n",
       "442     rs2927610_ERAP2  0.000106  0.026566  CD4..memory.T.cells   \n",
       "444     rs2549781_ERAP2  0.000115  0.026566  CD4..memory.T.cells   \n",
       "863  rs3134996_HLA-DQA2  0.000248  0.038166  CD4..memory.T.cells   \n",
       "165       rs28040_ERAP1  0.000693  0.045627             CD8..Tcm   \n",
       "\n",
       "               snps     pheno          name     group  \n",
       "861  6:32606941:C:T  HLA-DQA2       B-cells  Lymphoid  \n",
       "442  5:96200770:T:A     ERAP2  CD4+ T cells  Lymphoid  \n",
       "444  5:96230122:T:G     ERAP2  CD4+ T cells  Lymphoid  \n",
       "863  6:32636866:T:A  HLA-DQA2  CD4+ T cells  Lymphoid  \n",
       "165  5:96018066:C:G     ERAP1  CD8+ T cells  Lymphoid  "
      ]
     },
     "execution_count": 111,
     "metadata": {},
     "output_type": "execute_result"
    }
   ],
   "source": [
    "cell_interact_sig[\"assoc\"]=cell_interact_sig[\"assoc\"].map(mp_assoc)\n",
    "cell_interact_sig.head()"
   ]
  },
  {
   "cell_type": "markdown",
   "metadata": {},
   "source": [
    "## DICE interaction"
   ]
  },
  {
   "cell_type": "code",
   "execution_count": 112,
   "metadata": {},
   "outputs": [
    {
     "name": "stdout",
     "output_type": "stream",
     "text": [
      "TREG_NAIVE.snps.txt\n",
      "CD4_NAIVE.snps.txt\n",
      "CD8_STIM.snps.txt\n",
      "TFH.snps.txt\n",
      "CD4_STIM.snps.txt\n",
      "MONOCYTES.snps.txt\n",
      "M2.snps.txt\n",
      "TREG_MEM.snps.txt\n",
      "B_CELL_NAIVE.snps.txt\n",
      "NK.snps.txt\n",
      "TH1.snps.txt\n",
      "CD8_NAIVE.snps.txt\n",
      "TH2.snps.txt\n",
      "THSTAR.snps.txt\n",
      "TH17.snps.txt\n"
     ]
    }
   ],
   "source": [
    "dice_dir=\"/cellar/users/tsears/projects/germline-immune/DICE_V2/\"\n",
    "dice_df=pd.DataFrame()\n",
    "\n",
    "for x in os.listdir(dice_dir):\n",
    "    print(x)\n",
    "    dice=pd.read_csv(dice_dir+x,delimiter=\"\\t\",header=None)\n",
    "    dice[\"cell\"]=x.split(\".\")[0]\n",
    "    dice_df=dice_df.append(dice)\n",
    "dice_df[\"Gene\"]=dice_df[7].str.split(\"GeneSymbol=\").str[1]\n",
    "dice_df[\"Gene\"]=dice_df[\"Gene\"].str.split(\";\").str[0]\n",
    "dice_df[\"assoc\"]=dice_df[2]+\"_\"+dice_df[\"Gene\"]"
   ]
  },
  {
   "cell_type": "code",
   "execution_count": 113,
   "metadata": {},
   "outputs": [],
   "source": [
    "dice_df=dice_df[dice_df[\"assoc\"].isin(assoc[\"snp_assoc\"].tolist())]"
   ]
  },
  {
   "cell_type": "code",
   "execution_count": 114,
   "metadata": {},
   "outputs": [],
   "source": [
    "dice_df.to_csv(\"/cellar/users/tsears/projects/germline-immune/data/fig3/dice.eqtls.csv\")"
   ]
  },
  {
   "cell_type": "code",
   "execution_count": 115,
   "metadata": {},
   "outputs": [
    {
     "data": {
      "text/html": [
       "<div>\n",
       "<style scoped>\n",
       "    .dataframe tbody tr th:only-of-type {\n",
       "        vertical-align: middle;\n",
       "    }\n",
       "\n",
       "    .dataframe tbody tr th {\n",
       "        vertical-align: top;\n",
       "    }\n",
       "\n",
       "    .dataframe thead th {\n",
       "        text-align: right;\n",
       "    }\n",
       "</style>\n",
       "<table border=\"1\" class=\"dataframe\">\n",
       "  <thead>\n",
       "    <tr style=\"text-align: right;\">\n",
       "      <th></th>\n",
       "      <th>0</th>\n",
       "      <th>1</th>\n",
       "      <th>2</th>\n",
       "      <th>3</th>\n",
       "      <th>4</th>\n",
       "      <th>5</th>\n",
       "      <th>6</th>\n",
       "      <th>7</th>\n",
       "      <th>cell</th>\n",
       "      <th>Gene</th>\n",
       "      <th>assoc</th>\n",
       "    </tr>\n",
       "  </thead>\n",
       "  <tbody>\n",
       "    <tr>\n",
       "      <th>9</th>\n",
       "      <td>chr10</td>\n",
       "      <td>97340536</td>\n",
       "      <td>rs7899286</td>\n",
       "      <td>G</td>\n",
       "      <td>A</td>\n",
       "      <td>.</td>\n",
       "      <td>PASS</td>\n",
       "      <td>Gene=ENSG00000138185;GeneSymbol=ENTPD1;Pvalue=...</td>\n",
       "      <td>CD4+ T cells</td>\n",
       "      <td>ENTPD1</td>\n",
       "      <td>rs7899286_ENTPD1</td>\n",
       "    </tr>\n",
       "    <tr>\n",
       "      <th>12</th>\n",
       "      <td>chr10</td>\n",
       "      <td>97447487</td>\n",
       "      <td>rs11188434</td>\n",
       "      <td>T</td>\n",
       "      <td>A</td>\n",
       "      <td>.</td>\n",
       "      <td>PASS</td>\n",
       "      <td>Gene=ENSG00000138185;GeneSymbol=ENTPD1;Pvalue=...</td>\n",
       "      <td>CD4+ T cells</td>\n",
       "      <td>ENTPD1</td>\n",
       "      <td>rs11188434_ENTPD1</td>\n",
       "    </tr>\n",
       "    <tr>\n",
       "      <th>13</th>\n",
       "      <td>chr10</td>\n",
       "      <td>97468589</td>\n",
       "      <td>rs10882654</td>\n",
       "      <td>G</td>\n",
       "      <td>T</td>\n",
       "      <td>.</td>\n",
       "      <td>PASS</td>\n",
       "      <td>Gene=ENSG00000138185;GeneSymbol=ENTPD1;Pvalue=...</td>\n",
       "      <td>CD4+ T cells</td>\n",
       "      <td>ENTPD1</td>\n",
       "      <td>rs10882654_ENTPD1</td>\n",
       "    </tr>\n",
       "    <tr>\n",
       "      <th>19</th>\n",
       "      <td>chr13</td>\n",
       "      <td>31341277</td>\n",
       "      <td>rs4466940</td>\n",
       "      <td>C</td>\n",
       "      <td>T</td>\n",
       "      <td>.</td>\n",
       "      <td>PASS</td>\n",
       "      <td>Gene=ENSG00000132965;GeneSymbol=ALOX5AP;Pvalue...</td>\n",
       "      <td>CD4+ T cells</td>\n",
       "      <td>ALOX5AP</td>\n",
       "      <td>rs4466940_ALOX5AP</td>\n",
       "    </tr>\n",
       "    <tr>\n",
       "      <th>20</th>\n",
       "      <td>chr16</td>\n",
       "      <td>23621132</td>\n",
       "      <td>rs546055</td>\n",
       "      <td>T</td>\n",
       "      <td>C</td>\n",
       "      <td>.</td>\n",
       "      <td>PASS</td>\n",
       "      <td>Gene=ENSG00000166847;GeneSymbol=DCTN5;Pvalue=6...</td>\n",
       "      <td>CD4+ T cells</td>\n",
       "      <td>DCTN5</td>\n",
       "      <td>rs546055_DCTN5</td>\n",
       "    </tr>\n",
       "    <tr>\n",
       "      <th>...</th>\n",
       "      <td>...</td>\n",
       "      <td>...</td>\n",
       "      <td>...</td>\n",
       "      <td>...</td>\n",
       "      <td>...</td>\n",
       "      <td>...</td>\n",
       "      <td>...</td>\n",
       "      <td>...</td>\n",
       "      <td>...</td>\n",
       "      <td>...</td>\n",
       "      <td>...</td>\n",
       "    </tr>\n",
       "    <tr>\n",
       "      <th>112</th>\n",
       "      <td>chr6</td>\n",
       "      <td>32581973</td>\n",
       "      <td>rs521539</td>\n",
       "      <td>G</td>\n",
       "      <td>A</td>\n",
       "      <td>.</td>\n",
       "      <td>PASS</td>\n",
       "      <td>Gene=ENSG00000237541;GeneSymbol=HLA-DQA2;Pvalu...</td>\n",
       "      <td>CD4+ T cells</td>\n",
       "      <td>HLA-DQA2</td>\n",
       "      <td>rs521539_HLA-DQA2</td>\n",
       "    </tr>\n",
       "    <tr>\n",
       "      <th>124</th>\n",
       "      <td>chr6</td>\n",
       "      <td>32606941</td>\n",
       "      <td>rs9272546</td>\n",
       "      <td>T</td>\n",
       "      <td>C</td>\n",
       "      <td>.</td>\n",
       "      <td>PASS</td>\n",
       "      <td>Gene=ENSG00000237541;GeneSymbol=HLA-DQA2;Pvalu...</td>\n",
       "      <td>CD4+ T cells</td>\n",
       "      <td>HLA-DQA2</td>\n",
       "      <td>rs9272546_HLA-DQA2</td>\n",
       "    </tr>\n",
       "    <tr>\n",
       "      <th>135</th>\n",
       "      <td>chr6</td>\n",
       "      <td>32620572</td>\n",
       "      <td>rs17612852</td>\n",
       "      <td>G</td>\n",
       "      <td>A</td>\n",
       "      <td>.</td>\n",
       "      <td>PASS</td>\n",
       "      <td>Gene=ENSG00000179344;GeneSymbol=HLA-DQB1;Pvalu...</td>\n",
       "      <td>CD4+ T cells</td>\n",
       "      <td>HLA-DQB1</td>\n",
       "      <td>rs17612852_HLA-DQB1</td>\n",
       "    </tr>\n",
       "    <tr>\n",
       "      <th>148</th>\n",
       "      <td>chr6</td>\n",
       "      <td>32636866</td>\n",
       "      <td>rs3134996</td>\n",
       "      <td>A</td>\n",
       "      <td>T</td>\n",
       "      <td>.</td>\n",
       "      <td>PASS</td>\n",
       "      <td>Gene=ENSG00000237541;GeneSymbol=HLA-DQA2;Pvalu...</td>\n",
       "      <td>CD4+ T cells</td>\n",
       "      <td>HLA-DQA2</td>\n",
       "      <td>rs3134996_HLA-DQA2</td>\n",
       "    </tr>\n",
       "    <tr>\n",
       "      <th>161</th>\n",
       "      <td>chr9</td>\n",
       "      <td>90347450</td>\n",
       "      <td>rs3128511</td>\n",
       "      <td>G</td>\n",
       "      <td>A</td>\n",
       "      <td>.</td>\n",
       "      <td>PASS</td>\n",
       "      <td>Gene=ENSG00000135047;GeneSymbol=CTSL;Pvalue=2....</td>\n",
       "      <td>CD4+ T cells</td>\n",
       "      <td>CTSL</td>\n",
       "      <td>rs3128511_CTSL</td>\n",
       "    </tr>\n",
       "  </tbody>\n",
       "</table>\n",
       "<p>441 rows × 11 columns</p>\n",
       "</div>"
      ],
      "text/plain": [
       "         0         1           2  3  4  5     6  \\\n",
       "9    chr10  97340536   rs7899286  G  A  .  PASS   \n",
       "12   chr10  97447487  rs11188434  T  A  .  PASS   \n",
       "13   chr10  97468589  rs10882654  G  T  .  PASS   \n",
       "19   chr13  31341277   rs4466940  C  T  .  PASS   \n",
       "20   chr16  23621132    rs546055  T  C  .  PASS   \n",
       "..     ...       ...         ... .. .. ..   ...   \n",
       "112   chr6  32581973    rs521539  G  A  .  PASS   \n",
       "124   chr6  32606941   rs9272546  T  C  .  PASS   \n",
       "135   chr6  32620572  rs17612852  G  A  .  PASS   \n",
       "148   chr6  32636866   rs3134996  A  T  .  PASS   \n",
       "161   chr9  90347450   rs3128511  G  A  .  PASS   \n",
       "\n",
       "                                                     7          cell  \\\n",
       "9    Gene=ENSG00000138185;GeneSymbol=ENTPD1;Pvalue=...  CD4+ T cells   \n",
       "12   Gene=ENSG00000138185;GeneSymbol=ENTPD1;Pvalue=...  CD4+ T cells   \n",
       "13   Gene=ENSG00000138185;GeneSymbol=ENTPD1;Pvalue=...  CD4+ T cells   \n",
       "19   Gene=ENSG00000132965;GeneSymbol=ALOX5AP;Pvalue...  CD4+ T cells   \n",
       "20   Gene=ENSG00000166847;GeneSymbol=DCTN5;Pvalue=6...  CD4+ T cells   \n",
       "..                                                 ...           ...   \n",
       "112  Gene=ENSG00000237541;GeneSymbol=HLA-DQA2;Pvalu...  CD4+ T cells   \n",
       "124  Gene=ENSG00000237541;GeneSymbol=HLA-DQA2;Pvalu...  CD4+ T cells   \n",
       "135  Gene=ENSG00000179344;GeneSymbol=HLA-DQB1;Pvalu...  CD4+ T cells   \n",
       "148  Gene=ENSG00000237541;GeneSymbol=HLA-DQA2;Pvalu...  CD4+ T cells   \n",
       "161  Gene=ENSG00000135047;GeneSymbol=CTSL;Pvalue=2....  CD4+ T cells   \n",
       "\n",
       "         Gene                assoc  \n",
       "9      ENTPD1     rs7899286_ENTPD1  \n",
       "12     ENTPD1    rs11188434_ENTPD1  \n",
       "13     ENTPD1    rs10882654_ENTPD1  \n",
       "19    ALOX5AP    rs4466940_ALOX5AP  \n",
       "20      DCTN5       rs546055_DCTN5  \n",
       "..        ...                  ...  \n",
       "112  HLA-DQA2    rs521539_HLA-DQA2  \n",
       "124  HLA-DQA2   rs9272546_HLA-DQA2  \n",
       "135  HLA-DQB1  rs17612852_HLA-DQB1  \n",
       "148  HLA-DQA2   rs3134996_HLA-DQA2  \n",
       "161      CTSL       rs3128511_CTSL  \n",
       "\n",
       "[441 rows x 11 columns]"
      ]
     },
     "execution_count": 115,
     "metadata": {},
     "output_type": "execute_result"
    }
   ],
   "source": [
    "dice_cell={\"MONOCYTES\":\"Monocytes\",\"M2\":\"Macrophages\",\"TREG_NAIVE\":\"CD4+ T cells\",\"CD4_NAIVE\":\"CD4+ T cells\",\"TREG_MEM\":\"CD4+ T cells\",\"TH17\":\"CD4+ T cells\",\"CD8_NAIVE\":\"CD8+ T cells\",\"B_CELL_NAIVE\":\"B-cells\",\"CD4_STIM\":\"CD4+ T cells\",\"CD8_STIM\":\"CD8+ T cells\",\"TH2\":\"CD4+ T cells\",\"TFH\":\"CD4+ T cells\",\"TH1\":\"CD4+ T cells\",\"THSTAR\":\"CD4+ T cells\",\"NK\":\"NK\"}\n",
    "dice_df[\"cell\"]=dice_df[\"cell\"].map(dice_cell)\n",
    "\n",
    "dice_df"
   ]
  },
  {
   "cell_type": "markdown",
   "metadata": {},
   "source": [
    "### Get overall assoc"
   ]
  },
  {
   "cell_type": "code",
   "execution_count": 116,
   "metadata": {},
   "outputs": [],
   "source": [
    "\n",
    "ieqtl_counts=cell_interact_sig[[\"assoc\",\"cell\"]].drop_duplicates()\n",
    "ieqtl_counts.columns=[\"assoc\",\"cell\"]\n",
    "dice_counts=dice_df[[\"assoc\",\"cell\"]].drop_duplicates()\n",
    "ieqtl_counts[\"type\"]=\"ieqtl\"\n",
    "dice_counts[\"type\"]=\"dice\"\n",
    "dice_ieqtl_counts=ieqtl_counts.append(dice_counts)\n"
   ]
  },
  {
   "cell_type": "code",
   "execution_count": 117,
   "metadata": {},
   "outputs": [
    {
     "data": {
      "text/plain": [
       "Macrophages             52\n",
       "CD4+ T cells            43\n",
       "CD8+ T cells            37\n",
       "Monocytes               36\n",
       "B-cells                 27\n",
       "NK                      23\n",
       "DC                      14\n",
       "Macrophages.M1          12\n",
       "aDC                      8\n",
       "CD8..Tcm                 7\n",
       "pDC                      4\n",
       "Epithelial.cells         3\n",
       "CD4..memory.T.cells      3\n",
       "mv.Endothelial.cells     1\n",
       "B.cells                  1\n",
       "cDC                      1\n",
       "Tgd.cells                1\n",
       "Osteoblast               1\n",
       "MSC                      1\n",
       "MEP                      1\n",
       "Preadipocytes            1\n",
       "Name: cell, dtype: int64"
      ]
     },
     "execution_count": 117,
     "metadata": {},
     "output_type": "execute_result"
    }
   ],
   "source": [
    "dice_ieqtl_counts[\"cell\"].value_counts()"
   ]
  },
  {
   "cell_type": "code",
   "execution_count": 118,
   "metadata": {},
   "outputs": [
    {
     "data": {
      "text/html": [
       "<div>\n",
       "<style scoped>\n",
       "    .dataframe tbody tr th:only-of-type {\n",
       "        vertical-align: middle;\n",
       "    }\n",
       "\n",
       "    .dataframe tbody tr th {\n",
       "        vertical-align: top;\n",
       "    }\n",
       "\n",
       "    .dataframe thead th {\n",
       "        text-align: right;\n",
       "    }\n",
       "</style>\n",
       "<table border=\"1\" class=\"dataframe\">\n",
       "  <thead>\n",
       "    <tr style=\"text-align: right;\">\n",
       "      <th></th>\n",
       "      <th>assoc</th>\n",
       "      <th>cell</th>\n",
       "      <th>type</th>\n",
       "    </tr>\n",
       "  </thead>\n",
       "  <tbody>\n",
       "    <tr>\n",
       "      <th>861</th>\n",
       "      <td>rs9272546_HLA-DQA2</td>\n",
       "      <td>B.cells</td>\n",
       "      <td>ieqtl</td>\n",
       "    </tr>\n",
       "    <tr>\n",
       "      <th>442</th>\n",
       "      <td>rs2927610_ERAP2</td>\n",
       "      <td>CD4..memory.T.cells</td>\n",
       "      <td>ieqtl</td>\n",
       "    </tr>\n",
       "    <tr>\n",
       "      <th>444</th>\n",
       "      <td>rs2549781_ERAP2</td>\n",
       "      <td>CD4..memory.T.cells</td>\n",
       "      <td>ieqtl</td>\n",
       "    </tr>\n",
       "    <tr>\n",
       "      <th>863</th>\n",
       "      <td>rs3134996_HLA-DQA2</td>\n",
       "      <td>CD4..memory.T.cells</td>\n",
       "      <td>ieqtl</td>\n",
       "    </tr>\n",
       "    <tr>\n",
       "      <th>165</th>\n",
       "      <td>rs28040_ERAP1</td>\n",
       "      <td>CD8..Tcm</td>\n",
       "      <td>ieqtl</td>\n",
       "    </tr>\n",
       "    <tr>\n",
       "      <th>...</th>\n",
       "      <td>...</td>\n",
       "      <td>...</td>\n",
       "      <td>...</td>\n",
       "    </tr>\n",
       "    <tr>\n",
       "      <th>146</th>\n",
       "      <td>rs9274656_HLA-DQB1</td>\n",
       "      <td>CD8+ T cells</td>\n",
       "      <td>dice</td>\n",
       "    </tr>\n",
       "    <tr>\n",
       "      <th>159</th>\n",
       "      <td>rs1963947_GGH</td>\n",
       "      <td>CD8+ T cells</td>\n",
       "      <td>dice</td>\n",
       "    </tr>\n",
       "    <tr>\n",
       "      <th>160</th>\n",
       "      <td>rs3128511_CTSL</td>\n",
       "      <td>CD8+ T cells</td>\n",
       "      <td>dice</td>\n",
       "    </tr>\n",
       "    <tr>\n",
       "      <th>11</th>\n",
       "      <td>rs12778814_ENTPD1</td>\n",
       "      <td>CD4+ T cells</td>\n",
       "      <td>dice</td>\n",
       "    </tr>\n",
       "    <tr>\n",
       "      <th>31</th>\n",
       "      <td>rs26781_DHFR</td>\n",
       "      <td>CD4+ T cells</td>\n",
       "      <td>dice</td>\n",
       "    </tr>\n",
       "  </tbody>\n",
       "</table>\n",
       "<p>277 rows × 3 columns</p>\n",
       "</div>"
      ],
      "text/plain": [
       "                  assoc                 cell   type\n",
       "861  rs9272546_HLA-DQA2              B.cells  ieqtl\n",
       "442     rs2927610_ERAP2  CD4..memory.T.cells  ieqtl\n",
       "444     rs2549781_ERAP2  CD4..memory.T.cells  ieqtl\n",
       "863  rs3134996_HLA-DQA2  CD4..memory.T.cells  ieqtl\n",
       "165       rs28040_ERAP1             CD8..Tcm  ieqtl\n",
       "..                  ...                  ...    ...\n",
       "146  rs9274656_HLA-DQB1         CD8+ T cells   dice\n",
       "159       rs1963947_GGH         CD8+ T cells   dice\n",
       "160      rs3128511_CTSL         CD8+ T cells   dice\n",
       "11    rs12778814_ENTPD1         CD4+ T cells   dice\n",
       "31         rs26781_DHFR         CD4+ T cells   dice\n",
       "\n",
       "[277 rows x 3 columns]"
      ]
     },
     "execution_count": 118,
     "metadata": {},
     "output_type": "execute_result"
    }
   ],
   "source": [
    "dice_ieqtl_counts"
   ]
  },
  {
   "cell_type": "code",
   "execution_count": 119,
   "metadata": {},
   "outputs": [],
   "source": [
    "cell_map={\"Macrophages.M1\":\"Macrophages\",\"Macrophages.M2\":\"Macrophages\",\"DC\":\"DC\",\n",
    "          \"B.cells.memory\":\"B-cells\",\"Dendritic.cells.activated\":\"Dendritic Cells\",\n",
    "          \"NK.cells.resting\":\"NK\",\"T.cells.CD4.memory.activated\":\"CD4+ T cells\",\n",
    "          \"T.cells.CD4.memory.resting\":\"CD4+ T cells\",\"T.cells.CD4.naive\":\"CD4+ T cells\",\n",
    "          \"T.cells.CD8\":\"CD8+ T cells\",\"T.cells.follicular.helper\":\"CD4+ T cells\",\n",
    "          \"Eosinophils\":\"Eosinophils\",\"Macrophages\":\"Macrophages\",\"Monocytes\":\"Monocytes\",\n",
    "          \"NK\":\"NK\",\"CD4+ T cells\":\"CD4+ T cells\",\"CD8+ T cells\":\"CD8+ T cells\",\n",
    "          \"B-cells\":\"B-cells\",\"CD8..T.cells\":\"CD8+ T cells\",\"CD8..Tcm\":\"CD8+ T cells\",\n",
    "         \"CD4..memory.T.cells\":\"CD4+ T cells\",\"CD4..naive.T.cells\":\"CD4+ T cells\",\"Tgd.cells\":\"Tgd.cells\",\"B.cells\":\"B-cells\",\"CD4..Tem\":\"CD4+ T cells\",\"Memory.B.cells\":\"B-cells\",\"CD8..Tem\":\"CD8+ T cells\",\"CD4..T.cells\":\"CD4+ T cells\",\"CD8..T.cells\":\"CD8+ T cells\"}\n",
    "\n",
    "dice_ieqtl_counts[\"cell\"]=dice_ieqtl_counts[\"cell\"].map(cell_map)"
   ]
  },
  {
   "cell_type": "code",
   "execution_count": 120,
   "metadata": {},
   "outputs": [
    {
     "data": {
      "text/html": [
       "<div>\n",
       "<style scoped>\n",
       "    .dataframe tbody tr th:only-of-type {\n",
       "        vertical-align: middle;\n",
       "    }\n",
       "\n",
       "    .dataframe tbody tr th {\n",
       "        vertical-align: top;\n",
       "    }\n",
       "\n",
       "    .dataframe thead th {\n",
       "        text-align: right;\n",
       "    }\n",
       "</style>\n",
       "<table border=\"1\" class=\"dataframe\">\n",
       "  <thead>\n",
       "    <tr style=\"text-align: right;\">\n",
       "      <th></th>\n",
       "      <th>assoc</th>\n",
       "      <th>cell</th>\n",
       "      <th>type</th>\n",
       "    </tr>\n",
       "  </thead>\n",
       "  <tbody>\n",
       "    <tr>\n",
       "      <th>861</th>\n",
       "      <td>rs9272546_HLA-DQA2</td>\n",
       "      <td>B-cells</td>\n",
       "      <td>ieqtl</td>\n",
       "    </tr>\n",
       "    <tr>\n",
       "      <th>442</th>\n",
       "      <td>rs2927610_ERAP2</td>\n",
       "      <td>CD4+ T cells</td>\n",
       "      <td>ieqtl</td>\n",
       "    </tr>\n",
       "    <tr>\n",
       "      <th>444</th>\n",
       "      <td>rs2549781_ERAP2</td>\n",
       "      <td>CD4+ T cells</td>\n",
       "      <td>ieqtl</td>\n",
       "    </tr>\n",
       "    <tr>\n",
       "      <th>863</th>\n",
       "      <td>rs3134996_HLA-DQA2</td>\n",
       "      <td>CD4+ T cells</td>\n",
       "      <td>ieqtl</td>\n",
       "    </tr>\n",
       "    <tr>\n",
       "      <th>165</th>\n",
       "      <td>rs28040_ERAP1</td>\n",
       "      <td>CD8+ T cells</td>\n",
       "      <td>ieqtl</td>\n",
       "    </tr>\n",
       "    <tr>\n",
       "      <th>...</th>\n",
       "      <td>...</td>\n",
       "      <td>...</td>\n",
       "      <td>...</td>\n",
       "    </tr>\n",
       "    <tr>\n",
       "      <th>146</th>\n",
       "      <td>rs9274656_HLA-DQB1</td>\n",
       "      <td>CD8+ T cells</td>\n",
       "      <td>dice</td>\n",
       "    </tr>\n",
       "    <tr>\n",
       "      <th>159</th>\n",
       "      <td>rs1963947_GGH</td>\n",
       "      <td>CD8+ T cells</td>\n",
       "      <td>dice</td>\n",
       "    </tr>\n",
       "    <tr>\n",
       "      <th>160</th>\n",
       "      <td>rs3128511_CTSL</td>\n",
       "      <td>CD8+ T cells</td>\n",
       "      <td>dice</td>\n",
       "    </tr>\n",
       "    <tr>\n",
       "      <th>11</th>\n",
       "      <td>rs12778814_ENTPD1</td>\n",
       "      <td>CD4+ T cells</td>\n",
       "      <td>dice</td>\n",
       "    </tr>\n",
       "    <tr>\n",
       "      <th>31</th>\n",
       "      <td>rs26781_DHFR</td>\n",
       "      <td>CD4+ T cells</td>\n",
       "      <td>dice</td>\n",
       "    </tr>\n",
       "  </tbody>\n",
       "</table>\n",
       "<p>277 rows × 3 columns</p>\n",
       "</div>"
      ],
      "text/plain": [
       "                  assoc          cell   type\n",
       "861  rs9272546_HLA-DQA2       B-cells  ieqtl\n",
       "442     rs2927610_ERAP2  CD4+ T cells  ieqtl\n",
       "444     rs2549781_ERAP2  CD4+ T cells  ieqtl\n",
       "863  rs3134996_HLA-DQA2  CD4+ T cells  ieqtl\n",
       "165       rs28040_ERAP1  CD8+ T cells  ieqtl\n",
       "..                  ...           ...    ...\n",
       "146  rs9274656_HLA-DQB1  CD8+ T cells   dice\n",
       "159       rs1963947_GGH  CD8+ T cells   dice\n",
       "160      rs3128511_CTSL  CD8+ T cells   dice\n",
       "11    rs12778814_ENTPD1  CD4+ T cells   dice\n",
       "31         rs26781_DHFR  CD4+ T cells   dice\n",
       "\n",
       "[277 rows x 3 columns]"
      ]
     },
     "execution_count": 120,
     "metadata": {},
     "output_type": "execute_result"
    }
   ],
   "source": [
    "dice_ieqtl_counts"
   ]
  },
  {
   "cell_type": "code",
   "execution_count": 121,
   "metadata": {},
   "outputs": [
    {
     "data": {
      "image/png": "[encoded data removed]",
      "text/plain": [
       "<Figure size 216x504 with 1 Axes>"
      ]
     },
     "metadata": {
      "needs_background": "light"
     },
     "output_type": "display_data"
    }
   ],
   "source": [
    "dice_ieqtl_counts[\"comb\"]=dice_ieqtl_counts[\"assoc\"]+dice_ieqtl_counts[\"cell\"]+dice_ieqtl_counts[\"type\"]\n",
    "dice_ieqtl_counts=dice_ieqtl_counts.drop_duplicates(subset=\"comb\")\n",
    "total_dice_ieqtl_counts=dice_ieqtl_counts.groupby(['assoc','cell'])['type'].apply(lambda x: ','.join(x)).reset_index()\n",
    "total_dice_ieqtl_counts=total_dice_ieqtl_counts.groupby([\"cell\",\"type\"]).size().reset_index()\n",
    "df_bar=total_dice_ieqtl_counts.pivot(index=\"cell\",columns=\"type\",values=0).fillna(0)\n",
    "plt=df_bar.plot.barh(stacked=True, figsize = (3,7))\n",
    "plt.figure.savefig(\"/cellar/users/tsears/projects/germline-immune/plots/fig3/LASSO_total.ieqtl.pdf\",bbox_inches='tight')"
   ]
  },
  {
   "cell_type": "code",
   "execution_count": 122,
   "metadata": {},
   "outputs": [
    {
     "name": "stderr",
     "output_type": "stream",
     "text": [
      "/cm/shared/apps/jupyter/12.3.0/lib/python3.7/site-packages/ipykernel_launcher.py:1: SettingWithCopyWarning: \n",
      "A value is trying to be set on a copy of a slice from a DataFrame.\n",
      "Try using .loc[row_indexer,col_indexer] = value instead\n",
      "\n",
      "See the caveats in the documentation: https://pandas.pydata.org/pandas-docs/stable/user_guide/indexing.html#returning-a-view-versus-a-copy\n",
      "  \"\"\"Entry point for launching an IPython kernel.\n"
     ]
    }
   ],
   "source": [
    "dice_ieqtl_counts[\"snp\"]=dice_ieqtl_counts[\"assoc\"].str.split(\"_\").str[0]"
   ]
  },
  {
   "cell_type": "code",
   "execution_count": 123,
   "metadata": {},
   "outputs": [
    {
     "data": {
      "text/plain": [
       "Macrophages     48\n",
       "CD4+ T cells    44\n",
       "CD8+ T cells    42\n",
       "Monocytes       36\n",
       "B-cells         27\n",
       "NK              23\n",
       "DC              14\n",
       "Tgd.cells        1\n",
       "Name: cell, dtype: int64"
      ]
     },
     "execution_count": 123,
     "metadata": {},
     "output_type": "execute_result"
    }
   ],
   "source": [
    "dice_ieqtl_counts[[\"snp\",\"cell\"]].drop_duplicates()[\"cell\"].value_counts()"
   ]
  },
  {
   "cell_type": "code",
   "execution_count": 124,
   "metadata": {},
   "outputs": [],
   "source": [
    "dice_ieqtl_counts.to_csv(\"/cellar/users/tsears/projects/germline-immune/data/fig3/LASSO_fdr0.05_Supplemental_Table_10.csv\",index=None)"
   ]
  },
  {
   "cell_type": "code",
   "execution_count": null,
   "metadata": {},
   "outputs": [],
   "source": []
  },
  {
   "cell_type": "code",
   "execution_count": null,
   "metadata": {},
   "outputs": [],
   "source": []
  }
 ],
 "metadata": {
  "kernelspec": {
   "display_name": "ML_kernal",
   "language": "python",
   "name": "ml_kernal"
  },
  "language_info": {
   "codemirror_mode": {
    "name": "ipython",
    "version": 3
   },
   "file_extension": ".py",
   "mimetype": "text/x-python",
   "name": "python",
   "nbconvert_exporter": "python",
   "pygments_lexer": "ipython3",
   "version": "3.7.12"
  }
 },
 "nbformat": 4,
 "nbformat_minor": 4
}
