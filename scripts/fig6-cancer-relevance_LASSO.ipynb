{
 "cells": [
  {
   "cell_type": "code",
   "execution_count": 9,
   "id": "c7883fac-69bd-4913-95a5-519d0abeba2e",
   "metadata": {},
   "outputs": [],
   "source": [
    "import pandas as pd\n",
    "import os\n",
    "import statsmodels.stats.multitest as multi\n",
    "import numpy as np"
   ]
  },
  {
   "cell_type": "code",
   "execution_count": 10,
   "id": "6194e8f5-4eb8-4617-82b9-3673e06bc880",
   "metadata": {},
   "outputs": [],
   "source": [
    "import matplotlib.pyplot as plt\n",
    "import seaborn as sns\n",
    "import matplotlib\n",
    "matplotlib.rcParams['pdf.fonttype'] = 42\n",
    "matplotlib.rcParams['ps.fonttype'] = 42"
   ]
  },
  {
   "cell_type": "code",
   "execution_count": 11,
   "id": "5d1b869a-e403-4745-b716-b7eb98e6539a",
   "metadata": {},
   "outputs": [],
   "source": [
    "import sys\n",
    "sys.path.insert(0, \"/cellarold/users/mpagadal/Programs/anaconda3/lib/python3.7/site-packages\")\n",
    "\n",
    "import lifelines\n",
    "from lifelines import CoxPHFitter\n",
    "from lifelines import KaplanMeierFitter\n",
    "import statsmodels.stats.multitest as multi\n",
    "from sklearn.linear_model import LogisticRegression\n",
    "from sklearn.preprocessing import StandardScaler\n",
    "from lifelines.statistics import logrank_test"
   ]
  },
  {
   "cell_type": "code",
   "execution_count": 12,
   "id": "7566f49e-3714-49ea-b83d-b7a874c0bbf6",
   "metadata": {},
   "outputs": [],
   "source": [
    "import matplotlib.pyplot as plt\n",
    "from matplotlib_venn import venn2\n",
    "from matplotlib_venn import venn3"
   ]
  },
  {
   "cell_type": "code",
   "execution_count": 13,
   "id": "74207219-d16f-430a-8ca8-222cb630a32c",
   "metadata": {},
   "outputs": [],
   "source": [
    "from scipy.stats import mannwhitneyu\n",
    "from scipy import stats\n",
    "from sklearn import metrics\n",
    "import statsmodels.formula.api as smf\n",
    "import statsmodels.api as sm"
   ]
  },
  {
   "cell_type": "code",
   "execution_count": 14,
   "id": "30955cec-ff5a-4ade-b0e5-f25019aa083c",
   "metadata": {},
   "outputs": [
    {
     "name": "stdout",
     "output_type": "stream",
     "text": [
      "0.27.3\n"
     ]
    }
   ],
   "source": [
    "print(lifelines.__version__)"
   ]
  },
  {
   "cell_type": "code",
   "execution_count": 15,
   "id": "9f1027ca-91db-4c8c-89d6-62cd70c72ab6",
   "metadata": {},
   "outputs": [],
   "source": [
    "import json\n",
    "with open('/cellar/users/mpagadal/resources/tcga/ensembl_map.json', 'r') as f:\n",
    "    ensembl = json.load(f)\n",
    "ensembl={k.split(\".\")[0]:v for k,v in ensembl.items()}"
   ]
  },
  {
   "cell_type": "code",
   "execution_count": 16,
   "id": "2826f6de-8f42-46da-b537-3777493584c3",
   "metadata": {},
   "outputs": [],
   "source": [
    "def fdr(df,pseudo,p):\n",
    "    \n",
    "    '''\n",
    "    calculate Benjamini-Hochberg FDR\n",
    "    pseudo: True or False\n",
    "    '''\n",
    "    \n",
    "    #add pseudocounta\n",
    "    if pseudo == True:\n",
    "        df[p]=df[p]+0.000000000001\n",
    "    \n",
    "    #calculate benjamin-hochberg fdr\n",
    "    probabilities = df[p].to_numpy()\n",
    "    report = multi.multipletests(probabilities,\n",
    "                alpha=0.05,\n",
    "                method=\"fdr_bh\",\n",
    "                is_sorted=False,\n",
    "            )\n",
    "    discoveries = report[1]\n",
    "    df[\"fdr\"]=discoveries\n",
    "    df[\"fdr\"]=pd.to_numeric(df[\"fdr\"])\n",
    "    df[\"-log10(fdr)\"]=-np.log10(df[\"fdr\"])\n",
    "    \n",
    "    return(df)"
   ]
  },
  {
   "cell_type": "code",
   "execution_count": 21,
   "id": "54bf238c-e51c-43b2-8da4-616f6746e11a",
   "metadata": {},
   "outputs": [],
   "source": [
    "def compile_ldtrait(direct, cancer):\n",
    "    \n",
    "    '''\n",
    "    Input: Directory with output from ldtrait.sh\n",
    "    Output: Dataframe with LDtrait results\n",
    "    '''\n",
    "    \n",
    "    ldtrait_df=pd.DataFrame() #compiled ldtrait dataframe\n",
    "    \n",
    "    for file in os.listdir(direct):\n",
    "        file1 = open(direct+file,\"r\")\n",
    "        lines=file1.readlines()\n",
    "        \n",
    "        for line in lines:\n",
    "            if \"}\" in line:\n",
    "                pass\n",
    "            elif \"error\" in line:\n",
    "                pass\n",
    "            elif \"{\" in line:\n",
    "                pass\n",
    "            elif \"NoneType\" in line:\n",
    "                pass\n",
    "            else:\n",
    "                ldtrait_df=ldtrait_df.append(pd.Series(line.strip().split(\"\\t\")).T,ignore_index=True)\n",
    "    ldtrait_df=ldtrait_df[ldtrait_df[0]!=\"Query\"]\n",
    "    ldtrait_df.columns=[\"Query\",\"GWAS Trait\", \"RS Number\",\"Position (GRCh37)\",\"Alleles\",\"R2\",\"D'\",\"Risk Allele\",\"Effect Size (95% CI)\",\"Beta or OR\",\"P-value\"]\n",
    "    \n",
    "    if cancer:\n",
    "        \n",
    "        # filter for cancer gwas\n",
    "        cancer=[\"melanoma\",\"carcinoma\",\"cancer\"]\n",
    "\n",
    "        cancer_gwas=pd.DataFrame()\n",
    "\n",
    "        for x in cancer:\n",
    "            gwas_filt=ldtrait_df[ldtrait_df[\"GWAS Trait\"].str.contains(x)]\n",
    "            cancer_gwas=cancer_gwas.append(gwas_filt)\n",
    "            \n",
    "        return(cancer_gwas)\n",
    "    \n",
    "    else:\n",
    "        \n",
    "        return(ldtrait_df)"
   ]
  },
  {
   "cell_type": "markdown",
   "id": "3d0f0a34-2d2b-4b45-80aa-004a4544ceec",
   "metadata": {},
   "source": [
    "## Cancer Risk"
   ]
  },
  {
   "cell_type": "code",
   "execution_count": 23,
   "id": "d1245a3f-9133-447b-a3bf-79c543ee2268",
   "metadata": {},
   "outputs": [],
   "source": [
    "all_snp_table=pd.read_csv(\"/cellar/users/tsears/projects/germline-immune/data/mega_snp_table.txt\",sep=\"\\t\")\n",
    "snps=all_snp_table"
   ]
  },
  {
   "cell_type": "code",
   "execution_count": 22,
   "id": "94ac74f1-b92c-427d-b607-4536e38a7b5a",
   "metadata": {},
   "outputs": [],
   "source": [
    "ldtrait=compile_ldtrait(\"/cellar/users/mpagadal/projects/germline-immune/data/ldtrait/time-snp/\",\"cancer\")"
   ]
  },
  {
   "cell_type": "code",
   "execution_count": 24,
   "id": "22a07a38-f75b-46d8-be0b-395fe799a29d",
   "metadata": {},
   "outputs": [],
   "source": [
    "snps[\"cancer_gwas\"]=np.where(snps[\"proxy_snp\"].isin(ldtrait[\"Query\"].tolist()),\"gwas\",\"no\")"
   ]
  },
  {
   "cell_type": "code",
   "execution_count": 25,
   "id": "1718704c-a8ee-40ca-8c45-60ac7ca34697",
   "metadata": {},
   "outputs": [
    {
     "name": "stdout",
     "output_type": "stream",
     "text": [
      "64 GWAS Catalog associations from 20 IP components\n"
     ]
    }
   ],
   "source": [
    "print(\"{} GWAS Catalog associations from {} IP components\".format(len(snps[snps[\"cancer_gwas\"]==\"gwas\"]),len(snps[snps[\"cancer_gwas\"]==\"gwas\"][\"file\"].unique())))"
   ]
  },
  {
   "cell_type": "markdown",
   "id": "77dec1c1-98aa-40ba-a76c-b5f55af3b743",
   "metadata": {},
   "source": [
    "##### Get Vanderbilt associations"
   ]
  },
  {
   "cell_type": "code",
   "execution_count": 26,
   "id": "2762e4e2-67f8-49b3-9414-b4647fcb762e",
   "metadata": {},
   "outputs": [],
   "source": [
    "vanderbilt_phewas=pd.read_csv(\"/cellar/users/mpagadal/data/vanderbilt-phewas/combined_query_snp_list.txt\",delimiter=\"\\t\")\n",
    "vanderbilt_phewas=vanderbilt_phewas[vanderbilt_phewas[\"RS_Number\"].isin(snps[\"proxy_snp\"].tolist())]\n",
    "vanderbilt_phewas_ld=vanderbilt_phewas[vanderbilt_phewas[\"R2\"]>=0.5] #r2 filter of 0.5"
   ]
  },
  {
   "cell_type": "code",
   "execution_count": 27,
   "id": "4a160549-a634-4707-8c57-ab9e21c7b092",
   "metadata": {},
   "outputs": [],
   "source": [
    "snps[\"vanderbilt\"]=np.where(snps[\"proxy_snp\"].isin(vanderbilt_phewas_ld[\"RS_Number\"].tolist()),\"vanderbilt\",\"no\")"
   ]
  },
  {
   "cell_type": "code",
   "execution_count": 28,
   "id": "2651a009-7765-466d-8139-a123a4325e40",
   "metadata": {},
   "outputs": [
    {
     "name": "stdout",
     "output_type": "stream",
     "text": [
      "92 Vanderbilt PheWAS associations from 36 IP components\n"
     ]
    }
   ],
   "source": [
    "print(\"{} Vanderbilt PheWAS associations from {} IP components\".format(len(snps[snps[\"vanderbilt\"]==\"vanderbilt\"]),len(snps[snps[\"vanderbilt\"]==\"vanderbilt\"][\"file\"].unique())))\n"
   ]
  },
  {
   "cell_type": "markdown",
   "id": "428268db-fb2d-4ca2-b96a-94ef62e86dd7",
   "metadata": {},
   "source": [
    "##### look at overlap between all methods"
   ]
  },
  {
   "cell_type": "code",
   "execution_count": 32,
   "id": "a545caba-1561-4a9f-8055-b8c9cb00c108",
   "metadata": {},
   "outputs": [
    {
     "data": {
      "image/png": "[encoded data removed]",
      "text/plain": [
       "<Figure size 432x288 with 1 Axes>"
      ]
     },
     "metadata": {},
     "output_type": "display_data"
    }
   ],
   "source": [
    "plt.title(\"Phewas associations\")\n",
    "venn3([set(snps.loc[snps[\"risk_either\"]==\"yes\",\"rsid\"].tolist()),set(ldtrait[\"Query\"].tolist()),set(vanderbilt_phewas_ld[\"RS_Number\"].tolist())],\n",
    "      set_labels=(\"UKBB\",\"LDtrait\",\"VanderBilt\"), set_colors=[\"orange\",\"blue\",\"green\"])\n",
    "plt.savefig(\"/cellar/users/tsears/projects/germline-immune/plots/fig3/LASSO_risk.snp.overlap.pdf\")"
   ]
  },
  {
   "cell_type": "code",
   "execution_count": 35,
   "id": "66d1448e-538a-4053-9eee-fffe95a3905d",
   "metadata": {},
   "outputs": [
    {
     "data": {
      "image/png": "[encoded data removed]",
      "text/plain": [
       "<Figure size 432x288 with 1 Axes>"
      ]
     },
     "metadata": {},
     "output_type": "display_data"
    }
   ],
   "source": [
    "plt.title(\"Phewas associations\")\n",
    "venn3([set(snps.loc[snps[\"risk_either\"]==\"yes\",\"file\"].tolist()),set(snps[snps[\"rsid\"].isin(ldtrait[\"Query\"].tolist())][\"file\"].unique().tolist()),set(set(snps[snps[\"rsid\"].isin(vanderbilt_phewas_ld[\"RS_Number\"].tolist())][\"file\"].unique().tolist()))],\n",
    "      set_labels=(\"UKBB\",\"LDtrait\",\"VanderBilt\"), set_colors=[\"orange\",\"blue\",\"green\"])\n",
    "plt.savefig(\"/cellar/users/tsears/projects/germline-immune/plots/fig3/LASSO_IP_risk.snp.overlap.pdf\")"
   ]
  },
  {
   "cell_type": "code",
   "execution_count": 36,
   "id": "891b8c5b-0646-4471-9a7e-31928387e8c8",
   "metadata": {},
   "outputs": [],
   "source": [
    "vanderbilt_pheno=snps[snps[\"vanderbilt\"]==\"vanderbilt\"][\"file\"].unique().tolist()\n",
    "ldtrait_pheno=snps[snps[\"cancer_gwas\"]==\"gwas\"][\"file\"].unique().tolist()\n",
    "ukbb_pheno=snps[snps[\"risk_either\"]==\"yes\"][\"file\"].unique().tolist()"
   ]
  },
  {
   "cell_type": "markdown",
   "id": "3eaead2c-4072-45ca-9ed4-0e23f03a40c9",
   "metadata": {
    "tags": []
   },
   "source": [
    "## Cancer Survival x Risk x ICB"
   ]
  },
  {
   "cell_type": "code",
   "execution_count": 38,
   "id": "add472ce-fe3f-4fc1-95ab-5a7a8f4dccc4",
   "metadata": {},
   "outputs": [
    {
     "data": {
      "text/plain": [
       "442"
      ]
     },
     "execution_count": 38,
     "metadata": {},
     "output_type": "execute_result"
    }
   ],
   "source": [
    "len(set(all_snp_table.loc[all_snp_table[\"OS_PFS\"]==\"yes\",\"snps\"].tolist()))"
   ]
  },
  {
   "cell_type": "code",
   "execution_count": 39,
   "id": "7b00480b-c0a6-4ac2-bb78-f4e2933e09a0",
   "metadata": {},
   "outputs": [
    {
     "data": {
      "image/png": "[encoded data removed]",
      "text/plain": [
       "<Figure size 432x288 with 1 Axes>"
      ]
     },
     "metadata": {},
     "output_type": "display_data"
    }
   ],
   "source": [
    "plt.title(\"Overlap between Characterization\")\n",
    "venn3([set(all_snp_table.loc[all_snp_table[\"OS_PFS\"]==\"yes\",\"snps\"].tolist()),set(all_snp_table.loc[all_snp_table[\"risk_either\"]==\"yes\",\"snps\"].tolist()),set(all_snp_table.loc[all_snp_table[\"icb_filt\"]==\"yes\",\"snps\"].tolist())],\n",
    "      set_labels=(\"survival\",\"risk\",\"ICB\"), set_colors=[\"orange\",\"blue\",\"green\"])\n",
    "\n",
    "plt.savefig(\"/cellar/users/tsears/projects/germline-immune/plots/fig3/LASSO_all.snp.overlap_venn.pdf\")\n"
   ]
  },
  {
   "cell_type": "code",
   "execution_count": 40,
   "id": "7f2bf04f-52a6-4e3f-8352-7f378c6c4810",
   "metadata": {},
   "outputs": [
    {
     "data": {
      "image/png": "[encoded data removed]",
      "text/plain": [
       "<Figure size 432x288 with 1 Axes>"
      ]
     },
     "metadata": {},
     "output_type": "display_data"
    }
   ],
   "source": [
    "plt.title(\"Overlap between Characterization\")\n",
    "venn3([set(all_snp_table.loc[all_snp_table[\"OS_PFS\"]==\"yes\",\"file\"].tolist()),set(all_snp_table.loc[all_snp_table[\"risk_either\"]==\"yes\",\"file\"].tolist()),set(all_snp_table.loc[all_snp_table[\"icb_filt\"]==\"yes\",\"file\"].tolist())],\n",
    "      set_labels=(\"survival\",\"risk\",\"ICB\"), set_colors=[\"orange\",\"blue\",\"green\"])\n",
    "\n",
    "plt.savefig(\"/cellar/users/tsears/projects/germline-immune/plots/fig3/LASSO_IP_.overlap_venn.pdf\")\n"
   ]
  },
  {
   "cell_type": "markdown",
   "id": "7f25ae63-9cb8-49db-8608-d0c62df687b7",
   "metadata": {},
   "source": [
    "## VEP bar plots"
   ]
  },
  {
   "cell_type": "code",
   "execution_count": null,
   "id": "77ddeb7c-4f2e-49c7-a5fa-d5bba6142153",
   "metadata": {},
   "outputs": [],
   "source": []
  }
 ],
 "metadata": {
  "interpreter": {
   "hash": "e80e98b26be2b716c8903c0968bc38ba88316b8e7aa8fa7e9e962a54db274d3a"
  },
  "kernelspec": {
   "display_name": "ML_kernal",
   "language": "python",
   "name": "ml_kernal"
  },
  "language_info": {
   "codemirror_mode": {
    "name": "ipython",
    "version": 3
   },
   "file_extension": ".py",
   "mimetype": "text/x-python",
   "name": "python",
   "nbconvert_exporter": "python",
   "pygments_lexer": "ipython3",
   "version": "3.7.12"
  }
 },
 "nbformat": 4,
 "nbformat_minor": 5
}
