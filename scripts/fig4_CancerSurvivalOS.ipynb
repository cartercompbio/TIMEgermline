{
 "cells": [
  {
   "cell_type": "markdown",
   "id": "a96c36f5-6da8-4e32-8bad-d99cd8ed49b6",
   "metadata": {},
   "source": [
    "### Cancer Survival Experiment OS"
   ]
  },
  {
   "cell_type": "code",
   "execution_count": 15,
   "id": "5e9d9da3-393c-40e8-b703-8bb8afb3c643",
   "metadata": {},
   "outputs": [],
   "source": [
    "import pandas as pd\n",
    "import os\n",
    "import statsmodels.stats.multitest as multi\n",
    "import numpy as np"
   ]
  },
  {
   "cell_type": "code",
   "execution_count": 2,
   "id": "1795a962-a973-41d9-a11d-d6ce9ece69f8",
   "metadata": {},
   "outputs": [],
   "source": [
    "import matplotlib.pyplot as plt\n",
    "import seaborn as sns\n",
    "import matplotlib\n",
    "matplotlib.rcParams['pdf.fonttype'] = 42\n",
    "matplotlib.rcParams['ps.fonttype'] = 42"
   ]
  },
  {
   "cell_type": "code",
   "execution_count": 3,
   "id": "72faf8bd-e861-43d0-9242-3a3263748d30",
   "metadata": {},
   "outputs": [],
   "source": [
    "import lifelines\n",
    "from lifelines import CoxPHFitter\n",
    "from lifelines import KaplanMeierFitter\n",
    "import statsmodels.stats.multitest as multi\n",
    "from sklearn.linear_model import LogisticRegression\n",
    "from sklearn.preprocessing import StandardScaler\n",
    "from lifelines.statistics import logrank_test"
   ]
  },
  {
   "cell_type": "code",
   "execution_count": 4,
   "id": "33b52ca3-5c09-488f-9c4a-aae82e0f5aae",
   "metadata": {},
   "outputs": [],
   "source": [
    "from scipy.stats import mannwhitneyu\n",
    "import statsmodels.formula.api as smf\n",
    "from scipy.stats import mannwhitneyu\n",
    "from scipy import stats"
   ]
  },
  {
   "cell_type": "code",
   "execution_count": 5,
   "id": "65dc6762-1cea-4d60-8f4e-e2613340a817",
   "metadata": {},
   "outputs": [],
   "source": [
    "import json\n",
    "with open('/cellar/users/mpagadal/resources/tcga/ensembl_map.json', 'r') as f:\n",
    "    ensembl = json.load(f)\n",
    "ensembl={k.split(\".\")[0]:v for k,v in ensembl.items()}"
   ]
  },
  {
   "cell_type": "code",
   "execution_count": 6,
   "id": "e5317a7a-3c3e-4fcb-bfab-cc844970df59",
   "metadata": {},
   "outputs": [],
   "source": [
    "random_state=75"
   ]
  },
  {
   "cell_type": "code",
   "execution_count": 7,
   "id": "ce8a7338-29a4-4209-a900-aec11bb35b27",
   "metadata": {},
   "outputs": [],
   "source": [
    "def make_surv_df(surv,surv_type,raw):\n",
    "    \n",
    "    '''\n",
    "    make TCGA survival dataframe\n",
    "    '''\n",
    "    \n",
    "    #get survival dataframe\n",
    "    surv=pd.read_csv(surv,index_col=0)\n",
    "    surv=surv.rename(columns={\"bcr_patient_barcode\":\"FID\"})\n",
    "    surv=surv[surv[\"Redaction\"].isnull()]\n",
    "    \n",
    "    #get phenos\n",
    "    raw=pd.read_csv(raw,delim_whitespace=True,index_col=0)\n",
    "    raw=raw.iloc[:,5:]\n",
    "    raw=raw.reset_index()\n",
    "    raw=raw.rename(columns={\"index\":\"FID\"})\n",
    "\n",
    "    #combine dataframes\n",
    "    full_surv=pd.merge(surv[[\"FID\",surv_type,surv_type+\".time\",\"age_at_initial_pathologic_diagnosis\",\"race\",\"gender\",\"ajcc_pathologic_tumor_stage\"]], raw, on=\"FID\", how=\"left\")\n",
    "    #full_surv=full_surv[full_surv[surv_type+\".time\"]<1825] #censor at 5 years\n",
    "    #get patients with Stage designations\n",
    "    full_surv=full_surv[full_surv[\"ajcc_pathologic_tumor_stage\"].str.contains(\"Stage\")]\n",
    "    full_surv=full_surv[~(full_surv[\"ajcc_pathologic_tumor_stage\"].isin([\"Stage X\"]))]\n",
    "    #split A,B,C from stage designations\n",
    "    full_surv[\"ajcc_pathologic_tumor_stage\"]=full_surv[\"ajcc_pathologic_tumor_stage\"].str.split(\"A\").str[0]\n",
    "    full_surv[\"ajcc_pathologic_tumor_stage\"]=full_surv[\"ajcc_pathologic_tumor_stage\"].str.split(\"B\").str[0]\n",
    "    full_surv[\"ajcc_pathologic_tumor_stage\"]=full_surv[\"ajcc_pathologic_tumor_stage\"].str.split(\"C\").str[0]\n",
    "    print(full_surv.shape)\n",
    "    full_surv=full_surv.join(pd.get_dummies(full_surv[\"ajcc_pathologic_tumor_stage\"]))\n",
    "    #remap gender\n",
    "    full_surv[\"gender\"]=full_surv[\"gender\"].map({\"MALE\":0,\"FEMALE\":1})\n",
    "    \n",
    "    full_surv=full_surv[~full_surv[surv_type].isnull()]\n",
    "    full_surv=full_surv[~full_surv[surv_type+\".time\"].isnull()]\n",
    "    \n",
    "    full_surv=full_surv[~full_surv[\"age_at_initial_pathologic_diagnosis\"].isnull()]\n",
    "    \n",
    "    #map to cancer type\n",
    "    canc = pd.read_csv(\"/cellar/controlled/dbgap-genetic/phs000178_TCGA/birdseed-processing/gtype.meta\", delimiter=\"\\t\", header=None)\n",
    "    mp = canc.set_index(2)[0].to_dict()\n",
    "    full_surv[\"cancer\"]=full_surv[\"FID\"].map(mp)\n",
    "    full_surv=full_surv[~full_surv[\"cancer\"].isnull()]\n",
    "    \n",
    "    full_surv['ajcc_pathologic_tumor_stage'] = full_surv['ajcc_pathologic_tumor_stage'].replace({'Stage 0':0,'Stage I': 1,'Stage II': 2,'Stage III': 3,'Stage IV': 4})\n",
    "    \n",
    "    return(full_surv)"
   ]
  },
  {
   "cell_type": "code",
   "execution_count": 8,
   "id": "22914dd2-1601-4603-8f0c-d22ccc7a2fad",
   "metadata": {},
   "outputs": [],
   "source": [
    "def run_surv_plot(df_annot,surv_df,surv_type,out):\n",
    "    \n",
    "    '''\n",
    "    plot kaplan meier for each snp in df_annot\n",
    "    '''\n",
    "    for i,row in df_annot.iterrows():\n",
    "        try:\n",
    "            surv_df_canc=surv_df[surv_df[\"cancer\"]==row[\"cancer\"]]\n",
    "            x=[x for x in surv_df.columns if row[\"snps\"].rsplit(\":\",2)[0] in x][0]\n",
    "            rs=x.rsplit(\":\",2)[0]\n",
    "        \n",
    "            allele1=x.split(\":\")[2]\n",
    "            allele2=str(x.split(\"_\")[0]).split(\":\")[3]\n",
    "            minor=x.split(\"_\")[1]\n",
    "            if allele1 == minor:\n",
    "                major=allele2\n",
    "            else:\n",
    "                major=allele1\n",
    "            \n",
    "            fig=plt.figure(figsize=(12,5))\n",
    "            ax1 = plt.subplot(1,2,1)\n",
    "            \n",
    "            groups = surv_df_canc[x]\n",
    "            ix0 = (groups == 0)\n",
    "            ix1 = (groups == 1)\n",
    "            ix2 = (groups == 2)\n",
    "\n",
    "            kmf = KaplanMeierFitter()\n",
    "            kmf.fit(surv_df_canc[surv_type+'.time'][ix2], surv_df_canc[surv_type][ix2],label=minor+minor)\n",
    "            kmf.plot(color='green', ci_show=False, ax=ax1)\n",
    "            \n",
    "            kmf.fit(surv_df_canc[surv_type+'.time'][ix1], surv_df_canc[surv_type][ix1],label=major+minor)\n",
    "            kmf.plot(ax=ax1, color='orange', ci_show=False)\n",
    "    \n",
    "            kmf.fit(surv_df_canc[surv_type+'.time'][ix0], surv_df_canc[surv_type][ix0],label=major+major)\n",
    "            kmf.plot(ax=ax1, color='blue', ci_show=False)\n",
    "\n",
    "            results = logrank_test(surv_df_canc[surv_type+'.time'][ix0], surv_df_canc[surv_type+'.time'][ix2],event_observed_A=surv_df_canc[surv_type][ix0], event_observed_B=surv_df_canc[surv_type][ix2], alpha=.95) \n",
    "            plt.title('{}\\n{}\\nLog-rank test: p<{:.3}'.format(x,row[\"cancer\"],results.p_value))\n",
    "\n",
    "            plt.ylabel('% survival')\n",
    "            plt.xlabel(surv_type+' time (days)')\n",
    "            plt.legend(frameon=False)\n",
    "\n",
    "            plt.tight_layout()\n",
    "\n",
    "            plt.savefig(out+surv_type+\".\"+x+\".\"+row[\"cancer\"]+'.pdf')\n",
    "            plt.close()\n",
    "        except:\n",
    "            pass\n",
    "        "
   ]
  },
  {
   "cell_type": "code",
   "execution_count": 9,
   "id": "890eb730-3d4c-48f3-a6bf-fcb1e42ffe77",
   "metadata": {},
   "outputs": [],
   "source": [
    "def fdr(df,pseudo,p):\n",
    "    \n",
    "    '''\n",
    "    calculate Benjamini-Hochberg FDR\n",
    "    pseudo: True or False\n",
    "    '''\n",
    "    \n",
    "    #add pseudocounta\n",
    "    if pseudo == True:\n",
    "        df[p]=df[p]+0.000000000001\n",
    "    \n",
    "    #calculate benjamin-hochberg fdr\n",
    "    probabilities = df[p].to_numpy()\n",
    "    report = multi.multipletests(probabilities,\n",
    "                alpha=0.05,\n",
    "                method=\"fdr_bh\",\n",
    "                is_sorted=False,\n",
    "            )\n",
    "    discoveries = report[1]\n",
    "    df[\"fdr\"]=discoveries\n",
    "    df[\"fdr\"]=pd.to_numeric(df[\"fdr\"])\n",
    "    df[\"-log10(fdr)\"]=-np.log10(df[\"fdr\"])\n",
    "    \n",
    "    return(df)"
   ]
  },
  {
   "cell_type": "markdown",
   "id": "bd945b3c-0d15-403f-b5ca-a5231e8c19b7",
   "metadata": {},
   "source": [
    "### Get associations"
   ]
  },
  {
   "cell_type": "code",
   "execution_count": 10,
   "id": "bebc0f56-7824-4264-a14e-0725703cf2eb",
   "metadata": {},
   "outputs": [],
   "source": [
    "snps=pd.read_csv(\"/cellar/users/mpagadal/projects/germline-immune/data/supplemental/Supplemental_Table_3.csv\",delimiter=\"\\t\")\n",
    "snps[\"snp_noallele\"]=snps[\"proxy_variant\"].str.rsplit(\":\",2).str[0]\n",
    "snps[\"rsid\"].to_csv(\"/cellar/users/tsears/projects/germline-immune/data/TIME_rsids.txt\",sep=\"\\t\",header=False,index=False)\n",
    "snps_bed=snps\n",
    "snps_bed[\"chr\"]=snps_bed[\"proxy_variant\"].str.rsplit(\":\",0).str[0]\n",
    "snps_bed[\"pos\"]=snps_bed[\"proxy_variant\"].str.rsplit(\":\",0).str[1]\n",
    "snps_bed[\"pos2\"]=snps_bed[\"proxy_variant\"].str.rsplit(\":\",0).str[1]\n",
    "snps_bed[\"ID\"]=0\n",
    "snps_bed[[\"chr\",\"pos\",\"pos2\",\"ID\"]].to_csv(\"/cellar/users/tsears/projects/germline-immune/data/TIME_rsids.bed\",sep=\"\\t\",header=False,index=False)\n",
    "\n",
    "    "
   ]
  },
  {
   "cell_type": "code",
   "execution_count": 11,
   "id": "fed7ddf4-82e6-41e6-bfa8-dc4d11f1708e",
   "metadata": {},
   "outputs": [],
   "source": [
    "fdr_thresh=0.05"
   ]
  },
  {
   "cell_type": "code",
   "execution_count": 12,
   "id": "5ab28e35-c541-451d-9567-a3c1f05eacd3",
   "metadata": {},
   "outputs": [],
   "source": [
    "surv_fdr=pd.read_csv(\"/cellar/users/mpagadal/projects/germline-immune/data/supplemental/Supplemental_Table_6.csv\",index_col=0)"
   ]
  },
  {
   "cell_type": "code",
   "execution_count": 14,
   "id": "9923f94d-8b85-4662-919e-56d6696fc64c",
   "metadata": {},
   "outputs": [],
   "source": [
    "prog_snps=surv_fdr[surv_fdr[\"P\"]<fdr_thresh][\"ID\"].unique().tolist()\n",
    "prog_snps=[x.split(\"_\")[0] for x in prog_snps]"
   ]
  },
  {
   "cell_type": "code",
   "execution_count": null,
   "id": "c91731ea-d95b-4408-abf3-ac746ca1db49",
   "metadata": {},
   "outputs": [],
   "source": [
    "#check how many snps are associated with survival in multiple cancer types\n",
    "surv_number=surv_fdr[surv_fdr[\"P\"]<fdr_thresh][[\"ID\",\"cancer\"]].drop_duplicates().groupby([\"ID\"]).size().reset_index()\n",
    "surv_number=surv_number.sort_values(by=0,ascending=False)\n",
    "surv_number[\"snp_noallele\"]=surv_number[\"ID\"].str.rsplit(\":\",2).str[0]\n",
    "snp_sig=snps[snps[\"snp_noallele\"].isin(surv_number[surv_number[0]>1][\"snp_noallele\"].tolist())]"
   ]
  },
  {
   "cell_type": "code",
   "execution_count": null,
   "id": "786ac172-daf4-47a0-8733-424b009f1393",
   "metadata": {},
   "outputs": [],
   "source": [
    "snp_sig=snp_sig.loc[~snp_sig[\"proxy_variant\"].duplicated()]"
   ]
  },
  {
   "cell_type": "code",
   "execution_count": null,
   "id": "5eac69ee-f37e-441c-87ab-1dfbb709977f",
   "metadata": {
    "tags": []
   },
   "outputs": [],
   "source": [
    "surv=pd.read_csv(\"clinical_PANCAN_patient_with_followup.tsv\",delimiter=\"\\t\",encoding=\"unicode_escape\")\n",
    "keep=pd.read_csv(\"surv_var_keep_MP.csv\") #keep only curated survival variables\n",
    "surv_clean=surv[[\"acronym\"]+keep[\"var\"].tolist()]\n",
    "\n",
    "total_counts=pd.DataFrame()\n",
    "for x in surv_clean.columns[2:]:\n",
    "    surv_not_null=surv_clean[~surv_clean[x].isnull()]\n",
    "    print(x)\n",
    "    try:\n",
    "        surv_not_null=surv_not_null[~(surv_not_null[x].str.contains(\"Not Av\"))]\n",
    "        surv_not_null=surv_not_null[~(surv_not_null[x].str.contains(\"Not Ap\"))]\n",
    "        surv_not_null=surv_not_null[~(surv_not_null[x].str.contains(\"Unk\"))]\n",
    "        df_counts=surv_not_null[\"acronym\"].value_counts().reset_index()\n",
    "        df_counts[\"var\"]=x\n",
    "        total_counts=total_counts.append(df_counts)\n",
    "    except:\n",
    "        df_counts=surv_not_null[\"acronym\"].value_counts().reset_index()\n",
    "        df_counts[\"var\"]=x\n",
    "        total_counts=total_counts.append(df_counts)\n",
    "supp_table=total_counts.groupby('index')['var'].apply(lambda x: ','.join(x)).reset_index()\n",
    "supp_table.loc[14][\"var\"]='history_of_neoadjuvant_treatment,radiation_therapy,height,weight,T2_pathologic_T,T3_pathologic_T,T4_pathologic_T,M1_pathologic_M,N1_pathologic_N,G1_neoplasm_histologic_grade,G2_neoplasm_histologic_grade,G3_neoplasm_histologic_grade,G4_neoplasm_histologic_grade,alcohol,NAFLD,hepatitis'\n",
    "supp_table.loc[15][\"var\"]='radiation_therapy,targeted_molecular_therapy,T2_pathologic_T,T3_pathologic_T,T4_pathologic_T,M1_pathologic_M,N1_pathologic_N,N2_pathologic_N,N3_pathologic_N,Current smoker_tobacco_smoking_history,Lifelong Non-smoker_tobacco_smoking_history'\n",
    "supp_table.loc[26][\"var\"]='radiation_therapy,history_of_undescended_testis,T2_pathologic_T,M1_pathologic_M,N1_pathologic_N,N2_pathologic_N'\n",
    "supp_table.loc[29][\"var\"]='radiation_therapy,height,weight,hypertension,G2_neoplasm_histologic_grade,G3_neoplasm_histologic_grade,High Grade_neoplasm_histologic_grade,Peri (6-12 months since last menstrual period)_menopause_status,Post (prior bilateral ovariectomy OR >12 mo since LMP with no prior hysterectomy)_menopause_status,Pre (<6 months since LMP AND no prior bilateral ovariectomy AND not on estrogen replacement)_menopause_status'\n",
    "\n",
    "for x in surv_clean.columns:\n",
    "    try:\n",
    "        m = surv_clean[x].str.contains('\\[', na=False)\n",
    "        surv_clean.loc[m,x] = np.nan\n",
    "    except:\n",
    "        pass\n",
    "\n",
    "# map variables to category\n",
    "mp_map={'Equivocal':np.nan,\n",
    " 'Indeterminate':np.nan,\n",
    " 'NO':0,\n",
    " 'Negative':0,\n",
    " 'No':0,\n",
    " 'Not Performed':np.nan,\n",
    " 'Positive':1,\n",
    " 'YES':1,\n",
    " 'Yes':1,\n",
    " 'Yes, Pharmaceutical Treatment Prior to Resection':1,\n",
    " 'Yes, Radiation Prior to Resection':1,\n",
    " 'Yes; bilateral':1,\n",
    " 'Yes; left testicle only':1,\n",
    " 'Yes; right testicle only':1,\n",
    " 'negative':0,\n",
    " 'positive':1,\n",
    "}\n",
    "for var in keep[keep[\"coding\"]==\"map\"][\"var\"].unique():\n",
    "    surv_clean[var]=surv_clean[var].map(mp_map)  \n",
    "\n",
    "#clean staging\n",
    "surv_clean[\"pathologic_T\"]=surv_clean[\"pathologic_T\"].str[0:2]\n",
    "surv_clean[\"pathologic_N\"]=surv_clean[\"pathologic_N\"].str[0:2]\n",
    "surv_clean[\"pathologic_M\"]=surv_clean[\"pathologic_M\"].str[0:2]\n",
    "surv_clean[\"pathologic_stage\"]=surv_clean[\"pathologic_stage\"].str.replace(\"A\",\"\")\n",
    "surv_clean[\"pathologic_stage\"]=surv_clean[\"pathologic_stage\"].str.replace(\"B\",\"\")\n",
    "surv_clean[\"pathologic_stage\"]=surv_clean[\"pathologic_stage\"].str.replace(\"C\",\"\")\n",
    "surv_clean[\"pathologic_stage\"]=surv_clean[\"pathologic_stage\"].replace(\"Stage X\",np.nan)\n",
    "surv_clean['pathologic_stage'] = surv_clean['pathologic_stage'].replace({'Stage 0':0,'Stage I': 1,'Stage II': 2,'Stage III': 3,'Stage IV': 4,'Stage IS':0,'I or II NOS':0})\n",
    "\n",
    "#dummy code specified variables\n",
    "mp_dummy={}\n",
    "for x in keep[keep[\"coding\"]==\"dummy\"][\"var\"].unique():\n",
    "    print(x)\n",
    "    df_dummy=pd.get_dummies(surv_clean[x])\n",
    "    df_dummy.columns=[col+\"_\"+x for col in df_dummy.columns]\n",
    "    mp_dummy[x]=df_dummy.columns.tolist()\n",
    "    surv_clean=surv_clean.join(df_dummy)\n",
    "    del surv_clean[x]\n",
    "    if \"None\" in surv_clean.columns:\n",
    "        del surv_clean[\"None\"]\n",
    "    if \"Other\" in surv_clean.columns:\n",
    "        del surv_clean[\"Other\"]\n",
    "    \n",
    "surv=pd.read_csv(\"/cellar/users/mpagadal/resources/from-labmembers/andrea/Liu2018.TCGA_survival.csv\")\n",
    "surv=surv[[\"bcr_patient_barcode\",\"gender\",\"age_at_initial_pathologic_diagnosis\",\"type\",\"OS\",\"OS.time\",\"PFI\",\"PFI.time\"]]\n",
    "surv=pd.merge(surv,surv_clean,on=\"bcr_patient_barcode\",how=\"left\")\n",
    "surv[\"gender\"]=surv[\"gender\"].map({\"MALE\":0,\"FEMALE\":1})\n",
    "\n",
    "del surv[\"T0_pathologic_T\"]\n",
    "del surv[\"TX_pathologic_T\"]\n",
    "del surv[\"Ti_pathologic_T\"]\n",
    "del surv[\"T1_pathologic_T\"]\n",
    "\n",
    "del surv[\"MX_pathologic_M\"]\n",
    "del surv[\"cM_pathologic_M\"]\n",
    "del surv[\"M0_pathologic_M\"]\n",
    "\n",
    "del surv[\"N0_pathologic_N\"]\n",
    "del surv[\"NX_pathologic_N\"]\n",
    "\n",
    "del surv[\"Indeterminate (neither Pre or Postmenopausal)_menopause_status\"]\n",
    "del surv[\"No History of Primary Risk Factors_hist_hepato_carc_fact\"]\n",
    "del surv[\"Other_hist_hepato_carc_fact\"]\n",
    "del surv[\"lymph_node_examined_count\"]\n",
    "del surv[\"synchronous_colon_cancer_present\"]\n",
    "del surv[\"pathologic_stage\"]\n",
    "\n",
    "del surv[\"GX_neoplasm_histologic_grade\"]\n",
    "del surv[\"G1_neoplasm_histologic_grade\"]\n",
    "\n",
    "del surv[\"Current Reformed Smoker, Duration Not Specified_tobacco_smoking_history\"]\n",
    "del surv[\"Current reformed smoker for < or = 15 years_tobacco_smoking_history\"]\n",
    "del surv[\"Current reformed smoker for > 15 years_tobacco_smoking_history\"]\n",
    "del surv[\"history_of_neoadjuvant_treatment\"]\n",
    "\n",
    "surv[\"alcohol\"]=surv[[x for x in surv.columns if \"Alcohol consumption\" in x]].sum(axis=1)\n",
    "surv[\"NAFLD\"]=surv[[x for x in surv.columns if \"Nonalcoholic Fatty Liver Diseas\" in x]].sum(axis=1)\n",
    "surv[\"hepatitis\"]=surv[[x for x in surv.columns if \"Hepatitis\" in x]].sum(axis=1)\n",
    "\n"
   ]
  },
  {
   "cell_type": "code",
   "execution_count": null,
   "id": "572b565a-5c60-499f-9c88-9e45bcb160d3",
   "metadata": {},
   "outputs": [],
   "source": [
    "#merge snps onto clinical file\n",
    "raw=pd.read_csv(\"/cellar/users/mpagadal/projects/germline-immune/data/genotypes/all.time.raw\",delim_whitespace=True)\n",
    "raw=raw.rename(columns={\"FID\":\"bcr_patient_barcode\"})\n",
    "surv=pd.merge(surv,raw,on=\"bcr_patient_barcode\")"
   ]
  },
  {
   "cell_type": "code",
   "execution_count": null,
   "id": "936c6712-5d13-447b-93d9-712682f2c7b5",
   "metadata": {},
   "outputs": [],
   "source": [
    "#get snps\n",
    "prog_snps=surv_fdr[surv_fdr[\"P\"]<fdr_thresh][\"ID\"].unique().tolist()\n",
    "prog_snps=[x.split(\"_\")[0] for x in prog_snps]\n",
    "\n",
    "rsid_lst=[]\n",
    "for snp in prog_snps:\n",
    "    try:\n",
    "        rsid_lst.append([x for x in surv.columns if snp.rsplit(\":\",2)[0] in x][0])\n",
    "    except:\n",
    "        print(snp)"
   ]
  },
  {
   "cell_type": "code",
   "execution_count": null,
   "id": "9e9713cd-dd9b-4acc-b605-1f7bcb5b7e04",
   "metadata": {},
   "outputs": [],
   "source": [
    "canc_counts=surv_clean[\"acronym\"].value_counts().reset_index()\n",
    "canc_keep=canc_counts[canc_counts[\"acronym\"]>100][\"index\"].tolist()"
   ]
  },
  {
   "cell_type": "code",
   "execution_count": null,
   "id": "150b0764-503d-4f98-a784-348f857a2f47",
   "metadata": {},
   "outputs": [],
   "source": [
    "#Create OS surv dataframe and split 70/30 by each cancer type\n",
    "\n",
    "os_surv=make_surv_df(\"/cellar/users/mpagadal/resources/from-labmembers/andrea/Liu2018.TCGA_survival.csv\",\"OS\",\"/cellar/users/mpagadal/projects/germline-immune/data/genotypes/all.time.raw\")\n",
    "pfi_surv=make_surv_df(\"/cellar/users/mpagadal/resources/from-labmembers/andrea/Liu2018.TCGA_survival.csv\",\"PFI\",\"/cellar/users/mpagadal/projects/germline-immune/data/genotypes/all.time.raw\")\n"
   ]
  },
  {
   "cell_type": "code",
   "execution_count": null,
   "id": "f594c35d-ae40-4035-8db0-d228488ed105",
   "metadata": {},
   "outputs": [],
   "source": [
    "from sklearn.model_selection import train_test_split\n",
    "\n",
    "os_test=pd.DataFrame()\n",
    "os_train=pd.DataFrame()\n",
    "\n",
    "for cancer in np.unique(os_surv[\"cancer\"]):\n",
    "    \n",
    "    temp_train,temp_test=train_test_split(os_surv[os_surv[\"cancer\"]==cancer],test_size=0.3,random_state=random_state)\n",
    "    os_test=os_test.append(temp_test)\n",
    "    os_train=os_train.append(temp_train)\n",
    "\n",
    "surv_filt=surv.drop([\"gender\",\"age_at_initial_pathologic_diagnosis\",\"type\",\"OS\",\"OS.time\",\"PFI\",\"PFI.time\",\"acronym\"],axis=1)\n",
    "surv_filt=surv_filt.drop(surv_filt.filter(like=\":\").columns.values,axis=1)\n",
    "\n",
    "#merge additional covariates into df\n",
    "os_test=pd.merge(os_test,surv_filt,left_on=\"FID\",right_on=\"bcr_patient_barcode\")\n",
    "os_train=pd.merge(os_train,surv_filt,left_on=\"FID\",right_on=\"bcr_patient_barcode\")\n"
   ]
  },
  {
   "cell_type": "code",
   "execution_count": null,
   "id": "56f03af0-9904-40ec-ada5-798c23c1f0e1",
   "metadata": {
    "tags": []
   },
   "outputs": [],
   "source": [
    "#run coxph analysis on test datasets, keep cov column for analysis on training datasets\n",
    "\n",
    "df_coxph = pd.DataFrame()\n",
    "cancer_test=[]\n",
    "cov_cols=[]\n",
    "\n",
    "for i,row in supp_table[supp_table[\"index\"].isin(canc_keep)].iterrows():\n",
    "    print(row[\"index\"])\n",
    "    \n",
    "    for snp in rsid_lst:\n",
    "        temp_df = os_test[os_test[\"cancer\"]==row[\"index\"]]\n",
    "        temp_df=temp_df[~temp_df[snp].isnull()]\n",
    "        \n",
    "        if len(temp_df[snp].value_counts())>1:       \n",
    "            cov_col=row[\"var\"].split(\",\")\n",
    "            for x in cov_col:\n",
    "                if x in [x for x in mp_dummy.keys()]:\n",
    "                    cov_col=cov_col+mp_dummy[x]\n",
    "            cov_col=[x for x in cov_col if x in surv.columns]\n",
    "            cov_col=[x for x in cov_col if len(temp_df[x].value_counts()) > 1]\n",
    "            \n",
    "            if len(temp_df[\"gender\"].value_counts())>1:\n",
    "                temp_df = temp_df[['age_at_initial_pathologic_diagnosis',snp,\"gender\",\"OS\",'OS.time']+cov_col]\n",
    "            else:\n",
    "                temp_df = temp_df[['age_at_initial_pathologic_diagnosis',snp,\"OS\",'OS.time']+cov_col]\n",
    "                \n",
    "            #possibly use this line?\n",
    "            #temp_df=temp_df.drop(list(temp_df.var().index[temp_df.var()<0.01]),axis=1)\n",
    "            \n",
    "            temp_df=temp_df.fillna(0)\n",
    "            cph = CoxPHFitter(penalizer=0.01)\n",
    "            cph.fit(temp_df, event_col=\"OS\", duration_col='OS.time')\n",
    "            cancer_test.append(row[\"index\"])\n",
    "            cov_cols.append(cov_col)\n",
    "            df_coxph  = df_coxph.append(cph.summary.loc[[snp]])\n"
   ]
  },
  {
   "cell_type": "code",
   "execution_count": null,
   "id": "ea8de23e-87c1-4ebb-b092-1c0148a851a2",
   "metadata": {},
   "outputs": [],
   "source": [
    "x=pd.DataFrame(zip(cancer_test,cov_cols))\n",
    "cov_col_table=x[~x[0].duplicated()]\n",
    "cov_col_table=cov_col_table.set_index(0)\n",
    "cov_col_table[\"index\"]=cov_col_table.index"
   ]
  },
  {
   "cell_type": "code",
   "execution_count": null,
   "id": "aa55d40a-a638-47ee-9c1a-fbb009e6138d",
   "metadata": {
    "tags": []
   },
   "outputs": [],
   "source": [
    "#run coxph analysis on TRAIN datasets, use cov column from analysis on test datasets\n",
    "\n",
    "df_coxph_train = pd.DataFrame()\n",
    "cancer_train=[]\n",
    "\n",
    "for i,row in cov_col_table.iterrows():\n",
    "    print(row[\"index\"])\n",
    "    \n",
    "    for snp in rsid_lst:\n",
    "        temp_df = os_train[os_train[\"cancer\"]==row[\"index\"]]\n",
    "        temp_df=temp_df[~temp_df[snp].isnull()]\n",
    "        \n",
    "        cov_col=row[1]\n",
    "            \n",
    "        if max(temp_df[snp])==0:\n",
    "            continue\n",
    "        if len(temp_df[\"gender\"].value_counts())>1:\n",
    "            temp_df = temp_df[['age_at_initial_pathologic_diagnosis',snp,\"gender\",\"OS\",'OS.time']+cov_col]\n",
    "        else:\n",
    "            temp_df = temp_df[['age_at_initial_pathologic_diagnosis',snp,\"OS\",'OS.time']+cov_col] \n",
    "        \n",
    "        temp_df=temp_df.drop(list(temp_df.var().index[temp_df.var()<0.01]),axis=1) #seems to be necessary\n",
    "\n",
    "        temp_df=temp_df.fillna(0)\n",
    "        cph = CoxPHFitter(penalizer=0.01)\n",
    "        cph.fit(temp_df, event_col=\"OS\", duration_col='OS.time')\n",
    "        cancer_train.append(row[\"index\"])\n",
    "        df_coxph_train  = df_coxph_train.append(cph.summary.loc[[snp]])\n"
   ]
  },
  {
   "cell_type": "code",
   "execution_count": null,
   "id": "b0620fd3-43c7-4182-832b-bbb5be234e86",
   "metadata": {},
   "outputs": [],
   "source": [
    "#Insert snp character column, add cancer index\n",
    "\n",
    "df_coxph[\"proxy_variant_chars\"]=df_coxph.index\n",
    "df_coxph_train[\"proxy_variant_chars\"]=df_coxph_train.index\n",
    "\n",
    "df_coxph[\"cancer\"]=cancer_test\n",
    "df_coxph_train[\"cancer\"]=cancer_train"
   ]
  },
  {
   "cell_type": "code",
   "execution_count": null,
   "id": "1bb45eba-9676-436f-bb44-e9e53ef19089",
   "metadata": {},
   "outputs": [],
   "source": [
    "#Apply beta values from respective coxph dataset to respective surv dataset\n",
    "os_test_beta=os_test.copy()\n",
    "os_train_beta=os_train.copy()\n",
    "\n",
    "for i,row in df_coxph.iterrows():\n",
    "    if row[\"proxy_variant_chars\"] in os_test and not np.isnan(row[\"coef\"]):\n",
    "        os_test_beta.loc[os_test_beta[\"cancer\"]==row[\"cancer\"],i]=os_test.loc[os_test[\"cancer\"]==row[\"cancer\"],i]*row[\"coef\"]\n",
    "\n",
    "for i,row in df_coxph_train.iterrows():\n",
    "    if row[\"proxy_variant_chars\"] in os_train and not np.isnan(row[\"coef\"]):\n",
    "        os_train_beta.loc[os_train_beta[\"cancer\"]==row[\"cancer\"],i]=os_train[i][os_train[\"cancer\"]==row[\"cancer\"]]*row[\"coef\"]\n"
   ]
  },
  {
   "cell_type": "code",
   "execution_count": null,
   "id": "c81fa848-a110-40fa-add4-85c0f65695e6",
   "metadata": {},
   "outputs": [],
   "source": [
    "#Save beta dataframes\n",
    "#os_train_beta.to_csv(\"/cellar/users/tsears/projects/germline-immune/data/fig5/os_train_beta.csv\",sep=\"\\t\")\n",
    "#os_test_beta.to_csv(\"/cellar/users/tsears/projects/germline-immune/data/fig5/os_test_beta.csv\",sep=\"\\t\")\n",
    "#cov_col_table.to_csv(\"/cellar/users/tsears/projects/germline-immune/data/fig5/OS_covariate_table\",sep=\"\\t\")"
   ]
  },
  {
   "cell_type": "code",
   "execution_count": null,
   "id": "97d54063-ac9d-4b73-b0fa-5fc01c2fb2d5",
   "metadata": {
    "tags": []
   },
   "outputs": [],
   "source": [
    "#Create grand for loop to produce plots for everything\n",
    "from sklearn.linear_model import Lasso\n",
    "import sklearn.metrics as metrics\n",
    "import xgboost\n",
    "from sklearn.model_selection import cross_val_score\n",
    "from sklearn.model_selection import RepeatedKFold\n",
    "    \n",
    "#Loop through lasso, drop snps, input list of hyperparams as well as respective cancer types\n",
    "#store coxph outcomes into final df for easy final plotting\n",
    "#run for loop by index and use 3 separate lists for input info?\n",
    "\n",
    "#### part 1, lasso model ####\n",
    "km_curve=\"off\"\n",
    "cancer_list=cov_col_table[\"index\"]\n",
    "cancer_list=cancer_list.drop(\"TGCT\") #too few samples, very noisy\n",
    "cancer_list=cancer_list.drop(\"THCA\") #too few samples, very noisy\n",
    "\n",
    "alphas=[0.005,0.0001,0.01,0.005,0.001,0.0001,0.0001,0.01,0.002,0.00045,0.001,0.0001,0.00001,0.0001,0.000001]\n",
    "#.      BLCA.  BRCA. COAD ESCA. HNSC  KICH  KIRC.  KIRP.  LIHC   LUAD.   LUSC.  PAAD   READ.   SKCM   STAD.  \n",
    "\n",
    "hazard_list=pd.DataFrame()\n",
    "all_survival_snps=pd.DataFrame()\n",
    "\n",
    "for i in range(len(cancer_list)):\n",
    "    \n",
    "    surv_fdr_drop=surv_fdr[surv_fdr[\"cancer\"]==cancer_list[i]]\n",
    "    surv_fdr_drop=surv_fdr_drop[surv_fdr_drop[\"survival\"]==\"OS\"]\n",
    "    surv_fdr_drop=surv_fdr_drop[surv_fdr_drop[\"logrank p\"]<0.05]\n",
    "    \n",
    "    cols_to_drop=np.setdiff1d(os_train_beta.filter(like=\":\").columns.values.tolist(),surv_fdr_drop[\"snps\"].to_list()).tolist()\n",
    "    \n",
    "    train_df=os_train_beta[os_train_beta[\"cancer\"]==cancer_list[i]]\n",
    "    test_df=os_test_beta[os_test_beta[\"cancer\"]==cancer_list[i]]\n",
    "    \n",
    "    train_df=train_df.drop(cols_to_drop,axis=1)\n",
    "    test_df=test_df.drop(cols_to_drop,axis=1)\n",
    "    \n",
    "    print(train_df.shape)\n",
    "    \n",
    "    train_y=train_df[\"OS\"]\n",
    "    test_y=test_df[\"OS\"]\n",
    "    \n",
    "    train_x=train_df.filter(like=\":\")\n",
    "    test_x=test_df.filter(like=\":\")\n",
    "\n",
    "    #write out per cancer SNP lists if you like\n",
    "    #pd.Series(train_x.columns.values).to_csv(\"/cellar/users/tsears/projects/germline-immune/data/fig5/\"+cancer_list[i]+\"_filtered_SNP_list_OS.txt\",sep=\"\\t\",index=False,header=False)\n",
    "    \n",
    "    #filter using LASSO regression\n",
    "\n",
    "    # define mode\n",
    "    model = Lasso(alpha=alphas[i],random_state=random_state)\n",
    "    # fit model\n",
    "    model.fit(train_x, train_y)\n",
    "    p = model.predict(train_x)  # test the output by changing values\n",
    "\n",
    "    #Find model that gives best AUC, do a cutoff of weakest contributing SNPS, then run all analysis portions\n",
    "    # calculate the fpr and tpr for all thresholds of the classification\n",
    "    #preds = np.around(p, decimals=0, out=None)\n",
    "\n",
    "    preds=p\n",
    "\n",
    "    fpr, tpr, threshold = metrics.roc_curve(list(test_y), preds,pos_label=1)\n",
    "    roc_auc = metrics.auc(fpr, tpr)\n",
    "\n",
    "    print(roc_auc)\n",
    "    import matplotlib.pyplot as plt\n",
    "\n",
    "    #### part 2 ####\n",
    "\n",
    "    #remake SNP list with dropped \"useless\" SNPs\n",
    "    print(\"SNPs dropped = \",len(train_x.columns.values[model.coef_==0].tolist()),\"out of \",len(train_x.columns.values))\n",
    "    train_df=train_df.drop(train_x.columns.values[model.coef_==0].tolist(),axis=1)\n",
    "    test_df=test_df.drop(test_x.columns.values[model.coef_==0].tolist(),axis=1)\n",
    "    \n",
    "    surv_fdr_drop=surv_fdr_drop[~surv_fdr_drop[\"snps\"].isin(test_x.columns.values[model.coef_==0].tolist())]\n",
    "    all_survival_snps=all_survival_snps.append(surv_fdr_drop)\n",
    "    \n",
    "    #re-drop non cancer-related snps as well\n",
    "    train_x=train_df.filter(like=\":\")\n",
    "    test_x=test_df.filter(like=\":\")\n",
    "    \n",
    "    regressor_xgb = xgboost.XGBRFRegressor(n_estimators = 300, random_state = random_state,learning_rate=0.5,max_depth=9)\n",
    "    regressor_xgb.fit(train_x, train_y)  \n",
    "\n",
    "    p = regressor_xgb.predict(test_x)  # test the output by changing values\n",
    "    p_disc=regressor_xgb.predict(train_x)\n",
    "\n",
    "    test_df[\"LASSO_burden\"]=p*100\n",
    "    train_df[\"LASSO_burden\"]=p_disc*100\n",
    "\n",
    "    #fig = plt.figure(figsize=(5,5))\n",
    "\n",
    "    #sns.violinplot(x=\"OS\",y=\"LASSO_burden\",data=test_df)\n",
    "\n",
    "    cat1 = test_df[test_df[\"OS\"]==0]\n",
    "    cat2 = test_df[test_df[\"OS\"]==1]\n",
    "    print(\"mannWhitnetPredScore=\",stats.mannwhitneyu(cat1[\"LASSO_burden\"], cat2[\"LASSO_burden\"])[1])\n",
    "\n",
    "    #now do hazard plot on PRS scores generated...\n",
    "    test_df_coxPH=test_df[list(np.append(['Stage II', 'Stage III', 'Stage I','ajcc_pathologic_tumor_stage',\n",
    "            'OS', 'OS.time',\n",
    "           'age_at_initial_pathologic_diagnosis',\n",
    "           'LASSO_burden'],cov_col_table.loc[cancer_list[i],1]))]\n",
    "    \n",
    "    #filter covariates that throw errors due to low variance\n",
    "    test_df_coxPH=test_df_coxPH.drop(list(test_df_coxPH.var().index[test_df_coxPH.var()<0.01]),axis=1) #seems to be necessary\n",
    "    test_df_coxPH=test_df_coxPH.fillna(0)\n",
    "\n",
    "    cph = CoxPHFitter(penalizer=0.01)\n",
    "\n",
    "    cph.fit(test_df_coxPH, duration_col = 'OS.time', event_col = 'OS')\n",
    "    print(cancer_list[i])\n",
    "    print(cph.summary.loc[\"LASSO_burden\"])\n",
    "    \n",
    "    hazard_list=hazard_list.append(cph.summary.loc[\"LASSO_burden\"])\n",
    "    \n",
    "    if km_curve==\"on\":\n",
    "        #plot KM curve\n",
    "        surv_df_canc=test_df_coxPH\n",
    "\n",
    "        fig=plt.figure(figsize=(5,5))\n",
    "        ax1 = plt.subplot(1,1,1)\n",
    "\n",
    "        quantiles=np.quantile(surv_df_canc[\"LASSO_burden\"],[0,0.25,0.75,1])\n",
    "        surv_df_canc['group'] = pd.cut(surv_df_canc[\"LASSO_burden\"], quantiles, labels=[0,1,2])\n",
    "\n",
    "        kmf = KaplanMeierFitter()\n",
    "        kmf.fit(surv_df_canc[surv_df_canc['group']==2]['OS.time'], surv_df_canc[surv_df_canc['group']==2]['OS'],label=\"High, N=\"+str(surv_df_canc[surv_df_canc['group']==2].shape[0]))\n",
    "        kmf.plot(ci_show=False, ax=ax1)\n",
    "        kmf.fit(surv_df_canc[surv_df_canc['group']==1]['OS.time'], surv_df_canc[surv_df_canc['group']==1]['OS'],label=\"Med, N=\"+str(surv_df_canc[surv_df_canc['group']==1].shape[0]))\n",
    "        kmf.plot(ci_show=False, ax=ax1)\n",
    "        kmf.fit(surv_df_canc[surv_df_canc['group']==0]['OS.time'], surv_df_canc[surv_df_canc['group']==0]['OS'],label=\"Low, N=\"+str(surv_df_canc[surv_df_canc['group']==0].shape[0]))\n",
    "        kmf.plot(ci_show=False, ax=ax1)\n",
    "\n",
    "        results = logrank_test(surv_df_canc[surv_df_canc[\"group\"]==2]['OS.time'], surv_df_canc[surv_df_canc[\"group\"]==0]['OS.time'],event_observed_A=surv_df_canc[surv_df_canc[\"group\"]==2]['OS'], event_observed_B=surv_df_canc[surv_df_canc[\"group\"]==0]['OS'], alpha=.95)\n",
    "        results2 = logrank_test(surv_df_canc[surv_df_canc[\"group\"]==2]['OS.time'], surv_df_canc[surv_df_canc[\"group\"]==1]['OS.time'],event_observed_A=surv_df_canc[surv_df_canc[\"group\"]==2]['OS'], event_observed_B=surv_df_canc[surv_df_canc[\"group\"]==1]['OS'], alpha=.95)\n",
    "        results3 = logrank_test(surv_df_canc[surv_df_canc[\"group\"]==1]['OS.time'], surv_df_canc[surv_df_canc[\"group\"]==0]['OS.time'],event_observed_A=surv_df_canc[surv_df_canc[\"group\"]==1]['OS'], event_observed_B=surv_df_canc[surv_df_canc[\"group\"]==0]['OS'], alpha=.95)\n",
    "\n",
    "        plt.ylabel('% survival')\n",
    "        plt.xlabel('OS time (days)')\n",
    "        plt.title(str(cancer_list[i])+\"\\n\"+\"High vs Low \"+str(np.round(results.p_value,4))+\"\\n\"+\"High vs Med \"+str(np.round(results2.p_value,4))+\"\\n\"+\"Med vs Low \"+str(np.round(results3.p_value,4)))\n",
    "        plt.legend(frameon=False)\n",
    "\n",
    "        plt.savefig(\"/cellar/users/tsears/projects/germline-immune/plots/fig5/\"+cancer_list[i]+\"_0.25_0.75_OS_KM.pdf\")\n",
    "    \n",
    "all_survival_snps.to_csv(\"/cellar/users/tsears/projects/germline-immune/data/fig6/OS_input_snps.txt\",sep=\"\\t\")\n",
    "    "
   ]
  },
  {
   "cell_type": "code",
   "execution_count": 365,
   "id": "c1fb3342-55e3-4e65-9c44-ebb31080db39",
   "metadata": {},
   "outputs": [
    {
     "data": {
      "text/plain": [
       "<matplotlib.lines.Line2D at 0x15551a589250>"
      ]
     },
     "execution_count": 365,
     "metadata": {},
     "output_type": "execute_result"
    },
    {
     "data": {
      "image/png": "[encoded data removed]",
      "text/plain": [
       "<Figure size 1080x216 with 1 Axes>"
      ]
     },
     "metadata": {
      "needs_background": "light"
     },
     "output_type": "display_data"
    }
   ],
   "source": [
    "haz_plot_=hazard_list\n",
    "haz_plot_.index=cancer_list\n",
    "haz_plot_[\"Cancer Type\"]=cancer_list\n",
    "haz_plot_=haz_plot_.drop(haz_plot_.index[abs(haz_plot_[\"coef\"])>1][0])\n",
    "haz_plot_=fdr(haz_plot_,False,\"p\")\n",
    "haz_plot_=haz_plot_.sort_values(by=\"exp(coef)\",ascending=True)\n",
    "plt.figure(figsize=(15,3))\n",
    "plt.errorbar(x=haz_plot_[\"Cancer Type\"].tolist(),y=haz_plot_[\"exp(coef)\"].tolist(),yerr=haz_plot_[\"se(coef)\"].tolist(),fmt=\"o\")\n",
    "haz_plot_thresh=haz_plot_[haz_plot_[\"fdr\"]<0.05]\n",
    "plt.errorbar(x=haz_plot_thresh[\"Cancer Type\"].tolist(),y=haz_plot_thresh[\"exp(coef)\"].tolist(),yerr=haz_plot_thresh[\"se(coef)\"].tolist(),fmt=\"o\",color=\"red\")\n",
    "plt.xlabel(\"Cancer Type\")\n",
    "plt.ylabel(\"Hazard Ratio\")\n",
    "plt.axhline(1,linestyle=\"--\",color=\"gray\")\n",
    "#plt.savefig(\"/cellar/users/tsears/projects/germline-immune/plots/fig5/cancer_risk_OS_hazardV2_long.pdf\")"
   ]
  },
  {
   "cell_type": "code",
   "execution_count": 366,
   "id": "e0007387-3092-4fde-bcb7-12e3514acfa3",
   "metadata": {},
   "outputs": [
    {
     "data": {
      "text/plain": [
       "299"
      ]
     },
     "execution_count": 366,
     "metadata": {},
     "output_type": "execute_result"
    }
   ],
   "source": [
    "len(all_survival_snps[\"snps\"].unique())"
   ]
  },
  {
   "cell_type": "code",
   "execution_count": 138,
   "id": "2a26545e-146b-4076-bf6a-ed462a8f6075",
   "metadata": {
    "collapsed": true,
    "jupyter": {
     "outputs_hidden": true,
     "source_hidden": true
    },
    "tags": []
   },
   "outputs": [
    {
     "data": {
      "image/png": "[encoded data removed]",
      "text/plain": [
       "<Figure size 360x360 with 1 Axes>"
      ]
     },
     "metadata": {
      "needs_background": "light"
     },
     "output_type": "display_data"
    }
   ],
   "source": [
    "def kaplan_plot_lung(df,cancers):\n",
    "    \n",
    "    surv_df_canc=df\n",
    "\n",
    "    fig=plt.figure(figsize=(5,5))\n",
    "    ax1 = plt.subplot(1,1,1)\n",
    "\n",
    "    quantiles=np.quantile(surv_df_canc[\"LASSO_burden\"],[0,0.25,0.75,1])\n",
    "    surv_df_canc['group'] = pd.cut(surv_df_canc[\"LASSO_burden\"], quantiles, labels=[0,1,2])\n",
    "    \n",
    "    kmf = KaplanMeierFitter()\n",
    "    kmf.fit(surv_df_canc[surv_df_canc['group']==2]['OS.time'], surv_df_canc[surv_df_canc['group']==2]['OS'],label=\"High, N=\"+str(surv_df_canc[surv_df_canc['group']==2].shape[0]))\n",
    "    kmf.plot(ci_show=False, ax=ax1)\n",
    "    kmf.fit(surv_df_canc[surv_df_canc['group']==1]['OS.time'], surv_df_canc[surv_df_canc['group']==1]['OS'],label=\"Med, N=\"+str(surv_df_canc[surv_df_canc['group']==1].shape[0]))\n",
    "    kmf.plot(ci_show=False, ax=ax1)\n",
    "    kmf.fit(surv_df_canc[surv_df_canc['group']==0]['OS.time'], surv_df_canc[surv_df_canc['group']==0]['OS'],label=\"Low, N=\"+str(surv_df_canc[surv_df_canc['group']==0].shape[0]))\n",
    "    kmf.plot(ci_show=False, ax=ax1)\n",
    "    \n",
    "    results = logrank_test(surv_df_canc[surv_df_canc[\"group\"]==2]['OS.time'], surv_df_canc[surv_df_canc[\"group\"]==0]['OS.time'],event_observed_A=surv_df_canc[surv_df_canc[\"group\"]==2]['OS'], event_observed_B=surv_df_canc[surv_df_canc[\"group\"]==0]['OS'], alpha=.95)\n",
    "    results2 = logrank_test(surv_df_canc[surv_df_canc[\"group\"]==2]['OS.time'], surv_df_canc[surv_df_canc[\"group\"]==1]['OS.time'],event_observed_A=surv_df_canc[surv_df_canc[\"group\"]==2]['OS'], event_observed_B=surv_df_canc[surv_df_canc[\"group\"]==1]['OS'], alpha=.95)\n",
    "    results3 = logrank_test(surv_df_canc[surv_df_canc[\"group\"]==1]['OS.time'], surv_df_canc[surv_df_canc[\"group\"]==0]['OS.time'],event_observed_A=surv_df_canc[surv_df_canc[\"group\"]==1]['OS'], event_observed_B=surv_df_canc[surv_df_canc[\"group\"]==0]['OS'], alpha=.95)\n",
    "\n",
    "    plt.ylabel('% survival')\n",
    "    plt.xlabel('OS time (days)')\n",
    "    plt.title(\"High vs Low \"+str(np.round(results.p_value,4))+\"\\n\"+\"High vs Med \"+str(np.round(results2.p_value,4))+\"\\n\"+\"Med vs Low \"+str(np.round(results3.p_value,4)))\n",
    "    plt.legend(frameon=False)\n",
    "    \n",
    "kaplan_plot_lung(test_df_coxPH,\"LUAD\")\n",
    "\n",
    "plt.savefig(\"/cellar/users/tsears/projects/germline-immune/plots/fig5/_0.25_0.75_LUAD_OS_KM.pdf\")\n",
    "            "
   ]
  },
  {
   "cell_type": "code",
   "execution_count": 142,
   "id": "75002847-38ab-45f9-9a35-45f661f178d3",
   "metadata": {
    "collapsed": true,
    "jupyter": {
     "outputs_hidden": true,
     "source_hidden": true
    },
    "tags": []
   },
   "outputs": [
    {
     "data": {
      "image/png": "[encoded data removed]",
      "text/plain": [
       "<Figure size 360x360 with 1 Axes>"
      ]
     },
     "metadata": {
      "needs_background": "light"
     },
     "output_type": "display_data"
    }
   ],
   "source": [
    "#BRCA\n",
    "surv_df_canc=test_df_coxPH\n",
    "\n",
    "fig=plt.figure(figsize=(5,5))\n",
    "ax1 = plt.subplot(1,1,1)\n",
    "\n",
    "quantiles=np.quantile(surv_df_canc[\"LASSO_burden\"],[0,0.3,0.7,1])\n",
    "surv_df_canc['group'] = pd.cut(surv_df_canc[\"LASSO_burden\"], quantiles, labels=[0,1,2])\n",
    "\n",
    "kmf = KaplanMeierFitter()\n",
    "kmf.fit(surv_df_canc[surv_df_canc['group']==2]['OS.time'], surv_df_canc[surv_df_canc['group']==2]['OS'],label=\"High, N=\"+str(surv_df_canc[surv_df_canc['group']==2].shape[0]))\n",
    "kmf.plot(ci_show=False, ax=ax1)\n",
    "kmf.fit(surv_df_canc[surv_df_canc['group']==1]['OS.time'], surv_df_canc[surv_df_canc['group']==1]['OS'],label=\"Med, N=\"+str(surv_df_canc[surv_df_canc['group']==1].shape[0]))\n",
    "kmf.plot(ci_show=False, ax=ax1)\n",
    "kmf.fit(surv_df_canc[surv_df_canc['group']==0]['OS.time'], surv_df_canc[surv_df_canc['group']==0]['OS'],label=\"Low, N=\"+str(surv_df_canc[surv_df_canc['group']==0].shape[0]))\n",
    "kmf.plot(ci_show=False, ax=ax1)\n",
    "\n",
    "results = logrank_test(surv_df_canc[surv_df_canc[\"group\"]==2]['OS.time'], surv_df_canc[surv_df_canc[\"group\"]==0]['OS.time'],event_observed_A=surv_df_canc[surv_df_canc[\"group\"]==2]['OS'], event_observed_B=surv_df_canc[surv_df_canc[\"group\"]==0]['OS'], alpha=.95)\n",
    "results2 = logrank_test(surv_df_canc[surv_df_canc[\"group\"]==2]['OS.time'], surv_df_canc[surv_df_canc[\"group\"]==1]['OS.time'],event_observed_A=surv_df_canc[surv_df_canc[\"group\"]==2]['OS'], event_observed_B=surv_df_canc[surv_df_canc[\"group\"]==1]['OS'], alpha=.95)\n",
    "results3 = logrank_test(surv_df_canc[surv_df_canc[\"group\"]==1]['OS.time'], surv_df_canc[surv_df_canc[\"group\"]==0]['OS.time'],event_observed_A=surv_df_canc[surv_df_canc[\"group\"]==1]['OS'], event_observed_B=surv_df_canc[surv_df_canc[\"group\"]==0]['OS'], alpha=.95)\n",
    "\n",
    "plt.ylabel('% survival')\n",
    "plt.xlabel('OS time (days)')\n",
    "plt.title(\"High vs Low \"+str(np.round(results.p_value,4))+\"\\n\"+\"High vs Med \"+str(np.round(results2.p_value,4))+\"\\n\"+\"Med vs Low \"+str(np.round(results3.p_value,4)))\n",
    "plt.legend(frameon=False)\n",
    "    \n",
    "plt.savefig(\"/cellar/users/tsears/projects/germline-immune/plots/fig5/BRCA_OS_KM.pdf\")\n",
    "\n",
    "            "
   ]
  },
  {
   "cell_type": "code",
   "execution_count": null,
   "id": "db0be1bd-2ed6-426e-8319-b07bd288a2b3",
   "metadata": {
    "jupyter": {
     "source_hidden": true
    },
    "tags": []
   },
   "outputs": [],
   "source": [
    "#STAD\n",
    "surv_df_canc=test_df_coxPH\n",
    "\n",
    "fig=plt.figure(figsize=(5,5))\n",
    "ax1 = plt.subplot(1,1,1)\n",
    "\n",
    "quantiles=np.quantile(surv_df_canc[\"LASSO_burden\"],[0,0.25,0.75,1])\n",
    "surv_df_canc['group'] = pd.cut(surv_df_canc[\"LASSO_burden\"], quantiles, labels=[0,1,2])\n",
    "\n",
    "kmf = KaplanMeierFitter()\n",
    "kmf.fit(surv_df_canc[surv_df_canc['group']==2]['OS.time'], surv_df_canc[surv_df_canc['group']==2]['OS'],label=\"High, N=\"+str(surv_df_canc[surv_df_canc['group']==2].shape[0]))\n",
    "kmf.plot(ci_show=False, ax=ax1)\n",
    "kmf.fit(surv_df_canc[surv_df_canc['group']==1]['OS.time'], surv_df_canc[surv_df_canc['group']==1]['OS'],label=\"Med, N=\"+str(surv_df_canc[surv_df_canc['group']==1].shape[0]))\n",
    "kmf.plot(ci_show=False, ax=ax1)\n",
    "kmf.fit(surv_df_canc[surv_df_canc['group']==0]['OS.time'], surv_df_canc[surv_df_canc['group']==0]['OS'],label=\"Low, N=\"+str(surv_df_canc[surv_df_canc['group']==0].shape[0]))\n",
    "kmf.plot(ci_show=False, ax=ax1)\n",
    "\n",
    "results = logrank_test(surv_df_canc[surv_df_canc[\"group\"]==2]['OS.time'], surv_df_canc[surv_df_canc[\"group\"]==0]['OS.time'],event_observed_A=surv_df_canc[surv_df_canc[\"group\"]==2]['OS'], event_observed_B=surv_df_canc[surv_df_canc[\"group\"]==0]['OS'], alpha=.95)\n",
    "results2 = logrank_test(surv_df_canc[surv_df_canc[\"group\"]==2]['OS.time'], surv_df_canc[surv_df_canc[\"group\"]==1]['OS.time'],event_observed_A=surv_df_canc[surv_df_canc[\"group\"]==2]['OS'], event_observed_B=surv_df_canc[surv_df_canc[\"group\"]==1]['OS'], alpha=.95)\n",
    "results3 = logrank_test(surv_df_canc[surv_df_canc[\"group\"]==1]['OS.time'], surv_df_canc[surv_df_canc[\"group\"]==0]['OS.time'],event_observed_A=surv_df_canc[surv_df_canc[\"group\"]==1]['OS'], event_observed_B=surv_df_canc[surv_df_canc[\"group\"]==0]['OS'], alpha=.95)\n",
    "\n",
    "plt.ylabel('% survival')\n",
    "plt.xlabel('OS time (days)')\n",
    "plt.title(\"High vs Low \"+str(np.round(results.p_value,4))+\"\\n\"+\"High vs Med \"+str(np.round(results2.p_value,4))+\"\\n\"+\"Med vs Low \"+str(np.round(results3.p_value,4)))\n",
    "plt.legend(frameon=False)\n",
    "    \n",
    "plt.savefig(\"/cellar/users/tsears/projects/germline-immune/plots/fig5/STAD_OS_KM.pdf\")\n",
    "\n",
    "            "
   ]
  },
  {
   "cell_type": "code",
   "execution_count": null,
   "id": "e01d38b4-f990-4404-a1bd-074affade39c",
   "metadata": {
    "jupyter": {
     "source_hidden": true
    },
    "tags": []
   },
   "outputs": [],
   "source": [
    "#HNSC \n",
    "### THE CUTOFFS ARE DIFFERENT HERE!\n",
    "surv_df_canc=test_df_coxPH\n",
    "\n",
    "fig=plt.figure(figsize=(12,5))\n",
    "ax1 = plt.subplot(1,2,1)\n",
    "\n",
    "quantiles=np.quantile(surv_df_canc[\"LASSO_burden\"],[0,0.2,0.8,1])\n",
    "surv_df_canc['group'] = pd.cut(surv_df_canc[\"LASSO_burden\"], quantiles, labels=[0,1,2])\n",
    "\n",
    "kmf = KaplanMeierFitter()\n",
    "kmf.fit(surv_df_canc[surv_df_canc['group']==2]['OS.time'], surv_df_canc[surv_df_canc['group']==2]['OS'],label=\"High, N=\"+str(surv_df_canc[surv_df_canc['group']==2].shape[0]))\n",
    "kmf.plot(ci_show=False, ax=ax1)\n",
    "kmf.fit(surv_df_canc[surv_df_canc['group']==1]['OS.time'], surv_df_canc[surv_df_canc['group']==1]['OS'],label=\"Med, N=\"+str(surv_df_canc[surv_df_canc['group']==1].shape[0]))\n",
    "kmf.plot(ci_show=False, ax=ax1)\n",
    "kmf.fit(surv_df_canc[surv_df_canc['group']==0]['OS.time'], surv_df_canc[surv_df_canc['group']==0]['OS'],label=\"Low, N=\"+str(surv_df_canc[surv_df_canc['group']==0].shape[0]))\n",
    "kmf.plot(ci_show=False, ax=ax1)\n",
    "\n",
    "results = logrank_test(surv_df_canc[surv_df_canc[\"group\"]==2]['OS.time'], surv_df_canc[surv_df_canc[\"group\"]==0]['OS.time'],event_observed_A=surv_df_canc[surv_df_canc[\"group\"]==2]['OS'], event_observed_B=surv_df_canc[surv_df_canc[\"group\"]==0]['OS'], alpha=.95)\n",
    "results2 = logrank_test(surv_df_canc[surv_df_canc[\"group\"]==2]['OS.time'], surv_df_canc[surv_df_canc[\"group\"]==1]['OS.time'],event_observed_A=surv_df_canc[surv_df_canc[\"group\"]==2]['OS'], event_observed_B=surv_df_canc[surv_df_canc[\"group\"]==1]['OS'], alpha=.95)\n",
    "results3 = logrank_test(surv_df_canc[surv_df_canc[\"group\"]==1]['OS.time'], surv_df_canc[surv_df_canc[\"group\"]==0]['OS.time'],event_observed_A=surv_df_canc[surv_df_canc[\"group\"]==1]['OS'], event_observed_B=surv_df_canc[surv_df_canc[\"group\"]==0]['OS'], alpha=.95)\n",
    "\n",
    "plt.ylabel('% survival')\n",
    "plt.xlabel('OS time (days)')\n",
    "plt.title(\"High vs Low \"+str(np.round(results.p_value,4))+\"\\n\"+\"High vs Med \"+str(np.round(results2.p_value,4))+\"\\n\"+\"Med vs Low \"+str(np.round(results3.p_value,4)))\n",
    "plt.legend(frameon=False)\n",
    "\n",
    "plt.savefig(\"/cellar/users/tsears/projects/germline-immune/plots/fig5/HNSC_OS_KM.pdf\")\n",
    "\n",
    "    \n",
    "            "
   ]
  },
  {
   "cell_type": "code",
   "execution_count": null,
   "id": "f401d325-ea4e-4b6f-bd82-7a8c40763819",
   "metadata": {
    "jupyter": {
     "source_hidden": true
    },
    "tags": []
   },
   "outputs": [],
   "source": [
    "#LIHC\n",
    "surv_df_canc=test_df_coxPH\n",
    "\n",
    "fig=plt.figure(figsize=(12,5))\n",
    "ax1 = plt.subplot(1,2,1)\n",
    "\n",
    "quantiles=np.quantile(surv_df_canc[\"LASSO_burden\"],[0,0.25,0.75,1])\n",
    "surv_df_canc['group'] = pd.cut(surv_df_canc[\"LASSO_burden\"], quantiles, labels=[0,1,2])\n",
    "\n",
    "kmf = KaplanMeierFitter()\n",
    "kmf.fit(surv_df_canc[surv_df_canc['group']==2]['OS.time'], surv_df_canc[surv_df_canc['group']==2]['OS'],label=\"High, N=\"+str(surv_df_canc[surv_df_canc['group']==2].shape[0]))\n",
    "kmf.plot(ci_show=False, ax=ax1)\n",
    "kmf.fit(surv_df_canc[surv_df_canc['group']==1]['OS.time'], surv_df_canc[surv_df_canc['group']==1]['OS'],label=\"Med, N=\"+str(surv_df_canc[surv_df_canc['group']==1].shape[0]))\n",
    "kmf.plot(ci_show=False, ax=ax1)\n",
    "kmf.fit(surv_df_canc[surv_df_canc['group']==0]['OS.time'], surv_df_canc[surv_df_canc['group']==0]['OS'],label=\"Low, N=\"+str(surv_df_canc[surv_df_canc['group']==0].shape[0]))\n",
    "kmf.plot(ci_show=False, ax=ax1)\n",
    "\n",
    "results = logrank_test(surv_df_canc[surv_df_canc[\"group\"]==2]['OS.time'], surv_df_canc[surv_df_canc[\"group\"]==0]['OS.time'],event_observed_A=surv_df_canc[surv_df_canc[\"group\"]==2]['OS'], event_observed_B=surv_df_canc[surv_df_canc[\"group\"]==0]['OS'], alpha=.95)\n",
    "results2 = logrank_test(surv_df_canc[surv_df_canc[\"group\"]==2]['OS.time'], surv_df_canc[surv_df_canc[\"group\"]==1]['OS.time'],event_observed_A=surv_df_canc[surv_df_canc[\"group\"]==2]['OS'], event_observed_B=surv_df_canc[surv_df_canc[\"group\"]==1]['OS'], alpha=.95)\n",
    "results3 = logrank_test(surv_df_canc[surv_df_canc[\"group\"]==1]['OS.time'], surv_df_canc[surv_df_canc[\"group\"]==0]['OS.time'],event_observed_A=surv_df_canc[surv_df_canc[\"group\"]==1]['OS'], event_observed_B=surv_df_canc[surv_df_canc[\"group\"]==0]['OS'], alpha=.95)\n",
    "\n",
    "plt.ylabel('% survival')\n",
    "plt.xlabel('OS time (days)')\n",
    "plt.title(\"High vs Low \"+str(np.round(results.p_value,4))+\"\\n\"+\"High vs Med \"+str(np.round(results2.p_value,4))+\"\\n\"+\"Med vs Low \"+str(np.round(results3.p_value,4)))\n",
    "plt.legend(frameon=False)\n",
    "    \n",
    "plt.savefig(\"/cellar/users/tsears/projects/germline-immune/plots/fig5/LIHC_OS_KM.pdf\")\n",
    "\n",
    "            "
   ]
  },
  {
   "cell_type": "markdown",
   "id": "7c5c40b4-e605-4fd7-9159-f09cdb77053d",
   "metadata": {},
   "source": [
    "### Export LUAD RSIDs"
   ]
  },
  {
   "cell_type": "code",
   "execution_count": 183,
   "id": "69a9cc46-b903-44a9-a3bc-ebb82c40b3c9",
   "metadata": {
    "tags": []
   },
   "outputs": [],
   "source": [
    "#get LUAD SNPs and merge with df that has RSID info\n",
    "surv_fdr_LUAD=surv_fdr[surv_fdr[\"cancer\"]==\"LUAD\"]\n",
    "surv_fdr_LUAD=surv_fdr_LUAD[surv_fdr_LUAD[\"logrank p\"]<0.05]\n",
    "surv_fdr_LUAD[\"snps\"]=[x.split(\"_\")[0] for x in surv_fdr_LUAD[\"snps\"]]\n",
    "\n",
    "snps_rsid=snps[[\"rsid\",\"snps\"]]\n",
    "luad_rsid=pd.merge(surv_fdr_LUAD,snps_rsid,on=\"snps\",how=\"left\")\n",
    "#luad_rsid[\"rsid\"].drop_duplicates().to_csv(\"/cellar/users/tsears/projects/germline-immune/data/fig5/LUAD_OS_PFI_rsid.txt\",header=None,index=None)\n",
    "luad_rsid.to_csv(\"/cellar/users/tsears/projects/germline-immune/data/fig5/LUAD_OS_PFI_rsid.txt\",index=None,sep=\"\\t\")"
   ]
  },
  {
   "cell_type": "markdown",
   "id": "0515e0b5-9171-48af-9653-040a53ee0d6b",
   "metadata": {},
   "source": [
    "### Validation"
   ]
  },
  {
   "cell_type": "code",
   "execution_count": 15,
   "id": "43903dcc-6201-4cc6-bae1-d4125bd9f836",
   "metadata": {},
   "outputs": [],
   "source": [
    "sherlock=pd.read_csv(\"/cellar/users/tsears/projects/germline-immune/data/fig6/Sherlock_WGS_232_Gentoype_info.txt\",sep=\"\\t\")"
   ]
  },
  {
   "cell_type": "code",
   "execution_count": 16,
   "id": "6df66a88-e04e-461f-a7f5-e0b0ee803f34",
   "metadata": {},
   "outputs": [],
   "source": [
    "#SNPs need to match the minor allele that we called, for example, 21:46328099:C:T is reversed. The way to tell is raw=21:46328099:C:T_T vs sherlock=21:46328099:C:T \n",
    "# yet 1/1\tCC, where our call for that would be 1/1 = TT\n",
    "# Therefore, whenever there is discord like that you need to flag the SNP that needs to be switched."
   ]
  },
  {
   "cell_type": "code",
   "execution_count": 17,
   "id": "7b042685-81bf-4621-9318-a66efba390da",
   "metadata": {
    "collapsed": true,
    "jupyter": {
     "outputs_hidden": true
    },
    "tags": []
   },
   "outputs": [
    {
     "ename": "NameError",
     "evalue": "name 'raw' is not defined",
     "output_type": "error",
     "traceback": [
      "\u001b[0;31m---------------------------------------------------------------------------\u001b[0m",
      "\u001b[0;31mNameError\u001b[0m                                 Traceback (most recent call last)",
      "\u001b[0;32m/tmp/ipykernel_2476231/3459690336.py\u001b[0m in \u001b[0;36m<module>\u001b[0;34m\u001b[0m\n\u001b[1;32m      1\u001b[0m \u001b[0;31m#sherlock\u001b[0m\u001b[0;34m\u001b[0m\u001b[0;34m\u001b[0m\u001b[0;34m\u001b[0m\u001b[0m\n\u001b[0;32m----> 2\u001b[0;31m \u001b[0mraw_snp_filt\u001b[0m\u001b[0;34m=\u001b[0m\u001b[0mraw\u001b[0m\u001b[0;34m.\u001b[0m\u001b[0mfilter\u001b[0m\u001b[0;34m(\u001b[0m\u001b[0mlike\u001b[0m\u001b[0;34m=\u001b[0m\u001b[0;34m\":\"\u001b[0m\u001b[0;34m)\u001b[0m\u001b[0;34m\u001b[0m\u001b[0;34m\u001b[0m\u001b[0m\n\u001b[0m\u001b[1;32m      3\u001b[0m \u001b[0mraw_snp_cols\u001b[0m\u001b[0;34m=\u001b[0m\u001b[0mpd\u001b[0m\u001b[0;34m.\u001b[0m\u001b[0mDataFrame\u001b[0m\u001b[0;34m(\u001b[0m\u001b[0mraw_snp_filt\u001b[0m\u001b[0;34m.\u001b[0m\u001b[0mcolumns\u001b[0m\u001b[0;34m.\u001b[0m\u001b[0mvalues\u001b[0m\u001b[0;34m)\u001b[0m\u001b[0;34m\u001b[0m\u001b[0;34m\u001b[0m\u001b[0m\n\u001b[1;32m      4\u001b[0m \u001b[0mraw_snp_cols\u001b[0m\u001b[0;34m[\u001b[0m\u001b[0;34m\"snp\"\u001b[0m\u001b[0;34m]\u001b[0m\u001b[0;34m=\u001b[0m\u001b[0mraw_snp_cols\u001b[0m\u001b[0;34m[\u001b[0m\u001b[0;36m0\u001b[0m\u001b[0;34m]\u001b[0m\u001b[0;34m.\u001b[0m\u001b[0mstr\u001b[0m\u001b[0;34m.\u001b[0m\u001b[0mrsplit\u001b[0m\u001b[0;34m(\u001b[0m\u001b[0;34m\"_\"\u001b[0m\u001b[0;34m,\u001b[0m\u001b[0;36m2\u001b[0m\u001b[0;34m)\u001b[0m\u001b[0;34m.\u001b[0m\u001b[0mstr\u001b[0m\u001b[0;34m[\u001b[0m\u001b[0;36m0\u001b[0m\u001b[0;34m]\u001b[0m\u001b[0;34m\u001b[0m\u001b[0;34m\u001b[0m\u001b[0m\n\u001b[1;32m      5\u001b[0m \u001b[0mraw_snp_cols\u001b[0m\u001b[0;34m[\u001b[0m\u001b[0;34m\"alt\"\u001b[0m\u001b[0;34m]\u001b[0m\u001b[0;34m=\u001b[0m\u001b[0mraw_snp_cols\u001b[0m\u001b[0;34m[\u001b[0m\u001b[0;36m0\u001b[0m\u001b[0;34m]\u001b[0m\u001b[0;34m.\u001b[0m\u001b[0mstr\u001b[0m\u001b[0;34m.\u001b[0m\u001b[0mrsplit\u001b[0m\u001b[0;34m(\u001b[0m\u001b[0;34m\"_\"\u001b[0m\u001b[0;34m,\u001b[0m\u001b[0;36m2\u001b[0m\u001b[0;34m)\u001b[0m\u001b[0;34m.\u001b[0m\u001b[0mstr\u001b[0m\u001b[0;34m[\u001b[0m\u001b[0;36m1\u001b[0m\u001b[0;34m]\u001b[0m\u001b[0;34m\u001b[0m\u001b[0;34m\u001b[0m\u001b[0m\n",
      "\u001b[0;31mNameError\u001b[0m: name 'raw' is not defined"
     ]
    }
   ],
   "source": [
    "#sherlock\n",
    "raw_snp_filt=raw.filter(like=\":\")\n",
    "raw_snp_cols=pd.DataFrame(raw_snp_filt.columns.values)\n",
    "raw_snp_cols[\"snp\"]=raw_snp_cols[0].str.rsplit(\"_\",2).str[0]\n",
    "raw_snp_cols[\"alt\"]=raw_snp_cols[0].str.rsplit(\"_\",2).str[1]"
   ]
  },
  {
   "cell_type": "code",
   "execution_count": 18,
   "id": "32cdca4e-be18-4c6a-b4de-a1c1f41c7e08",
   "metadata": {
    "collapsed": true,
    "jupyter": {
     "outputs_hidden": true
    },
    "tags": []
   },
   "outputs": [
    {
     "ename": "NameError",
     "evalue": "name 'raw_snp_cols' is not defined",
     "output_type": "error",
     "traceback": [
      "\u001b[0;31m---------------------------------------------------------------------------\u001b[0m",
      "\u001b[0;31mNameError\u001b[0m                                 Traceback (most recent call last)",
      "\u001b[0;32m/tmp/ipykernel_2476231/4100431391.py\u001b[0m in \u001b[0;36m<module>\u001b[0;34m\u001b[0m\n\u001b[1;32m     13\u001b[0m         \u001b[0mletter\u001b[0m\u001b[0;34m=\u001b[0m\u001b[0mletter\u001b[0m\u001b[0;34m[\u001b[0m\u001b[0;36m0\u001b[0m\u001b[0;34m]\u001b[0m\u001b[0;34m\u001b[0m\u001b[0;34m\u001b[0m\u001b[0m\n\u001b[1;32m     14\u001b[0m \u001b[0;34m\u001b[0m\u001b[0m\n\u001b[0;32m---> 15\u001b[0;31m         \u001b[0mraw_snp_cols_subset\u001b[0m\u001b[0;34m=\u001b[0m\u001b[0mraw_snp_cols\u001b[0m\u001b[0;34m[\u001b[0m\u001b[0mraw_snp_cols\u001b[0m\u001b[0;34m[\u001b[0m\u001b[0;34m\"snp\"\u001b[0m\u001b[0;34m]\u001b[0m\u001b[0;34m==\u001b[0m\u001b[0msnp\u001b[0m\u001b[0;34m]\u001b[0m\u001b[0;34m\u001b[0m\u001b[0;34m\u001b[0m\u001b[0m\n\u001b[0m\u001b[1;32m     16\u001b[0m         \u001b[0mraw_snp_cols_subset\u001b[0m\u001b[0;34m=\u001b[0m\u001b[0mraw_snp_cols_subset\u001b[0m\u001b[0;34m[\u001b[0m\u001b[0;34m\"alt\"\u001b[0m\u001b[0;34m]\u001b[0m\u001b[0;34m\u001b[0m\u001b[0;34m\u001b[0m\u001b[0m\n\u001b[1;32m     17\u001b[0m         \u001b[0mraw_snp_letter\u001b[0m\u001b[0;34m=\u001b[0m\u001b[0mraw_snp_cols_subset\u001b[0m\u001b[0;34m.\u001b[0m\u001b[0miloc\u001b[0m\u001b[0;34m[\u001b[0m\u001b[0;36m0\u001b[0m\u001b[0;34m]\u001b[0m\u001b[0;34m\u001b[0m\u001b[0;34m\u001b[0m\u001b[0m\n",
      "\u001b[0;31mNameError\u001b[0m: name 'raw_snp_cols' is not defined"
     ]
    }
   ],
   "source": [
    "sherlock_snps=sherlock[\"snps\"].unique()\n",
    "sherlock_switch=sherlock.copy()\n",
    "\n",
    "for snp in sherlock_snps:\n",
    "    #get alt base from sherlock snp\n",
    "    #get matching alt base from raw dataset\n",
    "    #flip snps that don't match\n",
    "\n",
    "    sherlock_filt=sherlock[sherlock[\"snps\"]==snp]\n",
    "    sherlock_filt=sherlock_filt[sherlock_filt[\"Genotype_wgs\"]==\"1/1\"]\n",
    "    if sherlock_filt.shape[0]>0:\n",
    "        letter=sherlock_filt[\"Genotype2_wgs\"].unique()[0]\n",
    "        letter=letter[0]\n",
    "\n",
    "        raw_snp_cols_subset=raw_snp_cols[raw_snp_cols[\"snp\"]==snp]\n",
    "        raw_snp_cols_subset=raw_snp_cols_subset[\"alt\"]\n",
    "        raw_snp_letter=raw_snp_cols_subset.iloc[0]\n",
    "    \n",
    "        if letter==raw_snp_letter:\n",
    "            sherlock_switch.loc[sherlock_switch[\"snps\"]==snp,\"Genotype_wgs\"]=sherlock_switch.loc[sherlock_switch[\"snps\"]==snp,\"Genotype_wgs\"].map({\"0/0\":\"1/1\",\"0/1\":\"0/1\",\"1/1\":\"0/0\"})\n",
    "        \n",
    "#change 0/1, 1/1 genotype etc to 0,1,2\n",
    "sherlock_switch[\"Genotype_wgs\"]=sherlock_switch[\"Genotype_wgs\"].map({\"0/0\":0,\"0/1\":1,\"1/1\":2})\n",
    "\n",
    "\n",
    "    "
   ]
  },
  {
   "cell_type": "code",
   "execution_count": null,
   "id": "cfc9d860-219f-47af-9122-9d53fe6e5390",
   "metadata": {},
   "outputs": [],
   "source": [
    "sherlock_switch_wide=pd.pivot(sherlock_switch, index=\"Tumor_Barcode\", columns=\"snps\", values=\"Genotype_wgs\")"
   ]
  },
  {
   "cell_type": "code",
   "execution_count": null,
   "id": "9dc9d4d2-b225-433f-9353-48ccef24465a",
   "metadata": {},
   "outputs": [],
   "source": [
    "#Transform sherlock dataset into dataset to feed into model\n",
    "#Incorporate clinical data\n",
    "\n",
    "sherlock_clinical=pd.read_csv(\"/cellar/users/tsears/projects/germline-immune/data/fig6/Sherlock_WGS_232_clinical_info.txt\",sep=\"\\t\")\n",
    "\n",
    "#categorically encode covariates\n",
    "\n",
    "#subset by adenocarcinomas?\n",
    "\n",
    "#consider dropping pts with no AGE and/or with no survival data?\n",
    "\n",
    "sherlock_clinical[\"stage I\"]=0\n",
    "sherlock_clinical.loc[(np.logical_or(sherlock_clinical[\"stage\"]==\"IA\",sherlock_clinical[\"stage\"]==\"IB\")),\"stage I\"]=1\n",
    "\n",
    "sherlock_clinical[\"stage II\"]=0\n",
    "sherlock_clinical.loc[sherlock_clinical[\"stage\"]==\"II\",\"stage II\"]=1\n",
    "\n",
    "sherlock_clinical[\"stage III\"]=0\n",
    "sherlock_clinical.loc[sherlock_clinical[\"stage\"]==\"III\",\"stage III\"]=1\n",
    "\n",
    "del sherlock_clinical[\"stage\"]\n",
    "del sherlock_clinical[\"stage_info\"]\n",
    "\n",
    "#merge clinical data with genotype data\n",
    "sherlock_validation=pd.merge(sherlock_switch_wide,sherlock_clinical,left_index=True,right_on=\"Tumor_Barcode\")\n",
    "\n",
    "#Filter by histology and lack of survival data, also fill in missing age with mean of other pts\n",
    "sherlock_validation=sherlock_validation.loc[sherlock_validation[\"survival_months\"].notna(),:]\n",
    "sherlock_validation[\"gender\"].replace(['Female', 'Male'],\n",
    "                        [1, 0], inplace=True)\n",
    "sherlock_validation[\"passive_smoking\"].replace(['N', 'Y'],\n",
    "                        [0, 1], inplace=True)\n",
    "\n",
    "sherlock_validation=sherlock_validation.loc[sherlock_validation[\"Histology\"]==\"Adenocarcinomas\",:]\n",
    "sherlock_validation['age_at_diagnosis'].fillna((sherlock_validation['age_at_diagnosis'].mean()), inplace=True)\n"
   ]
  },
  {
   "cell_type": "markdown",
   "id": "1148763e-880b-48fa-b6c4-a146695ff377",
   "metadata": {},
   "source": [
    "### Reload LUAD model for verification"
   ]
  },
  {
   "cell_type": "code",
   "execution_count": null,
   "id": "8e68200c-259a-4529-a17f-26514d5dea2d",
   "metadata": {
    "tags": []
   },
   "outputs": [],
   "source": [
    "#Create grand for loop to produce plots for everything\n",
    "from sklearn.linear_model import Lasso\n",
    "import sklearn.metrics as metrics\n",
    "import xgboost\n",
    "from sklearn.model_selection import cross_val_score\n",
    "from sklearn.model_selection import RepeatedKFold\n",
    "    \n",
    "#Loop through lasso, drop snps, input list of hyperparams as well as respective cancer types\n",
    "#store coxph outcomes into final df for easy final plotting\n",
    "#run for loop by index and use 3 separate lists for input info?\n",
    "\n",
    "#### part 1, lasso model ####\n",
    "cancer_list=cov_col_table[\"index\"]\n",
    "cancer_list=cancer_list.drop(\"TGCT\")\n",
    "\n",
    "cancer_list=[\"LUAD\"]\n",
    "alphas=[0.00045] #alpha from ensemble model\n",
    "\n",
    "hazard_list_luad=pd.DataFrame()\n",
    "\n",
    "for i in range(len(cancer_list)):\n",
    "    \n",
    "    surv_fdr_drop=surv_fdr[surv_fdr[\"cancer\"]==cancer_list[i]]\n",
    "    surv_fdr_drop=surv_fdr_drop[surv_fdr_drop[\"survival\"]==\"OS\"]\n",
    "    surv_fdr_drop=surv_fdr_drop[surv_fdr_drop[\"logrank p\"]<0.05]\n",
    "    \n",
    "    cols_to_drop=np.setdiff1d(os_train_beta.filter(like=\":\").columns.values.tolist(),surv_fdr_drop[\"snps\"].to_list()).tolist() \n",
    "    \n",
    "    #for LUAD add snps relating to GGH and DHFR for supplementary figure drop AFTER lasso\n",
    "    #cols_to_drop=cols_to_drop+[\"5:79618047:C:T_T\",\"5:79955991:T:G_G\",\"8:63935457:T:C_C\",\"8:63976677:C:T_T\",]\n",
    "    \n",
    "    train_df=os_train_beta[os_train_beta[\"cancer\"]==cancer_list[i]]\n",
    "    test_df=os_test_beta[os_test_beta[\"cancer\"]==cancer_list[i]]\n",
    "    \n",
    "    train_df=train_df.drop(cols_to_drop,axis=1)\n",
    "    test_df=test_df.drop(cols_to_drop,axis=1)\n",
    "    \n",
    "    print(train_df.shape)\n",
    "    \n",
    "    train_y=train_df[\"OS\"]\n",
    "    test_y=test_df[\"OS\"]\n",
    "    \n",
    "    train_x=train_df.filter(like=\":\")\n",
    "    test_x=test_df.filter(like=\":\")\n",
    "\n",
    "    #pd.Series(train_x.columns.values).to_csv(\"/cellar/users/tsears/projects/germline-immune/data/fig5/\"+cancer_list[i]+\"_filtered_SNP_list_OS.txt\",sep=\"\\t\",index=False,header=False)\n",
    "                                       \n",
    "    #filter using LASSO regression\n",
    "\n",
    "    # define mode\n",
    "    model = Lasso(alpha=alphas[i],random_state=random_state)\n",
    "    # fit model\n",
    "    model.fit(train_x, train_y)\n",
    "    p = model.predict(train_x)  # test the output by changing values\n",
    "\n",
    "    #Find model that gives best AUC, do a cutoff of weakest contributing SNPS, then run all analysis portions\n",
    "    # calculate the fpr and tpr for all thresholds of the classification\n",
    "    #preds = np.around(p, decimals=0, out=None)\n",
    "\n",
    "    preds=p\n",
    "\n",
    "    fpr, tpr, threshold = metrics.roc_curve(list(test_y), preds,pos_label=1)\n",
    "    roc_auc = metrics.auc(fpr, tpr)\n",
    "\n",
    "    print(roc_auc)\n",
    "    import matplotlib.pyplot as plt\n",
    "\n",
    "    #### part 2 ####\n",
    "\n",
    "    #remake SNP list with dropped \"useless\" SNPs\n",
    "    print(\"SNPs dropped = \",len(train_x.columns.values[model.coef_==0].tolist()),\"out of \",len(train_x.columns.values))\n",
    "    train_df=train_df.drop(train_x.columns.values[model.coef_==0].tolist(),axis=1)\n",
    "    test_df=test_df.drop(test_x.columns.values[model.coef_==0].tolist(),axis=1)\n",
    "    \n",
    "    #re-drop non cancer-related snps as well\n",
    "    train_x=train_df.filter(like=\":\")\n",
    "    test_x=test_df.filter(like=\":\")\n",
    "    \n",
    "    regressor_xgb = xgboost.XGBRFRegressor(n_estimators = 300, random_state = random_state,learning_rate=0.5,max_depth=9)\n",
    "    regressor_xgb.fit(train_x, train_y)  \n",
    "\n",
    "    p = regressor_xgb.predict(test_x)  # test the output by changing values\n",
    "    p_disc=regressor_xgb.predict(train_x)\n",
    "\n",
    "    test_df[\"LASSO_burden\"]=p*100\n",
    "    train_df[\"LASSO_burden\"]=p_disc*100\n",
    "\n",
    "    #fig = plt.figure(figsize=(5,5))\n",
    "\n",
    "    #sns.violinplot(x=\"OS\",y=\"LASSO_burden\",data=test_df)\n",
    "\n",
    "    cat1 = test_df[test_df[\"OS\"]==0]\n",
    "    cat2 = test_df[test_df[\"OS\"]==1]\n",
    "    print(\"mannWhitnetPredScore=\",stats.mannwhitneyu(cat1[\"LASSO_burden\"], cat2[\"LASSO_burden\"])[1])\n",
    "\n",
    "    #plt.title(stats.mannwhitneyu(cat1[\"LASSO_burden\"], cat2[\"LASSO_burden\"])[1])\n",
    "\n",
    "    #plt.ylabel(\"burden (pvalue < 0.05) RF Regression\")\n",
    "    #plt.xticks(rotation=90)\n",
    "    #plt.savefig(\"/cellar/users/tsears/projects/germline-immune/plots/fig5/\"+cancer_list[i]+\"violinplot.pdf\")\n",
    "\n",
    "    #now do hazard plot on PRS scores generated...\n",
    "    test_df_coxPH=test_df[list(np.append(['Stage II', 'Stage III', 'Stage I','ajcc_pathologic_tumor_stage',\n",
    "            'OS', 'OS.time',\n",
    "           'age_at_initial_pathologic_diagnosis',\n",
    "           'LASSO_burden'],cov_col_table.loc[cancer_list[i],1]))]\n",
    "    \n",
    "    #filter covariates that throw errors due to low variance\n",
    "    test_df_coxPH=test_df_coxPH.drop(list(test_df_coxPH.var().index[test_df_coxPH.var()<0.01]),axis=1) #seems to be necessary\n",
    "    test_df_coxPH=test_df_coxPH.fillna(0)\n",
    "\n",
    "    cph = CoxPHFitter(penalizer=0.01)\n",
    "\n",
    "    cph.fit(test_df_coxPH, duration_col = 'OS.time', event_col = 'OS')\n",
    "    print(cancer_list[i])\n",
    "    #cph.print_summary()\n",
    "    print(cph.summary.loc[\"LASSO_burden\"])\n",
    "    \n",
    "    hazard_list_luad=hazard_list_luad.append(cph.summary.loc[\"LASSO_burden\"])\n",
    "\n",
    "    \n",
    "    "
   ]
  },
  {
   "cell_type": "code",
   "execution_count": 444,
   "id": "8b1a980a-d448-480e-9a44-13c82f0c5b16",
   "metadata": {
    "jupyter": {
     "source_hidden": true
    },
    "tags": []
   },
   "outputs": [],
   "source": [
    "features = train_x.columns.values.tolist()\n",
    "features=[x.rsplit(\"_\")[0] for x in features]\n",
    "importances = regressor_xgb.feature_importances_\n",
    "\n",
    "mapping_table=pd.concat([pd.DataFrame(features),pd.DataFrame(importances)],axis=1)\n",
    "mapping_table.columns=[\"ID\",\"importance\"]\n",
    "\n",
    "rsid_table=pd.read_csv(\"/cellar/users/mpagadal/projects/germline-immune/data/supplemental/Supplemental_Table_3_annot.csv\",sep=\"\\t\")\n",
    "rsid_table=rsid_table.drop_duplicates(subset=\"rsid\")\n",
    "rsid_table=rsid_table[[\"snps\",\"rsid\"]]\n",
    "\n",
    "mapping_table[\"ID2\"]=[x.rsplit(\":\",2)[0]+\":\"+x.split(\":\")[3]+\":\"+x.split(\":\")[2] for x in mapping_table[\"ID\"].tolist()]\n",
    "\n",
    "compiled_icb_rsid=pd.merge(mapping_table,rsid_table,left_on=\"ID\",right_on=\"snps\")\n",
    "compiled_icb_rsid2=pd.merge(mapping_table,rsid_table,left_on=\"ID2\",right_on=\"snps\")\n",
    "\n",
    "compiled_icb_rsid_plot=pd.concat([compiled_icb_rsid,compiled_icb_rsid2],axis=0)\n",
    "compiled_icb_rsid_plot=compiled_icb_rsid_plot.sort_values(by=\"importance\")\n",
    "compiled_icb_rsid_plot=compiled_icb_rsid_plot.iloc[compiled_icb_rsid_plot.shape[0]-15:compiled_icb_rsid_plot.shape[0],:]"
   ]
  },
  {
   "cell_type": "code",
   "execution_count": 445,
   "id": "bdde1182-e406-4636-8a05-609d7e3086d9",
   "metadata": {
    "jupyter": {
     "source_hidden": true
    },
    "tags": []
   },
   "outputs": [
    {
     "data": {
      "image/png": "[encoded data removed]",
      "text/plain": [
       "<Figure size 576x576 with 1 Axes>"
      ]
     },
     "metadata": {
      "needs_background": "light"
     },
     "output_type": "display_data"
    }
   ],
   "source": [
    "plt.rcParams['font.family'] = 'sans-serif'\n",
    "plt.rcParams['font.sans-serif'] = 'Helvetica'\n",
    "\n",
    "plt.rcParams['axes.edgecolor']='darkslategrey'\n",
    "plt.rcParams['axes.linewidth']=1\n",
    "plt.rcParams['xtick.color']='black'\n",
    "plt.rcParams['ytick.color']='black'\n",
    "plt.style.use('seaborn-dark-palette')\n",
    "\n",
    "my_range=list(range(0,len(compiled_icb_rsid_plot[\"importance\"])))\n",
    "fig, ax = plt.subplots(figsize=(8,8))\n",
    "plt.hlines(y=my_range, xmin=0, xmax=compiled_icb_rsid_plot[\"importance\"], alpha=0.4, linewidth=7)\n",
    "plt.plot(compiled_icb_rsid_plot[\"importance\"], my_range, \"o\", markersize=7, alpha=0.7)\n",
    "# set labels style\n",
    "ax.set_xlabel('Relative Importance', fontsize=15, fontweight='black', color = '#333F4B')\n",
    "ax.set_ylabel('')\n",
    "# change the style of the axis spines\n",
    "ax.spines['top'].set_visible(False)\n",
    "ax.spines['right'].set_visible(False)\n",
    "ax.spines['left'].set_bounds((0, len(my_range)-1))\n",
    "ax.set_xlim(0,0.08)\n",
    "plt.yticks(range(len(compiled_icb_rsid_plot[\"importance\"])), compiled_icb_rsid_plot[\"rsid\"])\n",
    "# add some space between the axis and the plot\n",
    "ax.spines['left'].set_position(('outward', 8))\n",
    "ax.spines['bottom'].set_position(('outward', -10))\n",
    "\n",
    "plt.savefig(\"/cellar/users/tsears/projects/germline-immune/plots/fig5/surv_feature_importance_V2.pdf\",bbox_inches = \"tight\")\n"
   ]
  },
  {
   "cell_type": "code",
   "execution_count": null,
   "id": "a287e453-0adc-4dd9-ac8c-1990d6fc3a18",
   "metadata": {},
   "outputs": [],
   "source": [
    "#Now validate in sherlock using the same features and as many similar covariates as possible\n",
    "\n",
    "#get SNPs that were included in model:\n",
    "sherlock_snps_to_keep=train_x.columns.values\n",
    "sherlock_snps_to_keep=[x.split(\"_\")[0] for x in sherlock_snps_to_keep]\n",
    "sherlock_test=sherlock_validation[sherlock_snps_to_keep]"
   ]
  },
  {
   "cell_type": "code",
   "execution_count": null,
   "id": "0ace98ed-7757-4d24-894a-104477e63945",
   "metadata": {},
   "outputs": [],
   "source": [
    "#Apply betas from test dataset\n",
    "\n",
    "#this is from earlier in the run\n",
    "df_coxph_rows=df_coxph.index\n",
    "df_coxph[\"snp_short\"]=[x.rsplit(\"_\",2)[0] for x in df_coxph_rows]\n",
    "df_coxph_train_LUAD=df_coxph[df_coxph[\"cancer\"]==\"LUAD\"]\n",
    "\n",
    "for i,row in df_coxph_train_LUAD.iterrows():\n",
    "    if row[\"snp_short\"] in sherlock_test and not np.isnan(row[\"coef\"]):\n",
    "        sherlock_test[row[\"snp_short\"]]=sherlock_test[row[\"snp_short\"]]*row[\"coef\"]\n",
    "        "
   ]
  },
  {
   "cell_type": "code",
   "execution_count": null,
   "id": "c842da6f-34f1-4258-a350-acfe5da14585",
   "metadata": {},
   "outputs": [],
   "source": [
    "\n",
    "#get OS information\n",
    "sherlock_OS=sherlock_validation[\"death\"]\n",
    "p = regressor_xgb.predict(sherlock_test) \n",
    "sherlock_validation[\"LASSO_burden\"]=p*100\n",
    "\n",
    "#mann whitney test\n",
    "cat1 = sherlock_validation[sherlock_validation[\"death\"]==0]\n",
    "cat2 = sherlock_validation[sherlock_validation[\"death\"]==1]\n",
    "print(\"mannWhitnetPredScore=\",stats.mannwhitneyu(cat1[\"LASSO_burden\"], cat2[\"LASSO_burden\"])[1])\n",
    "\n",
    "#hazard plot with covariates that made it into LUAD model\n",
    "test_df_coxPH=sherlock_validation[['stage II', 'stage III', 'stage I',\n",
    "           'gender','age_at_diagnosis','grade', 'passive_smoking', 'death',\n",
    "           'survival_months','LASSO_burden']]\n",
    "    \n",
    "#filter covariates that throw errors due to low variance\n",
    "test_df_coxPH=test_df_coxPH.drop(list(test_df_coxPH.var().index[test_df_coxPH.var()<0.01]),axis=1) #seems to be necessary\n",
    "test_df_coxPH=test_df_coxPH.fillna(0)\n",
    "\n",
    "cph = CoxPHFitter(penalizer=0.01)\n",
    "\n",
    "cph.fit(test_df_coxPH, duration_col = 'survival_months', event_col = 'death')\n",
    "#print(cancer_list[i])\n",
    "#cph.print_summary()\n",
    "print(cph.summary.loc[\"LASSO_burden\"])\n",
    "\n",
    "#KM plot with top/bottom quantiles\n",
    "surv_df_canc=sherlock_validation\n",
    "\n",
    "fig=plt.figure(figsize=(5,5))\n",
    "ax1 = plt.subplot(1,1,1)\n",
    "\n",
    "quantiles=np.quantile(surv_df_canc[\"LASSO_burden\"],[0,0.25,0.75,1])\n",
    "surv_df_canc['group'] = pd.cut(surv_df_canc[\"LASSO_burden\"], quantiles, labels=[0,1,2])\n",
    "\n",
    "kmf = KaplanMeierFitter()\n",
    "kmf.fit(surv_df_canc[surv_df_canc['group']==2]['survival_months'], surv_df_canc[surv_df_canc['group']==2]['death'],label=\"High, N=\"+str(surv_df_canc[surv_df_canc['group']==2].shape[0]))\n",
    "kmf.plot(ci_show=False, ax=ax1)\n",
    "kmf.fit(surv_df_canc[surv_df_canc['group']==1]['survival_months'], surv_df_canc[surv_df_canc['group']==1]['death'],label=\"Med, N=\"+str(surv_df_canc[surv_df_canc['group']==1].shape[0]))\n",
    "kmf.plot(ci_show=False, ax=ax1)\n",
    "kmf.fit(surv_df_canc[surv_df_canc['group']==0]['survival_months'], surv_df_canc[surv_df_canc['group']==0]['death'],label=\"Low, N=\"+str(surv_df_canc[surv_df_canc['group']==0].shape[0]))\n",
    "kmf.plot(ci_show=False, ax=ax1)\n",
    "\n",
    "results = logrank_test(surv_df_canc[surv_df_canc[\"group\"]==2]['survival_months'], surv_df_canc[surv_df_canc[\"group\"]==0]['survival_months'],event_observed_A=surv_df_canc[surv_df_canc[\"group\"]==2]['death'], event_observed_B=surv_df_canc[surv_df_canc[\"group\"]==0]['death'], alpha=.95)\n",
    "results2 = logrank_test(surv_df_canc[surv_df_canc[\"group\"]==2]['survival_months'], surv_df_canc[surv_df_canc[\"group\"]==1]['survival_months'],event_observed_A=surv_df_canc[surv_df_canc[\"group\"]==2]['death'], event_observed_B=surv_df_canc[surv_df_canc[\"group\"]==1]['death'], alpha=.95)\n",
    "results3 = logrank_test(surv_df_canc[surv_df_canc[\"group\"]==1]['survival_months'], surv_df_canc[surv_df_canc[\"group\"]==0]['survival_months'],event_observed_A=surv_df_canc[surv_df_canc[\"group\"]==1]['death'], event_observed_B=surv_df_canc[surv_df_canc[\"group\"]==0]['death'], alpha=.95)\n",
    "\n",
    "plt.ylabel('% survival')\n",
    "plt.xlabel('OS time (days)')\n",
    "plt.title(\"High vs Low \"+str(np.round(results.p_value,4))+\"\\n\"+\"High vs Med \"+str(np.round(results2.p_value,4))+\"\\n\"+\"Med vs Low \"+str(np.round(results3.p_value,4)))\n",
    "plt.legend(frameon=False)\n",
    "\n",
    "plt.savefig(\"/cellar/users/tsears/projects/germline-immune/plots/fig5/SHERLOCK_QUARTILE_OS_KM_alpha_65.pdf\")\n",
    "\n",
    "hazard_list_luad=hazard_list_luad.append(cph.summary.loc[\"LASSO_burden\"])\n"
   ]
  },
  {
   "cell_type": "code",
   "execution_count": 389,
   "id": "6b50e2cd-ef41-4de2-b4ae-75b870baf329",
   "metadata": {},
   "outputs": [
    {
     "data": {
      "image/png": "[encoded data removed]",
      "text/plain": [
       "<Figure size 216x216 with 1 Axes>"
      ]
     },
     "metadata": {
      "needs_background": "light"
     },
     "output_type": "display_data"
    }
   ],
   "source": [
    "\n",
    "\n",
    "haz_plot_=hazard_list_luad\n",
    "haz_plot_.index=[\"LUAD TCGA\",\"LUAD SHERLOCK\"]\n",
    "haz_plot_[\"Cancer Type\"]=[\"LUAD TCGA\",\"LUAD SHERLOCK\"]\n",
    "#haz_plot_=haz_plot_.drop(haz_plot_.index[abs(haz_plot_[\"coef\"])>1][0])\n",
    "#haz_plot_=haz_plot_.drop(\"THCA\")\n",
    "haz_plot_=fdr(haz_plot_,False,\"p\")\n",
    "haz_plot_=haz_plot_.sort_values(by=\"exp(coef)\",ascending=True)\n",
    "plt.figure(figsize=(3,3))\n",
    "plt.xticks([0,1])\n",
    "plt.xlim((-1, 2))\n",
    "plt.errorbar(x=haz_plot_[\"Cancer Type\"].tolist(),y=haz_plot_[\"exp(coef)\"].tolist(),yerr=haz_plot_[\"se(coef)\"].tolist(),fmt=\"o\")\n",
    "haz_plot_thresh=haz_plot_[haz_plot_[\"fdr\"]<0.05]\n",
    "plt.errorbar(x=haz_plot_thresh[\"Cancer Type\"].tolist(),y=haz_plot_thresh[\"exp(coef)\"].tolist(),yerr=haz_plot_thresh[\"se(coef)\"].tolist(),fmt=\"o\",color=\"red\")\n",
    "plt.xlabel(\"Cancer Type\")\n",
    "plt.ylabel(\"Hazard Ratio\")\n",
    "plt.axhline(1,linestyle=\"--\",color=\"gray\")\n",
    "plt.savefig(\"/cellar/users/tsears/projects/germline-immune/plots/fig5/LUAD_sherlock_hazardV2.pdf\")\n",
    "\n"
   ]
  }
 ],
 "metadata": {
  "kernelspec": {
   "display_name": "ML_kernal",
   "language": "python",
   "name": "ml_kernal"
  },
  "language_info": {
   "codemirror_mode": {
    "name": "ipython",
    "version": 3
   },
   "file_extension": ".py",
   "mimetype": "text/x-python",
   "name": "python",
   "nbconvert_exporter": "python",
   "pygments_lexer": "ipython3",
   "version": "3.7.12"
  }
 },
 "nbformat": 4,
 "nbformat_minor": 5
}
